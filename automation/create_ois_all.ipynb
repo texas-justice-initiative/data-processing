{
 "cells": [
  {
   "cell_type": "code",
   "execution_count": 1,
   "metadata": {
    "ExecuteTime": {
     "end_time": "2020-09-13T14:35:02.374242Z",
     "start_time": "2020-09-13T14:35:00.771845Z"
    }
   },
   "outputs": [],
   "source": [
    "import pygsheets\n",
    "import json\n",
    "import numpy as np\n",
    "import pandas as pd\n",
    "import re"
   ]
  },
  {
   "cell_type": "code",
   "execution_count": 2,
   "metadata": {
    "ExecuteTime": {
     "end_time": "2020-09-13T14:35:02.380585Z",
     "start_time": "2020-09-13T14:35:02.376662Z"
    }
   },
   "outputs": [],
   "source": [
    "pd.set_option('display.max_rows', 1000)\n",
    "pd.set_option('display.max_columns', 1000)"
   ]
  },
  {
   "cell_type": "code",
   "execution_count": 3,
   "metadata": {
    "ExecuteTime": {
     "end_time": "2020-09-13T14:35:02.635144Z",
     "start_time": "2020-09-13T14:35:02.383005Z"
    }
   },
   "outputs": [],
   "source": [
    "gc = pygsheets.authorize(service_file='/Users/hlukas/Downloads/client_secret_service.json')"
   ]
  },
  {
   "cell_type": "code",
   "execution_count": 5,
   "metadata": {
    "ExecuteTime": {
     "end_time": "2020-09-13T14:35:24.707831Z",
     "start_time": "2020-09-13T14:35:23.076017Z"
    }
   },
   "outputs": [],
   "source": [
    "gc.drive.enable_team_drive('0ACeQWapAwOLqUk9PVA')\n",
    "titles = gc.spreadsheet_titles()\n",
    "ids = gc.spreadsheet_ids()"
   ]
  },
  {
   "cell_type": "code",
   "execution_count": 6,
   "metadata": {
    "ExecuteTime": {
     "end_time": "2020-09-13T14:47:22.249657Z",
     "start_time": "2020-09-13T14:35:25.587588Z"
    }
   },
   "outputs": [
    {
     "name": "stdout",
     "output_type": "stream",
     "text": [
      "OIS_7-2020\n",
      "2 False 36\n",
      "OIS_6-2020\n",
      "2 False 40\n",
      "OIS_5-2020\n",
      "1 False 42\n",
      "OIS_4-2020\n",
      "2 False 40\n",
      "OIS_10-2018_Civilians\n",
      "0 True 46\n",
      "OIS_9-2018_Officers\n",
      "0 True 10\n",
      "OIS_2-2-18\n",
      "1 True 69\n",
      "OIS_9-2018_Civilians\n",
      "0 True 62\n",
      "OIS_10-2018_Officers\n",
      "0 True 30\n",
      "OIS_3-24-18\n",
      "1 True 74\n",
      "OIS_11-2018\n",
      "0 True 20\n",
      "OIS_12-2018_Civilians\n",
      "0 True 32\n",
      "OIS_12-2018\n",
      "0 True 6\n",
      "OIS_3-2020\n",
      "1 False 62\n",
      "OIS_1_2020\n",
      "1 False 38\n",
      "OIS_2-2020\n",
      "2 False 49\n",
      "OIS_1-2019\n",
      "0 True 35\n",
      "OIS_3-2019\n",
      "0 True 19\n",
      "OIS_10-2019\n",
      "0 False 35\n",
      "OIS_4-2019\n",
      "0 False 69\n",
      "OIS_9-2019\n",
      "0 False 39\n",
      "OIS_8-2019\n",
      "0 False 74\n",
      "OIS_11-2019\n",
      "0 False 30\n",
      "OIS_7-2019\n",
      "0 False 43\n",
      "OIS_6-2019\n",
      "0 True 37\n",
      "OIS_12-2019\n",
      "0 False 4\n",
      "OIS_3-2019_MissingData\n",
      "0 True 48\n",
      "OIS_5-2019\n",
      "0 False 27\n"
     ]
    }
   ],
   "source": [
    "dfs = {}\n",
    "for key in ids:\n",
    "    #gc.drive.enable_team_drive('0ACeQWapAwOLqUk9PVA')\n",
    "    output = gc.open_by_key(key)\n",
    "    if output.title[:4] == 'OIS_':\n",
    "        print(output.title)\n",
    "        wk = output[0]\n",
    "        df = wk.get_as_df(include_tailing_empty = True) \n",
    "\n",
    "#         new_cols = list(df.columns)\n",
    "#         if '' in new_cols:\n",
    "#             if new_cols.index('') == 4:\n",
    "#                 new_cols[4] = 'Report Time'\n",
    "\n",
    "#             try:\n",
    "#                 new_cols[new_cols.index('')] = 'Death Time'\n",
    "#             except:\n",
    "#                 pass\n",
    "\n",
    "#         df.columns = new_cols\n",
    "        \n",
    "        df['Sheet'] = output.title\n",
    "\n",
    "        dfs[key] = df\n",
    "\n",
    "        print(sum([x == '' for x in df.columns]), len(df.columns) == len(set(df.columns)), df.shape[0])\n",
    "        "
   ]
  }
 ],
 "metadata": {
  "kernelspec": {
   "display_name": "Python 3",
   "language": "python",
   "name": "python3"
  },
  "language_info": {
   "codemirror_mode": {
    "name": "ipython",
    "version": 3
   },
   "file_extension": ".py",
   "mimetype": "text/x-python",
   "name": "python",
   "nbconvert_exporter": "python",
   "pygments_lexer": "ipython3",
   "version": "3.7.4"
  }
 },
 "nbformat": 4,
 "nbformat_minor": 2
}
