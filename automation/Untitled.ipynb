{
 "cells": [
  {
   "cell_type": "code",
   "execution_count": 6,
   "metadata": {},
   "outputs": [
    {
     "ename": "FileNotFoundError",
     "evalue": "[Errno 2] No such file or directory: 'client_secret.json'",
     "output_type": "error",
     "traceback": [
      "\u001b[0;31m---------------------------------------------------------------------------\u001b[0m",
      "\u001b[0;31mFileNotFoundError\u001b[0m                         Traceback (most recent call last)",
      "\u001b[0;32m<ipython-input-6-dbd021fe16ee>\u001b[0m in \u001b[0;36m<module>\u001b[0;34m\u001b[0m\n\u001b[1;32m      1\u001b[0m \u001b[0;32mimport\u001b[0m \u001b[0mpygsheets\u001b[0m\u001b[0;34m\u001b[0m\u001b[0;34m\u001b[0m\u001b[0m\n\u001b[0;32m----> 2\u001b[0;31m \u001b[0mpygsheets\u001b[0m\u001b[0;34m.\u001b[0m\u001b[0mauthorize\u001b[0m\u001b[0;34m(\u001b[0m\u001b[0;34m)\u001b[0m\u001b[0;34m\u001b[0m\u001b[0;34m\u001b[0m\u001b[0m\n\u001b[0m",
      "\u001b[0;32m/opt/anaconda3/lib/python3.7/site-packages/pygsheets/authorization.py\u001b[0m in \u001b[0;36mauthorize\u001b[0;34m(client_secret, service_account_file, service_account_env_var, credentials_directory, scopes, custom_credentials, local, **kwargs)\u001b[0m\n\u001b[1;32m    131\u001b[0m         \u001b[0mcredentials\u001b[0m \u001b[0;34m=\u001b[0m \u001b[0mservice_account\u001b[0m\u001b[0;34m.\u001b[0m\u001b[0mCredentials\u001b[0m\u001b[0;34m.\u001b[0m\u001b[0mfrom_service_account_file\u001b[0m\u001b[0;34m(\u001b[0m\u001b[0mservice_account_file\u001b[0m\u001b[0;34m,\u001b[0m \u001b[0mscopes\u001b[0m\u001b[0;34m=\u001b[0m\u001b[0mscopes\u001b[0m\u001b[0;34m)\u001b[0m\u001b[0;34m\u001b[0m\u001b[0;34m\u001b[0m\u001b[0m\n\u001b[1;32m    132\u001b[0m     \u001b[0;32melse\u001b[0m\u001b[0;34m:\u001b[0m\u001b[0;34m\u001b[0m\u001b[0;34m\u001b[0m\u001b[0m\n\u001b[0;32m--> 133\u001b[0;31m         \u001b[0mcredentials\u001b[0m \u001b[0;34m=\u001b[0m \u001b[0m_get_user_authentication_credentials\u001b[0m\u001b[0;34m(\u001b[0m\u001b[0mclient_secret\u001b[0m\u001b[0;34m,\u001b[0m \u001b[0mscopes\u001b[0m\u001b[0;34m,\u001b[0m \u001b[0mcredentials_directory\u001b[0m\u001b[0;34m,\u001b[0m \u001b[0mlocal\u001b[0m\u001b[0;34m)\u001b[0m\u001b[0;34m\u001b[0m\u001b[0;34m\u001b[0m\u001b[0m\n\u001b[0m\u001b[1;32m    134\u001b[0m \u001b[0;34m\u001b[0m\u001b[0m\n\u001b[1;32m    135\u001b[0m     \u001b[0;32mreturn\u001b[0m \u001b[0mClient\u001b[0m\u001b[0;34m(\u001b[0m\u001b[0mcredentials\u001b[0m\u001b[0;34m,\u001b[0m \u001b[0mhttp\u001b[0m\u001b[0;34m=\u001b[0m\u001b[0mhttp\u001b[0m\u001b[0;34m,\u001b[0m \u001b[0mcheck\u001b[0m\u001b[0;34m=\u001b[0m\u001b[0mcheck\u001b[0m\u001b[0;34m)\u001b[0m\u001b[0;34m\u001b[0m\u001b[0;34m\u001b[0m\u001b[0m\n",
      "\u001b[0;32m/opt/anaconda3/lib/python3.7/site-packages/pygsheets/authorization.py\u001b[0m in \u001b[0;36m_get_user_authentication_credentials\u001b[0;34m(client_secret_file, scopes, credential_directory, local)\u001b[0m\n\u001b[1;32m     46\u001b[0m         \u001b[0;32melse\u001b[0m\u001b[0;34m:\u001b[0m\u001b[0;34m\u001b[0m\u001b[0;34m\u001b[0m\u001b[0m\n\u001b[1;32m     47\u001b[0m             flow = Flow.from_client_secrets_file(client_secret_file, scopes=scopes,\n\u001b[0;32m---> 48\u001b[0;31m                                                  redirect_uri='urn:ietf:wg:oauth:2.0:oob')\n\u001b[0m\u001b[1;32m     49\u001b[0m             \u001b[0mauth_url\u001b[0m\u001b[0;34m,\u001b[0m \u001b[0m_\u001b[0m \u001b[0;34m=\u001b[0m \u001b[0mflow\u001b[0m\u001b[0;34m.\u001b[0m\u001b[0mauthorization_url\u001b[0m\u001b[0;34m(\u001b[0m\u001b[0mprompt\u001b[0m\u001b[0;34m=\u001b[0m\u001b[0;34m'consent'\u001b[0m\u001b[0;34m)\u001b[0m\u001b[0;34m\u001b[0m\u001b[0;34m\u001b[0m\u001b[0m\n\u001b[1;32m     50\u001b[0m \u001b[0;34m\u001b[0m\u001b[0m\n",
      "\u001b[0;32m/opt/anaconda3/lib/python3.7/site-packages/google_auth_oauthlib/flow.py\u001b[0m in \u001b[0;36mfrom_client_secrets_file\u001b[0;34m(cls, client_secrets_file, scopes, **kwargs)\u001b[0m\n\u001b[1;32m    194\u001b[0m             \u001b[0mFlow\u001b[0m\u001b[0;34m:\u001b[0m \u001b[0mThe\u001b[0m \u001b[0mconstructed\u001b[0m \u001b[0mFlow\u001b[0m \u001b[0minstance\u001b[0m\u001b[0;34m.\u001b[0m\u001b[0;34m\u001b[0m\u001b[0;34m\u001b[0m\u001b[0m\n\u001b[1;32m    195\u001b[0m         \"\"\"\n\u001b[0;32m--> 196\u001b[0;31m         \u001b[0;32mwith\u001b[0m \u001b[0mopen\u001b[0m\u001b[0;34m(\u001b[0m\u001b[0mclient_secrets_file\u001b[0m\u001b[0;34m,\u001b[0m \u001b[0;34m'r'\u001b[0m\u001b[0;34m)\u001b[0m \u001b[0;32mas\u001b[0m \u001b[0mjson_file\u001b[0m\u001b[0;34m:\u001b[0m\u001b[0;34m\u001b[0m\u001b[0;34m\u001b[0m\u001b[0m\n\u001b[0m\u001b[1;32m    197\u001b[0m             \u001b[0mclient_config\u001b[0m \u001b[0;34m=\u001b[0m \u001b[0mjson\u001b[0m\u001b[0;34m.\u001b[0m\u001b[0mload\u001b[0m\u001b[0;34m(\u001b[0m\u001b[0mjson_file\u001b[0m\u001b[0;34m)\u001b[0m\u001b[0;34m\u001b[0m\u001b[0;34m\u001b[0m\u001b[0m\n\u001b[1;32m    198\u001b[0m \u001b[0;34m\u001b[0m\u001b[0m\n",
      "\u001b[0;31mFileNotFoundError\u001b[0m: [Errno 2] No such file or directory: 'client_secret.json'"
     ]
    }
   ],
   "source": [
    "import pygsheets\n",
    "pygsheets.authorize()"
   ]
  },
  {
   "cell_type": "code",
   "execution_count": 8,
   "metadata": {},
   "outputs": [],
   "source": [
    "keep_text = '''Both forms\n",
    "\n",
    "- Age At Time Of Death\n",
    "- Agency Address\n",
    "- Agency City\n",
    "- Agency Name\n",
    "- Agency Zip\n",
    "- CDR: CDR Name\n",
    "- City\n",
    "- County\n",
    "- Date of Birth\n",
    "- Date/Time of Custody or Incident\n",
    "- Death Date and Time\n",
    "- Death Location\n",
    "- Death Location Elsewhere\n",
    "- Entry Date Time\n",
    "- Entry Date Time N/A\n",
    "- First Name\n",
    "- Middle Name\n",
    "- Last Name\n",
    "- Suffix\n",
    "- Manner of Death\n",
    "- Manner of Death Description\n",
    "- Means of Death\n",
    "- Means of Death Other\n",
    "- Medical Cause of Death\n",
    "- Medical Examinor/Coroner Evalution?\n",
    "- Medical Treatment\n",
    "- Offense 1\n",
    "- Offense 2\n",
    "- Offense 3\n",
    "- Pre existing medical condition?\n",
    "- Report Date\n",
    "- Sex\n",
    "- Specific Type of Custody/Facility\n",
    "- Street Address\n",
    "- Type of Custody\n",
    "- Type of Offense\n",
    "- Type of Offense, Other\n",
    "- Version Number\n",
    "- Version Type\n",
    "- Were the Charges:\n",
    "- Who caused the death?\n",
    "- form_version\n",
    "- Type of Restraint\n",
    "- Under Restraint\n",
    "\n",
    "2005 form only\n",
    "\n",
    "- Agency County\n",
    "- Custody Date NA\n",
    "- Death Causer Other\n",
    "- Department Type\n",
    "- Entry Behavior\n",
    "- Ethnicity\n",
    "- Ethnicity Other\n",
    "- Other Behavior\n",
    "- Specify Other Behavior\n",
    "\n",
    "2016 form only\n",
    "\n",
    "- Exhibit any medical problems?\n",
    "- Exhibit any mental health problems?\n",
    "- Make suicidal statements?\n",
    "- Race'''\n",
    "keep_cols = []\n",
    "for line in keep_text.splitlines():\n",
    "    if line.startswith('- '):\n",
    "        colname = line[2:]\n",
    "        keep_cols.append(colname)\n"
   ]
  },
  {
   "cell_type": "code",
   "execution_count": 9,
   "metadata": {},
   "outputs": [
    {
     "data": {
      "text/plain": [
       "['Age At Time Of Death',\n",
       " 'Agency Address',\n",
       " 'Agency City',\n",
       " 'Agency Name',\n",
       " 'Agency Zip',\n",
       " 'CDR: CDR Name',\n",
       " 'City',\n",
       " 'County',\n",
       " 'Date of Birth',\n",
       " 'Date/Time of Custody or Incident',\n",
       " 'Death Date and Time',\n",
       " 'Death Location',\n",
       " 'Death Location Elsewhere',\n",
       " 'Entry Date Time',\n",
       " 'Entry Date Time N/A',\n",
       " 'First Name',\n",
       " 'Middle Name',\n",
       " 'Last Name',\n",
       " 'Suffix',\n",
       " 'Manner of Death',\n",
       " 'Manner of Death Description',\n",
       " 'Means of Death',\n",
       " 'Means of Death Other',\n",
       " 'Medical Cause of Death',\n",
       " 'Medical Examinor/Coroner Evalution?',\n",
       " 'Medical Treatment',\n",
       " 'Offense 1',\n",
       " 'Offense 2',\n",
       " 'Offense 3',\n",
       " 'Pre existing medical condition?',\n",
       " 'Report Date',\n",
       " 'Sex',\n",
       " 'Specific Type of Custody/Facility',\n",
       " 'Street Address',\n",
       " 'Type of Custody',\n",
       " 'Type of Offense',\n",
       " 'Type of Offense, Other',\n",
       " 'Version Number',\n",
       " 'Version Type',\n",
       " 'Were the Charges:',\n",
       " 'Who caused the death?',\n",
       " 'form_version',\n",
       " 'Type of Restraint',\n",
       " 'Under Restraint',\n",
       " 'Agency County',\n",
       " 'Custody Date NA',\n",
       " 'Death Causer Other',\n",
       " 'Department Type',\n",
       " 'Entry Behavior',\n",
       " 'Ethnicity',\n",
       " 'Ethnicity Other',\n",
       " 'Other Behavior',\n",
       " 'Specify Other Behavior',\n",
       " 'Exhibit any medical problems?',\n",
       " 'Exhibit any mental health problems?',\n",
       " 'Make suicidal statements?',\n",
       " 'Race']"
      ]
     },
     "execution_count": 9,
     "metadata": {},
     "output_type": "execute_result"
    }
   ],
   "source": [
    "keep_cols"
   ]
  },
  {
   "cell_type": "code",
   "execution_count": null,
   "metadata": {},
   "outputs": [],
   "source": [
    "Were the Charges:\tType of Offense\tType of Offense, Other\tInjured By\tThreaten the officer(s) involved"
   ]
  }
 ],
 "metadata": {
  "kernelspec": {
   "display_name": "Python 3",
   "language": "python",
   "name": "python3"
  },
  "language_info": {
   "codemirror_mode": {
    "name": "ipython",
    "version": 3
   },
   "file_extension": ".py",
   "mimetype": "text/x-python",
   "name": "python",
   "nbconvert_exporter": "python",
   "pygments_lexer": "ipython3",
   "version": "3.7.4"
  }
 },
 "nbformat": 4,
 "nbformat_minor": 2
}
