{
 "cells": [
  {
   "cell_type": "code",
   "execution_count": 2,
   "metadata": {},
   "outputs": [],
   "source": [
    "import ldap3"
   ]
  },
  {
   "cell_type": "code",
   "execution_count": 38,
   "metadata": {},
   "outputs": [
    {
     "name": "stdout",
     "output_type": "stream",
     "text": [
      "True\n"
     ]
    }
   ],
   "source": [
    "# import class and constants\n",
    "from ldap3 import Server, Connection, ALL\n",
    "\n",
    "username = 'CN=path-web-auth-int,CN=users,DC=umhs,DC=med,DC=umich,DC=edu'\n",
    "password = \"bk62pq\"\n",
    "ldap_server = \"umhs.med.umich.edu\"\n",
    "\n",
    "# define the server\n",
    "s = Server(ldap_server, port=389, get_info=ALL)  # define an unsecure LDAP server, requesting info on DSE and schema\n",
    "\n",
    "# define the connection\n",
    "c = Connection(s, user=username, password=password)\n",
    "\n",
    "# perform the Bind operation\n",
    "print(c.bind())\n",
    "if not c.bind():\n",
    "    print(c.result['description'])"
   ]
  },
  {
   "cell_type": "code",
   "execution_count": 36,
   "metadata": {},
   "outputs": [],
   "source": [
    "# import class and constants\n",
    "from ldap3 import Server, Connection, ALL\n",
    "\n",
    "def ldap_authenticate(user, password):\n",
    "    username = 'CN=' + user + ',CN=users,DC=umhs,DC=med,DC=umich,DC=edu'\n",
    "    print(username)\n",
    "    ldap_server = \"umhs.med.umich.edu\"\n",
    "\n",
    "    # define the server\n",
    "    s = Server(ldap_server, port=389, get_info=ALL)  # define an unsecure LDAP server, requesting info on DSE and schema\n",
    "\n",
    "    # define the connection\n",
    "    c = Connection(s, user=username, password=password)\n",
    "\n",
    "    # perform the Bind operation\n",
    "    return(c.bind())"
   ]
  }
 ],
 "metadata": {
  "kernelspec": {
   "display_name": "Python 3",
   "language": "python",
   "name": "python3"
  },
  "language_info": {
   "codemirror_mode": {
    "name": "ipython",
    "version": 3
   },
   "file_extension": ".py",
   "mimetype": "text/x-python",
   "name": "python",
   "nbconvert_exporter": "python",
   "pygments_lexer": "ipython3",
   "version": "3.7.4"
  }
 },
 "nbformat": 4,
 "nbformat_minor": 2
}
