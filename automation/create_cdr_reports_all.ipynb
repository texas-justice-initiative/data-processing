{
 "cells": [
  {
   "cell_type": "markdown",
   "metadata": {},
   "source": [
    "# Concatenate all individual CDR reports to CDR Reports All\n",
    "#### There's also some cleaning of variables at the bottom of the code here that should be added to clean_cdr when folks think it looks ok"
   ]
  },
  {
   "cell_type": "code",
   "execution_count": 330,
   "metadata": {},
   "outputs": [],
   "source": [
    "import pygsheets\n",
    "import json\n",
    "import numpy as np\n",
    "import pandas as pd\n",
    "import re"
   ]
  },
  {
   "cell_type": "code",
   "execution_count": 331,
   "metadata": {},
   "outputs": [],
   "source": [
    "pd.set_option('display.max_rows', 1000)"
   ]
  },
  {
   "cell_type": "markdown",
   "metadata": {},
   "source": [
    "### Authorize pygsheets"
   ]
  },
  {
   "cell_type": "code",
   "execution_count": 332,
   "metadata": {},
   "outputs": [],
   "source": [
    "gc = pygsheets.authorize(service_file='/Users/hlukas/Downloads/client_secret_service.json')"
   ]
  },
  {
   "cell_type": "markdown",
   "metadata": {},
   "source": [
    "### List spreadsheets"
   ]
  },
  {
   "cell_type": "code",
   "execution_count": 333,
   "metadata": {},
   "outputs": [],
   "source": [
    "gc.drive.enable_team_drive('0ACeQWapAwOLqUk9PVA')\n",
    "titles = gc.spreadsheet_titles()\n",
    "ids = gc.spreadsheet_ids()"
   ]
  },
  {
   "cell_type": "markdown",
   "metadata": {},
   "source": [
    "### Pull Eva's current sheet for reference"
   ]
  },
  {
   "cell_type": "code",
   "execution_count": 334,
   "metadata": {},
   "outputs": [],
   "source": [
    "all_data_id = [ids[index] for index in range(len(titles)) if titles[index] == 'CDR Reports All'][0]\n",
    "output = gc.open_by_key(all_data_id)\n",
    "wk = output[1]\n",
    "all_data = wk.get_as_df(include_tailing_empty = True).drop([''], axis = 1)"
   ]
  },
  {
   "cell_type": "markdown",
   "metadata": {},
   "source": [
    "### Pull each individual raw data sheet and concatenate them\n",
    "#### Note that we need to rename the time fields (report and death) that google has separated"
   ]
  },
  {
   "cell_type": "code",
   "execution_count": 335,
   "metadata": {},
   "outputs": [
    {
     "name": "stdout",
     "output_type": "stream",
     "text": [
      "CDR_10-2018\n",
      "0 True\n",
      "CDR_6-2020\n",
      "0 True\n",
      "CDR_9-2018\n",
      "0 True\n",
      "CDR_4-2020\n",
      "0 True\n",
      "CDR_7-2018\n",
      "0 True\n",
      "CDR_11_2019\n",
      "0 True\n",
      "CDR_2-2020\n",
      "0 True\n",
      "CDR_6-2018\n",
      "0 True\n",
      "CDR_4-2018\n",
      "0 True\n",
      "CDR_8-2019\n",
      "0 True\n",
      "CDR_3_2020\n",
      "0 True\n",
      "CDR_4-2019\n",
      "0 True\n",
      "CDR_2-2019\n",
      "0 True\n",
      "CDR_12-2018\n",
      "0 True\n",
      "CDR_7-2019\n",
      "0 True\n",
      "CDR_5-2020\n",
      "0 True\n",
      "CDR_5-2018\n",
      "0 True\n",
      "CDR_10-2019\n",
      "0 True\n",
      "CDR_12_2019\n",
      "0 True\n",
      "CDR_5-2019\n",
      "0 True\n",
      "CDR_9_2019\n",
      "0 True\n",
      "CDR_1-2020\n",
      "0 True\n",
      "CDR_6-2019\n",
      "0 True\n",
      "CDR_3-2019\n",
      "0 True\n"
     ]
    }
   ],
   "source": [
    "dfs = {}\n",
    "for key in [ids[index] for index in range(len(titles)) if titles[index][:4] == 'CDR_']:\n",
    "    gc.drive.enable_team_drive('0ACeQWapAwOLqUk9PVA')\n",
    "    output = gc.open_by_key(key)\n",
    "    print(output.title)\n",
    "    wk = output[0]\n",
    "    df = wk.get_as_df(include_tailing_empty = True) \n",
    "    \n",
    "    new_cols = list(df.columns)\n",
    "    if '' in new_cols:\n",
    "        if new_cols.index('') == 4:\n",
    "            new_cols[4] = 'Report Time'\n",
    "    \n",
    "        try:\n",
    "            new_cols[new_cols.index('')] = 'Death Time'\n",
    "        except:\n",
    "            pass\n",
    "        \n",
    "    df.columns = new_cols\n",
    "    \n",
    "    dfs[key] = df\n",
    "\n",
    "    print(sum([x == '' for x in df.columns]), len(df.columns) == len(set(df.columns)))\n",
    "        "
   ]
  },
  {
   "cell_type": "code",
   "execution_count": 336,
   "metadata": {},
   "outputs": [
    {
     "name": "stderr",
     "output_type": "stream",
     "text": [
      "/opt/anaconda3/lib/python3.7/site-packages/ipykernel_launcher.py:1: FutureWarning: Sorting because non-concatenation axis is not aligned. A future version\n",
      "of pandas will change to not sort by default.\n",
      "\n",
      "To accept the future behavior, pass 'sort=False'.\n",
      "\n",
      "To retain the current behavior and silence the warning, pass 'sort=True'.\n",
      "\n",
      "  \"\"\"Entry point for launching an IPython kernel.\n"
     ]
    }
   ],
   "source": [
    "total_df = pd.concat(dfs, ignore_index = True)"
   ]
  },
  {
   "cell_type": "markdown",
   "metadata": {},
   "source": [
    "### Check to see if the observation counts match\n",
    "#### They don't, at least for now. I think some of the data is inaccessible because they were uploaded as excel maybe?"
   ]
  },
  {
   "cell_type": "code",
   "execution_count": 337,
   "metadata": {},
   "outputs": [
    {
     "data": {
      "text/plain": [
       "False"
      ]
     },
     "execution_count": 337,
     "metadata": {},
     "output_type": "execute_result"
    }
   ],
   "source": [
    "total_df.drop_duplicates().shape[0] == all_data.drop_duplicates().shape[0]"
   ]
  },
  {
   "cell_type": "markdown",
   "metadata": {},
   "source": [
    "### Make sure that the CDR ID value is consistent so we're not grabbing the bad obs"
   ]
  },
  {
   "cell_type": "code",
   "execution_count": 338,
   "metadata": {},
   "outputs": [
    {
     "data": {
      "text/plain": [
       "                                                                     8\n",
       "Confidential Information - Do Not Distribute                         4\n",
       "Texas Attorney General                                               4\n",
       "CDRS: CURRENT FORM Reports (v05/16)                                  4\n",
       "Copyright (c) 2000-2018 salesforce.com, inc. All rights reserved.    3\n",
       "a2Ct0000001aclY                                                      1\n",
       "Copyright (c) 2000-2019 salesforce.com, inc. All rights reserved.    1\n",
       "Generated By: Renee Watts 10/9/2018 7:58 AM                          1\n",
       "PA13680C                                                             1\n",
       "Generated By: Renee Watts 11/6/2018 7:41 AM                          1\n",
       "Generated By: Judy Brown 9/4/2019 4:03 PM                            1\n",
       "Generated By: Renee Watts 7/10/2018 8:12 AM                          1\n",
       "Name: CDR: CDR Name, dtype: int64"
      ]
     },
     "execution_count": 338,
     "metadata": {},
     "output_type": "execute_result"
    }
   ],
   "source": [
    "cleaned_df = total_df.copy()\n",
    "cleaned_df = cleaned_df.loc[cleaned_df['CDR: CDR Name'].str.match('\\d{1,2}\\-\\d{1,4}\\-[A-Z]{1,2}')]\n",
    "total_df.loc[total_df['CDR: CDR Name'].str.match('\\d{1,2}\\-\\d{1,4}\\-[A-Z]{1,2}') == False]['CDR: CDR Name'].value_counts()\n"
   ]
  },
  {
   "cell_type": "markdown",
   "metadata": {},
   "source": [
    "### Combine the Death Date and Time fields to be consistent with Eva"
   ]
  },
  {
   "cell_type": "code",
   "execution_count": 339,
   "metadata": {},
   "outputs": [],
   "source": [
    "cleaned_df['Death Date and Time'] = np.where(pd.isnull(cleaned_df['Death Time']), \n",
    "                                             cleaned_df['Death Date and Time'], \n",
    "                                             cleaned_df['Death Date and Time'] + ' ' + cleaned_df['Death Time'])\n",
    "\n",
    "cleaned_df = cleaned_df.drop(['Death Time'], axis = 1)\n",
    "assert(sum(pd.isnull(cleaned_df['Death Date and Time'])) == 0)"
   ]
  },
  {
   "cell_type": "markdown",
   "metadata": {},
   "source": [
    "### Make sure our columns match the Eva original"
   ]
  },
  {
   "cell_type": "code",
   "execution_count": 340,
   "metadata": {},
   "outputs": [],
   "source": [
    "cols_all_data = set(list(all_data.columns))\n",
    "cols_amal = set(list(cleaned_df.columns))\n",
    "\n",
    "assert(len(cols_amal.symmetric_difference(cols_all_data)) == 0)"
   ]
  },
  {
   "cell_type": "markdown",
   "metadata": {},
   "source": [
    "### Upload to our test file"
   ]
  },
  {
   "cell_type": "code",
   "execution_count": 353,
   "metadata": {},
   "outputs": [],
   "source": [
    "sh = gc.open_by_key('1cbGys017c0YsiOLnwnr_9EzY3Hg_qmZeGNFHgc6rogA')\n",
    "wks = sh[0]\n",
    "wks.set_dataframe(cleaned_df, start = 'A1', fit = True)"
   ]
  },
  {
   "cell_type": "markdown",
   "metadata": {},
   "source": [
    "## Cleaning variables that aren't included in our output currently\n",
    "### Clean up the decedent fields"
   ]
  },
  {
   "cell_type": "code",
   "execution_count": 341,
   "metadata": {},
   "outputs": [
    {
     "name": "stdout",
     "output_type": "stream",
     "text": [
      "No                          1934\n",
      "Yes, mark all that apply     501\n",
      "Unknown                      334\n",
      "                               1\n",
      "Name: Decedent display/use of weapons, dtype: int64\n",
      "                                                                                             2266\n",
      "Discharged firearm                                                                            188\n",
      "Displayed firearm without discharge                                                           102\n",
      "Displayed other weapon, specify:                                                               66\n",
      "Used other weapon, specify:                                                                    47\n",
      "Displayed firearm without discharge; Discharged firearm                                        35\n",
      "Displayed other weapon, specify:; Used other weapon, specify:                                  24\n",
      "Used vehicle as weapon                                                                         24\n",
      "Displayed firearm without discharge; Discharged firearm; Used vehicle as weapon                 6\n",
      "Displayed firearm without discharge; Discharged firearm; Displayed other weapon, specify:       4\n",
      "Displayed firearm without discharge; Displayed other weapon, specify:                           3\n",
      "Discharged firearm; Used vehicle as weapon                                                      2\n",
      "Used other weapon, specify:; Used vehicle as weapon                                             2\n",
      "Displayed firearm without discharge; Used other weapon, specify:                                1\n",
      "Name: Decedent Display or Use Weapon Details, dtype: int64\n"
     ]
    }
   ],
   "source": [
    "print(cleaned_df['Decedent display/use of weapons'].value_counts())\n",
    "print(cleaned_df['Decedent Display or Use Weapon Details'].value_counts())"
   ]
  },
  {
   "cell_type": "markdown",
   "metadata": {},
   "source": [
    "#### Confirm that we see details filled in where they should be"
   ]
  },
  {
   "cell_type": "code",
   "execution_count": 342,
   "metadata": {},
   "outputs": [
    {
     "name": "stdout",
     "output_type": "stream",
     "text": [
      "                                       2266\n",
      "Displayed other weapon, specify:          2\n",
      "Displayed firearm without discharge       1\n",
      "Name: Decedent Display or Use Weapon Details, dtype: int64\n",
      "Discharged firearm                                                                           188\n",
      "Displayed firearm without discharge                                                          101\n",
      "Displayed other weapon, specify:                                                              64\n",
      "Used other weapon, specify:                                                                   47\n",
      "Displayed firearm without discharge; Discharged firearm                                       35\n",
      "Displayed other weapon, specify:; Used other weapon, specify:                                 24\n",
      "Used vehicle as weapon                                                                        24\n",
      "Displayed firearm without discharge; Discharged firearm; Used vehicle as weapon                6\n",
      "Displayed firearm without discharge; Discharged firearm; Displayed other weapon, specify:      4\n",
      "Displayed firearm without discharge; Displayed other weapon, specify:                          3\n",
      "Discharged firearm; Used vehicle as weapon                                                     2\n",
      "Used other weapon, specify:; Used vehicle as weapon                                            2\n",
      "Displayed firearm without discharge; Used other weapon, specify:                               1\n",
      "Name: Decedent Display or Use Weapon Details, dtype: int64\n"
     ]
    }
   ],
   "source": [
    "print(cleaned_df.loc[cleaned_df['Decedent display/use of weapons'] != 'Yes, mark all that apply']['Decedent Display or Use Weapon Details'].value_counts())\n",
    "print(cleaned_df.loc[cleaned_df['Decedent display/use of weapons'] == 'Yes, mark all that apply']['Decedent Display or Use Weapon Details'].value_counts())"
   ]
  },
  {
   "cell_type": "markdown",
   "metadata": {},
   "source": [
    "#### Somewhat arbitrarily decide to trust the display/use of weapons field, so coerce the values to match"
   ]
  },
  {
   "cell_type": "code",
   "execution_count": 343,
   "metadata": {},
   "outputs": [
    {
     "name": "stdout",
     "output_type": "stream",
     "text": [
      "    2269\n",
      "Name: Decedent Display or Use Weapon Details, dtype: int64\n"
     ]
    }
   ],
   "source": [
    "cleaned_df['Decedent Display or Use Weapon Details'] = np.where(cleaned_df['Decedent display/use of weapons'] != 'Yes, mark all that apply',\n",
    "                                                                '',\n",
    "                                                                cleaned_df['Decedent Display or Use Weapon Details'])\n",
    "\n",
    "print(cleaned_df.loc[cleaned_df['Decedent display/use of weapons'] != 'Yes, mark all that apply']['Decedent Display or Use Weapon Details'].value_counts())"
   ]
  },
  {
   "cell_type": "markdown",
   "metadata": {},
   "source": [
    "#### We can actually combine these decedent weapon fields, and include the details only where the answer is yes"
   ]
  },
  {
   "cell_type": "code",
   "execution_count": 344,
   "metadata": {},
   "outputs": [
    {
     "name": "stdout",
     "output_type": "stream",
     "text": [
      "No                                                                                           1934\n",
      "Unknown                                                                                       334\n",
      "Discharged firearm                                                                            188\n",
      "Displayed firearm without discharge                                                           101\n",
      "Displayed other weapon, specify:                                                               64\n",
      "Used other weapon, specify:                                                                    47\n",
      "Displayed firearm without discharge; Discharged firearm                                        35\n",
      "Displayed other weapon, specify:; Used other weapon, specify:                                  24\n",
      "Used vehicle as weapon                                                                         24\n",
      "Displayed firearm without discharge; Discharged firearm; Used vehicle as weapon                 6\n",
      "Displayed firearm without discharge; Discharged firearm; Displayed other weapon, specify:       4\n",
      "Displayed firearm without discharge; Displayed other weapon, specify:                           3\n",
      "Discharged firearm; Used vehicle as weapon                                                      2\n",
      "Used other weapon, specify:; Used vehicle as weapon                                             2\n",
      "Displayed firearm without discharge; Used other weapon, specify:                                1\n",
      "                                                                                                1\n",
      "Name: Decedent Display or Use Weapon?, dtype: int64\n"
     ]
    }
   ],
   "source": [
    "cleaned_df['Decedent Display or Use Weapon?'] = np.where(cleaned_df['Decedent display/use of weapons'] != 'Yes, mark all that apply',\n",
    "                                                         cleaned_df['Decedent display/use of weapons'],\n",
    "                                                         cleaned_df['Decedent Display or Use Weapon Details'])\n",
    "\n",
    "print(cleaned_df['Decedent Display or Use Weapon?'].value_counts())"
   ]
  },
  {
   "cell_type": "markdown",
   "metadata": {},
   "source": [
    "#### We can use the 2005 field \"Use weapon to threaten/assault officer(s)\" or as a proxy for this field for the 2005 data"
   ]
  },
  {
   "cell_type": "code",
   "execution_count": 345,
   "metadata": {},
   "outputs": [],
   "source": [
    "all_data_id = [ids[index] for index in range(len(titles)) if titles[index] == 'CDR Reports All'][0]\n",
    "output = gc.open_by_key(all_data_id)\n",
    "wk = output[0]\n",
    "all_data_2005 = wk.get_as_df(include_tailing_empty = True)"
   ]
  },
  {
   "cell_type": "code",
   "execution_count": 346,
   "metadata": {},
   "outputs": [
    {
     "data": {
      "text/plain": [
       "0      4523\n",
       "1       624\n",
       "Yes       7\n",
       "No        2\n",
       "Name: Use weapon threaten/assault officer(s), dtype: int64"
      ]
     },
     "execution_count": 346,
     "metadata": {},
     "output_type": "execute_result"
    }
   ],
   "source": [
    "all_data_2005['Use weapon threaten/assault officer(s)'].value_counts()"
   ]
  },
  {
   "cell_type": "code",
   "execution_count": 347,
   "metadata": {},
   "outputs": [
    {
     "data": {
      "text/plain": [
       "No     4525\n",
       "Yes     631\n",
       "Name: Decedent Display or Use Weapon?, dtype: int64"
      ]
     },
     "execution_count": 347,
     "metadata": {},
     "output_type": "execute_result"
    }
   ],
   "source": [
    "all_data_2005['Decedent Display or Use Weapon?'] = np.where(all_data_2005['Use weapon threaten/assault officer(s)'].isin([0, 'No']),\n",
    "                                                            'No',\n",
    "                                                            'Yes')\n",
    "all_data_2005['Decedent Display or Use Weapon?'].value_counts()"
   ]
  },
  {
   "cell_type": "markdown",
   "metadata": {},
   "source": [
    "#### Correspondingly, we don't need to specify any weapons yet"
   ]
  },
  {
   "cell_type": "code",
   "execution_count": 348,
   "metadata": {},
   "outputs": [],
   "source": [
    "all_data_2005['Specify Weapon Used'] = np.NaN"
   ]
  }
 ],
 "metadata": {
  "kernelspec": {
   "display_name": "Python 3",
   "language": "python",
   "name": "python3"
  },
  "language_info": {
   "codemirror_mode": {
    "name": "ipython",
    "version": 3
   },
   "file_extension": ".py",
   "mimetype": "text/x-python",
   "name": "python",
   "nbconvert_exporter": "python",
   "pygments_lexer": "ipython3",
   "version": "3.7.4"
  }
 },
 "nbformat": 4,
 "nbformat_minor": 2
}
