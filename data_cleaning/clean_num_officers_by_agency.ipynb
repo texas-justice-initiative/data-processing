{
 "cells": [
  {
   "cell_type": "markdown",
   "metadata": {},
   "source": [
    "# Clean and reformat the raw data describing all Texas law enforcement agencies the number of officers in each.\n",
    "\n",
    "* Input: `raw_TCOLE_LicensedOfficers.xlsx`\n",
    "* Outputs:\n",
    "  * `num_officers_by_agency.csv`\n",
    "  * `agencies_and_counties.csv`\n",
    "  \n",
    "##### Author: Everett Wetchler (everett.wetchler@gmail.com)"
   ]
  },
  {
   "cell_type": "markdown",
   "metadata": {},
   "source": [
    "## 1. Setup and read data"
   ]
  },
  {
   "cell_type": "code",
   "execution_count": 1,
   "metadata": {
    "collapsed": true
   },
   "outputs": [],
   "source": [
    "DTW_PROJECT_KEY = 'tji/auxiliary-datasets'\n",
    "RAW_DATAFRAME_NAME = 'raw_num_officers_by_agency'\n",
    "CLEANED_FILENAME = 'num_officers_by_agency.csv'\n",
    "AGENCY_COUNTY_ONLY_FILENAME = 'agencies_and_counties.csv'"
   ]
  },
  {
   "cell_type": "code",
   "execution_count": 2,
   "metadata": {
    "scrolled": true
   },
   "outputs": [
    {
     "name": "stdout",
     "output_type": "stream",
     "text": [
      "Everett Wetchler 2018-05-08 16:52:15 CDT\n",
      "\n",
      "datadotworld 1.6.0\n",
      "numpy 1.14.3\n",
      "pandas 0.22.0\n",
      "Git hash: 1dac51453f53e9273617aeef9ca4267dee5a09cb\n",
      "Git repo: git@github.com:texas-justice-initiative/data-processing.git\n",
      "watermark 1.6.0\n"
     ]
    }
   ],
   "source": [
    "import datadotworld as dw\n",
    "import numpy as np\n",
    "import pandas as pd\n",
    "\n",
    "%load_ext watermark\n",
    "%watermark -a \"Everett Wetchler\" -d -t -z -r -g -w -p datadotworld,numpy,pandas"
   ]
  },
  {
   "cell_type": "code",
   "execution_count": 3,
   "metadata": {
    "collapsed": true
   },
   "outputs": [],
   "source": [
    "from lib.standardize_police_agency_names import standardize_agency_name"
   ]
  },
  {
   "cell_type": "code",
   "execution_count": 4,
   "metadata": {},
   "outputs": [
    {
     "data": {
      "text/html": [
       "<div>\n",
       "<style scoped>\n",
       "    .dataframe tbody tr th:only-of-type {\n",
       "        vertical-align: middle;\n",
       "    }\n",
       "\n",
       "    .dataframe tbody tr th {\n",
       "        vertical-align: top;\n",
       "    }\n",
       "\n",
       "    .dataframe thead th {\n",
       "        text-align: right;\n",
       "    }\n",
       "</style>\n",
       "<table border=\"1\" class=\"dataframe\">\n",
       "  <thead>\n",
       "    <tr style=\"text-align: right;\">\n",
       "      <th></th>\n",
       "      <th>department_name</th>\n",
       "      <th>county_name</th>\n",
       "      <th>july_1st_2016</th>\n",
       "      <th>dec_31st_2016</th>\n",
       "      <th>july_1st_2017</th>\n",
       "      <th>dec_31st_2017</th>\n",
       "    </tr>\n",
       "  </thead>\n",
       "  <tbody>\n",
       "    <tr>\n",
       "      <th>0</th>\n",
       "      <td>PALESTINE CITY MARSHAL'S OFFICE</td>\n",
       "      <td>ANDERSON</td>\n",
       "      <td>0</td>\n",
       "      <td>0</td>\n",
       "      <td>0</td>\n",
       "      <td>1</td>\n",
       "    </tr>\n",
       "    <tr>\n",
       "      <th>1</th>\n",
       "      <td>ANGELINA CO. DIST. ATTY'S OFFICE</td>\n",
       "      <td>ANGELINA</td>\n",
       "      <td>0</td>\n",
       "      <td>0</td>\n",
       "      <td>1</td>\n",
       "      <td>1</td>\n",
       "    </tr>\n",
       "    <tr>\n",
       "      <th>2</th>\n",
       "      <td>ARCHER CO. CONST. PCT. 3</td>\n",
       "      <td>ARCHER</td>\n",
       "      <td>0</td>\n",
       "      <td>0</td>\n",
       "      <td>0</td>\n",
       "      <td>0</td>\n",
       "    </tr>\n",
       "    <tr>\n",
       "      <th>3</th>\n",
       "      <td>287th District Attorney's Office</td>\n",
       "      <td>BAILEY</td>\n",
       "      <td>0</td>\n",
       "      <td>0</td>\n",
       "      <td>0</td>\n",
       "      <td>0</td>\n",
       "    </tr>\n",
       "    <tr>\n",
       "      <th>4</th>\n",
       "      <td>BELTON FIRE MARSHAL'S OFFICE</td>\n",
       "      <td>BELL</td>\n",
       "      <td>0</td>\n",
       "      <td>0</td>\n",
       "      <td>0</td>\n",
       "      <td>0</td>\n",
       "    </tr>\n",
       "  </tbody>\n",
       "</table>\n",
       "</div>"
      ],
      "text/plain": [
       "                    department_name county_name  july_1st_2016  dec_31st_2016  \\\n",
       "0   PALESTINE CITY MARSHAL'S OFFICE    ANDERSON              0              0   \n",
       "1  ANGELINA CO. DIST. ATTY'S OFFICE    ANGELINA              0              0   \n",
       "2          ARCHER CO. CONST. PCT. 3      ARCHER              0              0   \n",
       "3  287th District Attorney's Office      BAILEY              0              0   \n",
       "4      BELTON FIRE MARSHAL'S OFFICE        BELL              0              0   \n",
       "\n",
       "   july_1st_2017  dec_31st_2017  \n",
       "0              0              1  \n",
       "1              1              1  \n",
       "2              0              0  \n",
       "3              0              0  \n",
       "4              0              0  "
      ]
     },
     "execution_count": 4,
     "metadata": {},
     "output_type": "execute_result"
    }
   ],
   "source": [
    "datasets = dw.load_dataset(DTW_PROJECT_KEY, force_update=True)\n",
    "df = datasets.dataframes[RAW_DATAFRAME_NAME]\n",
    "df.head()"
   ]
  },
  {
   "cell_type": "markdown",
   "metadata": {},
   "source": [
    "## 2. Begin cleaning"
   ]
  },
  {
   "cell_type": "markdown",
   "metadata": {},
   "source": [
    "### Rename columns"
   ]
  },
  {
   "cell_type": "code",
   "execution_count": 5,
   "metadata": {
    "collapsed": true
   },
   "outputs": [],
   "source": [
    "df.columns = ['agency', 'county',\n",
    "              'num_officers_2016_07_01', 'num_officers_2016_12_31',\n",
    "              'num_officers_2017_07_01', 'num_officers_2017_12_31']"
   ]
  },
  {
   "cell_type": "markdown",
   "metadata": {},
   "source": [
    "### Standardize agency and county names"
   ]
  },
  {
   "cell_type": "code",
   "execution_count": 6,
   "metadata": {},
   "outputs": [
    {
     "data": {
      "text/html": [
       "<div>\n",
       "<style scoped>\n",
       "    .dataframe tbody tr th:only-of-type {\n",
       "        vertical-align: middle;\n",
       "    }\n",
       "\n",
       "    .dataframe tbody tr th {\n",
       "        vertical-align: top;\n",
       "    }\n",
       "\n",
       "    .dataframe thead th {\n",
       "        text-align: right;\n",
       "    }\n",
       "</style>\n",
       "<table border=\"1\" class=\"dataframe\">\n",
       "  <thead>\n",
       "    <tr style=\"text-align: right;\">\n",
       "      <th></th>\n",
       "      <th>agency</th>\n",
       "      <th>county</th>\n",
       "      <th>num_officers_2016_07_01</th>\n",
       "      <th>num_officers_2016_12_31</th>\n",
       "      <th>num_officers_2017_07_01</th>\n",
       "      <th>num_officers_2017_12_31</th>\n",
       "    </tr>\n",
       "  </thead>\n",
       "  <tbody>\n",
       "    <tr>\n",
       "      <th>0</th>\n",
       "      <td>PALESTINE CITY MARSHALS OFFICE</td>\n",
       "      <td>ANDERSON</td>\n",
       "      <td>0</td>\n",
       "      <td>0</td>\n",
       "      <td>0</td>\n",
       "      <td>1</td>\n",
       "    </tr>\n",
       "    <tr>\n",
       "      <th>1</th>\n",
       "      <td>ANGELINA CO DIST ATTY OFFICE</td>\n",
       "      <td>ANGELINA</td>\n",
       "      <td>0</td>\n",
       "      <td>0</td>\n",
       "      <td>1</td>\n",
       "      <td>1</td>\n",
       "    </tr>\n",
       "    <tr>\n",
       "      <th>2</th>\n",
       "      <td>ARCHER CO CONST PCT 3</td>\n",
       "      <td>ARCHER</td>\n",
       "      <td>0</td>\n",
       "      <td>0</td>\n",
       "      <td>0</td>\n",
       "      <td>0</td>\n",
       "    </tr>\n",
       "    <tr>\n",
       "      <th>3</th>\n",
       "      <td>287TH DIST ATTY OFFICE</td>\n",
       "      <td>BAILEY</td>\n",
       "      <td>0</td>\n",
       "      <td>0</td>\n",
       "      <td>0</td>\n",
       "      <td>0</td>\n",
       "    </tr>\n",
       "    <tr>\n",
       "      <th>4</th>\n",
       "      <td>BELTON FIRE MARSHALS OFFICE</td>\n",
       "      <td>BELL</td>\n",
       "      <td>0</td>\n",
       "      <td>0</td>\n",
       "      <td>0</td>\n",
       "      <td>0</td>\n",
       "    </tr>\n",
       "  </tbody>\n",
       "</table>\n",
       "</div>"
      ],
      "text/plain": [
       "                           agency    county  num_officers_2016_07_01  \\\n",
       "0  PALESTINE CITY MARSHALS OFFICE  ANDERSON                        0   \n",
       "1    ANGELINA CO DIST ATTY OFFICE  ANGELINA                        0   \n",
       "2           ARCHER CO CONST PCT 3    ARCHER                        0   \n",
       "3          287TH DIST ATTY OFFICE    BAILEY                        0   \n",
       "4     BELTON FIRE MARSHALS OFFICE      BELL                        0   \n",
       "\n",
       "   num_officers_2016_12_31  num_officers_2017_07_01  num_officers_2017_12_31  \n",
       "0                        0                        0                        1  \n",
       "1                        0                        1                        1  \n",
       "2                        0                        0                        0  \n",
       "3                        0                        0                        0  \n",
       "4                        0                        0                        0  "
      ]
     },
     "execution_count": 6,
     "metadata": {},
     "output_type": "execute_result"
    }
   ],
   "source": [
    "df['agency'] = df['agency'].apply(standardize_agency_name)\n",
    "df['county'] = df['county'].apply(lambda d: d.strip().upper())\n",
    "df.head()"
   ]
  },
  {
   "cell_type": "markdown",
   "metadata": {},
   "source": [
    "### Create special county (\"TEXAS\") for state agencies\n",
    "\n",
    "#### Instead of leaving them in Travis county, where they default to"
   ]
  },
  {
   "cell_type": "code",
   "execution_count": 7,
   "metadata": {},
   "outputs": [
    {
     "data": {
      "text/html": [
       "<div>\n",
       "<style scoped>\n",
       "    .dataframe tbody tr th:only-of-type {\n",
       "        vertical-align: middle;\n",
       "    }\n",
       "\n",
       "    .dataframe tbody tr th {\n",
       "        vertical-align: top;\n",
       "    }\n",
       "\n",
       "    .dataframe thead th {\n",
       "        text-align: right;\n",
       "    }\n",
       "</style>\n",
       "<table border=\"1\" class=\"dataframe\">\n",
       "  <thead>\n",
       "    <tr style=\"text-align: right;\">\n",
       "      <th></th>\n",
       "      <th>agency</th>\n",
       "      <th>county</th>\n",
       "      <th>num_officers_2016_07_01</th>\n",
       "      <th>num_officers_2016_12_31</th>\n",
       "      <th>num_officers_2017_07_01</th>\n",
       "      <th>num_officers_2017_12_31</th>\n",
       "    </tr>\n",
       "  </thead>\n",
       "  <tbody>\n",
       "    <tr>\n",
       "      <th>81</th>\n",
       "      <td>TEXAS COMM ON JAIL STANDARDS</td>\n",
       "      <td>STATE</td>\n",
       "      <td>0</td>\n",
       "      <td>0</td>\n",
       "      <td>0</td>\n",
       "      <td>0</td>\n",
       "    </tr>\n",
       "    <tr>\n",
       "      <th>736</th>\n",
       "      <td>CENTRAL TEXAS POLICE DEPT</td>\n",
       "      <td>STATE</td>\n",
       "      <td>2</td>\n",
       "      <td>2</td>\n",
       "      <td>0</td>\n",
       "      <td>1</td>\n",
       "    </tr>\n",
       "    <tr>\n",
       "      <th>894</th>\n",
       "      <td>CONCORDIA UNIV TEXAS POLICE DEPT</td>\n",
       "      <td>STATE</td>\n",
       "      <td>2</td>\n",
       "      <td>2</td>\n",
       "      <td>0</td>\n",
       "      <td>3</td>\n",
       "    </tr>\n",
       "    <tr>\n",
       "      <th>1189</th>\n",
       "      <td>TEXAS RACING COMMISSION</td>\n",
       "      <td>STATE</td>\n",
       "      <td>4</td>\n",
       "      <td>5</td>\n",
       "      <td>5</td>\n",
       "      <td>5</td>\n",
       "    </tr>\n",
       "    <tr>\n",
       "      <th>1204</th>\n",
       "      <td>TEXAS JUVENILE JUSTICE DEPT</td>\n",
       "      <td>STATE</td>\n",
       "      <td>4</td>\n",
       "      <td>4</td>\n",
       "      <td>4</td>\n",
       "      <td>4</td>\n",
       "    </tr>\n",
       "    <tr>\n",
       "      <th>1432</th>\n",
       "      <td>TEXAS LOTTERY COMMISSION</td>\n",
       "      <td>STATE</td>\n",
       "      <td>7</td>\n",
       "      <td>7</td>\n",
       "      <td>7</td>\n",
       "      <td>7</td>\n",
       "    </tr>\n",
       "    <tr>\n",
       "      <th>1573</th>\n",
       "      <td>TEXAS ST BOARD OF PHARMACY</td>\n",
       "      <td>STATE</td>\n",
       "      <td>8</td>\n",
       "      <td>7</td>\n",
       "      <td>7</td>\n",
       "      <td>6</td>\n",
       "    </tr>\n",
       "    <tr>\n",
       "      <th>1738</th>\n",
       "      <td>TEXAS ST BOARD OF DENTAL EXAMINERS</td>\n",
       "      <td>STATE</td>\n",
       "      <td>10</td>\n",
       "      <td>12</td>\n",
       "      <td>4</td>\n",
       "      <td>2</td>\n",
       "    </tr>\n",
       "    <tr>\n",
       "      <th>2076</th>\n",
       "      <td>TEXAS COMMISSION ON LAW ENFORCEMENT</td>\n",
       "      <td>STATE</td>\n",
       "      <td>19</td>\n",
       "      <td>20</td>\n",
       "      <td>21</td>\n",
       "      <td>19</td>\n",
       "    </tr>\n",
       "    <tr>\n",
       "      <th>2077</th>\n",
       "      <td>TEXAS COMPTROLLER OF PUBLIC ACCOUNTS</td>\n",
       "      <td>STATE</td>\n",
       "      <td>19</td>\n",
       "      <td>22</td>\n",
       "      <td>21</td>\n",
       "      <td>24</td>\n",
       "    </tr>\n",
       "    <tr>\n",
       "      <th>2156</th>\n",
       "      <td>TEXAS JUVENILE JUSTICE DEPT OIG</td>\n",
       "      <td>STATE</td>\n",
       "      <td>22</td>\n",
       "      <td>20</td>\n",
       "      <td>24</td>\n",
       "      <td>23</td>\n",
       "    </tr>\n",
       "    <tr>\n",
       "      <th>2275</th>\n",
       "      <td>TEXAS DEPT OF INSURANCE FRAUD UNIT</td>\n",
       "      <td>STATE</td>\n",
       "      <td>29</td>\n",
       "      <td>30</td>\n",
       "      <td>26</td>\n",
       "      <td>25</td>\n",
       "    </tr>\n",
       "    <tr>\n",
       "      <th>2358</th>\n",
       "      <td>TEXAS HEALTH AND HUMAN SERVICES COMM- OFFICE O...</td>\n",
       "      <td>STATE</td>\n",
       "      <td>34</td>\n",
       "      <td>37</td>\n",
       "      <td>36</td>\n",
       "      <td>33</td>\n",
       "    </tr>\n",
       "    <tr>\n",
       "      <th>2592</th>\n",
       "      <td>TEXAS RAILROAD ASSOCIATION</td>\n",
       "      <td>STATE</td>\n",
       "      <td>99</td>\n",
       "      <td>97</td>\n",
       "      <td>99</td>\n",
       "      <td>92</td>\n",
       "    </tr>\n",
       "    <tr>\n",
       "      <th>2641</th>\n",
       "      <td>TEXAS ATTY GENERALS OFFICE</td>\n",
       "      <td>STATE</td>\n",
       "      <td>164</td>\n",
       "      <td>171</td>\n",
       "      <td>173</td>\n",
       "      <td>175</td>\n",
       "    </tr>\n",
       "    <tr>\n",
       "      <th>2674</th>\n",
       "      <td>TEXAS ALCOHOLIC BEVERAGE COMM</td>\n",
       "      <td>STATE</td>\n",
       "      <td>301</td>\n",
       "      <td>291</td>\n",
       "      <td>287</td>\n",
       "      <td>292</td>\n",
       "    </tr>\n",
       "    <tr>\n",
       "      <th>2688</th>\n",
       "      <td>UNIV OF TEXAS SYSTEM POLICE</td>\n",
       "      <td>STATE</td>\n",
       "      <td>553</td>\n",
       "      <td>539</td>\n",
       "      <td>555</td>\n",
       "      <td>544</td>\n",
       "    </tr>\n",
       "    <tr>\n",
       "      <th>2693</th>\n",
       "      <td>TEXAS PARKS WILDLIFE DEPT</td>\n",
       "      <td>STATE</td>\n",
       "      <td>745</td>\n",
       "      <td>770</td>\n",
       "      <td>766</td>\n",
       "      <td>785</td>\n",
       "    </tr>\n",
       "    <tr>\n",
       "      <th>2701</th>\n",
       "      <td>TEXAS DEPT OF PUBLIC SAFETY</td>\n",
       "      <td>STATE</td>\n",
       "      <td>4874</td>\n",
       "      <td>5023</td>\n",
       "      <td>5256</td>\n",
       "      <td>5363</td>\n",
       "    </tr>\n",
       "  </tbody>\n",
       "</table>\n",
       "</div>"
      ],
      "text/plain": [
       "                                                 agency county  \\\n",
       "81                         TEXAS COMM ON JAIL STANDARDS  STATE   \n",
       "736                           CENTRAL TEXAS POLICE DEPT  STATE   \n",
       "894                    CONCORDIA UNIV TEXAS POLICE DEPT  STATE   \n",
       "1189                            TEXAS RACING COMMISSION  STATE   \n",
       "1204                        TEXAS JUVENILE JUSTICE DEPT  STATE   \n",
       "1432                           TEXAS LOTTERY COMMISSION  STATE   \n",
       "1573                         TEXAS ST BOARD OF PHARMACY  STATE   \n",
       "1738                 TEXAS ST BOARD OF DENTAL EXAMINERS  STATE   \n",
       "2076                TEXAS COMMISSION ON LAW ENFORCEMENT  STATE   \n",
       "2077               TEXAS COMPTROLLER OF PUBLIC ACCOUNTS  STATE   \n",
       "2156                    TEXAS JUVENILE JUSTICE DEPT OIG  STATE   \n",
       "2275                 TEXAS DEPT OF INSURANCE FRAUD UNIT  STATE   \n",
       "2358  TEXAS HEALTH AND HUMAN SERVICES COMM- OFFICE O...  STATE   \n",
       "2592                         TEXAS RAILROAD ASSOCIATION  STATE   \n",
       "2641                         TEXAS ATTY GENERALS OFFICE  STATE   \n",
       "2674                      TEXAS ALCOHOLIC BEVERAGE COMM  STATE   \n",
       "2688                        UNIV OF TEXAS SYSTEM POLICE  STATE   \n",
       "2693                          TEXAS PARKS WILDLIFE DEPT  STATE   \n",
       "2701                        TEXAS DEPT OF PUBLIC SAFETY  STATE   \n",
       "\n",
       "      num_officers_2016_07_01  num_officers_2016_12_31  \\\n",
       "81                          0                        0   \n",
       "736                         2                        2   \n",
       "894                         2                        2   \n",
       "1189                        4                        5   \n",
       "1204                        4                        4   \n",
       "1432                        7                        7   \n",
       "1573                        8                        7   \n",
       "1738                       10                       12   \n",
       "2076                       19                       20   \n",
       "2077                       19                       22   \n",
       "2156                       22                       20   \n",
       "2275                       29                       30   \n",
       "2358                       34                       37   \n",
       "2592                       99                       97   \n",
       "2641                      164                      171   \n",
       "2674                      301                      291   \n",
       "2688                      553                      539   \n",
       "2693                      745                      770   \n",
       "2701                     4874                     5023   \n",
       "\n",
       "      num_officers_2017_07_01  num_officers_2017_12_31  \n",
       "81                          0                        0  \n",
       "736                         0                        1  \n",
       "894                         0                        3  \n",
       "1189                        5                        5  \n",
       "1204                        4                        4  \n",
       "1432                        7                        7  \n",
       "1573                        7                        6  \n",
       "1738                        4                        2  \n",
       "2076                       21                       19  \n",
       "2077                       21                       24  \n",
       "2156                       24                       23  \n",
       "2275                       26                       25  \n",
       "2358                       36                       33  \n",
       "2592                       99                       92  \n",
       "2641                      173                      175  \n",
       "2674                      287                      292  \n",
       "2688                      555                      544  \n",
       "2693                      766                      785  \n",
       "2701                     5256                     5363  "
      ]
     },
     "execution_count": 7,
     "metadata": {},
     "output_type": "execute_result"
    }
   ],
   "source": [
    "# Any agency in Travis county with 'TEXAS' in the name\n",
    "# is a state agency -- with a few exceptions.\n",
    "exceptions = [\n",
    "    'CENTRAL TEXAS POLICE DEPT.',\n",
    "    'CONCORDIA UNIVERSITY TEXAS POLICE DEPARTMENT',\n",
    "    'UNIV. OF TEXAS SYSTEM POLICE',\n",
    "]\n",
    "is_state = (\n",
    "    df.agency.str.contains('TEXAS')\n",
    "    & (df.county == 'TRAVIS')\n",
    "    & ~df.agency.isin(exceptions))\n",
    "df.loc[is_state, 'county'] = 'STATE'\n",
    "\n",
    "# Have a look at the altered entries to be sure they look right:\n",
    "df[df['county'] == 'STATE']"
   ]
  },
  {
   "cell_type": "markdown",
   "metadata": {},
   "source": [
    "#### Note the last line - Texas DPS - which includes Texas Highway Patrol. It's by far the bulk of the state department force."
   ]
  },
  {
   "cell_type": "code",
   "execution_count": 8,
   "metadata": {},
   "outputs": [
    {
     "name": "stdout",
     "output_type": "stream",
     "text": [
      "Texas has 2703 police agencies\n",
      " - 123 of them had zero officers at the end of 2017\n",
      " - 2580 had 1+ officers at the end of 2017\n"
     ]
    }
   ],
   "source": [
    "print(\"Texas has %d police agencies\\n - %d of them had zero officers at the end of 2017\\n - %d had 1+ officers at the end of 2017\" % (\n",
    "    len(df), (df['num_officers_2017_12_31'] == 0).sum(), (df['num_officers_2017_12_31'] > 0).sum()))"
   ]
  },
  {
   "cell_type": "markdown",
   "metadata": {},
   "source": [
    "## 3. Write"
   ]
  },
  {
   "cell_type": "code",
   "execution_count": 9,
   "metadata": {
    "collapsed": true
   },
   "outputs": [],
   "source": [
    "df.sort_values(['county', 'agency'], inplace=True)"
   ]
  },
  {
   "cell_type": "code",
   "execution_count": 10,
   "metadata": {},
   "outputs": [
    {
     "name": "stdout",
     "output_type": "stream",
     "text": [
      "Writing to data.world: num_officers_by_agency.csv\n"
     ]
    }
   ],
   "source": [
    "with dw.open_remote_file(DTW_PROJECT_KEY, CLEANED_FILENAME) as w:\n",
    "    print(\"Writing to data.world:\", CLEANED_FILENAME)\n",
    "    df.to_csv(w, index=False)"
   ]
  },
  {
   "cell_type": "code",
   "execution_count": 11,
   "metadata": {},
   "outputs": [
    {
     "name": "stdout",
     "output_type": "stream",
     "text": [
      "Writing to data.world: agencies_and_counties.csv\n"
     ]
    }
   ],
   "source": [
    "with dw.open_remote_file(DTW_PROJECT_KEY, AGENCY_COUNTY_ONLY_FILENAME) as w:\n",
    "    print(\"Writing to data.world:\", AGENCY_COUNTY_ONLY_FILENAME)\n",
    "    df[['agency', 'county']].to_csv(w, index=False)"
   ]
  },
  {
   "cell_type": "code",
   "execution_count": null,
   "metadata": {
    "collapsed": true
   },
   "outputs": [],
   "source": []
  }
 ],
 "metadata": {
  "kernelspec": {
   "display_name": "tji-data-processing",
   "language": "python",
   "name": "tji-data-processing"
  },
  "language_info": {
   "codemirror_mode": {
    "name": "ipython",
    "version": 3
   },
   "file_extension": ".py",
   "mimetype": "text/x-python",
   "name": "python",
   "nbconvert_exporter": "python",
   "pygments_lexer": "ipython3",
   "version": "3.6.1"
  }
 },
 "nbformat": 4,
 "nbformat_minor": 2
}
