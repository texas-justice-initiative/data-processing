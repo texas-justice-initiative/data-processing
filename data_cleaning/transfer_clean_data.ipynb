{
 "cells": [
  {
   "cell_type": "markdown",
   "metadata": {},
   "source": [
    "## Transfer Clean Data"
   ]
  },
  {
   "cell_type": "markdown",
   "metadata": {},
   "source": [
    "Transfer datasets to be used on TJI's Tableau Public Dashboards\n",
    " - Pre-trial deaths in custody\n",
    " \n",
    " ### Datasets used\n",
    "\n",
    "* Input:\n",
    "  * `tji/deaths-in-custody/cleaned_custodial_death_reports.csv`\n",
    "\n",
    "* Output:\n",
    "  * Google Sheet with query results\n",
    "  \n",
    "##### Author: James Babyak (james.babyak@gmail.com)"
   ]
  },
  {
   "cell_type": "markdown",
   "metadata": {},
   "source": [
    "## Steps\n",
    "**1. Setup**\n",
    "- 1a. Configuration and imports\n",
    "    - Libraries\n",
    "    \n",
    "**2. Download data from data.world**\n",
    "- 2a. Query data based on saved\n",
    "\n",
    "**3. Save to location**\n",
    "- 3a. Google Drive"
   ]
  },
  {
   "cell_type": "markdown",
   "metadata": {},
   "source": [
    "---"
   ]
  },
  {
   "cell_type": "markdown",
   "metadata": {},
   "source": [
    "## 1. Imports"
   ]
  },
  {
   "cell_type": "code",
   "execution_count": 1,
   "metadata": {},
   "outputs": [
    {
     "name": "stdout",
     "output_type": "stream",
     "text": [
      "James Babyak 2020-06-28 12:13:40 CDT \n",
      "\n",
      "numpy 1.15.4\n",
      "pandas 0.23.4\n",
      "datadotworld 1.7.0\n",
      "watermark 2.0.2\n"
     ]
    }
   ],
   "source": [
    "# Import ALL the things\n",
    "\n",
    "import os\n",
    "import sys\n",
    "import json\n",
    "import boto3\n",
    "import datetime\n",
    "import numpy as np\n",
    "import pandas as pd\n",
    "import datadotworld as dw\n",
    "import pygsheets\n",
    "\n",
    "from io import StringIO\n",
    "from lib.cleaning_tools import *\n",
    "\n",
    "sys.path.append(os.getcwd() + '/../data_cleaning')\n",
    "\n",
    "pd.set_option('display.max_rows', 100)\n",
    "pd.set_option('display.max_columns', 100)\n",
    "\n",
    "%load_ext watermark\n",
    "%watermark -a \"James Babyak\" -d -t -z -w -p numpy,pandas,datadotworld"
   ]
  },
  {
   "cell_type": "markdown",
   "metadata": {},
   "source": [
    "## 2. Download Data"
   ]
  },
  {
   "cell_type": "code",
   "execution_count": 2,
   "metadata": {},
   "outputs": [],
   "source": [
    "# Query used for pre-trial deaths\n",
    "query = \"\\\n",
    "SELECT * \\\n",
    "FROM cleaned_custodial_death_reports \\\n",
    "WHERE (type_of_custody LIKE 'JAIL%' OR type_of_custody = 'PRIVATE FACILITY') \\\n",
    "AND NOT were_the_charges = 'CONVICTED';\""
   ]
  },
  {
   "cell_type": "code",
   "execution_count": 3,
   "metadata": {},
   "outputs": [
    {
     "name": "stderr",
     "output_type": "stream",
     "text": [
      "/Users/macbookpro/anaconda3/lib/python3.6/site-packages/datadotworld/datadotworld.py:192: UserWarning: You are using an outdated copy of tji/deaths-in-custody. If you wish to use the latest version, call this function with the argument auto_update=True or force_update=True\n",
      "  'force_update=True'.format(dataset_key))\n"
     ]
    }
   ],
   "source": [
    "# Get dataset of cleaned custoidal deaths from data.world and make into DF\n",
    "dataset = dw.load_dataset('tji/deaths-in-custody')\n",
    "cdr = dataset.dataframes['cleaned_custodial_death_reports']"
   ]
  },
  {
   "cell_type": "code",
   "execution_count": 4,
   "metadata": {
    "scrolled": false
   },
   "outputs": [],
   "source": [
    "# Filter datafram for pre-custodial deaths\n",
    "boolean = (cdr['were_the_charges'] != 'CONVICTED') & \\\n",
    "          (cdr['type_of_custody'].str.contains('JAIL') | cdr['type_of_custody'].str.contains('PRIVATE'))\n",
    "df_custodial_deaths = cdr.loc[boolean]"
   ]
  },
  {
   "cell_type": "markdown",
   "metadata": {},
   "source": [
    "## 3. Save to Location"
   ]
  },
  {
   "cell_type": "code",
   "execution_count": 5,
   "metadata": {},
   "outputs": [],
   "source": [
    "#authorization\n",
    "gc = pygsheets.authorize(service_account_file='../automation/client_secret_store.json')"
   ]
  },
  {
   "cell_type": "code",
   "execution_count": 6,
   "metadata": {},
   "outputs": [
    {
     "data": {
      "text/plain": [
       "['tableau-dashboard-pre-conviction-deaths-in-texas-QueryResult']"
      ]
     },
     "execution_count": 6,
     "metadata": {},
     "output_type": "execute_result"
    }
   ],
   "source": [
    "gc.spreadsheet_titles()"
   ]
  },
  {
   "cell_type": "code",
   "execution_count": 7,
   "metadata": {},
   "outputs": [],
   "source": [
    "#open the google spreadsheet (where 'PY to Gsheet Test' is the name of my sheet)\n",
    "sh = gc.open('tableau-dashboard-pre-conviction-deaths-in-texas-QueryResult')"
   ]
  },
  {
   "cell_type": "code",
   "execution_count": 8,
   "metadata": {},
   "outputs": [],
   "source": [
    "#select the first sheet \n",
    "wks = sh[0]"
   ]
  },
  {
   "cell_type": "code",
   "execution_count": 9,
   "metadata": {},
   "outputs": [],
   "source": [
    "#update the first sheet with df, starting at cell B2. \n",
    "wks.set_dataframe(df_custodial_deaths,(1,1))"
   ]
  },
  {
   "cell_type": "code",
   "execution_count": null,
   "metadata": {},
   "outputs": [],
   "source": []
  }
 ],
 "metadata": {
  "kernelspec": {
   "display_name": "Python 3",
   "language": "python",
   "name": "python3"
  },
  "language_info": {
   "codemirror_mode": {
    "name": "ipython",
    "version": 3
   },
   "file_extension": ".py",
   "mimetype": "text/x-python",
   "name": "python",
   "nbconvert_exporter": "python",
   "pygments_lexer": "ipython3",
   "version": "3.6.7"
  }
 },
 "nbformat": 4,
 "nbformat_minor": 2
}
