{
 "cells": [
  {
   "cell_type": "markdown",
   "metadata": {},
   "source": [
    "# Clean data about individual police officers\n",
    "\n",
    "* Input: `TCOLE - Texas Sworn Officers.xlsx\n",
    ".csv`\n",
    "* Output: `list_of_texas_officers.csv`\n",
    "  \n",
    "##### Author: Everett Wetchler (everett.wetchler@gmail.com)"
   ]
  },
  {
   "cell_type": "markdown",
   "metadata": {},
   "source": [
    "## 1. Setup and read data"
   ]
  },
  {
   "cell_type": "code",
   "execution_count": 1,
   "metadata": {},
   "outputs": [],
   "source": [
    "DTW_PROJECT_KEY = 'tji/auxiliary-datasets'\n",
    "AGENCY_COUNTY_DATAFRAME = 'agencies_and_counties'\n",
    "CLEANED_FILENAME = 'list_of_texas_officers.csv'"
   ]
  },
  {
   "cell_type": "code",
   "execution_count": 2,
   "metadata": {
    "scrolled": true
   },
   "outputs": [
    {
     "name": "stdout",
     "output_type": "stream",
     "text": [
      "Everett Wetchler 2018-08-19 12:48:29 PDT\n",
      "\n",
      "numpy 1.14.5\n",
      "pandas 0.23.3\n",
      "matplotlib 2.2.2\n",
      "datadotworld 1.6.0\n",
      "watermark 1.6.1\n"
     ]
    }
   ],
   "source": [
    "####################################################\n",
    "# Boilerplate import/setup code for general analysis\n",
    "# everett.wetchler@gmail.com\n",
    "####################################################\n",
    "\n",
    "import datetime as dt\n",
    "import os\n",
    "import random\n",
    "\n",
    "import datadotworld as dw\n",
    "import matplotlib as mpl\n",
    "import matplotlib.pyplot as plt\n",
    "import numpy as np\n",
    "import pandas as pd\n",
    "import seaborn as sns\n",
    "\n",
    "pd.set_option('display.max_rows', 100)\n",
    "pd.set_option('display.max_columns', 100)\n",
    "\n",
    "## Jupyter setup\n",
    "%matplotlib inline\n",
    "\n",
    "## Graphical setup\n",
    "# Useful colors to reference\n",
    "SNS_BLUE, SNS_GREEN, SNS_RED, SNS_PURPLE, SNS_YELLOW, SNS_CYAN = sns.color_palette()\n",
    "SNS_COLORS = sns.color_palette()\n",
    "# sns.set_palette(sns.color_palette(\"cubehelix\", 8))\n",
    "mpl.rcParams.update({\n",
    "  'font.size': 14,\n",
    "  'axes.titlesize': 'x-large',\n",
    "  'axes.labelsize': 'large',\n",
    "  'xtick.labelsize': 'medium',\n",
    "  'ytick.labelsize': 'medium',\n",
    "  'legend.fancybox': True,\n",
    "  'legend.fontsize': 'medium',\n",
    "  'legend.frameon': True,\n",
    "  'legend.framealpha': 0.7,\n",
    "  'figure.figsize': ['9', '6'],\n",
    "})\n",
    "\n",
    "# Watermark extension to print version/system information\n",
    "# Flags:\n",
    "# -a [author] -d (date) -t (time) -z (timezone) -r (repo)\n",
    "# -g (git hash) -w (watermark version) -p [packages] (package info)\n",
    "%load_ext watermark\n",
    "%watermark -a \"Everett Wetchler\" -d -t -z -w -p numpy,pandas,matplotlib,datadotworld\n",
    "\n",
    "####################################################\n",
    "# END Boilerplate\n",
    "####################################################"
   ]
  },
  {
   "cell_type": "code",
   "execution_count": 3,
   "metadata": {},
   "outputs": [],
   "source": [
    "from lib.cleaning_tools import *\n",
    "from lib.standardize_police_agency_names import standardize_agency_name"
   ]
  },
  {
   "cell_type": "code",
   "execution_count": 4,
   "metadata": {},
   "outputs": [
    {
     "data": {
      "text/html": [
       "<div>\n",
       "<style scoped>\n",
       "    .dataframe tbody tr th:only-of-type {\n",
       "        vertical-align: middle;\n",
       "    }\n",
       "\n",
       "    .dataframe tbody tr th {\n",
       "        vertical-align: top;\n",
       "    }\n",
       "\n",
       "    .dataframe thead th {\n",
       "        text-align: right;\n",
       "    }\n",
       "</style>\n",
       "<table border=\"1\" class=\"dataframe\">\n",
       "  <thead>\n",
       "    <tr style=\"text-align: right;\">\n",
       "      <th></th>\n",
       "      <th>agency</th>\n",
       "      <th>county</th>\n",
       "    </tr>\n",
       "  </thead>\n",
       "  <tbody>\n",
       "    <tr>\n",
       "      <th>0</th>\n",
       "      <td>ANDERSON CO CONST PCT 1</td>\n",
       "      <td>ANDERSON</td>\n",
       "    </tr>\n",
       "    <tr>\n",
       "      <th>1</th>\n",
       "      <td>ANDERSON CO CONST PCT 2</td>\n",
       "      <td>ANDERSON</td>\n",
       "    </tr>\n",
       "    <tr>\n",
       "      <th>2</th>\n",
       "      <td>ANDERSON CO CONST PCT 3</td>\n",
       "      <td>ANDERSON</td>\n",
       "    </tr>\n",
       "    <tr>\n",
       "      <th>3</th>\n",
       "      <td>ANDERSON CO CONST PCT 4</td>\n",
       "      <td>ANDERSON</td>\n",
       "    </tr>\n",
       "    <tr>\n",
       "      <th>4</th>\n",
       "      <td>ANDERSON CO DIST ATTY OFFICE</td>\n",
       "      <td>ANDERSON</td>\n",
       "    </tr>\n",
       "  </tbody>\n",
       "</table>\n",
       "</div>"
      ],
      "text/plain": [
       "                         agency    county\n",
       "0       ANDERSON CO CONST PCT 1  ANDERSON\n",
       "1       ANDERSON CO CONST PCT 2  ANDERSON\n",
       "2       ANDERSON CO CONST PCT 3  ANDERSON\n",
       "3       ANDERSON CO CONST PCT 4  ANDERSON\n",
       "4  ANDERSON CO DIST ATTY OFFICE  ANDERSON"
      ]
     },
     "execution_count": 4,
     "metadata": {},
     "output_type": "execute_result"
    }
   ],
   "source": [
    "datasets = dw.load_dataset(DTW_PROJECT_KEY, force_update=True)\n",
    "agency_county = datasets.dataframes[AGENCY_COUNTY_DATAFRAME]\n",
    "agency_county.head()"
   ]
  },
  {
   "cell_type": "code",
   "execution_count": 5,
   "metadata": {},
   "outputs": [
    {
     "name": "stdout",
     "output_type": "stream",
     "text": [
      "Writing excel file to temp file: /var/folders/dc/8cbxbsh515s908xl0zyprszm0000gn/T/tmppjsupdq4\n"
     ]
    },
    {
     "data": {
      "text/html": [
       "<div>\n",
       "<style scoped>\n",
       "    .dataframe tbody tr th:only-of-type {\n",
       "        vertical-align: middle;\n",
       "    }\n",
       "\n",
       "    .dataframe tbody tr th {\n",
       "        vertical-align: top;\n",
       "    }\n",
       "\n",
       "    .dataframe thead th {\n",
       "        text-align: right;\n",
       "    }\n",
       "</style>\n",
       "<table border=\"1\" class=\"dataframe\">\n",
       "  <thead>\n",
       "    <tr style=\"text-align: right;\">\n",
       "      <th></th>\n",
       "      <th>First Name</th>\n",
       "      <th>Middle</th>\n",
       "      <th>Last Name</th>\n",
       "      <th>Suffix</th>\n",
       "      <th>Current Department</th>\n",
       "      <th>Highest Cert</th>\n",
       "      <th>Service Time</th>\n",
       "      <th>Gender</th>\n",
       "      <th>Race</th>\n",
       "      <th>Age Range</th>\n",
       "    </tr>\n",
       "  </thead>\n",
       "  <tbody>\n",
       "    <tr>\n",
       "      <th>0</th>\n",
       "      <td>BRADFORD</td>\n",
       "      <td>E</td>\n",
       "      <td>TIPPIT</td>\n",
       "      <td>NaN</td>\n",
       "      <td>MISSOURI CITY POLICE DEPT.</td>\n",
       "      <td>Master Peace Officer</td>\n",
       "      <td>23.92</td>\n",
       "      <td>M</td>\n",
       "      <td>White</td>\n",
       "      <td>41 to 50</td>\n",
       "    </tr>\n",
       "    <tr>\n",
       "      <th>1</th>\n",
       "      <td>ROGER</td>\n",
       "      <td>W</td>\n",
       "      <td>KENDALL</td>\n",
       "      <td>NaN</td>\n",
       "      <td>TEXAS BOARD OF CRIMINAL JUSTICE</td>\n",
       "      <td>Master Peace Officer</td>\n",
       "      <td>25.75</td>\n",
       "      <td>M</td>\n",
       "      <td>White</td>\n",
       "      <td>51 or over</td>\n",
       "    </tr>\n",
       "    <tr>\n",
       "      <th>2</th>\n",
       "      <td>CHARLES</td>\n",
       "      <td>T</td>\n",
       "      <td>KELLEY</td>\n",
       "      <td>NaN</td>\n",
       "      <td>WILLIAMSON CO. SHERIFF'S OFFICE</td>\n",
       "      <td>Master Peace Officer</td>\n",
       "      <td>23.41</td>\n",
       "      <td>M</td>\n",
       "      <td>White</td>\n",
       "      <td>41 to 50</td>\n",
       "    </tr>\n",
       "    <tr>\n",
       "      <th>3</th>\n",
       "      <td>NAYA</td>\n",
       "      <td>C</td>\n",
       "      <td>POPE</td>\n",
       "      <td>NaN</td>\n",
       "      <td>IRVING POLICE DEPT.</td>\n",
       "      <td>Master Peace Officer</td>\n",
       "      <td>36.91</td>\n",
       "      <td>F</td>\n",
       "      <td>Hispanic</td>\n",
       "      <td>51 or over</td>\n",
       "    </tr>\n",
       "    <tr>\n",
       "      <th>4</th>\n",
       "      <td>LINDA</td>\n",
       "      <td>F</td>\n",
       "      <td>HARTT-GOGGIN</td>\n",
       "      <td>NaN</td>\n",
       "      <td>ANTHONY POLICE DEPT.</td>\n",
       "      <td>Master Peace Officer</td>\n",
       "      <td>32.41</td>\n",
       "      <td>F</td>\n",
       "      <td>White</td>\n",
       "      <td>51 or over</td>\n",
       "    </tr>\n",
       "  </tbody>\n",
       "</table>\n",
       "</div>"
      ],
      "text/plain": [
       "  First Name Middle     Last Name Suffix               Current Department  \\\n",
       "0   BRADFORD      E        TIPPIT    NaN       MISSOURI CITY POLICE DEPT.   \n",
       "1      ROGER      W       KENDALL    NaN  TEXAS BOARD OF CRIMINAL JUSTICE   \n",
       "2    CHARLES      T        KELLEY    NaN  WILLIAMSON CO. SHERIFF'S OFFICE   \n",
       "3       NAYA      C          POPE    NaN              IRVING POLICE DEPT.   \n",
       "4      LINDA      F  HARTT-GOGGIN    NaN             ANTHONY POLICE DEPT.   \n",
       "\n",
       "           Highest Cert  Service Time Gender      Race   Age Range  \n",
       "0  Master Peace Officer         23.92      M     White    41 to 50  \n",
       "1  Master Peace Officer         25.75      M     White  51 or over  \n",
       "2  Master Peace Officer         23.41      M     White    41 to 50  \n",
       "3  Master Peace Officer         36.91      F  Hispanic  51 or over  \n",
       "4  Master Peace Officer         32.41      F     White  51 or over  "
      ]
     },
     "execution_count": 5,
     "metadata": {},
     "output_type": "execute_result"
    }
   ],
   "source": [
    "officer_info = read_dtw_excel(DTW_PROJECT_KEY, 'original/TCOLE - Texas Sworn Officers.xlsx')['Sheet1']\n",
    "officer_info.head()"
   ]
  },
  {
   "cell_type": "markdown",
   "metadata": {},
   "source": [
    "## 2. Begin cleaning"
   ]
  },
  {
   "cell_type": "markdown",
   "metadata": {},
   "source": [
    "### Make columns more machine friendly"
   ]
  },
  {
   "cell_type": "code",
   "execution_count": 6,
   "metadata": {},
   "outputs": [
    {
     "data": {
      "text/plain": [
       "['first_name',\n",
       " 'middle',\n",
       " 'last_name',\n",
       " 'suffix',\n",
       " 'current_department',\n",
       " 'highest_cert',\n",
       " 'service_time',\n",
       " 'gender',\n",
       " 'race',\n",
       " 'age_range']"
      ]
     },
     "execution_count": 6,
     "metadata": {},
     "output_type": "execute_result"
    }
   ],
   "source": [
    "officer_info.columns = ['_'.join(c.lower().strip().split()) for c in officer_info.columns]\n",
    "list(officer_info.columns)"
   ]
  },
  {
   "cell_type": "markdown",
   "metadata": {},
   "source": [
    "### Clean gender and race columns"
   ]
  },
  {
   "cell_type": "code",
   "execution_count": 7,
   "metadata": {},
   "outputs": [
    {
     "data": {
      "text/plain": [
       "M    68078\n",
       "F     9538\n",
       "        33\n",
       "U       12\n",
       "Name: gender, dtype: int64"
      ]
     },
     "execution_count": 7,
     "metadata": {},
     "output_type": "execute_result"
    }
   ],
   "source": [
    "officer_info.gender.value_counts()"
   ]
  },
  {
   "cell_type": "code",
   "execution_count": 8,
   "metadata": {},
   "outputs": [
    {
     "name": "stdout",
     "output_type": "stream",
     "text": [
      "Missing gender for 45 officers\n"
     ]
    },
    {
     "data": {
      "text/plain": [
       "MALE      68078\n",
       "FEMALE     9538\n",
       "Name: gender, dtype: int64"
      ]
     },
     "execution_count": 8,
     "metadata": {},
     "output_type": "execute_result"
    }
   ],
   "source": [
    "standardize_gender_cols(officer_info)\n",
    "print(\"Missing gender for %d officers\" % officer_info.gender.isnull().sum())\n",
    "officer_info.gender.value_counts()"
   ]
  },
  {
   "cell_type": "code",
   "execution_count": 9,
   "metadata": {},
   "outputs": [
    {
     "data": {
      "text/plain": [
       "White            45883\n",
       "Hispanic         21987\n",
       "Black             7908\n",
       "Asian             1120\n",
       "MultiCultural      466\n",
       "Am Indian          285\n",
       "Unknown             12\n",
       "Name: race, dtype: int64"
      ]
     },
     "execution_count": 9,
     "metadata": {},
     "output_type": "execute_result"
    }
   ],
   "source": [
    "officer_info.race.value_counts()"
   ]
  },
  {
   "cell_type": "code",
   "execution_count": 10,
   "metadata": {},
   "outputs": [
    {
     "name": "stdout",
     "output_type": "stream",
     "text": [
      "Missing race for 0 officers\n"
     ]
    },
    {
     "data": {
      "text/html": [
       "<div>\n",
       "<style scoped>\n",
       "    .dataframe tbody tr th:only-of-type {\n",
       "        vertical-align: middle;\n",
       "    }\n",
       "\n",
       "    .dataframe tbody tr th {\n",
       "        vertical-align: top;\n",
       "    }\n",
       "\n",
       "    .dataframe thead th {\n",
       "        text-align: right;\n",
       "    }\n",
       "</style>\n",
       "<table border=\"1\" class=\"dataframe\">\n",
       "  <thead>\n",
       "    <tr style=\"text-align: right;\">\n",
       "      <th></th>\n",
       "      <th>first_name</th>\n",
       "      <th>middle</th>\n",
       "      <th>last_name</th>\n",
       "      <th>suffix</th>\n",
       "      <th>current_department</th>\n",
       "      <th>highest_cert</th>\n",
       "      <th>service_time</th>\n",
       "      <th>gender</th>\n",
       "      <th>race</th>\n",
       "      <th>age_range</th>\n",
       "    </tr>\n",
       "  </thead>\n",
       "  <tbody>\n",
       "    <tr>\n",
       "      <th>0</th>\n",
       "      <td>BRADFORD</td>\n",
       "      <td>E</td>\n",
       "      <td>TIPPIT</td>\n",
       "      <td>NaN</td>\n",
       "      <td>MISSOURI CITY POLICE DEPT.</td>\n",
       "      <td>Master Peace Officer</td>\n",
       "      <td>23.92</td>\n",
       "      <td>MALE</td>\n",
       "      <td>WHITE</td>\n",
       "      <td>41 to 50</td>\n",
       "    </tr>\n",
       "    <tr>\n",
       "      <th>1</th>\n",
       "      <td>ROGER</td>\n",
       "      <td>W</td>\n",
       "      <td>KENDALL</td>\n",
       "      <td>NaN</td>\n",
       "      <td>TEXAS BOARD OF CRIMINAL JUSTICE</td>\n",
       "      <td>Master Peace Officer</td>\n",
       "      <td>25.75</td>\n",
       "      <td>MALE</td>\n",
       "      <td>WHITE</td>\n",
       "      <td>51 or over</td>\n",
       "    </tr>\n",
       "    <tr>\n",
       "      <th>2</th>\n",
       "      <td>CHARLES</td>\n",
       "      <td>T</td>\n",
       "      <td>KELLEY</td>\n",
       "      <td>NaN</td>\n",
       "      <td>WILLIAMSON CO. SHERIFF'S OFFICE</td>\n",
       "      <td>Master Peace Officer</td>\n",
       "      <td>23.41</td>\n",
       "      <td>MALE</td>\n",
       "      <td>WHITE</td>\n",
       "      <td>41 to 50</td>\n",
       "    </tr>\n",
       "    <tr>\n",
       "      <th>3</th>\n",
       "      <td>NAYA</td>\n",
       "      <td>C</td>\n",
       "      <td>POPE</td>\n",
       "      <td>NaN</td>\n",
       "      <td>IRVING POLICE DEPT.</td>\n",
       "      <td>Master Peace Officer</td>\n",
       "      <td>36.91</td>\n",
       "      <td>FEMALE</td>\n",
       "      <td>HISPANIC</td>\n",
       "      <td>51 or over</td>\n",
       "    </tr>\n",
       "    <tr>\n",
       "      <th>4</th>\n",
       "      <td>LINDA</td>\n",
       "      <td>F</td>\n",
       "      <td>HARTT-GOGGIN</td>\n",
       "      <td>NaN</td>\n",
       "      <td>ANTHONY POLICE DEPT.</td>\n",
       "      <td>Master Peace Officer</td>\n",
       "      <td>32.41</td>\n",
       "      <td>FEMALE</td>\n",
       "      <td>WHITE</td>\n",
       "      <td>51 or over</td>\n",
       "    </tr>\n",
       "  </tbody>\n",
       "</table>\n",
       "</div>"
      ],
      "text/plain": [
       "  first_name middle     last_name suffix               current_department  \\\n",
       "0   BRADFORD      E        TIPPIT    NaN       MISSOURI CITY POLICE DEPT.   \n",
       "1      ROGER      W       KENDALL    NaN  TEXAS BOARD OF CRIMINAL JUSTICE   \n",
       "2    CHARLES      T        KELLEY    NaN  WILLIAMSON CO. SHERIFF'S OFFICE   \n",
       "3       NAYA      C          POPE    NaN              IRVING POLICE DEPT.   \n",
       "4      LINDA      F  HARTT-GOGGIN    NaN             ANTHONY POLICE DEPT.   \n",
       "\n",
       "           highest_cert  service_time  gender      race   age_range  \n",
       "0  Master Peace Officer         23.92    MALE     WHITE    41 to 50  \n",
       "1  Master Peace Officer         25.75    MALE     WHITE  51 or over  \n",
       "2  Master Peace Officer         23.41    MALE     WHITE    41 to 50  \n",
       "3  Master Peace Officer         36.91  FEMALE  HISPANIC  51 or over  \n",
       "4  Master Peace Officer         32.41  FEMALE     WHITE  51 or over  "
      ]
     },
     "execution_count": 10,
     "metadata": {},
     "output_type": "execute_result"
    }
   ],
   "source": [
    "standardize_race_cols(officer_info)\n",
    "print(\"Missing race for %d officers\" % officer_info.race.isnull().sum())\n",
    "officer_info.head()"
   ]
  },
  {
   "cell_type": "markdown",
   "metadata": {},
   "source": [
    "### Standardize agency names"
   ]
  },
  {
   "cell_type": "code",
   "execution_count": 11,
   "metadata": {},
   "outputs": [
    {
     "data": {
      "text/html": [
       "<div>\n",
       "<style scoped>\n",
       "    .dataframe tbody tr th:only-of-type {\n",
       "        vertical-align: middle;\n",
       "    }\n",
       "\n",
       "    .dataframe tbody tr th {\n",
       "        vertical-align: top;\n",
       "    }\n",
       "\n",
       "    .dataframe thead th {\n",
       "        text-align: right;\n",
       "    }\n",
       "</style>\n",
       "<table border=\"1\" class=\"dataframe\">\n",
       "  <thead>\n",
       "    <tr style=\"text-align: right;\">\n",
       "      <th></th>\n",
       "      <th>first_name</th>\n",
       "      <th>middle</th>\n",
       "      <th>last_name</th>\n",
       "      <th>suffix</th>\n",
       "      <th>current_department</th>\n",
       "      <th>highest_cert</th>\n",
       "      <th>service_time</th>\n",
       "      <th>gender</th>\n",
       "      <th>race</th>\n",
       "      <th>age_range</th>\n",
       "    </tr>\n",
       "  </thead>\n",
       "  <tbody>\n",
       "    <tr>\n",
       "      <th>0</th>\n",
       "      <td>BRADFORD</td>\n",
       "      <td>E</td>\n",
       "      <td>TIPPIT</td>\n",
       "      <td>NaN</td>\n",
       "      <td>MISSOURI CITY POLICE DEPT</td>\n",
       "      <td>Master Peace Officer</td>\n",
       "      <td>23.92</td>\n",
       "      <td>MALE</td>\n",
       "      <td>WHITE</td>\n",
       "      <td>41 to 50</td>\n",
       "    </tr>\n",
       "    <tr>\n",
       "      <th>1</th>\n",
       "      <td>ROGER</td>\n",
       "      <td>W</td>\n",
       "      <td>KENDALL</td>\n",
       "      <td>NaN</td>\n",
       "      <td>TEXAS BOARD OF CRIMINAL JUSTICE</td>\n",
       "      <td>Master Peace Officer</td>\n",
       "      <td>25.75</td>\n",
       "      <td>MALE</td>\n",
       "      <td>WHITE</td>\n",
       "      <td>51 or over</td>\n",
       "    </tr>\n",
       "    <tr>\n",
       "      <th>2</th>\n",
       "      <td>CHARLES</td>\n",
       "      <td>T</td>\n",
       "      <td>KELLEY</td>\n",
       "      <td>NaN</td>\n",
       "      <td>WILLIAMSON CO SHERIFFS OFFICE</td>\n",
       "      <td>Master Peace Officer</td>\n",
       "      <td>23.41</td>\n",
       "      <td>MALE</td>\n",
       "      <td>WHITE</td>\n",
       "      <td>41 to 50</td>\n",
       "    </tr>\n",
       "    <tr>\n",
       "      <th>3</th>\n",
       "      <td>NAYA</td>\n",
       "      <td>C</td>\n",
       "      <td>POPE</td>\n",
       "      <td>NaN</td>\n",
       "      <td>IRVING POLICE DEPT</td>\n",
       "      <td>Master Peace Officer</td>\n",
       "      <td>36.91</td>\n",
       "      <td>FEMALE</td>\n",
       "      <td>HISPANIC</td>\n",
       "      <td>51 or over</td>\n",
       "    </tr>\n",
       "    <tr>\n",
       "      <th>4</th>\n",
       "      <td>LINDA</td>\n",
       "      <td>F</td>\n",
       "      <td>HARTT-GOGGIN</td>\n",
       "      <td>NaN</td>\n",
       "      <td>ANTHONY POLICE DEPT</td>\n",
       "      <td>Master Peace Officer</td>\n",
       "      <td>32.41</td>\n",
       "      <td>FEMALE</td>\n",
       "      <td>WHITE</td>\n",
       "      <td>51 or over</td>\n",
       "    </tr>\n",
       "  </tbody>\n",
       "</table>\n",
       "</div>"
      ],
      "text/plain": [
       "  first_name middle     last_name suffix               current_department  \\\n",
       "0   BRADFORD      E        TIPPIT    NaN        MISSOURI CITY POLICE DEPT   \n",
       "1      ROGER      W       KENDALL    NaN  TEXAS BOARD OF CRIMINAL JUSTICE   \n",
       "2    CHARLES      T        KELLEY    NaN    WILLIAMSON CO SHERIFFS OFFICE   \n",
       "3       NAYA      C          POPE    NaN               IRVING POLICE DEPT   \n",
       "4      LINDA      F  HARTT-GOGGIN    NaN              ANTHONY POLICE DEPT   \n",
       "\n",
       "           highest_cert  service_time  gender      race   age_range  \n",
       "0  Master Peace Officer         23.92    MALE     WHITE    41 to 50  \n",
       "1  Master Peace Officer         25.75    MALE     WHITE  51 or over  \n",
       "2  Master Peace Officer         23.41    MALE     WHITE    41 to 50  \n",
       "3  Master Peace Officer         36.91  FEMALE  HISPANIC  51 or over  \n",
       "4  Master Peace Officer         32.41  FEMALE     WHITE  51 or over  "
      ]
     },
     "execution_count": 11,
     "metadata": {},
     "output_type": "execute_result"
    }
   ],
   "source": [
    "officer_info['current_department'] = officer_info['current_department'].apply(standardize_agency_name)\n",
    "officer_info.head()"
   ]
  },
  {
   "cell_type": "markdown",
   "metadata": {},
   "source": [
    "### Add county names"
   ]
  },
  {
   "cell_type": "code",
   "execution_count": 12,
   "metadata": {},
   "outputs": [],
   "source": [
    "agency_to_county = dict(zip(agency_county.agency, agency_county.county))\n",
    "officer_info['current_department_county'] = officer_info['current_department'].apply(lambda d: agency_to_county.get(d, None))"
   ]
  },
  {
   "cell_type": "code",
   "execution_count": 13,
   "metadata": {},
   "outputs": [
    {
     "name": "stdout",
     "output_type": "stream",
     "text": [
      "Could not determine agency county for 160 officers\n"
     ]
    },
    {
     "data": {
      "text/plain": [
       "CYPRESS-FAIRBANKS ISD POLICE DEPT                88\n",
       "ALABAMA-COUSHATTA TRIBE OF TEXAS POLICE DEPT     18\n",
       "ECTOR CO HOSPITAL DIST POLICE DEPT               13\n",
       "TEXAS AM UNIVERSITY-CENTRAL TEXAS POLICE DEPT    10\n",
       "STAFFORD FIRE MARSHALS OFFICE                     6\n",
       "HIDALGO CO CONST PCT 5                            5\n",
       "TENAHA POLICE DEPT                                4\n",
       "FARMERSVILLE ISD POLICE DEPT                      3\n",
       "UNIV OF DALLAS POLICE DEPT                        2\n",
       "RICHLAND POLICE DEPT                              2\n",
       "CRISWELL COLLEGE POLICE DEPT                      2\n",
       "DUMAS FIRE DEPT                                   1\n",
       "COMO-PICKTON CISD POLICE DEPT                     1\n",
       "50TH JUDICIAL DIST ATTY OFFICE                    1\n",
       "FRANKLIN CO FIRE MARSHALS OFFICE                  1\n",
       "COKE CO CONST PCT                                 1\n",
       "HAMILTON CO CONST PCT 3                           1\n",
       "AUBREY ISD POLICE DEPT                            1\n",
       "Name: current_department, dtype: int64"
      ]
     },
     "execution_count": 13,
     "metadata": {},
     "output_type": "execute_result"
    }
   ],
   "source": [
    "print(\"Could not determine agency county for %d officers\" % officer_info['current_department_county'].isnull().sum())\n",
    "# TODO: These agencies we did not have county information for, though\n",
    "# it's easy to manually infer. At some point, fix these.\n",
    "officer_info['current_department'][officer_info['current_department_county'].isnull()].value_counts()"
   ]
  },
  {
   "cell_type": "markdown",
   "metadata": {},
   "source": [
    "### Uppercase string values"
   ]
  },
  {
   "cell_type": "code",
   "execution_count": 14,
   "metadata": {},
   "outputs": [],
   "source": [
    "upcase_strip_string_cells(officer_info)"
   ]
  },
  {
   "cell_type": "markdown",
   "metadata": {},
   "source": [
    "### Fix first/last/etc name columns"
   ]
  },
  {
   "cell_type": "code",
   "execution_count": 15,
   "metadata": {},
   "outputs": [],
   "source": [
    "for col in ['first_name', 'middle', 'last_name', 'suffix']:\n",
    "    officer_info[col] = officer_info[col].apply(standardize_name)"
   ]
  },
  {
   "cell_type": "markdown",
   "metadata": {},
   "source": [
    "### Add 'full_name' column"
   ]
  },
  {
   "cell_type": "code",
   "execution_count": 16,
   "metadata": {},
   "outputs": [
    {
     "data": {
      "text/html": [
       "<div>\n",
       "<style scoped>\n",
       "    .dataframe tbody tr th:only-of-type {\n",
       "        vertical-align: middle;\n",
       "    }\n",
       "\n",
       "    .dataframe tbody tr th {\n",
       "        vertical-align: top;\n",
       "    }\n",
       "\n",
       "    .dataframe thead th {\n",
       "        text-align: right;\n",
       "    }\n",
       "</style>\n",
       "<table border=\"1\" class=\"dataframe\">\n",
       "  <thead>\n",
       "    <tr style=\"text-align: right;\">\n",
       "      <th></th>\n",
       "      <th>first_name</th>\n",
       "      <th>middle</th>\n",
       "      <th>last_name</th>\n",
       "      <th>suffix</th>\n",
       "      <th>current_department</th>\n",
       "      <th>highest_cert</th>\n",
       "      <th>service_time</th>\n",
       "      <th>gender</th>\n",
       "      <th>race</th>\n",
       "      <th>age_range</th>\n",
       "      <th>current_department_county</th>\n",
       "      <th>full_name</th>\n",
       "    </tr>\n",
       "  </thead>\n",
       "  <tbody>\n",
       "    <tr>\n",
       "      <th>64452</th>\n",
       "      <td>ALBERT</td>\n",
       "      <td>L</td>\n",
       "      <td>DAUGHERTY</td>\n",
       "      <td>None</td>\n",
       "      <td>EL PASO POLICE DEPT</td>\n",
       "      <td>INTERMEDIATE PEACE OFFICER</td>\n",
       "      <td>4.58</td>\n",
       "      <td>MALE</td>\n",
       "      <td>WHITE</td>\n",
       "      <td>21 TO 30</td>\n",
       "      <td>EL PASO</td>\n",
       "      <td>ALBERT L DAUGHERTY</td>\n",
       "    </tr>\n",
       "    <tr>\n",
       "      <th>43154</th>\n",
       "      <td>SHANNON</td>\n",
       "      <td>T</td>\n",
       "      <td>DAVIS</td>\n",
       "      <td>None</td>\n",
       "      <td>HUTTO POLICE DEPT</td>\n",
       "      <td>ADVANCED PEACE OFFICER</td>\n",
       "      <td>12.08</td>\n",
       "      <td>MALE</td>\n",
       "      <td>WHITE</td>\n",
       "      <td>41 TO 50</td>\n",
       "      <td>WILLIAMSON</td>\n",
       "      <td>SHANNON T DAVIS</td>\n",
       "    </tr>\n",
       "    <tr>\n",
       "      <th>68992</th>\n",
       "      <td>RONALD</td>\n",
       "      <td>R</td>\n",
       "      <td>WEDDLE</td>\n",
       "      <td>None</td>\n",
       "      <td>IRVING POLICE DEPT</td>\n",
       "      <td>MASTER PEACE OFFICER</td>\n",
       "      <td>18.25</td>\n",
       "      <td>MALE</td>\n",
       "      <td>WHITE</td>\n",
       "      <td>41 TO 50</td>\n",
       "      <td>DALLAS</td>\n",
       "      <td>RONALD R WEDDLE</td>\n",
       "    </tr>\n",
       "    <tr>\n",
       "      <th>5035</th>\n",
       "      <td>GERARDO</td>\n",
       "      <td>None</td>\n",
       "      <td>HERNANDEZ</td>\n",
       "      <td>None</td>\n",
       "      <td>VAL VERDE CO CONST PCT 4</td>\n",
       "      <td>MASTER PEACE OFFICER</td>\n",
       "      <td>25.33</td>\n",
       "      <td>MALE</td>\n",
       "      <td>HISPANIC</td>\n",
       "      <td>51 OR OVER</td>\n",
       "      <td>VAL VERDE</td>\n",
       "      <td>GERARDO HERNANDEZ</td>\n",
       "    </tr>\n",
       "    <tr>\n",
       "      <th>18872</th>\n",
       "      <td>KENNETH</td>\n",
       "      <td>P</td>\n",
       "      <td>GUMM</td>\n",
       "      <td>None</td>\n",
       "      <td>BEXAR CO CONST PCT 3</td>\n",
       "      <td>MASTER PEACE OFFICER</td>\n",
       "      <td>27.51</td>\n",
       "      <td>MALE</td>\n",
       "      <td>WHITE</td>\n",
       "      <td>51 OR OVER</td>\n",
       "      <td>BEXAR</td>\n",
       "      <td>KENNETH P GUMM</td>\n",
       "    </tr>\n",
       "  </tbody>\n",
       "</table>\n",
       "</div>"
      ],
      "text/plain": [
       "      first_name middle  last_name suffix        current_department  \\\n",
       "64452     ALBERT      L  DAUGHERTY   None       EL PASO POLICE DEPT   \n",
       "43154    SHANNON      T      DAVIS   None         HUTTO POLICE DEPT   \n",
       "68992     RONALD      R     WEDDLE   None        IRVING POLICE DEPT   \n",
       "5035     GERARDO   None  HERNANDEZ   None  VAL VERDE CO CONST PCT 4   \n",
       "18872    KENNETH      P       GUMM   None      BEXAR CO CONST PCT 3   \n",
       "\n",
       "                     highest_cert  service_time gender      race   age_range  \\\n",
       "64452  INTERMEDIATE PEACE OFFICER          4.58   MALE     WHITE    21 TO 30   \n",
       "43154      ADVANCED PEACE OFFICER         12.08   MALE     WHITE    41 TO 50   \n",
       "68992        MASTER PEACE OFFICER         18.25   MALE     WHITE    41 TO 50   \n",
       "5035         MASTER PEACE OFFICER         25.33   MALE  HISPANIC  51 OR OVER   \n",
       "18872        MASTER PEACE OFFICER         27.51   MALE     WHITE  51 OR OVER   \n",
       "\n",
       "      current_department_county           full_name  \n",
       "64452                   EL PASO  ALBERT L DAUGHERTY  \n",
       "43154                WILLIAMSON     SHANNON T DAVIS  \n",
       "68992                    DALLAS     RONALD R WEDDLE  \n",
       "5035                  VAL VERDE   GERARDO HERNANDEZ  \n",
       "18872                     BEXAR      KENNETH P GUMM  "
      ]
     },
     "execution_count": 16,
     "metadata": {},
     "output_type": "execute_result"
    }
   ],
   "source": [
    "officer_info['full_name'] = ''\n",
    "for col in ['first_name', 'middle', 'last_name', 'suffix']:\n",
    "    officer_info['full_name'] = officer_info['full_name'] + ' ' + officer_info[col].fillna('')\n",
    "officer_info['full_name'] = officer_info['full_name'].apply(lambda s: ' '.join(s.strip().split()))\n",
    "officer_info.sample(5)"
   ]
  },
  {
   "cell_type": "markdown",
   "metadata": {},
   "source": [
    "### Add an integer column for certification level"
   ]
  },
  {
   "cell_type": "code",
   "execution_count": 17,
   "metadata": {},
   "outputs": [],
   "source": [
    "officer_info['highest_cert'] = officer_info['highest_cert'].fillna('NONE')\n",
    "cert_levels = {\n",
    "    'NONE': 0,\n",
    "    'BASIC PEACE OFFICER': 1,\n",
    "    'INTERMEDIATE PEACE OFFICER': 2,\n",
    "    'ADVANCED PEACE OFFICER': 3,\n",
    "    'MASTER PEACE OFFICER': 4,\n",
    "}\n",
    "officer_info['highest_cert_int'] = officer_info['highest_cert'].apply(lambda c: cert_levels[c])"
   ]
  },
  {
   "cell_type": "markdown",
   "metadata": {},
   "source": [
    "### Adjust and check age_range and service_time columns"
   ]
  },
  {
   "cell_type": "code",
   "execution_count": 18,
   "metadata": {},
   "outputs": [
    {
     "data": {
      "text/plain": [
       "20 OR LESS        2\n",
       "21 TO 30      11443\n",
       "31 TO 40      21793\n",
       "41 TO 50      23145\n",
       "51 OR OVER    21278\n",
       "Name: age_range, dtype: int64"
      ]
     },
     "execution_count": 18,
     "metadata": {},
     "output_type": "execute_result"
    }
   ],
   "source": [
    "officer_info['age_range'].value_counts().sort_index()"
   ]
  },
  {
   "cell_type": "code",
   "execution_count": 19,
   "metadata": {},
   "outputs": [
    {
     "data": {
      "text/plain": [
       "18-20        2\n",
       "21-30    11443\n",
       "31-40    21793\n",
       "41-50    23145\n",
       "51+      21278\n",
       "Name: age_range, dtype: int64"
      ]
     },
     "execution_count": 19,
     "metadata": {},
     "output_type": "execute_result"
    }
   ],
   "source": [
    "def convert_range(r):\n",
    "    if r == '20 OR LESS':\n",
    "        return '18-20'\n",
    "    elif r == '51 OR OVER':\n",
    "        return '51+'\n",
    "    else:\n",
    "        return r.replace(' TO ', '-')\n",
    "officer_info['age_range'] = officer_info['age_range'].apply(convert_range)\n",
    "officer_info['age_range'].value_counts().sort_index()"
   ]
  },
  {
   "cell_type": "markdown",
   "metadata": {},
   "source": [
    "#### Let's look at these two sub-21 officers...."
   ]
  },
  {
   "cell_type": "code",
   "execution_count": 20,
   "metadata": {},
   "outputs": [
    {
     "data": {
      "text/html": [
       "<div>\n",
       "<style scoped>\n",
       "    .dataframe tbody tr th:only-of-type {\n",
       "        vertical-align: middle;\n",
       "    }\n",
       "\n",
       "    .dataframe tbody tr th {\n",
       "        vertical-align: top;\n",
       "    }\n",
       "\n",
       "    .dataframe thead th {\n",
       "        text-align: right;\n",
       "    }\n",
       "</style>\n",
       "<table border=\"1\" class=\"dataframe\">\n",
       "  <thead>\n",
       "    <tr style=\"text-align: right;\">\n",
       "      <th></th>\n",
       "      <th>first_name</th>\n",
       "      <th>middle</th>\n",
       "      <th>last_name</th>\n",
       "      <th>suffix</th>\n",
       "      <th>current_department</th>\n",
       "      <th>highest_cert</th>\n",
       "      <th>service_time</th>\n",
       "      <th>gender</th>\n",
       "      <th>race</th>\n",
       "      <th>age_range</th>\n",
       "      <th>current_department_county</th>\n",
       "      <th>full_name</th>\n",
       "      <th>highest_cert_int</th>\n",
       "    </tr>\n",
       "  </thead>\n",
       "  <tbody>\n",
       "    <tr>\n",
       "      <th>1886</th>\n",
       "      <td>JERRY</td>\n",
       "      <td>W</td>\n",
       "      <td>HAGAN</td>\n",
       "      <td>None</td>\n",
       "      <td>TEXAS DEPT OF PUBLIC SAFETY</td>\n",
       "      <td>MASTER PEACE OFFICER</td>\n",
       "      <td>51.34</td>\n",
       "      <td>MALE</td>\n",
       "      <td>WHITE</td>\n",
       "      <td>18-20</td>\n",
       "      <td>TEXAS</td>\n",
       "      <td>JERRY W HAGAN</td>\n",
       "      <td>4</td>\n",
       "    </tr>\n",
       "    <tr>\n",
       "      <th>3560</th>\n",
       "      <td>JACKIE</td>\n",
       "      <td>W</td>\n",
       "      <td>GUNNELS</td>\n",
       "      <td>None</td>\n",
       "      <td>TEXAS DEPT OF PUBLIC SAFETY</td>\n",
       "      <td>MASTER PEACE OFFICER</td>\n",
       "      <td>45.92</td>\n",
       "      <td>MALE</td>\n",
       "      <td>WHITE</td>\n",
       "      <td>18-20</td>\n",
       "      <td>TEXAS</td>\n",
       "      <td>JACKIE W GUNNELS</td>\n",
       "      <td>4</td>\n",
       "    </tr>\n",
       "  </tbody>\n",
       "</table>\n",
       "</div>"
      ],
      "text/plain": [
       "     first_name middle last_name suffix           current_department  \\\n",
       "1886      JERRY      W     HAGAN   None  TEXAS DEPT OF PUBLIC SAFETY   \n",
       "3560     JACKIE      W   GUNNELS   None  TEXAS DEPT OF PUBLIC SAFETY   \n",
       "\n",
       "              highest_cert  service_time gender   race age_range  \\\n",
       "1886  MASTER PEACE OFFICER         51.34   MALE  WHITE     18-20   \n",
       "3560  MASTER PEACE OFFICER         45.92   MALE  WHITE     18-20   \n",
       "\n",
       "     current_department_county         full_name  highest_cert_int  \n",
       "1886                     TEXAS     JERRY W HAGAN                 4  \n",
       "3560                     TEXAS  JACKIE W GUNNELS                 4  "
      ]
     },
     "execution_count": 20,
     "metadata": {},
     "output_type": "execute_result"
    }
   ],
   "source": [
    "officer_info[officer_info.age_range == '18-20']"
   ]
  },
  {
   "cell_type": "markdown",
   "metadata": {},
   "source": [
    "#### Well, those are clearly typos. Let's fix their age ranges to be 51+"
   ]
  },
  {
   "cell_type": "code",
   "execution_count": 21,
   "metadata": {},
   "outputs": [
    {
     "data": {
      "text/plain": [
       "21-30    11443\n",
       "31-40    21793\n",
       "41-50    23145\n",
       "51+      21280\n",
       "Name: age_range, dtype: int64"
      ]
     },
     "execution_count": 21,
     "metadata": {},
     "output_type": "execute_result"
    }
   ],
   "source": [
    "officer_info.loc[officer_info.age_range == '18-20', 'age_range'] = '51+'\n",
    "officer_info['age_range'].value_counts().sort_index()"
   ]
  },
  {
   "cell_type": "markdown",
   "metadata": {},
   "source": [
    "#### While we're at it, does anyone else have an impossible age? The minimum age to enroll is usually 21, but occasionally 18."
   ]
  },
  {
   "cell_type": "code",
   "execution_count": 22,
   "metadata": {},
   "outputs": [
    {
     "data": {
      "text/html": [
       "<div>\n",
       "<style scoped>\n",
       "    .dataframe tbody tr th:only-of-type {\n",
       "        vertical-align: middle;\n",
       "    }\n",
       "\n",
       "    .dataframe tbody tr th {\n",
       "        vertical-align: top;\n",
       "    }\n",
       "\n",
       "    .dataframe thead th {\n",
       "        text-align: right;\n",
       "    }\n",
       "</style>\n",
       "<table border=\"1\" class=\"dataframe\">\n",
       "  <thead>\n",
       "    <tr style=\"text-align: right;\">\n",
       "      <th></th>\n",
       "      <th>first_name</th>\n",
       "      <th>middle</th>\n",
       "      <th>last_name</th>\n",
       "      <th>suffix</th>\n",
       "      <th>current_department</th>\n",
       "      <th>highest_cert</th>\n",
       "      <th>service_time</th>\n",
       "      <th>gender</th>\n",
       "      <th>race</th>\n",
       "      <th>age_range</th>\n",
       "      <th>current_department_county</th>\n",
       "      <th>full_name</th>\n",
       "      <th>highest_cert_int</th>\n",
       "    </tr>\n",
       "  </thead>\n",
       "  <tbody>\n",
       "    <tr>\n",
       "      <th>1211</th>\n",
       "      <td>SCOTT</td>\n",
       "      <td>D</td>\n",
       "      <td>SMITH</td>\n",
       "      <td>None</td>\n",
       "      <td>HOUSTON POLICE DEPT</td>\n",
       "      <td>MASTER PEACE OFFICER</td>\n",
       "      <td>37.00</td>\n",
       "      <td>MALE</td>\n",
       "      <td>WHITE</td>\n",
       "      <td>31-40</td>\n",
       "      <td>HARRIS</td>\n",
       "      <td>SCOTT D SMITH</td>\n",
       "      <td>4</td>\n",
       "    </tr>\n",
       "    <tr>\n",
       "      <th>62021</th>\n",
       "      <td>ROLANDO</td>\n",
       "      <td>R</td>\n",
       "      <td>RODRIGUEZ</td>\n",
       "      <td>None</td>\n",
       "      <td>SAN JUAN POLICE DEPT</td>\n",
       "      <td>BASIC PEACE OFFICER</td>\n",
       "      <td>13.33</td>\n",
       "      <td>MALE</td>\n",
       "      <td>HISPANIC</td>\n",
       "      <td>21-30</td>\n",
       "      <td>HIDALGO</td>\n",
       "      <td>ROLANDO R RODRIGUEZ</td>\n",
       "      <td>1</td>\n",
       "    </tr>\n",
       "  </tbody>\n",
       "</table>\n",
       "</div>"
      ],
      "text/plain": [
       "      first_name middle  last_name suffix    current_department  \\\n",
       "1211       SCOTT      D      SMITH   None   HOUSTON POLICE DEPT   \n",
       "62021    ROLANDO      R  RODRIGUEZ   None  SAN JUAN POLICE DEPT   \n",
       "\n",
       "               highest_cert  service_time gender      race age_range  \\\n",
       "1211   MASTER PEACE OFFICER         37.00   MALE     WHITE     31-40   \n",
       "62021   BASIC PEACE OFFICER         13.33   MALE  HISPANIC     21-30   \n",
       "\n",
       "      current_department_county            full_name  highest_cert_int  \n",
       "1211                     HARRIS        SCOTT D SMITH                 4  \n",
       "62021                   HIDALGO  ROLANDO R RODRIGUEZ                 1  "
      ]
     },
     "execution_count": 22,
     "metadata": {},
     "output_type": "execute_result"
    }
   ],
   "source": [
    "age_range_max = officer_info.age_range.apply(lambda s: 9999 if s == '51+' else int(s[-2:]))\n",
    "officer_info[(officer_info.service_time + 18) > age_range_max]"
   ]
  },
  {
   "cell_type": "markdown",
   "metadata": {},
   "source": [
    "#### Okay, these are clearly impossible, but it's unclear if the age_range or service_time is the problem. Since it's only 2 records, we'll leave them be"
   ]
  },
  {
   "cell_type": "markdown",
   "metadata": {},
   "source": [
    "### Reorder and rename columns, sort values"
   ]
  },
  {
   "cell_type": "code",
   "execution_count": 23,
   "metadata": {},
   "outputs": [
    {
     "data": {
      "text/html": [
       "<div>\n",
       "<style scoped>\n",
       "    .dataframe tbody tr th:only-of-type {\n",
       "        vertical-align: middle;\n",
       "    }\n",
       "\n",
       "    .dataframe tbody tr th {\n",
       "        vertical-align: top;\n",
       "    }\n",
       "\n",
       "    .dataframe thead th {\n",
       "        text-align: right;\n",
       "    }\n",
       "</style>\n",
       "<table border=\"1\" class=\"dataframe\">\n",
       "  <thead>\n",
       "    <tr style=\"text-align: right;\">\n",
       "      <th></th>\n",
       "      <th>name_full</th>\n",
       "      <th>name_first</th>\n",
       "      <th>name_middle</th>\n",
       "      <th>name_last</th>\n",
       "      <th>name_suffix</th>\n",
       "      <th>gender</th>\n",
       "      <th>race</th>\n",
       "      <th>age_range</th>\n",
       "      <th>current_agency</th>\n",
       "      <th>current_agency_county</th>\n",
       "      <th>highest_cert</th>\n",
       "      <th>highest_cert_int</th>\n",
       "      <th>service_time</th>\n",
       "    </tr>\n",
       "  </thead>\n",
       "  <tbody>\n",
       "    <tr>\n",
       "      <th>1160</th>\n",
       "      <td>DALE E SCHNELLE</td>\n",
       "      <td>DALE</td>\n",
       "      <td>E</td>\n",
       "      <td>SCHNELLE</td>\n",
       "      <td>None</td>\n",
       "      <td>MALE</td>\n",
       "      <td>WHITE</td>\n",
       "      <td>51+</td>\n",
       "      <td>ANDERSON CO CONST PCT 1</td>\n",
       "      <td>ANDERSON</td>\n",
       "      <td>MASTER PEACE OFFICER</td>\n",
       "      <td>4</td>\n",
       "      <td>23.00</td>\n",
       "    </tr>\n",
       "    <tr>\n",
       "      <th>13843</th>\n",
       "      <td>GARY D THOMAS</td>\n",
       "      <td>GARY</td>\n",
       "      <td>D</td>\n",
       "      <td>THOMAS</td>\n",
       "      <td>None</td>\n",
       "      <td>MALE</td>\n",
       "      <td>WHITE</td>\n",
       "      <td>51+</td>\n",
       "      <td>ANDERSON CO CONST PCT 1</td>\n",
       "      <td>ANDERSON</td>\n",
       "      <td>MASTER PEACE OFFICER</td>\n",
       "      <td>4</td>\n",
       "      <td>43.08</td>\n",
       "    </tr>\n",
       "    <tr>\n",
       "      <th>7444</th>\n",
       "      <td>CHARLES D LIGHTFOOT</td>\n",
       "      <td>CHARLES</td>\n",
       "      <td>D</td>\n",
       "      <td>LIGHTFOOT</td>\n",
       "      <td>None</td>\n",
       "      <td>MALE</td>\n",
       "      <td>WHITE</td>\n",
       "      <td>51+</td>\n",
       "      <td>ANDERSON CO CONST PCT 2</td>\n",
       "      <td>ANDERSON</td>\n",
       "      <td>MASTER PEACE OFFICER</td>\n",
       "      <td>4</td>\n",
       "      <td>24.67</td>\n",
       "    </tr>\n",
       "    <tr>\n",
       "      <th>13844</th>\n",
       "      <td>WILLIAM R WATTS</td>\n",
       "      <td>WILLIAM</td>\n",
       "      <td>R</td>\n",
       "      <td>WATTS</td>\n",
       "      <td>None</td>\n",
       "      <td>MALE</td>\n",
       "      <td>WHITE</td>\n",
       "      <td>51+</td>\n",
       "      <td>ANDERSON CO CONST PCT 2</td>\n",
       "      <td>ANDERSON</td>\n",
       "      <td>MASTER PEACE OFFICER</td>\n",
       "      <td>4</td>\n",
       "      <td>23.33</td>\n",
       "    </tr>\n",
       "    <tr>\n",
       "      <th>32116</th>\n",
       "      <td>KIMBERLY S HOLLIDAY</td>\n",
       "      <td>KIMBERLY</td>\n",
       "      <td>S</td>\n",
       "      <td>HOLLIDAY</td>\n",
       "      <td>None</td>\n",
       "      <td>FEMALE</td>\n",
       "      <td>WHITE</td>\n",
       "      <td>51+</td>\n",
       "      <td>ANDERSON CO CONST PCT 3</td>\n",
       "      <td>ANDERSON</td>\n",
       "      <td>MASTER PEACE OFFICER</td>\n",
       "      <td>4</td>\n",
       "      <td>17.33</td>\n",
       "    </tr>\n",
       "    <tr>\n",
       "      <th>16266</th>\n",
       "      <td>JAMES O MUNIZ</td>\n",
       "      <td>JAMES</td>\n",
       "      <td>O</td>\n",
       "      <td>MUNIZ</td>\n",
       "      <td>None</td>\n",
       "      <td>MALE</td>\n",
       "      <td>BLACK</td>\n",
       "      <td>51+</td>\n",
       "      <td>ANDERSON CO CONST PCT 4</td>\n",
       "      <td>ANDERSON</td>\n",
       "      <td>MASTER PEACE OFFICER</td>\n",
       "      <td>4</td>\n",
       "      <td>25.82</td>\n",
       "    </tr>\n",
       "    <tr>\n",
       "      <th>35911</th>\n",
       "      <td>ANESHIA D THOMPSON</td>\n",
       "      <td>ANESHIA</td>\n",
       "      <td>D</td>\n",
       "      <td>THOMPSON</td>\n",
       "      <td>None</td>\n",
       "      <td>FEMALE</td>\n",
       "      <td>WHITE</td>\n",
       "      <td>41-50</td>\n",
       "      <td>ANDERSON CO DIST ATTY OFFICE</td>\n",
       "      <td>ANDERSON</td>\n",
       "      <td>ADVANCED PEACE OFFICER</td>\n",
       "      <td>3</td>\n",
       "      <td>16.25</td>\n",
       "    </tr>\n",
       "    <tr>\n",
       "      <th>50946</th>\n",
       "      <td>CATHY J STONER</td>\n",
       "      <td>CATHY</td>\n",
       "      <td>J</td>\n",
       "      <td>STONER</td>\n",
       "      <td>None</td>\n",
       "      <td>FEMALE</td>\n",
       "      <td>WHITE</td>\n",
       "      <td>31-40</td>\n",
       "      <td>ANDERSON CO DIST ATTY OFFICE</td>\n",
       "      <td>ANDERSON</td>\n",
       "      <td>MASTER PEACE OFFICER</td>\n",
       "      <td>4</td>\n",
       "      <td>9.75</td>\n",
       "    </tr>\n",
       "    <tr>\n",
       "      <th>32639</th>\n",
       "      <td>RYAN N TOLLIVER</td>\n",
       "      <td>RYAN</td>\n",
       "      <td>N</td>\n",
       "      <td>TOLLIVER</td>\n",
       "      <td>None</td>\n",
       "      <td>MALE</td>\n",
       "      <td>WHITE</td>\n",
       "      <td>41-50</td>\n",
       "      <td>ANDERSON CO DIST ATTY OFFICE</td>\n",
       "      <td>ANDERSON</td>\n",
       "      <td>ADVANCED PEACE OFFICER</td>\n",
       "      <td>3</td>\n",
       "      <td>14.75</td>\n",
       "    </tr>\n",
       "    <tr>\n",
       "      <th>56032</th>\n",
       "      <td>ANDREA N KARRIKER</td>\n",
       "      <td>ANDREA</td>\n",
       "      <td>N</td>\n",
       "      <td>KARRIKER</td>\n",
       "      <td>None</td>\n",
       "      <td>FEMALE</td>\n",
       "      <td>WHITE</td>\n",
       "      <td>21-30</td>\n",
       "      <td>ANDERSON CO SHERIFFS OFFICE</td>\n",
       "      <td>ANDERSON</td>\n",
       "      <td>INTERMEDIATE PEACE OFFICER</td>\n",
       "      <td>2</td>\n",
       "      <td>5.58</td>\n",
       "    </tr>\n",
       "  </tbody>\n",
       "</table>\n",
       "</div>"
      ],
      "text/plain": [
       "                 name_full name_first name_middle  name_last name_suffix  \\\n",
       "1160       DALE E SCHNELLE       DALE           E   SCHNELLE        None   \n",
       "13843        GARY D THOMAS       GARY           D     THOMAS        None   \n",
       "7444   CHARLES D LIGHTFOOT    CHARLES           D  LIGHTFOOT        None   \n",
       "13844      WILLIAM R WATTS    WILLIAM           R      WATTS        None   \n",
       "32116  KIMBERLY S HOLLIDAY   KIMBERLY           S   HOLLIDAY        None   \n",
       "16266        JAMES O MUNIZ      JAMES           O      MUNIZ        None   \n",
       "35911   ANESHIA D THOMPSON    ANESHIA           D   THOMPSON        None   \n",
       "50946       CATHY J STONER      CATHY           J     STONER        None   \n",
       "32639      RYAN N TOLLIVER       RYAN           N   TOLLIVER        None   \n",
       "56032    ANDREA N KARRIKER     ANDREA           N   KARRIKER        None   \n",
       "\n",
       "       gender   race age_range                current_agency  \\\n",
       "1160     MALE  WHITE       51+       ANDERSON CO CONST PCT 1   \n",
       "13843    MALE  WHITE       51+       ANDERSON CO CONST PCT 1   \n",
       "7444     MALE  WHITE       51+       ANDERSON CO CONST PCT 2   \n",
       "13844    MALE  WHITE       51+       ANDERSON CO CONST PCT 2   \n",
       "32116  FEMALE  WHITE       51+       ANDERSON CO CONST PCT 3   \n",
       "16266    MALE  BLACK       51+       ANDERSON CO CONST PCT 4   \n",
       "35911  FEMALE  WHITE     41-50  ANDERSON CO DIST ATTY OFFICE   \n",
       "50946  FEMALE  WHITE     31-40  ANDERSON CO DIST ATTY OFFICE   \n",
       "32639    MALE  WHITE     41-50  ANDERSON CO DIST ATTY OFFICE   \n",
       "56032  FEMALE  WHITE     21-30   ANDERSON CO SHERIFFS OFFICE   \n",
       "\n",
       "      current_agency_county                highest_cert  highest_cert_int  \\\n",
       "1160               ANDERSON        MASTER PEACE OFFICER                 4   \n",
       "13843              ANDERSON        MASTER PEACE OFFICER                 4   \n",
       "7444               ANDERSON        MASTER PEACE OFFICER                 4   \n",
       "13844              ANDERSON        MASTER PEACE OFFICER                 4   \n",
       "32116              ANDERSON        MASTER PEACE OFFICER                 4   \n",
       "16266              ANDERSON        MASTER PEACE OFFICER                 4   \n",
       "35911              ANDERSON      ADVANCED PEACE OFFICER                 3   \n",
       "50946              ANDERSON        MASTER PEACE OFFICER                 4   \n",
       "32639              ANDERSON      ADVANCED PEACE OFFICER                 3   \n",
       "56032              ANDERSON  INTERMEDIATE PEACE OFFICER                 2   \n",
       "\n",
       "       service_time  \n",
       "1160          23.00  \n",
       "13843         43.08  \n",
       "7444          24.67  \n",
       "13844         23.33  \n",
       "32116         17.33  \n",
       "16266         25.82  \n",
       "35911         16.25  \n",
       "50946          9.75  \n",
       "32639         14.75  \n",
       "56032          5.58  "
      ]
     },
     "execution_count": 23,
     "metadata": {},
     "output_type": "execute_result"
    }
   ],
   "source": [
    "before = officer_info.shape\n",
    "\n",
    "# Rename columns\n",
    "\n",
    "col_renames = {\n",
    "  \"full_name\": \"name_full\",\n",
    "  \"first_name\": \"name_first\",\n",
    "  \"middle\": \"name_middle\",\n",
    "  \"last_name\": \"name_last\",\n",
    "  \"suffix\": \"name_suffix\",\n",
    "  \"gender\": \"gender\",\n",
    "  \"race\": \"race\",\n",
    "  \"age_range\": \"age_range\",\n",
    "  \"current_department\": \"current_agency\",\n",
    "  \"current_department_county\": \"current_agency_county\",\n",
    "  \"highest_cert\": \"highest_cert\",\n",
    "  \"highest_cert_int\": \"highest_cert_int\",\n",
    "  \"service_time\": \"service_time\"\n",
    "}\n",
    "officer_info.rename(columns=col_renames, inplace=True)\n",
    "\n",
    "# Re-order columns\n",
    "\n",
    "officer_info = officer_info[[\n",
    "    'name_full', 'name_first', 'name_middle', 'name_last', 'name_suffix',\n",
    "    'gender', 'race', 'age_range', 'current_agency', 'current_agency_county',\n",
    "    'highest_cert', 'highest_cert_int', 'service_time']]\n",
    "\n",
    "# Make sure we didn't drop any columns by accident\n",
    "\n",
    "after = officer_info.shape\n",
    "assert(before == after)\n",
    "\n",
    "# Sort sensibly\n",
    "\n",
    "officer_info.sort_values(['current_agency_county', 'current_agency', 'name_full'], inplace=True)\n",
    "officer_info.head(10)"
   ]
  },
  {
   "cell_type": "markdown",
   "metadata": {},
   "source": [
    "## 3. Write"
   ]
  },
  {
   "cell_type": "code",
   "execution_count": 24,
   "metadata": {},
   "outputs": [
    {
     "name": "stdout",
     "output_type": "stream",
     "text": [
      "Writing to data.world: list_of_texas_officers.csv\n"
     ]
    }
   ],
   "source": [
    "with dw.open_remote_file(DTW_PROJECT_KEY, CLEANED_FILENAME) as w:\n",
    "    print(\"Writing to data.world:\", CLEANED_FILENAME)\n",
    "    officer_info.to_csv(w, index=False)"
   ]
  },
  {
   "cell_type": "code",
   "execution_count": null,
   "metadata": {},
   "outputs": [],
   "source": []
  }
 ],
 "metadata": {
  "kernelspec": {
   "display_name": "Python 3",
   "language": "python",
   "name": "python3"
  },
  "language_info": {
   "codemirror_mode": {
    "name": "ipython",
    "version": 3
   },
   "file_extension": ".py",
   "mimetype": "text/x-python",
   "name": "python",
   "nbconvert_exporter": "python",
   "pygments_lexer": "ipython3",
   "version": "3.6.5"
  }
 },
 "nbformat": 4,
 "nbformat_minor": 2
}
