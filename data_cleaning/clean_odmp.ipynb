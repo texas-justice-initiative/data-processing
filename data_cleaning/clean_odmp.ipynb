{
 "cells": [
  {
   "cell_type": "markdown",
   "metadata": {},
   "source": [
    "# Clean data from the Officer Down Memorial Page\n",
    "\n",
    "* Input: `Texas Line of Duty Deaths by Gunfire (ODMP).xlsx`\n",
    "* Output: `odmp_tx.csv`\n",
    "  \n",
    "##### Author: Everett Wetchler (everett.wetchler@gmail.com)"
   ]
  },
  {
   "cell_type": "markdown",
   "metadata": {},
   "source": [
    "## 1. Setup and read data"
   ]
  },
  {
   "cell_type": "code",
   "execution_count": 1,
   "metadata": {
    "collapsed": true
   },
   "outputs": [],
   "source": [
    "DTW_PROJECT_KEY = 'tji/auxiliary-datasets'\n",
    "AGENCY_COUNTY_DATAFRAME = 'agencies_and_counties'\n",
    "CLEANED_FILENAME = 'cleaned_odmp_tx.csv'"
   ]
  },
  {
   "cell_type": "code",
   "execution_count": 2,
   "metadata": {
    "scrolled": true
   },
   "outputs": [
    {
     "name": "stdout",
     "output_type": "stream",
     "text": [
      "Everett Wetchler 2018-05-26 18:31:17 CDT\n",
      "\n",
      "numpy 1.14.3\n",
      "pandas 0.22.0\n",
      "matplotlib 2.2.0\n",
      "datadotworld 1.6.0\n",
      "watermark 1.5.0\n"
     ]
    }
   ],
   "source": [
    "####################################################\n",
    "# Boilerplate import/setup code for general analysis\n",
    "# everett.wetchler@gmail.com\n",
    "####################################################\n",
    "\n",
    "import datetime as dt\n",
    "import os\n",
    "import random\n",
    "\n",
    "import datadotworld as dw\n",
    "import matplotlib as mpl\n",
    "import matplotlib.pyplot as plt\n",
    "import numpy as np\n",
    "import pandas as pd\n",
    "import seaborn as sns\n",
    "\n",
    "pd.set_option('display.max_rows', 100)\n",
    "pd.set_option('display.max_columns', 100)\n",
    "\n",
    "## Jupyter setup\n",
    "%matplotlib inline\n",
    "\n",
    "## Graphical setup\n",
    "# Useful colors to reference\n",
    "SNS_BLUE, SNS_GREEN, SNS_RED, SNS_PURPLE, SNS_YELLOW, SNS_CYAN = sns.color_palette()\n",
    "SNS_COLORS = sns.color_palette()\n",
    "# sns.set_palette(sns.color_palette(\"cubehelix\", 8))\n",
    "mpl.rcParams.update({\n",
    "  'font.size': 14,\n",
    "  'axes.titlesize': 'x-large',\n",
    "  'axes.labelsize': 'large',\n",
    "  'xtick.labelsize': 'medium',\n",
    "  'ytick.labelsize': 'medium',\n",
    "  'legend.fancybox': True,\n",
    "  'legend.fontsize': 'medium',\n",
    "  'legend.frameon': True,\n",
    "  'legend.framealpha': 0.7,\n",
    "  'figure.figsize': ['9', '6'],\n",
    "})\n",
    "\n",
    "# Watermark extension to print version/system information\n",
    "# Flags:\n",
    "# -a [author] -d (date) -t (time) -z (timezone) -r (repo)\n",
    "# -g (git hash) -w (watermark version) -p [packages] (package info)\n",
    "%load_ext watermark\n",
    "%watermark -a \"Everett Wetchler\" -d -t -z -w -p numpy,pandas,matplotlib,datadotworld\n",
    "\n",
    "####################################################\n",
    "# END Boilerplate\n",
    "####################################################"
   ]
  },
  {
   "cell_type": "code",
   "execution_count": 3,
   "metadata": {
    "collapsed": true
   },
   "outputs": [],
   "source": [
    "from lib.cleaning_tools import *\n",
    "from lib.standardize_police_agency_names import standardize_agency_name"
   ]
  },
  {
   "cell_type": "code",
   "execution_count": 4,
   "metadata": {},
   "outputs": [
    {
     "data": {
      "text/html": [
       "<div>\n",
       "<style scoped>\n",
       "    .dataframe tbody tr th:only-of-type {\n",
       "        vertical-align: middle;\n",
       "    }\n",
       "\n",
       "    .dataframe tbody tr th {\n",
       "        vertical-align: top;\n",
       "    }\n",
       "\n",
       "    .dataframe thead th {\n",
       "        text-align: right;\n",
       "    }\n",
       "</style>\n",
       "<table border=\"1\" class=\"dataframe\">\n",
       "  <thead>\n",
       "    <tr style=\"text-align: right;\">\n",
       "      <th></th>\n",
       "      <th>agency</th>\n",
       "      <th>county</th>\n",
       "    </tr>\n",
       "  </thead>\n",
       "  <tbody>\n",
       "    <tr>\n",
       "      <th>0</th>\n",
       "      <td>ANDERSON CO CONST PCT 1</td>\n",
       "      <td>ANDERSON</td>\n",
       "    </tr>\n",
       "    <tr>\n",
       "      <th>1</th>\n",
       "      <td>ANDERSON CO CONST PCT 2</td>\n",
       "      <td>ANDERSON</td>\n",
       "    </tr>\n",
       "    <tr>\n",
       "      <th>2</th>\n",
       "      <td>ANDERSON CO CONST PCT 3</td>\n",
       "      <td>ANDERSON</td>\n",
       "    </tr>\n",
       "    <tr>\n",
       "      <th>3</th>\n",
       "      <td>ANDERSON CO CONST PCT 4</td>\n",
       "      <td>ANDERSON</td>\n",
       "    </tr>\n",
       "    <tr>\n",
       "      <th>4</th>\n",
       "      <td>ANDERSON CO DIST ATTY OFFICE</td>\n",
       "      <td>ANDERSON</td>\n",
       "    </tr>\n",
       "  </tbody>\n",
       "</table>\n",
       "</div>"
      ],
      "text/plain": [
       "                         agency    county\n",
       "0       ANDERSON CO CONST PCT 1  ANDERSON\n",
       "1       ANDERSON CO CONST PCT 2  ANDERSON\n",
       "2       ANDERSON CO CONST PCT 3  ANDERSON\n",
       "3       ANDERSON CO CONST PCT 4  ANDERSON\n",
       "4  ANDERSON CO DIST ATTY OFFICE  ANDERSON"
      ]
     },
     "execution_count": 4,
     "metadata": {},
     "output_type": "execute_result"
    }
   ],
   "source": [
    "datasets = dw.load_dataset(DTW_PROJECT_KEY, force_update=True)\n",
    "agency_county = datasets.dataframes[AGENCY_COUNTY_DATAFRAME]\n",
    "agency_county.head()"
   ]
  },
  {
   "cell_type": "code",
   "execution_count": 5,
   "metadata": {},
   "outputs": [
    {
     "name": "stdout",
     "output_type": "stream",
     "text": [
      "Writing excel file to temp file: /var/folders/dc/8cbxbsh515s908xl0zyprszm0000gn/T/tmpakm3sgz_\n"
     ]
    },
    {
     "data": {
      "text/html": [
       "<div>\n",
       "<style scoped>\n",
       "    .dataframe tbody tr th:only-of-type {\n",
       "        vertical-align: middle;\n",
       "    }\n",
       "\n",
       "    .dataframe tbody tr th {\n",
       "        vertical-align: top;\n",
       "    }\n",
       "\n",
       "    .dataframe thead th {\n",
       "        text-align: right;\n",
       "    }\n",
       "</style>\n",
       "<table border=\"1\" class=\"dataframe\">\n",
       "  <thead>\n",
       "    <tr style=\"text-align: right;\">\n",
       "      <th></th>\n",
       "      <th>Date</th>\n",
       "      <th>Officer Name</th>\n",
       "      <th>Officer Agency</th>\n",
       "      <th>Cause of Death</th>\n",
       "    </tr>\n",
       "  </thead>\n",
       "  <tbody>\n",
       "    <tr>\n",
       "      <th>0</th>\n",
       "      <td>2018-04-25</td>\n",
       "      <td>Rogelio Santander Jr.</td>\n",
       "      <td>Dallas Police Department</td>\n",
       "      <td>Gunfire</td>\n",
       "    </tr>\n",
       "    <tr>\n",
       "      <th>1</th>\n",
       "      <td>2018-02-07</td>\n",
       "      <td>David Charles Sherrard</td>\n",
       "      <td>Richardson Police Department</td>\n",
       "      <td>Gunfire</td>\n",
       "    </tr>\n",
       "    <tr>\n",
       "      <th>2</th>\n",
       "      <td>2017-12-04</td>\n",
       "      <td>Kenneth Malcolm Copeland</td>\n",
       "      <td>San Marcos Police Department</td>\n",
       "      <td>Gunfire</td>\n",
       "    </tr>\n",
       "    <tr>\n",
       "      <th>3</th>\n",
       "      <td>2017-11-23</td>\n",
       "      <td>Damon Charles Allen</td>\n",
       "      <td>Texas Department of Public Safety</td>\n",
       "      <td>Gunfire</td>\n",
       "    </tr>\n",
       "    <tr>\n",
       "      <th>4</th>\n",
       "      <td>2017-10-09</td>\n",
       "      <td>Floyd East Jr.</td>\n",
       "      <td>Texas Tech University Police Department</td>\n",
       "      <td>Gunfire</td>\n",
       "    </tr>\n",
       "  </tbody>\n",
       "</table>\n",
       "</div>"
      ],
      "text/plain": [
       "        Date              Officer Name  \\\n",
       "0 2018-04-25    Rogelio Santander Jr.    \n",
       "1 2018-02-07    David Charles Sherrard   \n",
       "2 2017-12-04  Kenneth Malcolm Copeland   \n",
       "3 2017-11-23       Damon Charles Allen   \n",
       "4 2017-10-09            Floyd East Jr.   \n",
       "\n",
       "                            Officer Agency Cause of Death   \n",
       "0                 Dallas Police Department         Gunfire  \n",
       "1             Richardson Police Department         Gunfire  \n",
       "2             San Marcos Police Department         Gunfire  \n",
       "3        Texas Department of Public Safety         Gunfire  \n",
       "4  Texas Tech University Police Department         Gunfire  "
      ]
     },
     "execution_count": 5,
     "metadata": {},
     "output_type": "execute_result"
    }
   ],
   "source": [
    "odmp = read_dtw_excel(DTW_PROJECT_KEY, 'original/Texas Line of Duty Deaths by Gunfire (ODMP).xlsx', 'Sheet1')\n",
    "odmp.head()"
   ]
  },
  {
   "cell_type": "markdown",
   "metadata": {},
   "source": [
    "## 2. Begin cleaning"
   ]
  },
  {
   "cell_type": "markdown",
   "metadata": {},
   "source": [
    "### Make columns more machine friendly"
   ]
  },
  {
   "cell_type": "code",
   "execution_count": 6,
   "metadata": {},
   "outputs": [],
   "source": [
    "odmp.columns = ['date_of_death', 'officer_name', 'agency_name', 'cause_of_death']"
   ]
  },
  {
   "cell_type": "markdown",
   "metadata": {},
   "source": [
    "### Date-ify date column"
   ]
  },
  {
   "cell_type": "code",
   "execution_count": 7,
   "metadata": {},
   "outputs": [],
   "source": [
    "odmp['date_of_death'] = pd.to_datetime(odmp['date_of_death'])"
   ]
  },
  {
   "cell_type": "markdown",
   "metadata": {},
   "source": [
    "### Uppercase string values"
   ]
  },
  {
   "cell_type": "code",
   "execution_count": 8,
   "metadata": {
    "collapsed": true
   },
   "outputs": [],
   "source": [
    "upcase_strip_string_cells(odmp)"
   ]
  },
  {
   "cell_type": "markdown",
   "metadata": {},
   "source": [
    "### Standardize agency names"
   ]
  },
  {
   "cell_type": "code",
   "execution_count": 9,
   "metadata": {},
   "outputs": [
    {
     "data": {
      "text/html": [
       "<div>\n",
       "<style scoped>\n",
       "    .dataframe tbody tr th:only-of-type {\n",
       "        vertical-align: middle;\n",
       "    }\n",
       "\n",
       "    .dataframe tbody tr th {\n",
       "        vertical-align: top;\n",
       "    }\n",
       "\n",
       "    .dataframe thead th {\n",
       "        text-align: right;\n",
       "    }\n",
       "</style>\n",
       "<table border=\"1\" class=\"dataframe\">\n",
       "  <thead>\n",
       "    <tr style=\"text-align: right;\">\n",
       "      <th></th>\n",
       "      <th>date_of_death</th>\n",
       "      <th>officer_name</th>\n",
       "      <th>agency_name</th>\n",
       "      <th>cause_of_death</th>\n",
       "    </tr>\n",
       "  </thead>\n",
       "  <tbody>\n",
       "    <tr>\n",
       "      <th>0</th>\n",
       "      <td>2018-04-25</td>\n",
       "      <td>ROGELIO SANTANDER JR.</td>\n",
       "      <td>DALLAS POLICE DEPT</td>\n",
       "      <td>GUNFIRE</td>\n",
       "    </tr>\n",
       "    <tr>\n",
       "      <th>1</th>\n",
       "      <td>2018-02-07</td>\n",
       "      <td>DAVID CHARLES SHERRARD</td>\n",
       "      <td>RICHARDSON POLICE DEPT</td>\n",
       "      <td>GUNFIRE</td>\n",
       "    </tr>\n",
       "    <tr>\n",
       "      <th>2</th>\n",
       "      <td>2017-12-04</td>\n",
       "      <td>KENNETH MALCOLM COPELAND</td>\n",
       "      <td>SAN MARCOS POLICE DEPT</td>\n",
       "      <td>GUNFIRE</td>\n",
       "    </tr>\n",
       "    <tr>\n",
       "      <th>3</th>\n",
       "      <td>2017-11-23</td>\n",
       "      <td>DAMON CHARLES ALLEN</td>\n",
       "      <td>TEXAS DEPT OF PUBLIC SAFETY</td>\n",
       "      <td>GUNFIRE</td>\n",
       "    </tr>\n",
       "    <tr>\n",
       "      <th>4</th>\n",
       "      <td>2017-10-09</td>\n",
       "      <td>FLOYD EAST JR.</td>\n",
       "      <td>TEXAS TECH UNIV POLICE DEPT</td>\n",
       "      <td>GUNFIRE</td>\n",
       "    </tr>\n",
       "  </tbody>\n",
       "</table>\n",
       "</div>"
      ],
      "text/plain": [
       "  date_of_death              officer_name                  agency_name  \\\n",
       "0    2018-04-25     ROGELIO SANTANDER JR.           DALLAS POLICE DEPT   \n",
       "1    2018-02-07    DAVID CHARLES SHERRARD       RICHARDSON POLICE DEPT   \n",
       "2    2017-12-04  KENNETH MALCOLM COPELAND       SAN MARCOS POLICE DEPT   \n",
       "3    2017-11-23       DAMON CHARLES ALLEN  TEXAS DEPT OF PUBLIC SAFETY   \n",
       "4    2017-10-09            FLOYD EAST JR.  TEXAS TECH UNIV POLICE DEPT   \n",
       "\n",
       "  cause_of_death  \n",
       "0        GUNFIRE  \n",
       "1        GUNFIRE  \n",
       "2        GUNFIRE  \n",
       "3        GUNFIRE  \n",
       "4        GUNFIRE  "
      ]
     },
     "execution_count": 9,
     "metadata": {},
     "output_type": "execute_result"
    }
   ],
   "source": [
    "odmp['agency_name'] = odmp['agency_name'].apply(standardize_agency_name)\n",
    "odmp.head()"
   ]
  },
  {
   "cell_type": "markdown",
   "metadata": {},
   "source": [
    "### Add county names"
   ]
  },
  {
   "cell_type": "code",
   "execution_count": 10,
   "metadata": {},
   "outputs": [
    {
     "name": "stdout",
     "output_type": "stream",
     "text": [
      "NUECES CO CONST PCT 6 NUECES\n",
      "SAN SABA CO CONST PCT 1 SAN SABA\n",
      "BOWIE CO CONST PCT 6 BOWIE\n",
      "GONZALES CO CONST PCT 7 GONZALES\n",
      "STONEWALL CO CONST PCT 1 STONEWALL\n",
      "GRAY CO CONST PCT 1 GRAY\n",
      "MARION CO CONST PCT 4 MARION\n",
      "CASS CO CONST PCT 5 CASS\n",
      "SHELBY CO CONST PCT 8 SHELBY\n",
      "WILLACY CO CONST PCT 2 WILLACY\n",
      "WILLACY CO CONST PCT 2 WILLACY\n",
      "CAMERON CO CONST PCT 7 CAMERON\n",
      "HARRIS CO COMMUNITY SUPERVISION AND CORRECTIONS DEPT HARRIS\n",
      "TYLER CO CONST PCT 5 TYLER\n",
      "HIDALGO CO CONST PCT 5 HIDALGO\n",
      "MOTLEY CO CONST PCT 5 MOTLEY\n",
      "VAN ZANDT CO CONST PCT 7 VAN ZANDT\n",
      "REAGAN CO CONST PCT 5 REAGAN\n",
      "CAMERON CO CONST PCT 7 CAMERON\n",
      "TAYLOR CO CONST TAYLOR\n",
      "MUSKOGEE CO SHERIFFS OFFICE MUSKOGEE\n",
      "VAN ZANDT CO CONST PCT 7 VAN ZANDT\n",
      "WICHITA CO CONST WICHITA\n",
      "WICHITA CO CONST WICHITA\n"
     ]
    }
   ],
   "source": [
    "agency_to_county = dict(zip(agency_county.agency, agency_county.county))\n",
    "\n",
    "def get_county(agency):\n",
    "    if pd.isnull(agency):\n",
    "        return None\n",
    "    elif agency in agency_to_county:\n",
    "        return agency_to_county[agency]\n",
    "    elif ' CO ' in agency:\n",
    "        name = agency[:agency.index(' CO ')]\n",
    "        print(agency, name)\n",
    "        return name\n",
    "    else:\n",
    "        return None\n",
    "\n",
    "odmp['agency_county'] = odmp['agency_name'].apply(get_county)"
   ]
  },
  {
   "cell_type": "code",
   "execution_count": 11,
   "metadata": {},
   "outputs": [
    {
     "name": "stdout",
     "output_type": "stream",
     "text": [
      "Could not determine agency county for 97/732 officers\n"
     ]
    },
    {
     "data": {
      "text/plain": [
       "US BORDER PATROL                  17\n",
       "US CUSTOMS SERVICE                14\n",
       "TEXAS DEPT OF CRIMINAL JUSTICE    11\n",
       "TEXAS RANGERS                      7\n",
       "US INTERNAL REVENUE SERVICE        6\n",
       "Name: agency_name, dtype: int64"
      ]
     },
     "execution_count": 11,
     "metadata": {},
     "output_type": "execute_result"
    }
   ],
   "source": [
    "print(\"Could not determine agency county for %d/%d officers\" % (odmp['agency_county'].isnull().sum(), len(odmp)))\n",
    "odmp[odmp['agency_county'].isnull()]['agency_name'].value_counts().head()"
   ]
  },
  {
   "cell_type": "markdown",
   "metadata": {},
   "source": [
    "### Standardize name"
   ]
  },
  {
   "cell_type": "code",
   "execution_count": 12,
   "metadata": {},
   "outputs": [
    {
     "data": {
      "text/html": [
       "<div>\n",
       "<style scoped>\n",
       "    .dataframe tbody tr th:only-of-type {\n",
       "        vertical-align: middle;\n",
       "    }\n",
       "\n",
       "    .dataframe tbody tr th {\n",
       "        vertical-align: top;\n",
       "    }\n",
       "\n",
       "    .dataframe thead th {\n",
       "        text-align: right;\n",
       "    }\n",
       "</style>\n",
       "<table border=\"1\" class=\"dataframe\">\n",
       "  <thead>\n",
       "    <tr style=\"text-align: right;\">\n",
       "      <th></th>\n",
       "      <th>date_of_death</th>\n",
       "      <th>officer_name</th>\n",
       "      <th>agency_name</th>\n",
       "      <th>cause_of_death</th>\n",
       "      <th>agency_county</th>\n",
       "    </tr>\n",
       "  </thead>\n",
       "  <tbody>\n",
       "    <tr>\n",
       "      <th>0</th>\n",
       "      <td>2018-04-25</td>\n",
       "      <td>ROGELIO SANTANDER JR</td>\n",
       "      <td>DALLAS POLICE DEPT</td>\n",
       "      <td>GUNFIRE</td>\n",
       "      <td>DALLAS</td>\n",
       "    </tr>\n",
       "    <tr>\n",
       "      <th>1</th>\n",
       "      <td>2018-02-07</td>\n",
       "      <td>DAVID CHARLES SHERRARD</td>\n",
       "      <td>RICHARDSON POLICE DEPT</td>\n",
       "      <td>GUNFIRE</td>\n",
       "      <td>DALLAS</td>\n",
       "    </tr>\n",
       "    <tr>\n",
       "      <th>2</th>\n",
       "      <td>2017-12-04</td>\n",
       "      <td>KENNETH MALCOLM COPELAND</td>\n",
       "      <td>SAN MARCOS POLICE DEPT</td>\n",
       "      <td>GUNFIRE</td>\n",
       "      <td>HAYS</td>\n",
       "    </tr>\n",
       "    <tr>\n",
       "      <th>3</th>\n",
       "      <td>2017-11-23</td>\n",
       "      <td>DAMON CHARLES ALLEN</td>\n",
       "      <td>TEXAS DEPT OF PUBLIC SAFETY</td>\n",
       "      <td>GUNFIRE</td>\n",
       "      <td>TEXAS</td>\n",
       "    </tr>\n",
       "    <tr>\n",
       "      <th>4</th>\n",
       "      <td>2017-10-09</td>\n",
       "      <td>FLOYD EAST JR</td>\n",
       "      <td>TEXAS TECH UNIV POLICE DEPT</td>\n",
       "      <td>GUNFIRE</td>\n",
       "      <td>None</td>\n",
       "    </tr>\n",
       "  </tbody>\n",
       "</table>\n",
       "</div>"
      ],
      "text/plain": [
       "  date_of_death              officer_name                  agency_name  \\\n",
       "0    2018-04-25      ROGELIO SANTANDER JR           DALLAS POLICE DEPT   \n",
       "1    2018-02-07    DAVID CHARLES SHERRARD       RICHARDSON POLICE DEPT   \n",
       "2    2017-12-04  KENNETH MALCOLM COPELAND       SAN MARCOS POLICE DEPT   \n",
       "3    2017-11-23       DAMON CHARLES ALLEN  TEXAS DEPT OF PUBLIC SAFETY   \n",
       "4    2017-10-09             FLOYD EAST JR  TEXAS TECH UNIV POLICE DEPT   \n",
       "\n",
       "  cause_of_death agency_county  \n",
       "0        GUNFIRE        DALLAS  \n",
       "1        GUNFIRE        DALLAS  \n",
       "2        GUNFIRE          HAYS  \n",
       "3        GUNFIRE         TEXAS  \n",
       "4        GUNFIRE          None  "
      ]
     },
     "execution_count": 12,
     "metadata": {},
     "output_type": "execute_result"
    }
   ],
   "source": [
    "odmp.officer_name = odmp.officer_name.apply(standardize_name)\n",
    "odmp.head()"
   ]
  },
  {
   "cell_type": "markdown",
   "metadata": {},
   "source": [
    "## 3. Write"
   ]
  },
  {
   "cell_type": "code",
   "execution_count": 13,
   "metadata": {},
   "outputs": [
    {
     "name": "stdout",
     "output_type": "stream",
     "text": [
      "Writing to data.world: cleaned_odmp_tx.csv\n"
     ]
    }
   ],
   "source": [
    "with dw.open_remote_file(DTW_PROJECT_KEY, CLEANED_FILENAME) as w:\n",
    "    print(\"Writing to data.world:\", CLEANED_FILENAME)\n",
    "    odmp.to_csv(w, index=False)"
   ]
  },
  {
   "cell_type": "code",
   "execution_count": null,
   "metadata": {
    "collapsed": true
   },
   "outputs": [],
   "source": []
  }
 ],
 "metadata": {
  "kernelspec": {
   "display_name": "Python 3",
   "language": "python",
   "name": "python3"
  },
  "language_info": {
   "codemirror_mode": {
    "name": "ipython",
    "version": 3
   },
   "file_extension": ".py",
   "mimetype": "text/x-python",
   "name": "python",
   "nbconvert_exporter": "python",
   "pygments_lexer": "ipython3",
   "version": "3.6.1"
  }
 },
 "nbformat": 4,
 "nbformat_minor": 2
}
