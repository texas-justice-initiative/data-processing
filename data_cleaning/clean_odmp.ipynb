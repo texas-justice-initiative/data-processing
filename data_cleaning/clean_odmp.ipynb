{
 "cells": [
  {
   "cell_type": "markdown",
   "metadata": {},
   "source": [
    "# Clean data from the Officer Down Memorial Page\n",
    "\n",
    "* Input: `Texas Line of Duty Deaths (ODMP).xlsx`\n",
    "* Output: `odmp_texas_line_of_duty_deaths.csv`\n",
    "  \n",
    "##### Author: Everett Wetchler (everett.wetchler@gmail.com)"
   ]
  },
  {
   "cell_type": "markdown",
   "metadata": {},
   "source": [
    "## 1. Setup and read data"
   ]
  },
  {
   "cell_type": "code",
   "execution_count": 1,
   "metadata": {
    "collapsed": true
   },
   "outputs": [],
   "source": [
    "DTW_PROJECT_KEY = 'tji/auxiliary-datasets'\n",
    "AGENCY_COUNTY_DATAFRAME = 'agencies_and_counties'\n",
    "RAW_FILENAME = 'Texas Line of Duty Deaths (ODMP).xlsx'\n",
    "CLEANED_FILENAME = 'odmp_texas_line_of_duty_deaths.csv'"
   ]
  },
  {
   "cell_type": "code",
   "execution_count": 2,
   "metadata": {
    "scrolled": true
   },
   "outputs": [
    {
     "name": "stdout",
     "output_type": "stream",
     "text": [
      "Everett Wetchler 2018-05-28 12:06:01 CDT\n",
      "\n",
      "numpy 1.14.3\n",
      "pandas 0.22.0\n",
      "matplotlib 2.2.0\n",
      "datadotworld 1.6.0\n",
      "watermark 1.5.0\n"
     ]
    }
   ],
   "source": [
    "####################################################\n",
    "# Boilerplate import/setup code for general analysis\n",
    "# everett.wetchler@gmail.com\n",
    "####################################################\n",
    "\n",
    "import datetime as dt\n",
    "import os\n",
    "import random\n",
    "\n",
    "import datadotworld as dw\n",
    "import matplotlib as mpl\n",
    "import matplotlib.pyplot as plt\n",
    "import numpy as np\n",
    "import pandas as pd\n",
    "import seaborn as sns\n",
    "\n",
    "pd.set_option('display.max_rows', 100)\n",
    "pd.set_option('display.max_columns', 100)\n",
    "\n",
    "## Jupyter setup\n",
    "%matplotlib inline\n",
    "\n",
    "## Graphical setup\n",
    "# Useful colors to reference\n",
    "SNS_BLUE, SNS_GREEN, SNS_RED, SNS_PURPLE, SNS_YELLOW, SNS_CYAN = sns.color_palette()\n",
    "SNS_COLORS = sns.color_palette()\n",
    "# sns.set_palette(sns.color_palette(\"cubehelix\", 8))\n",
    "mpl.rcParams.update({\n",
    "  'font.size': 14,\n",
    "  'axes.titlesize': 'x-large',\n",
    "  'axes.labelsize': 'large',\n",
    "  'xtick.labelsize': 'medium',\n",
    "  'ytick.labelsize': 'medium',\n",
    "  'legend.fancybox': True,\n",
    "  'legend.fontsize': 'medium',\n",
    "  'legend.frameon': True,\n",
    "  'legend.framealpha': 0.7,\n",
    "  'figure.figsize': ['9', '6'],\n",
    "})\n",
    "\n",
    "# Watermark extension to print version/system information\n",
    "# Flags:\n",
    "# -a [author] -d (date) -t (time) -z (timezone) -r (repo)\n",
    "# -g (git hash) -w (watermark version) -p [packages] (package info)\n",
    "%load_ext watermark\n",
    "%watermark -a \"Everett Wetchler\" -d -t -z -w -p numpy,pandas,matplotlib,datadotworld\n",
    "\n",
    "####################################################\n",
    "# END Boilerplate\n",
    "####################################################"
   ]
  },
  {
   "cell_type": "code",
   "execution_count": 3,
   "metadata": {
    "collapsed": true
   },
   "outputs": [],
   "source": [
    "from lib.cleaning_tools import *\n",
    "from lib.standardize_police_agency_names import standardize_agency_name"
   ]
  },
  {
   "cell_type": "code",
   "execution_count": 4,
   "metadata": {},
   "outputs": [
    {
     "data": {
      "text/html": [
       "<div>\n",
       "<style scoped>\n",
       "    .dataframe tbody tr th:only-of-type {\n",
       "        vertical-align: middle;\n",
       "    }\n",
       "\n",
       "    .dataframe tbody tr th {\n",
       "        vertical-align: top;\n",
       "    }\n",
       "\n",
       "    .dataframe thead th {\n",
       "        text-align: right;\n",
       "    }\n",
       "</style>\n",
       "<table border=\"1\" class=\"dataframe\">\n",
       "  <thead>\n",
       "    <tr style=\"text-align: right;\">\n",
       "      <th></th>\n",
       "      <th>agency</th>\n",
       "      <th>county</th>\n",
       "    </tr>\n",
       "  </thead>\n",
       "  <tbody>\n",
       "    <tr>\n",
       "      <th>0</th>\n",
       "      <td>ANDERSON CO CONST PCT 1</td>\n",
       "      <td>ANDERSON</td>\n",
       "    </tr>\n",
       "    <tr>\n",
       "      <th>1</th>\n",
       "      <td>ANDERSON CO CONST PCT 2</td>\n",
       "      <td>ANDERSON</td>\n",
       "    </tr>\n",
       "    <tr>\n",
       "      <th>2</th>\n",
       "      <td>ANDERSON CO CONST PCT 3</td>\n",
       "      <td>ANDERSON</td>\n",
       "    </tr>\n",
       "    <tr>\n",
       "      <th>3</th>\n",
       "      <td>ANDERSON CO CONST PCT 4</td>\n",
       "      <td>ANDERSON</td>\n",
       "    </tr>\n",
       "    <tr>\n",
       "      <th>4</th>\n",
       "      <td>ANDERSON CO DIST ATTY OFFICE</td>\n",
       "      <td>ANDERSON</td>\n",
       "    </tr>\n",
       "  </tbody>\n",
       "</table>\n",
       "</div>"
      ],
      "text/plain": [
       "                         agency    county\n",
       "0       ANDERSON CO CONST PCT 1  ANDERSON\n",
       "1       ANDERSON CO CONST PCT 2  ANDERSON\n",
       "2       ANDERSON CO CONST PCT 3  ANDERSON\n",
       "3       ANDERSON CO CONST PCT 4  ANDERSON\n",
       "4  ANDERSON CO DIST ATTY OFFICE  ANDERSON"
      ]
     },
     "execution_count": 4,
     "metadata": {},
     "output_type": "execute_result"
    }
   ],
   "source": [
    "datasets = dw.load_dataset(DTW_PROJECT_KEY, force_update=True)\n",
    "agency_county = datasets.dataframes[AGENCY_COUNTY_DATAFRAME]\n",
    "agency_county.head()"
   ]
  },
  {
   "cell_type": "code",
   "execution_count": 5,
   "metadata": {},
   "outputs": [
    {
     "name": "stdout",
     "output_type": "stream",
     "text": [
      "Writing excel file to temp file: /var/folders/dc/8cbxbsh515s908xl0zyprszm0000gn/T/tmpaf4quxuw\n"
     ]
    },
    {
     "data": {
      "text/html": [
       "<div>\n",
       "<style scoped>\n",
       "    .dataframe tbody tr th:only-of-type {\n",
       "        vertical-align: middle;\n",
       "    }\n",
       "\n",
       "    .dataframe tbody tr th {\n",
       "        vertical-align: top;\n",
       "    }\n",
       "\n",
       "    .dataframe thead th {\n",
       "        text-align: right;\n",
       "    }\n",
       "</style>\n",
       "<table border=\"1\" class=\"dataframe\">\n",
       "  <thead>\n",
       "    <tr style=\"text-align: right;\">\n",
       "      <th></th>\n",
       "      <th>Date</th>\n",
       "      <th>Officer Name</th>\n",
       "      <th>Officer Agency</th>\n",
       "      <th>Cause of Death</th>\n",
       "    </tr>\n",
       "  </thead>\n",
       "  <tbody>\n",
       "    <tr>\n",
       "      <th>0</th>\n",
       "      <td>12/19/1892</td>\n",
       "      <td>James B. Stevens</td>\n",
       "      <td>Wise County Constable's Office - Precinct 2</td>\n",
       "      <td>Gunfire</td>\n",
       "    </tr>\n",
       "    <tr>\n",
       "      <th>1</th>\n",
       "      <td>11/10/1837</td>\n",
       "      <td>Alfred H. Miles</td>\n",
       "      <td>Texas Rangers</td>\n",
       "      <td>Assault</td>\n",
       "    </tr>\n",
       "    <tr>\n",
       "      <th>2</th>\n",
       "      <td>11/10/1837</td>\n",
       "      <td>Jesse Blair</td>\n",
       "      <td>Texas Rangers</td>\n",
       "      <td>Assault</td>\n",
       "    </tr>\n",
       "    <tr>\n",
       "      <th>3</th>\n",
       "      <td>11/10/1837</td>\n",
       "      <td>James Christian</td>\n",
       "      <td>Texas Rangers</td>\n",
       "      <td>Assault</td>\n",
       "    </tr>\n",
       "    <tr>\n",
       "      <th>4</th>\n",
       "      <td>11/10/1837</td>\n",
       "      <td>James Joslen</td>\n",
       "      <td>Texas Rangers</td>\n",
       "      <td>Assault</td>\n",
       "    </tr>\n",
       "  </tbody>\n",
       "</table>\n",
       "</div>"
      ],
      "text/plain": [
       "         Date      Officer Name                               Officer Agency  \\\n",
       "0  12/19/1892  James B. Stevens  Wise County Constable's Office - Precinct 2   \n",
       "1  11/10/1837   Alfred H. Miles                                Texas Rangers   \n",
       "2  11/10/1837       Jesse Blair                                Texas Rangers   \n",
       "3  11/10/1837   James Christian                                Texas Rangers   \n",
       "4  11/10/1837      James Joslen                                Texas Rangers   \n",
       "\n",
       "  Cause of Death  \n",
       "0        Gunfire  \n",
       "1        Assault  \n",
       "2        Assault  \n",
       "3        Assault  \n",
       "4        Assault  "
      ]
     },
     "execution_count": 5,
     "metadata": {},
     "output_type": "execute_result"
    }
   ],
   "source": [
    "odmp = read_dtw_excel(DTW_PROJECT_KEY, 'original/' + RAW_FILENAME, 'Sheet1')\n",
    "odmp.head()"
   ]
  },
  {
   "cell_type": "markdown",
   "metadata": {},
   "source": [
    "## 2. Begin cleaning"
   ]
  },
  {
   "cell_type": "markdown",
   "metadata": {},
   "source": [
    "### Make columns more machine friendly"
   ]
  },
  {
   "cell_type": "code",
   "execution_count": 6,
   "metadata": {
    "collapsed": true
   },
   "outputs": [],
   "source": [
    "odmp.columns = ['date_of_death', 'officer_name', 'agency_name', 'cause_of_death']"
   ]
  },
  {
   "cell_type": "markdown",
   "metadata": {},
   "source": [
    "### Date-ify date column"
   ]
  },
  {
   "cell_type": "code",
   "execution_count": 7,
   "metadata": {
    "collapsed": true
   },
   "outputs": [],
   "source": [
    "odmp['date_of_death'] = pd.to_datetime(odmp['date_of_death'])"
   ]
  },
  {
   "cell_type": "markdown",
   "metadata": {},
   "source": [
    "### Uppercase string values"
   ]
  },
  {
   "cell_type": "code",
   "execution_count": 8,
   "metadata": {
    "collapsed": true
   },
   "outputs": [],
   "source": [
    "upcase_strip_string_cells(odmp)"
   ]
  },
  {
   "cell_type": "markdown",
   "metadata": {},
   "source": [
    "### Standardize agency names"
   ]
  },
  {
   "cell_type": "code",
   "execution_count": 9,
   "metadata": {},
   "outputs": [
    {
     "data": {
      "text/html": [
       "<div>\n",
       "<style scoped>\n",
       "    .dataframe tbody tr th:only-of-type {\n",
       "        vertical-align: middle;\n",
       "    }\n",
       "\n",
       "    .dataframe tbody tr th {\n",
       "        vertical-align: top;\n",
       "    }\n",
       "\n",
       "    .dataframe thead th {\n",
       "        text-align: right;\n",
       "    }\n",
       "</style>\n",
       "<table border=\"1\" class=\"dataframe\">\n",
       "  <thead>\n",
       "    <tr style=\"text-align: right;\">\n",
       "      <th></th>\n",
       "      <th>date_of_death</th>\n",
       "      <th>officer_name</th>\n",
       "      <th>agency_name</th>\n",
       "      <th>cause_of_death</th>\n",
       "    </tr>\n",
       "  </thead>\n",
       "  <tbody>\n",
       "    <tr>\n",
       "      <th>0</th>\n",
       "      <td>1892-12-19</td>\n",
       "      <td>JAMES B. STEVENS</td>\n",
       "      <td>WISE CO CONST PCT 2</td>\n",
       "      <td>GUNFIRE</td>\n",
       "    </tr>\n",
       "    <tr>\n",
       "      <th>1</th>\n",
       "      <td>1837-11-10</td>\n",
       "      <td>ALFRED H. MILES</td>\n",
       "      <td>TEXAS RANGERS</td>\n",
       "      <td>ASSAULT</td>\n",
       "    </tr>\n",
       "    <tr>\n",
       "      <th>2</th>\n",
       "      <td>1837-11-10</td>\n",
       "      <td>JESSE BLAIR</td>\n",
       "      <td>TEXAS RANGERS</td>\n",
       "      <td>ASSAULT</td>\n",
       "    </tr>\n",
       "    <tr>\n",
       "      <th>3</th>\n",
       "      <td>1837-11-10</td>\n",
       "      <td>JAMES CHRISTIAN</td>\n",
       "      <td>TEXAS RANGERS</td>\n",
       "      <td>ASSAULT</td>\n",
       "    </tr>\n",
       "    <tr>\n",
       "      <th>4</th>\n",
       "      <td>1837-11-10</td>\n",
       "      <td>JAMES JOSLEN</td>\n",
       "      <td>TEXAS RANGERS</td>\n",
       "      <td>ASSAULT</td>\n",
       "    </tr>\n",
       "  </tbody>\n",
       "</table>\n",
       "</div>"
      ],
      "text/plain": [
       "  date_of_death      officer_name          agency_name cause_of_death\n",
       "0    1892-12-19  JAMES B. STEVENS  WISE CO CONST PCT 2        GUNFIRE\n",
       "1    1837-11-10   ALFRED H. MILES        TEXAS RANGERS        ASSAULT\n",
       "2    1837-11-10       JESSE BLAIR        TEXAS RANGERS        ASSAULT\n",
       "3    1837-11-10   JAMES CHRISTIAN        TEXAS RANGERS        ASSAULT\n",
       "4    1837-11-10      JAMES JOSLEN        TEXAS RANGERS        ASSAULT"
      ]
     },
     "execution_count": 9,
     "metadata": {},
     "output_type": "execute_result"
    }
   ],
   "source": [
    "odmp['agency_name'] = odmp['agency_name'].apply(standardize_agency_name)\n",
    "odmp.head()"
   ]
  },
  {
   "cell_type": "markdown",
   "metadata": {},
   "source": [
    "### Add county names"
   ]
  },
  {
   "cell_type": "code",
   "execution_count": 10,
   "metadata": {
    "collapsed": true
   },
   "outputs": [],
   "source": [
    "agency_to_county = dict(zip(agency_county.agency, agency_county.county))\n",
    "\n",
    "def get_county(agency):\n",
    "    if pd.isnull(agency):\n",
    "        return None\n",
    "    elif agency in agency_to_county:\n",
    "        return agency_to_county[agency]\n",
    "    elif agency == 'TEXAS DEPT OF CRIMINAL JUSTICE':\n",
    "        return 'STATE'\n",
    "    elif ' CO ' in agency:\n",
    "        name = agency[:agency.index(' CO ')]\n",
    "        return name\n",
    "    else:\n",
    "        return None\n",
    "\n",
    "odmp['agency_county'] = odmp['agency_name'].apply(get_county)"
   ]
  },
  {
   "cell_type": "code",
   "execution_count": 11,
   "metadata": {},
   "outputs": [
    {
     "name": "stdout",
     "output_type": "stream",
     "text": [
      "Could not determine agency county for 282/1870 officers\n"
     ]
    },
    {
     "data": {
      "text/plain": [
       "TEXAS RANGERS                                70\n",
       "US CUSTOMS SERVICE                           30\n",
       "US IMMIGRATION AND NATURALIZATION SERVICE    24\n",
       "US BORDER PATROL                             22\n",
       "US CUSTOMS AND BORDER PROTECTION             14\n",
       "Name: agency_name, dtype: int64"
      ]
     },
     "execution_count": 11,
     "metadata": {},
     "output_type": "execute_result"
    }
   ],
   "source": [
    "print(\"Could not determine agency county for %d/%d officers\" % (odmp['agency_county'].isnull().sum(), len(odmp)))\n",
    "odmp[odmp['agency_county'].isnull()]['agency_name'].value_counts().head()"
   ]
  },
  {
   "cell_type": "markdown",
   "metadata": {},
   "source": [
    "### Drop records from federal agencies"
   ]
  },
  {
   "cell_type": "code",
   "execution_count": 12,
   "metadata": {
    "collapsed": true
   },
   "outputs": [],
   "source": [
    "odmp = odmp[odmp['agency_county'].notnull()]"
   ]
  },
  {
   "cell_type": "markdown",
   "metadata": {},
   "source": [
    "### Standardize name"
   ]
  },
  {
   "cell_type": "code",
   "execution_count": 13,
   "metadata": {},
   "outputs": [
    {
     "data": {
      "text/html": [
       "<div>\n",
       "<style scoped>\n",
       "    .dataframe tbody tr th:only-of-type {\n",
       "        vertical-align: middle;\n",
       "    }\n",
       "\n",
       "    .dataframe tbody tr th {\n",
       "        vertical-align: top;\n",
       "    }\n",
       "\n",
       "    .dataframe thead th {\n",
       "        text-align: right;\n",
       "    }\n",
       "</style>\n",
       "<table border=\"1\" class=\"dataframe\">\n",
       "  <thead>\n",
       "    <tr style=\"text-align: right;\">\n",
       "      <th></th>\n",
       "      <th>date_of_death</th>\n",
       "      <th>officer_name</th>\n",
       "      <th>agency_name</th>\n",
       "      <th>cause_of_death</th>\n",
       "      <th>agency_county</th>\n",
       "    </tr>\n",
       "  </thead>\n",
       "  <tbody>\n",
       "    <tr>\n",
       "      <th>0</th>\n",
       "      <td>1892-12-19</td>\n",
       "      <td>JAMES B STEVENS</td>\n",
       "      <td>WISE CO CONST PCT 2</td>\n",
       "      <td>GUNFIRE</td>\n",
       "      <td>WISE</td>\n",
       "    </tr>\n",
       "    <tr>\n",
       "      <th>14</th>\n",
       "      <td>1840-03-19</td>\n",
       "      <td>JOSEPH L HOOD</td>\n",
       "      <td>BEXAR CO SHERIFFS OFFICE</td>\n",
       "      <td>STABBED</td>\n",
       "      <td>BEXAR</td>\n",
       "    </tr>\n",
       "    <tr>\n",
       "      <th>20</th>\n",
       "      <td>1858-01-09</td>\n",
       "      <td>SAMUEL LEE LOCKHART</td>\n",
       "      <td>LLANO CO SHERIFFS OFFICE</td>\n",
       "      <td>STABBED</td>\n",
       "      <td>LLANO</td>\n",
       "    </tr>\n",
       "    <tr>\n",
       "      <th>23</th>\n",
       "      <td>1860-02-19</td>\n",
       "      <td>THOMAS S MILLIGAN</td>\n",
       "      <td>MASON CO SHERIFFS OFFICE</td>\n",
       "      <td>ASSAULT</td>\n",
       "      <td>MASON</td>\n",
       "    </tr>\n",
       "    <tr>\n",
       "      <th>24</th>\n",
       "      <td>1861-08-24</td>\n",
       "      <td>JOHN B YORK</td>\n",
       "      <td>TARRANT CO SHERIFFS OFFICE</td>\n",
       "      <td>STABBED</td>\n",
       "      <td>TARRANT</td>\n",
       "    </tr>\n",
       "  </tbody>\n",
       "</table>\n",
       "</div>"
      ],
      "text/plain": [
       "   date_of_death         officer_name                 agency_name  \\\n",
       "0     1892-12-19      JAMES B STEVENS         WISE CO CONST PCT 2   \n",
       "14    1840-03-19        JOSEPH L HOOD    BEXAR CO SHERIFFS OFFICE   \n",
       "20    1858-01-09  SAMUEL LEE LOCKHART    LLANO CO SHERIFFS OFFICE   \n",
       "23    1860-02-19    THOMAS S MILLIGAN    MASON CO SHERIFFS OFFICE   \n",
       "24    1861-08-24          JOHN B YORK  TARRANT CO SHERIFFS OFFICE   \n",
       "\n",
       "   cause_of_death agency_county  \n",
       "0         GUNFIRE          WISE  \n",
       "14        STABBED         BEXAR  \n",
       "20        STABBED         LLANO  \n",
       "23        ASSAULT         MASON  \n",
       "24        STABBED       TARRANT  "
      ]
     },
     "execution_count": 13,
     "metadata": {},
     "output_type": "execute_result"
    }
   ],
   "source": [
    "odmp.officer_name = odmp.officer_name.apply(standardize_name)\n",
    "odmp.head()"
   ]
  },
  {
   "cell_type": "markdown",
   "metadata": {},
   "source": [
    "## 3. Write"
   ]
  },
  {
   "cell_type": "code",
   "execution_count": 14,
   "metadata": {},
   "outputs": [
    {
     "name": "stdout",
     "output_type": "stream",
     "text": [
      "Writing to data.world: odmp_texas_line_of_duty_deaths.csv\n"
     ]
    }
   ],
   "source": [
    "with dw.open_remote_file(DTW_PROJECT_KEY, CLEANED_FILENAME) as w:\n",
    "    print(\"Writing to data.world:\", CLEANED_FILENAME)\n",
    "    odmp.to_csv(w, index=False)"
   ]
  },
  {
   "cell_type": "code",
   "execution_count": null,
   "metadata": {
    "collapsed": true
   },
   "outputs": [],
   "source": []
  }
 ],
 "metadata": {
  "kernelspec": {
   "display_name": "Python 3",
   "language": "python",
   "name": "python3"
  },
  "language_info": {
   "codemirror_mode": {
    "name": "ipython",
    "version": 3
   },
   "file_extension": ".py",
   "mimetype": "text/x-python",
   "name": "python",
   "nbconvert_exporter": "python",
   "pygments_lexer": "ipython3",
   "version": "3.6.1"
  }
 },
 "nbformat": 4,
 "nbformat_minor": 2
}
