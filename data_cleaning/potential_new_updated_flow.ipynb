{
 "cells": [
  {
   "cell_type": "code",
   "execution_count": 1,
   "metadata": {
    "ExecuteTime": {
     "end_time": "2020-12-06T14:15:17.935269Z",
     "start_time": "2020-12-06T14:15:17.223680Z"
    }
   },
   "outputs": [],
   "source": [
    "from __future__ import print_function\n",
    "import pickle\n",
    "import os.path\n",
    "from googleapiclient.discovery import build\n",
    "from google_auth_oauthlib.flow import InstalledAppFlow\n",
    "from google.auth.transport.requests import Request"
   ]
  },
  {
   "cell_type": "code",
   "execution_count": 27,
   "metadata": {
    "ExecuteTime": {
     "end_time": "2020-12-06T15:00:31.621955Z",
     "start_time": "2020-12-06T15:00:30.877162Z"
    }
   },
   "outputs": [
    {
     "name": "stdout",
     "output_type": "stream",
     "text": [
      "2020-11-13T15:12:07.862Z\n",
      "2020-11-23T17:57:10.821Z\n"
     ]
    }
   ],
   "source": [
    "# If modifying these scopes, delete the file token.pickle.\n",
    "SCOPES = ['https://www.googleapis.com/auth/drive.metadata.readonly']\n",
    "\n",
    "\"\"\"Shows basic usage of the Drive v3 API.\n",
    "Prints the names and ids of the first 10 files the user has access to.\n",
    "\"\"\"\n",
    "#creds = None\n",
    "# The file token.pickle stores the user's access and refresh tokens, and is\n",
    "# created automatically when the authorization flow completes for the first\n",
    "# time.\n",
    "if os.path.exists('/Users/hlukas/git/_header/google_token.pickle'):\n",
    "    with open('/Users/hlukas/git/_header/google_token.pickle', 'rb') as token:\n",
    "        creds = pickle.load(token)\n",
    "# If there are no (valid) credentials available, let the user log in.\n",
    "if not creds or not creds.valid:\n",
    "    if creds and creds.expired and creds.refresh_token:\n",
    "        creds.refresh(Request())\n",
    "    else:\n",
    "        flow = InstalledAppFlow.from_client_secrets_file(\n",
    "            '/Users/hlukas/git/_header/google_v3_credentials.json', SCOPES)\n",
    "        creds = flow.run_local_server(port=0)\n",
    "    # Save the credentials for the next run\n",
    "    with open('/Users/hlukas/git/_header/google_token.pickle', 'wb') as token:\n",
    "        pickle.dump(creds, token)\n",
    "\n",
    "service = build('drive', 'v3', credentials=creds)\n",
    "\n",
    "for sheet in ['OIS', 'CDR Reports All']:\n",
    "    results = service.files().list(\n",
    "        pageSize=10, \n",
    "        driveId = '0ACeQWapAwOLqUk9PVA', \n",
    "        includeItemsFromAllDrives = 'true', \n",
    "        corpora = 'drive',\n",
    "        supportsAllDrives = 'true',\n",
    "        fields=\"nextPageToken, files(id, name, modifiedTime)\",\n",
    "        q = \"name = '{}'\".format(sheet)).execute()\n",
    "    items = results.get('files', [])\n",
    "    assert(len(items) == 1)\n",
    "    print(items[0]['modifiedTime'])"
   ]
  }
 ],
 "metadata": {
  "kernelspec": {
   "display_name": "Python 3",
   "language": "python",
   "name": "python3"
  },
  "language_info": {
   "codemirror_mode": {
    "name": "ipython",
    "version": 3
   },
   "file_extension": ".py",
   "mimetype": "text/x-python",
   "name": "python",
   "nbconvert_exporter": "python",
   "pygments_lexer": "ipython3",
   "version": "3.7.4"
  }
 },
 "nbformat": 4,
 "nbformat_minor": 2
}
