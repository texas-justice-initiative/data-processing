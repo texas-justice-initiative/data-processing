{
 "cells": [
  {
   "cell_type": "markdown",
   "metadata": {},
   "source": [
    "# Clean the Texas OIS dataset for analysis -- civilians shot data\n",
    "\n",
    "* Inputs:\n",
    "   * `OIS.xlsx`\n",
    "   * `agencies_and_counties.csv` (used to add county information)\n",
    "* Output: `shot_civilians.csv`\n",
    "\n",
    "##### Author: Everett Wetchler (everett.wetchler@gmail.com)"
   ]
  },
  {
   "cell_type": "markdown",
   "metadata": {},
   "source": [
    "## 1. Setup and read data"
   ]
  },
  {
   "cell_type": "code",
   "execution_count": null,
   "metadata": {},
   "outputs": [],
   "source": [
    "CLEANED_FILENAME = 'shot_civilians.csv'\n",
    "DTW_OIS_PROJECT = 'tji/officer-involved-shootings'"
   ]
  },
  {
   "cell_type": "code",
   "execution_count": null,
   "metadata": {},
   "outputs": [],
   "source": [
    "import os\n",
    "import sys\n",
    "import boto3\n",
    "import datadotworld as dw\n",
    "import numpy as np\n",
    "import pandas as pd\n",
    "\n",
    "from lib.cleaning_tools import *\n",
    "from lib.standardize_police_agency_names import standardize_agency_name\n",
    "\n",
    "from io import StringIO\n",
    "\n",
    "sys.path.append(os.getcwd() + '/../data_cleaning')\n",
    "\n",
    "pd.set_option('display.max_rows', 100)\n",
    "pd.set_option('display.max_columns', 100)\n",
    "\n",
    "%load_ext watermark\n",
    "%watermark -a \"Everett Wetchler\" -d -t -z -r -g -w -p datadotworld,numpy,pandas"
   ]
  },
  {
   "cell_type": "code",
   "execution_count": null,
   "metadata": {},
   "outputs": [],
   "source": [
    "datasets = dw.load_dataset('tji/auxiliary-datasets', force_update=True)\n",
    "agencies = datasets.dataframes['agencies_and_counties']"
   ]
  },
  {
   "cell_type": "code",
   "execution_count": null,
   "metadata": {},
   "outputs": [],
   "source": [
    "shootings = read_dtw_excel(DTW_OIS_PROJECT, 'original/OIS.xlsx')['OISTable']\n",
    "print(\"Found %d OIS civilians-shot incidents from %s to %s\" % (\n",
    "    len(shootings),\n",
    "    shootings['Date of Incident'].min().strftime('%Y-%m-%d'),\n",
    "    shootings['Date of Incident'].max().strftime('%Y-%m-%d')))\n",
    "shootings.head()"
   ]
  },
  {
   "cell_type": "markdown",
   "metadata": {},
   "source": [
    "## 2. Begin cleaning"
   ]
  },
  {
   "cell_type": "code",
   "execution_count": null,
   "metadata": {},
   "outputs": [],
   "source": [
    "# Normalize column names\n",
    "shootings.columns = [c.strip().lower() for c in shootings.columns]\n",
    "# Normalize string cell values\n",
    "upcase_strip_string_cells(shootings)\n",
    "# Drop irrelevant columns\n",
    "shootings.drop(['no.', 'column1', 'column2', 'extras'], axis=1, inplace=True)"
   ]
  },
  {
   "cell_type": "code",
   "execution_count": null,
   "metadata": {},
   "outputs": [],
   "source": [
    "max_reports_per_incident = max(int(c.strip().split()[-1]) for c in shootings.columns\n",
    "                               if c.startswith(\"date of report\"))\n",
    "print(\"Deaths may have as many as %d OIS reports filed\" % max_reports_per_incident)"
   ]
  },
  {
   "cell_type": "code",
   "execution_count": null,
   "metadata": {},
   "outputs": [],
   "source": [
    "# Make the column names more machine-friendly\n",
    "col_renames = {\n",
    "    \"number of reports filed\": \"num_reports_filed\",\n",
    "    \"date ag received\": \"date_ag_received\",\n",
    "    \"date of incident\": \"date_incident\",\n",
    "    \"time of incident\": \"time_incident\",\n",
    "    \"injured or deceased's first name\": \"civilian_name_first\",\n",
    "    \"injured or deceased's last name\": \"civilian_name_last\",\n",
    "    \"injured or deceased's gender\": \"civilian_gender\",\n",
    "    \"injured or deceased's age\": \"civilian_age\",\n",
    "    \"injured or deceased's race/ethnicity\": \"civilian_race\",\n",
    "    \"street address of incident\": \"incident_address\",\n",
    "    \"city of incident\": \"incident_city\",\n",
    "    \"county of incident\": \"incident_county\",\n",
    "    \"zip code of incident\": \"incident_zip\",\n",
    "    \"incident resulted in\": \"incident_resulted_in\",\n",
    "    \"carried, exhibited or used deadly weapon\": \"deadly_weapon\",\n",
    "    \"on duty or off duty\": \"officer_on_duty\",\n",
    "    \"peace officer responding with 1 or more officers\": \"multiple_officers_involved\",\n",
    "    \"incident occurred during or as a result of\": \"incident_result_of\",\n",
    "    \"if other, specify type of call\": \"incident_call_other\",\n",
    "    \"deadly weapon description\": \"weapon_reported_by_media\",\n",
    "    \"cdr?\": \"custodial_death_report\",\n",
    "    \"cdr narrative\": \"cdr_narrative\",\n",
    "    \"narrative published by law enforcement\": \"lea_narrative_published\",\n",
    "    \"shorter\": \"lea_narrative_shorter\",\n",
    "}\n",
    "\n",
    "# Some columns have multiple copies for different individuals,\n",
    "# e.g. agency_name_1 for the first officer's agency, then\n",
    "# agency_name_2, for the second, etc. To avoid typing out\n",
    "# all these numbers, we loop through such columns and rename\n",
    "# them appropriately.\n",
    "numerical_renames = {\n",
    "    \"date of report %d\": \"agency_report_date_%d\",\n",
    "    \"name of agency %d\": \"agency_name_%d\",\n",
    "    \"city of agency %d\": \"agency_city_%d\",\n",
    "    \"zip code of agency %d\": \"agency_zip_%d\",\n",
    "    \"name of person %d filling out form\": \"agency_name_person_filling_out_%d\",\n",
    "    \"email address of person %d filling out form\": \"agency_email_person_filling_out_%d\",\n",
    "    \"peace officer %d's gender\": \"officer_gender_%d\",\n",
    "    \"peace officer %d's age\": \"officer_age_%d\",\n",
    "    \"peace officer %d's race/ethnicity\": \"officer_race_%d\",\n",
    "    \"incident occurred during or as a result of %d\": \"officer_caused_injury_%d\",\n",
    "    \"news %d\": \"news_coverage_%d\",\n",
    "}\n",
    "for i in range(1, max_reports_per_incident + 1):\n",
    "    for k, v in numerical_renames.items():\n",
    "        k = (k % i)\n",
    "        v = v % i\n",
    "        col_renames[k] = v\n",
    "\n",
    "shootings.columns = [col_renames[c] for c in shootings.columns]\n",
    "shootings.head()"
   ]
  },
  {
   "cell_type": "markdown",
   "metadata": {},
   "source": [
    "### Standardize common column types"
   ]
  },
  {
   "cell_type": "code",
   "execution_count": null,
   "metadata": {},
   "outputs": [],
   "source": [
    "standardize_gender_cols(shootings)\n",
    "standardize_race_cols(shootings)\n",
    "numericalize_age_cols(shootings)\n",
    "convert_date_cols(shootings)"
   ]
  },
  {
   "cell_type": "markdown",
   "metadata": {},
   "source": [
    "### Create a column for the number of officers whose information was recorded here, `num_officers_recorded`\n",
    "\n",
    "We use the presence of officer gender as an indicator. Not all incidents use a separate agency_name_X column per officer, so we can't use that."
   ]
  },
  {
   "cell_type": "code",
   "execution_count": null,
   "metadata": {},
   "outputs": [],
   "source": [
    "officer_gender_cols = ['officer_gender_%d' % i for i in range(1, 11)]\n",
    "shootings['num_officers_recorded'] = shootings[officer_gender_cols].notnull().sum(axis=1)\n",
    "shootings[shootings['num_officers_recorded'] > 5].head()"
   ]
  },
  {
   "cell_type": "code",
   "execution_count": null,
   "metadata": {},
   "outputs": [],
   "source": [
    "shootings['custodial_death_report'] = shootings['custodial_death_report'].fillna('n').apply(lambda c: c.strip().lower()[0] == 'y')\n",
    "shootings['multiple_officers_involved'] = shootings['multiple_officers_involved'].fillna('n').apply(lambda c: c.strip().lower()[0] == 'y')\n",
    "\n",
    "shootings['civilian_died'] = shootings['incident_resulted_in'].apply(lambda x: x.strip().lower()) == 'death'\n",
    "shootings.drop('incident_resulted_in', axis=1, inplace=True)\n",
    "shootings['incident_result_of'] = shootings['incident_result_of'].apply(lambda x: x.strip().lower())\n",
    "\n",
    "shootings['officer_on_duty'] = shootings['officer_on_duty'].apply(lambda x: x if pd.isnull(x) else (x.strip().lower().startswith('on ')))\n",
    "shootings['weapon_reported_by_media'] = shootings['weapon_reported_by_media'].apply(lambda w: w if pd.isnull(w) else w.strip().lower())"
   ]
  },
  {
   "cell_type": "markdown",
   "metadata": {},
   "source": [
    "### NOTE: Data quirk\n",
    "\n",
    "It's unclear how many officers were actually at the scene\n",
    "* The `multiple_officer_involved` column is a yes/no column, but there are also columns to list the agency, gender, etc for each officer. These do not always agree. Sometimes `multiple_officer_involved` is yes, but only one officer's details are recorded. And sometimes we have details for many officers, but `multiple_officer_involved` is no. See below.\n",
    "* The punchline is to interpret these columns with caution"
   ]
  },
  {
   "cell_type": "code",
   "execution_count": null,
   "metadata": {},
   "outputs": [],
   "source": [
    "pd.crosstab(shootings.multiple_officers_involved, shootings.num_officers_recorded)"
   ]
  },
  {
   "cell_type": "markdown",
   "metadata": {},
   "source": [
    "### Handle weapons-related questions"
   ]
  },
  {
   "cell_type": "code",
   "execution_count": null,
   "metadata": {},
   "outputs": [],
   "source": [
    "shootings['deadly_weapon'].value_counts()"
   ]
  },
  {
   "cell_type": "code",
   "execution_count": null,
   "metadata": {},
   "outputs": [],
   "source": [
    "# Convert yes/no to boolean\n",
    "shootings['deadly_weapon'] = shootings['deadly_weapon'].apply(\n",
    "    lambda weapon: weapon.lower().strip() == 'yes')\n",
    "shootings['deadly_weapon'].value_counts()"
   ]
  },
  {
   "cell_type": "code",
   "execution_count": null,
   "metadata": {},
   "outputs": [],
   "source": [
    "# Check for mistakes. Sometimes the \"was there a deadly weapon?\" question\n",
    "# is answered with \"No\" while a description of a deadly weapon is given.\n",
    "pd.crosstab(shootings['deadly_weapon'], shootings['weapon_reported_by_media'].notnull())"
   ]
  },
  {
   "cell_type": "code",
   "execution_count": null,
   "metadata": {},
   "outputs": [],
   "source": [
    "# Let's look at these instances to be sure\n",
    "s = shootings[~shootings['deadly_weapon'] & pd.notnull(shootings['weapon_reported_by_media'])][['deadly_weapon', 'weapon_reported_by_media']]\n",
    "print(len(s))\n",
    "s"
   ]
  },
  {
   "cell_type": "code",
   "execution_count": null,
   "metadata": {},
   "outputs": [],
   "source": [
    "# What weapons do people use? Can we categorize them?\n",
    "sorted(list(x for x in set(shootings.weapon_reported_by_media) if pd.notnull(x)))"
   ]
  },
  {
   "cell_type": "code",
   "execution_count": null,
   "metadata": {},
   "outputs": [],
   "source": [
    "# Manual categorization of weapons\n",
    "weapon_types = {\n",
    "    'FIREARM': [\n",
    "        'handgun', 'sawed-off shotgun', 'revolver', 'rifle',\n",
    "        'assault rifle', 'firearm', 'shotgun', 'long gun', 'gun',\n",
    "        'glock 40', 'pistol', 'knife, gun', \"deputy's gun\",\n",
    "        'vehicle, gun', 'semi-automatic rifle'],\n",
    "    'KNIFE/CUTTING': [\n",
    "        'hatchet', 'butcher knife', 'knife', 'knives', 'box cutter',\n",
    "        'knife - not opened', 'machete', 'sword', 'axe', 'knives (2)',\n",
    "        \"officer's gun\", 'pickaxe', 'samurai sword', \"took officer's knife\",\n",
    "        'sharp metal object (piece of headphones)', 'scissors, screwdriver'],\n",
    "    'VEHICLE': ['car', 'truck', 'vehicle'],\n",
    "}\n",
    "type_lookup = {}\n",
    "for w_type, weapons in weapon_types.items():\n",
    "    for w in weapons:\n",
    "        if w in type_lookup:\n",
    "            print(\"DUPLICATE:\", w_type, w)\n",
    "        type_lookup[w] = w_type\n",
    "\n",
    "weapons = []\n",
    "for has_weapon, desc in zip(shootings['deadly_weapon'], shootings['weapon_reported_by_media']):\n",
    "    if pd.isnull(desc) or not desc:\n",
    "        if has_weapon:\n",
    "            weapons.append('(DETAILS MISSING)')\n",
    "        else:\n",
    "            weapons.append(np.nan)\n",
    "        continue\n",
    "    weapons.append(type_lookup.get(desc, 'OTHER'))\n",
    "\n",
    "shootings['weapon_reported_by_media_category'] = weapons    \n",
    "shootings['weapon_reported_by_media_category'].value_counts()"
   ]
  },
  {
   "cell_type": "code",
   "execution_count": null,
   "metadata": {},
   "outputs": [],
   "source": [
    "sorted(set(shootings['weapon_reported_by_media'][shootings['weapon_reported_by_media_category'] == 'OTHER']))"
   ]
  },
  {
   "cell_type": "markdown",
   "metadata": {},
   "source": [
    "### Uppercase the content of all columns"
   ]
  },
  {
   "cell_type": "code",
   "execution_count": null,
   "metadata": {},
   "outputs": [],
   "source": [
    "print('Uppercasing columns: ', end='')\n",
    "for col, dt in shootings.dtypes.items():\n",
    "    if dt == 'object':\n",
    "        print(col, end=' ')\n",
    "        shootings[col] = shootings[col].apply(lambda s: s if type(s) != str else s.upper())"
   ]
  },
  {
   "cell_type": "markdown",
   "metadata": {},
   "source": [
    "### Standardize police agency names"
   ]
  },
  {
   "cell_type": "code",
   "execution_count": null,
   "metadata": {},
   "outputs": [],
   "source": [
    "for i in range(1, 11):\n",
    "    shootings['agency_name_%d' % i] = shootings['agency_name_%d' % i].apply(standardize_agency_name)\n",
    "\n",
    "shootings.head()"
   ]
  },
  {
   "cell_type": "markdown",
   "metadata": {
    "collapsed": true
   },
   "source": [
    "### Add county information"
   ]
  },
  {
   "cell_type": "code",
   "execution_count": null,
   "metadata": {},
   "outputs": [],
   "source": [
    "dept_to_county = dict(zip(agencies.agency, agencies.county))\n",
    "for i in range(1, 11):\n",
    "    shootings = insert_col_after(\n",
    "        shootings,\n",
    "        shootings['agency_name_%d' % i].apply(lambda d: dept_to_county.get(d, np.nan)),\n",
    "        'agency_county_%d' % i,\n",
    "        'agency_city_%d' % i)\n",
    "\n",
    "shootings.agency_county_1.isnull().value_counts()"
   ]
  },
  {
   "cell_type": "code",
   "execution_count": null,
   "metadata": {},
   "outputs": [],
   "source": [
    "shootings[shootings.agency_county_1.isnull()].agency_name_1.tolist()"
   ]
  },
  {
   "cell_type": "markdown",
   "metadata": {},
   "source": [
    "### Other analysis revealed some typos with agency name. We'll demonstrate them here before correcting."
   ]
  },
  {
   "cell_type": "code",
   "execution_count": null,
   "metadata": {},
   "outputs": [],
   "source": [
    "tmp = shootings.groupby(['incident_county', 'incident_city']).size().sort_values().unstack().T\n",
    "tmax = tmp.max()\n",
    "county_to_biggest_city = {}\n",
    "for c in tmp.columns:\n",
    "    x = tmp[c][tmp[c] == tmax[c]]\n",
    "    county_to_biggest_city[c] = x.index[0]"
   ]
  },
  {
   "cell_type": "code",
   "execution_count": null,
   "metadata": {},
   "outputs": [],
   "source": [
    "TOP5 = list(shootings.incident_county.value_counts().head(5).index)\n",
    "TOP5_CITIES = [county_to_biggest_city.get(c) for c in TOP5]\n",
    "print(TOP5)\n",
    "print(TOP5_CITIES)"
   ]
  },
  {
   "cell_type": "code",
   "execution_count": null,
   "metadata": {},
   "outputs": [],
   "source": [
    "for county in TOP5:\n",
    "    print(\"-- %s --\" % county)\n",
    "    print(shootings[shootings.incident_county == county]['agency_county_1'].value_counts())\n",
    "    print()"
   ]
  },
  {
   "cell_type": "markdown",
   "metadata": {},
   "source": [
    "### 'HARRIS' and 'HARRISON' counties are nowhere near each other, so it seems more likely that there is a typo or data error than that four incidents in HARRIS county involved officers from HARRISON county. Let's check them out."
   ]
  },
  {
   "cell_type": "code",
   "execution_count": null,
   "metadata": {},
   "outputs": [],
   "source": [
    "shootings[(shootings.incident_county == 'HARRIS') & (shootings.agency_county_1 == 'HARRISON')]"
   ]
  },
  {
   "cell_type": "markdown",
   "metadata": {},
   "source": [
    "### Yup. These are officers from Baytown and Spring, which border Houston (Harris, not Harrison county). Their emails are also from `hctx.net` which is Harris County. Their given agency names must be errors. "
   ]
  },
  {
   "cell_type": "code",
   "execution_count": null,
   "metadata": {},
   "outputs": [],
   "source": [
    "city_county_corrections = [\n",
    "    ['BAYTOWN', 'HARRISON', 'HARRIS'],\n",
    "    ['SPRING', 'HARRISON', 'HARRIS'],\n",
    "]\n",
    "corrected = set()\n",
    "for city, wrong_county, right_county in city_county_corrections:\n",
    "    for i in range(1, 11):\n",
    "        tmp = shootings[(shootings['agency_city_%d' % i] == city) & (shootings['agency_county_%d' % i] == wrong_county)]\n",
    "        if len(tmp) == 0:\n",
    "            break\n",
    "        shootings.loc[tmp.index, 'agency_county_%d' % i] = right_county\n",
    "        for idx, name in tmp['agency_name_%d' % i].items():\n",
    "            shootings.loc[idx, 'agency_name_%d' % i] = name.replace(wrong_county, right_county)\n",
    "            corrected.add(idx)\n",
    "\n",
    "shootings.loc[corrected]"
   ]
  },
  {
   "cell_type": "markdown",
   "metadata": {},
   "source": [
    "### While we're at it, are there any mistakes the other way? (Harris county officers showing up in Harrison county)\n",
    "#### Answer: no."
   ]
  },
  {
   "cell_type": "code",
   "execution_count": null,
   "metadata": {},
   "outputs": [],
   "source": [
    "shootings[(shootings.incident_county == 'HARRISON') & (shootings.agency_county_1 == 'HARRIS')]"
   ]
  },
  {
   "cell_type": "markdown",
   "metadata": {},
   "source": [
    "### Flag records that are part of the same incident"
   ]
  },
  {
   "cell_type": "code",
   "execution_count": null,
   "metadata": {},
   "outputs": [],
   "source": [
    "incident_records = shootings.groupby(['incident_address', 'date_incident']).size().sort_values(ascending=False).to_dict()\n",
    "num_records = []\n",
    "for address, date in zip(shootings.incident_address, shootings.date_incident):\n",
    "    if pd.notnull(address) and pd.notnull(date):\n",
    "        num_records.append(incident_records[(address, date)])\n",
    "    else:\n",
    "        num_records.append(1)\n",
    "# TODO(wetchler) -- add this step to the data cleaning\n",
    "shootings['num_rows_about_this_incident'] = num_records"
   ]
  },
  {
   "cell_type": "markdown",
   "metadata": {},
   "source": [
    "### Add a column for full name"
   ]
  },
  {
   "cell_type": "code",
   "execution_count": null,
   "metadata": {},
   "outputs": [],
   "source": [
    "s = shootings.civilian_name_first.fillna('') + ' ' + shootings.civilian_name_last.fillna('')\n",
    "s = s.apply(lambda s: ' '.join(s.strip().split()))\n",
    "s[s == ''] = np.nan\n",
    "shootings = insert_col_after(shootings, s, 'civilian_name_full', 'civilian_name_last')"
   ]
  },
  {
   "cell_type": "markdown",
   "metadata": {},
   "source": [
    "### Re-order columns more sensibly\n",
    "* **Disclaimer**: This code is gross and probably an OCD attempt to make the final result look nice. Just destroy this cell if it proves too confusing or opaque."
   ]
  },
  {
   "cell_type": "code",
   "execution_count": null,
   "metadata": {},
   "outputs": [],
   "source": [
    "section_order = ['date', 'incident', 'civilian', 'agency', 'news']\n",
    "agency_fields = ['name', 'report_date', 'city', 'county', 'zip', 'name_person_filling_out', 'email_person_filling_out']\n",
    "officer_fields = ['age', 'race', 'gender', 'on_duty', 'caused_injury']\n",
    "new_col_order = []\n",
    "remaining = set(shootings.columns)\n",
    "for s in section_order:\n",
    "    if s == 'agency':\n",
    "        for i in range(1, 11):\n",
    "            for field in officer_fields:\n",
    "                c = 'officer_%s_%d' % (field, i)\n",
    "                if c in remaining:\n",
    "                    new_col_order.append(c)\n",
    "                    remaining.remove(c)\n",
    "            for field in agency_fields:\n",
    "                c = 'agency_%s_%d' % (field, i)\n",
    "                new_col_order.append(c)\n",
    "                remaining.remove(c)\n",
    "    else:\n",
    "        this_section_cols = []\n",
    "        for c in shootings.columns:\n",
    "            if c in remaining and c.startswith(s + '_'):\n",
    "                this_section_cols.append(c)\n",
    "                remaining.remove(c)\n",
    "        new_col_order.extend(this_section_cols)\n",
    "\n",
    "new_col_order.extend(sorted(remaining))\n",
    "shape_before = shootings.shape\n",
    "shootings = shootings[new_col_order]\n",
    "assert(shootings.shape == shape_before)"
   ]
  },
  {
   "cell_type": "code",
   "execution_count": null,
   "metadata": {},
   "outputs": [],
   "source": [
    "shootings.sort_values(['date_incident', 'incident_county', 'agency_county_1'], inplace=True)\n",
    "shootings.head(100)"
   ]
  },
  {
   "cell_type": "markdown",
   "metadata": {},
   "source": [
    "### 3. Write"
   ]
  },
  {
   "cell_type": "code",
   "execution_count": null,
   "metadata": {},
   "outputs": [],
   "source": [
    "if os.environ.get('CLEAN_OIS_DW') != 'TRUE':\n",
    "    print(\"Not syncing to Data.world. To do so, set CLEAN_OIS_DW to 'TRUE'\")\n",
    "if os.environ.get('CLEAN_OIS_S3') != 'TRUE':\n",
    "    print(\"Not writing to s3. To do so, set CLEAN_OIS_S3 to 'TRUE'\")"
   ]
  },
  {
   "cell_type": "code",
   "execution_count": null,
   "metadata": {},
   "outputs": [],
   "source": [
    "if os.environ.get('CLEAN_OIS_DW') == 'TRUE':\n",
    "    with dw.open_remote_file(DTW_OIS_PROJECT, CLEANED_FILENAME) as w:\n",
    "        print(\"Writing to data.world: %s/%s\" % (DTW_OIS_PROJECT, CLEANED_FILENAME))\n",
    "        shootings.to_csv(w, index=False)"
   ]
  },
  {
   "cell_type": "code",
   "execution_count": null,
   "metadata": {},
   "outputs": [],
   "source": [
    "if os.environ.get('CLEAN_OIS_S3') == 'TRUE':\n",
    "    csv_buffer = StringIO()\n",
    "    shootings.to_csv(csv_buffer, index=False)\n",
    "    s3_resource = boto3.resource('s3')\n",
    "    s3_resource.Object('tji-public-cleaned-datasets', CLEANED_FILENAME).put(Body=csv_buffer.getvalue())\n",
    "    "
   ]
  },
  {
   "cell_type": "code",
   "execution_count": null,
   "metadata": {},
   "outputs": [],
   "source": []
  }
 ],
 "metadata": {
  "kernelspec": {
   "display_name": "Python 3",
   "language": "python",
   "name": "python3"
  },
  "language_info": {
   "codemirror_mode": {
    "name": "ipython",
    "version": 3
   },
   "file_extension": ".py",
   "mimetype": "text/x-python",
   "name": "python",
   "nbconvert_exporter": "python",
   "pygments_lexer": "ipython3",
   "version": "3.7.1"
  }
 },
 "nbformat": 4,
 "nbformat_minor": 2
}
