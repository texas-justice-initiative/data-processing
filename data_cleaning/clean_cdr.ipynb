{
 "cells": [
  {
   "cell_type": "markdown",
   "metadata": {},
   "source": [
    "# Clean and reformat CDR data from its multi-tab excel file into a single csv\n",
    "\n",
    "### About the data\n",
    "\n",
    "CDR data is tricky -- the form used by law enforcement has changed over time, first in 2005, then again in 2016. The data before 2005 is known to be be sparse and poorly enforced, so we ignore those entries. The 2005 and 2016 versions of the form have some overlap and some differences, so we must be careful in how we merge them.\n",
    "\n",
    "Further, some older deaths that happened in an inpatient setting are not reported in these dataset. In the past, for the first version of the TJI website, these records were requested. We have an \"old master file\" that was used in the first TJI website that includes these deaths, but also many others. We need to load this file and include any records that we don't yet have.\n",
    "\n",
    "**In this repo you can find blank versions of the [2005](https://github.com/texas-justice-initiative/data-processing/blob/master/forms/CDR%20Form%20Version%202005.pdf) and [2016](https://github.com/texas-justice-initiative/data-processing/blob/master/forms/CDR%20Form%20Version%202016.pdf) forms, to see for yourself exactly what fields are collected and how.**\n",
    "\n",
    "### Datasets used\n",
    "\n",
    "\n",
    "* Input:\n",
    "  * `tji/raw-and-processing/CDR - All Reports.xlsx`\n",
    "  * `tji/raw-and-processing/reformatted_cdr_2017_master_file`\n",
    "  * `tji/auxiliary-datasets/agencies_and_counties`\n",
    "* Output:\n",
    "  * `tji/deaths-in-custody/cleaned_custodial_death_reports.csv`\n",
    "  \n",
    "##### Author: Everett Wetchler (everett.wetchler@gmail.com)"
   ]
  },
  {
   "cell_type": "markdown",
   "metadata": {},
   "source": [
    "## STEPS\n",
    "\n",
    "**1. Setup and read data**\n",
    "- 1a. Configuration and imports\n",
    "    - Constants\n",
    "    - Libraries\n",
    "- 1.b Read data\n",
    "    - Drop records with death date pre-2005\n",
    "- 1c. Helper methods/code\n",
    "    \n",
    "\n",
    "**2. Join disparate datasets, rename and reformat columns**\n",
    "- 2a. Reduce columns used and rename\n",
    "    - Drop columns that we either don't need or haven't written code to clean yet\n",
    "    - Rename columns to be more machine friendly\n",
    "- 2b. Add rows from the old master file to get BJS inpatient deaths \n",
    "    - Merge the \"old master\" file with the other CDR records\n",
    "- 2c. Column type conversions\n",
    "    - Convert date columns\n",
    "    - Float columns covert from string\n",
    "    - Upcase string columns\n",
    "    - Add `death_date` column\n",
    "    \n",
    "**3. Begin Deep Cleaning**\n",
    "- 3a. Standardize `race` values\n",
    "- 3b. Standardize agency information\n",
    "- 3c. Fix death-information related columns\n",
    "    - Fix `Death Location`\n",
    "    - fix `Means of Death`\n",
    "    - Fix `manner_of_death` and `manner of death`\n",
    "    - Fix `pre_existing_medical_condition`\n",
    "    - Fix `who_caused_the_death`\n",
    "    - Fix `medical_examinor_coroner_evalution`\n",
    "- 3d. Fix other columns one-by-one\n",
    "    - Standardize `gender`\n",
    "    - Fix `were_there_charges`\n",
    "    - Fix `type_of_custody`\n",
    "    - Fix `specific_type_of_custody_facility`\n",
    "- 3e. Identify and drop a range of unnecessary columns\n",
    "    - `entry_date_time_n_a` and `custody_date_na`\n",
    "    - `department_type`\n",
    "\n",
    "**4. Deduplication**\n",
    "- 4a. Whole row duplicates\n",
    "- 4b. Define some dedup functions\n",
    "- 4c. Dedup\n",
    "- 4d. Inspect results\n",
    "\n",
    "**5. Add new columns, rename/reorder, otherwise finalize dataframe**\n",
    "- 5a. New columns and bookkeeping columns\n",
    "    - Column for the time (in days) between incarceration (or incident) and death\n",
    "- 5b. Rename and reorder columns sensibly\n",
    "- 5c. Final look before writing\n",
    "\n",
    "\n",
    "**6. Write**\n",
    "\n",
    "\n",
    "**7. TODOs -- problems that still exist in the data and need work**"
   ]
  },
  {
   "cell_type": "markdown",
   "metadata": {},
   "source": [
    "---\n",
    "Let's begin..."
   ]
  },
  {
   "cell_type": "markdown",
   "metadata": {},
   "source": [
    "<div style=\"background-color: #080;height: 20px\"></div>\n",
    "\n",
    "# 1. Setup and read data"
   ]
  },
  {
   "cell_type": "markdown",
   "metadata": {},
   "source": [
    "<div style=\"background-color: #008;height: 20px\"></div>\n",
    "\n",
    "## 1a. Configuration and imports"
   ]
  },
  {
   "cell_type": "code",
   "execution_count": 1,
   "metadata": {
    "ExecuteTime": {
     "end_time": "2020-12-21T14:12:41.702128Z",
     "start_time": "2020-12-21T14:12:41.698770Z"
    },
    "scrolled": false
   },
   "outputs": [],
   "source": [
    "# Constants so we don't have to hunt through the code to tweak these in many places\n",
    "\n",
    "DW_PROJECT_CDR = 'tji/deaths-in-custody'\n",
    "DW_PROJECT_OIS = 'tji/officer-involved-shootings'\n",
    "DW_PROJECT_AUXILIARY_DATASETS = 'tji/auxiliary-datasets'\n",
    "DW_PROJECT_RAW_AND_PROCESSING = 'tji/raw-and-processing'\n",
    "\n",
    "OUTPUT_DW_PROJECT = DW_PROJECT_CDR\n",
    "OUTPUT_FILENAME = 'cleaned_custodial_death_reports.csv'"
   ]
  },
  {
   "cell_type": "code",
   "execution_count": 2,
   "metadata": {
    "ExecuteTime": {
     "end_time": "2020-12-21T14:12:43.170298Z",
     "start_time": "2020-12-21T14:12:41.708423Z"
    }
   },
   "outputs": [
    {
     "name": "stdout",
     "output_type": "stream",
     "text": [
      "Everett Wetchler, Aiden Yang 2020-12-21 09:12:43 EST \n",
      "\n",
      "numpy 1.17.2\n",
      "pandas 1.1.2\n",
      "datadotworld 1.7.0\n",
      "watermark 2.0.2\n"
     ]
    }
   ],
   "source": [
    "# Import ALL the things\n",
    "\n",
    "import os\n",
    "import sys\n",
    "import json\n",
    "import boto3\n",
    "import datetime\n",
    "import numpy as np\n",
    "import pandas as pd\n",
    "import datadotworld as dw\n",
    "\n",
    "from io import StringIO\n",
    "from lib.cleaning_tools import *\n",
    "\n",
    "sys.path.append(os.getcwd() + '/../data_cleaning')\n",
    "\n",
    "pd.set_option('display.max_rows', 100)\n",
    "pd.set_option('display.max_columns', 100)\n",
    "\n",
    "%load_ext watermark\n",
    "%watermark -a \"Everett Wetchler, Aiden Yang\" -d -t -z -w -p numpy,pandas,datadotworld"
   ]
  },
  {
   "cell_type": "code",
   "execution_count": 3,
   "metadata": {
    "ExecuteTime": {
     "end_time": "2020-12-21T14:12:43.177199Z",
     "start_time": "2020-12-21T14:12:43.172568Z"
    }
   },
   "outputs": [],
   "source": [
    "# Custom libraries specific to this project\n",
    "from lib.standardize_police_agency_names import standardize_agency_name"
   ]
  },
  {
   "cell_type": "markdown",
   "metadata": {},
   "source": [
    "<div style=\"background-color: #008;height: 20px\"></div>\n",
    "\n",
    "## 1.b Read data and take a glance"
   ]
  },
  {
   "cell_type": "code",
   "execution_count": 4,
   "metadata": {
    "ExecuteTime": {
     "end_time": "2020-12-21T14:12:45.758909Z",
     "start_time": "2020-12-21T14:12:43.180659Z"
    }
   },
   "outputs": [],
   "source": [
    "datasets = dw.load_dataset(DW_PROJECT_AUXILIARY_DATASETS, force_update=True)\n",
    "agency_county = datasets.dataframes['agencies_and_counties']\n",
    "agency_county = agency_county.set_index('agency')['county'].to_dict()"
   ]
  },
  {
   "cell_type": "code",
   "execution_count": 5,
   "metadata": {
    "ExecuteTime": {
     "end_time": "2020-12-21T14:13:14.370707Z",
     "start_time": "2020-12-21T14:12:45.763490Z"
    }
   },
   "outputs": [
    {
     "name": "stdout",
     "output_type": "stream",
     "text": [
      "Writing excel file to temp file: /var/folders/05/yfrpv8g91yq7hby75fzhjtj40000gn/T/tmp_qxzxxwq\n",
      "Read 68 raw CDR records. Ignoring 5468 from older form versions (pre-2005).\n",
      "Keeping 5156 records using form version 2005, and 4764 using version 2016 (keeping 9920 in total)\n"
     ]
    }
   ],
   "source": [
    "dfs = read_dtw_excel(DW_PROJECT_RAW_AND_PROCESSING, 'original/CDR Reports All.xlsx')\n",
    "dfs['Form Version 2005']['form_version'] = 'V_2005'\n",
    "dfs['Form Version 2016']['form_version'] = 'V_2016'\n",
    "dfs['Older Forms']['form_version'] = 'V_OLDER'\n",
    "cdr = pd.concat([dfs['Form Version 2005'], dfs['Form Version 2016']])\n",
    "print('Read %d raw CDR records. Ignoring %d from older form versions (pre-2005).' % (\n",
    "    sum(len(x) for x in dfs), len(dfs['Older Forms'])))\n",
    "print('Keeping %d records using form version 2005, and %d using version 2016 (keeping %d in total)' % (\n",
    "    len(dfs['Form Version 2005']), len(dfs['Form Version 2016']), len(cdr)))"
   ]
  },
  {
   "cell_type": "markdown",
   "metadata": {},
   "source": [
    "### In theory, all these records should be for deaths in 2005 or later. Let's double check and drop any miscreants."
   ]
  },
  {
   "cell_type": "code",
   "execution_count": 6,
   "metadata": {
    "ExecuteTime": {
     "end_time": "2020-12-21T14:13:14.377671Z",
     "start_time": "2020-12-21T14:13:14.373054Z"
    }
   },
   "outputs": [],
   "source": [
    "assert cdr['Death Date and Time'].isnull().sum() == 0"
   ]
  },
  {
   "cell_type": "code",
   "execution_count": 7,
   "metadata": {
    "ExecuteTime": {
     "end_time": "2020-12-21T14:13:14.388142Z",
     "start_time": "2020-12-21T14:13:14.379669Z"
    }
   },
   "outputs": [],
   "source": [
    "cdr['Death Date and Time'] = pd.to_datetime(cdr['Death Date and Time'])\n"
   ]
  },
  {
   "cell_type": "code",
   "execution_count": 8,
   "metadata": {
    "ExecuteTime": {
     "end_time": "2020-12-21T14:13:14.471550Z",
     "start_time": "2020-12-21T14:13:14.389887Z"
    }
   },
   "outputs": [
    {
     "name": "stdout",
     "output_type": "stream",
     "text": [
      "Dropped 6 (of 9920) reports for deaths before 2005, leaving 9914\n"
     ]
    }
   ],
   "source": [
    "before = len(cdr)\n",
    "cdr = cdr[cdr['Death Date and Time'].dt.year >= 2005]\n",
    "after = len(cdr)\n",
    "print('Dropped %d (of %d) reports for deaths before 2005, leaving %d' % (before - after, before, after))"
   ]
  },
  {
   "cell_type": "code",
   "execution_count": 9,
   "metadata": {
    "ExecuteTime": {
     "end_time": "2020-12-21T14:13:14.482252Z",
     "start_time": "2020-12-21T14:13:14.476619Z"
    }
   },
   "outputs": [
    {
     "name": "stdout",
     "output_type": "stream",
     "text": [
      "Data goes from 2005-01-01 to 2020-12-09\n"
     ]
    }
   ],
   "source": [
    "print(\"Data goes from %s to %s\" % (cdr['Death Date and Time'].min().strftime(\"%Y-%m-%d\"),\n",
    "                                   cdr['Death Date and Time'].max().strftime(\"%Y-%m-%d\")))"
   ]
  },
  {
   "cell_type": "markdown",
   "metadata": {},
   "source": [
    "### A quick look at the raw data"
   ]
  },
  {
   "cell_type": "code",
   "execution_count": 10,
   "metadata": {
    "ExecuteTime": {
     "end_time": "2020-12-21T14:13:14.546460Z",
     "start_time": "2020-12-21T14:13:14.485408Z"
    }
   },
   "outputs": [
    {
     "data": {
      "text/html": [
       "<div>\n",
       "<style scoped>\n",
       "    .dataframe tbody tr th:only-of-type {\n",
       "        vertical-align: middle;\n",
       "    }\n",
       "\n",
       "    .dataframe tbody tr th {\n",
       "        vertical-align: top;\n",
       "    }\n",
       "\n",
       "    .dataframe thead th {\n",
       "        text-align: right;\n",
       "    }\n",
       "</style>\n",
       "<table border=\"1\" class=\"dataframe\">\n",
       "  <thead>\n",
       "    <tr style=\"text-align: right;\">\n",
       "      <th></th>\n",
       "      <th>CDR: CDR Name</th>\n",
       "      <th>Report Date</th>\n",
       "      <th>Status</th>\n",
       "      <th>Version Type</th>\n",
       "      <th>Version Number</th>\n",
       "      <th>Department Type</th>\n",
       "      <th>Agency Name</th>\n",
       "      <th>Agency Phone</th>\n",
       "      <th>Agency Address</th>\n",
       "      <th>Agency City</th>\n",
       "      <th>Agency County</th>\n",
       "      <th>Agency State</th>\n",
       "      <th>Agency Zip</th>\n",
       "      <th>Director Salutation</th>\n",
       "      <th>Director First Name</th>\n",
       "      <th>Director Middle Name</th>\n",
       "      <th>Director Last Name</th>\n",
       "      <th>Reporter Name Original CDR</th>\n",
       "      <th>Reporter Email</th>\n",
       "      <th>Street Address</th>\n",
       "      <th>City</th>\n",
       "      <th>County</th>\n",
       "      <th>Type of Custody</th>\n",
       "      <th>Specific Type of Custody/Facility</th>\n",
       "      <th>Custody Type Facility</th>\n",
       "      <th>Entry Date Time</th>\n",
       "      <th>Entry Date Time N/A</th>\n",
       "      <th>Death Location</th>\n",
       "      <th>Death Location Elsewhere</th>\n",
       "      <th>First Name</th>\n",
       "      <th>Middle Name</th>\n",
       "      <th>Last Name</th>\n",
       "      <th>Suffix</th>\n",
       "      <th>Date of Birth</th>\n",
       "      <th>Sex</th>\n",
       "      <th>Ethnicity</th>\n",
       "      <th>Ethnicity Other</th>\n",
       "      <th>Death Date and Time</th>\n",
       "      <th>Age At Time Of Death</th>\n",
       "      <th>Date/Time of Custody or Incident</th>\n",
       "      <th>Custody Date NA</th>\n",
       "      <th>Medical Examinor/Coroner Evalution?</th>\n",
       "      <th>Manner of Death</th>\n",
       "      <th>Manner of Death Description</th>\n",
       "      <th>Death Reason</th>\n",
       "      <th>Medical Cause of Death</th>\n",
       "      <th>Medical Treatment</th>\n",
       "      <th>Medical Treatment Description</th>\n",
       "      <th>Who caused the death?</th>\n",
       "      <th>Death Causer Other</th>\n",
       "      <th>Type of Death Weapon</th>\n",
       "      <th>Death Weapon Other Description</th>\n",
       "      <th>Pre existing medical condition?</th>\n",
       "      <th>Means of Death</th>\n",
       "      <th>Means of Death Other</th>\n",
       "      <th>Offense 1</th>\n",
       "      <th>Offense 2</th>\n",
       "      <th>Offense 3</th>\n",
       "      <th>Were the Charges:</th>\n",
       "      <th>Type of Offense</th>\n",
       "      <th>Type of Offense, Other</th>\n",
       "      <th>Injured By</th>\n",
       "      <th>Threaten the officer(s) involved</th>\n",
       "      <th>Resist being handcuffed or arrested?</th>\n",
       "      <th>Try to escape/flee from custody</th>\n",
       "      <th>Grab, hit or fight with the officer(s)</th>\n",
       "      <th>Other Behavior</th>\n",
       "      <th>Specify Other Behavior</th>\n",
       "      <th>Appear intoxicated (alcohol or drugs)</th>\n",
       "      <th>Use weapon threaten/assault officer(s)</th>\n",
       "      <th>Entry Behavior</th>\n",
       "      <th>Under Restraint</th>\n",
       "      <th>Type of Restraint</th>\n",
       "      <th>Other device, specify</th>\n",
       "      <th>form_version</th>\n",
       "    </tr>\n",
       "  </thead>\n",
       "  <tbody>\n",
       "    <tr>\n",
       "      <th>0</th>\n",
       "      <td>PA05001C</td>\n",
       "      <td>2005-03-02 14:48:00</td>\n",
       "      <td>Submitted</td>\n",
       "      <td>ORIGINAL VERSION</td>\n",
       "      <td>1</td>\n",
       "      <td>POLICE</td>\n",
       "      <td>Fort Worth Police Dept.</td>\n",
       "      <td>8178778022</td>\n",
       "      <td>350 W. Belknap</td>\n",
       "      <td>Fort Worth</td>\n",
       "      <td>TARRANT</td>\n",
       "      <td>TX</td>\n",
       "      <td>76102</td>\n",
       "      <td>Chief</td>\n",
       "      <td>Ralph</td>\n",
       "      <td>NaN</td>\n",
       "      <td>Mendoza</td>\n",
       "      <td>Renee Gray</td>\n",
       "      <td>renee.gray@oag.state.tx.us</td>\n",
       "      <td>1509 W. Hammond</td>\n",
       "      <td>Fort Worth</td>\n",
       "      <td>Tarrant</td>\n",
       "      <td>Police Custody (pre-booking)</td>\n",
       "      <td>Custody of Peace Officer during/fleeing arrest</td>\n",
       "      <td>NaN</td>\n",
       "      <td>NaT</td>\n",
       "      <td>1</td>\n",
       "      <td>At the crime/arrest scene</td>\n",
       "      <td>NaN</td>\n",
       "      <td>Dino</td>\n",
       "      <td>NaN</td>\n",
       "      <td>Gomez</td>\n",
       "      <td>NaN</td>\n",
       "      <td>1964-04-03</td>\n",
       "      <td>Male</td>\n",
       "      <td>Hispanic</td>\n",
       "      <td>NaN</td>\n",
       "      <td>2005-01-01 15:04:00</td>\n",
       "      <td>40</td>\n",
       "      <td>2005-01-01 15:04:00</td>\n",
       "      <td>0</td>\n",
       "      <td>Yes, results are available</td>\n",
       "      <td>Justifiable Homicide</td>\n",
       "      <td>NaN</td>\n",
       "      <td>Injuries only</td>\n",
       "      <td>Gunshot Wound to the Chest</td>\n",
       "      <td>Not Applicable</td>\n",
       "      <td>NaN</td>\n",
       "      <td>Law enforcement/correctional staff</td>\n",
       "      <td>NaN</td>\n",
       "      <td>Handgun</td>\n",
       "      <td>NaN</td>\n",
       "      <td>Not Applicable; cause of death was accidental ...</td>\n",
       "      <td>Firearm</td>\n",
       "      <td>NaN</td>\n",
       "      <td>Aggravated Assault</td>\n",
       "      <td>NaN</td>\n",
       "      <td>NaN</td>\n",
       "      <td>Not filed at time of death</td>\n",
       "      <td>NaN</td>\n",
       "      <td>NaN</td>\n",
       "      <td>Injured by Officer</td>\n",
       "      <td>Yes</td>\n",
       "      <td>Yes</td>\n",
       "      <td>Yes</td>\n",
       "      <td>No</td>\n",
       "      <td>0</td>\n",
       "      <td>NaN</td>\n",
       "      <td>No</td>\n",
       "      <td>1</td>\n",
       "      <td>NaN</td>\n",
       "      <td>No</td>\n",
       "      <td>NaN</td>\n",
       "      <td>NaN</td>\n",
       "      <td>V_2005</td>\n",
       "    </tr>\n",
       "    <tr>\n",
       "      <th>1</th>\n",
       "      <td>PA05002CJ</td>\n",
       "      <td>2005-03-03 14:07:00</td>\n",
       "      <td>Submitted</td>\n",
       "      <td>ORIGINAL VERSION</td>\n",
       "      <td>1</td>\n",
       "      <td>SHERIFF</td>\n",
       "      <td>Travis County Sheriff's Dept.</td>\n",
       "      <td>5128549770</td>\n",
       "      <td>P. O. Box 1748</td>\n",
       "      <td>Austin</td>\n",
       "      <td>TRAVIS</td>\n",
       "      <td>TX</td>\n",
       "      <td>78767</td>\n",
       "      <td>Sheriff</td>\n",
       "      <td>Margo</td>\n",
       "      <td>L.</td>\n",
       "      <td>Frasier</td>\n",
       "      <td>Renee Gray</td>\n",
       "      <td>renee.gray@oag.state.tx.us</td>\n",
       "      <td>3614 Bill Price Road</td>\n",
       "      <td>Del Valle</td>\n",
       "      <td>Travis</td>\n",
       "      <td>County Jail</td>\n",
       "      <td>Jail - multiple occupancy cell</td>\n",
       "      <td>NaN</td>\n",
       "      <td>2004-10-20 20:56:00</td>\n",
       "      <td>0</td>\n",
       "      <td>At medical facility</td>\n",
       "      <td>NaN</td>\n",
       "      <td>Michael</td>\n",
       "      <td>Darnell</td>\n",
       "      <td>Dickson</td>\n",
       "      <td>NaN</td>\n",
       "      <td>1953-03-04</td>\n",
       "      <td>Male</td>\n",
       "      <td>African-American</td>\n",
       "      <td>NaN</td>\n",
       "      <td>2005-01-01 15:59:00</td>\n",
       "      <td>51</td>\n",
       "      <td>2004-10-20 20:56:00</td>\n",
       "      <td>0</td>\n",
       "      <td>Yes, results are available</td>\n",
       "      <td>Natural Causes/Illness</td>\n",
       "      <td>Cardiac Arrest</td>\n",
       "      <td>Medical condition only (e.g. heart attack)</td>\n",
       "      <td>Myocardial infarction</td>\n",
       "      <td>Yes</td>\n",
       "      <td>Treatment for hypertension, administered Proca...</td>\n",
       "      <td>Not applicable; cause of death was suicide, in...</td>\n",
       "      <td>NaN</td>\n",
       "      <td>Not Applicable</td>\n",
       "      <td>NaN</td>\n",
       "      <td>Pre-existing medical condition</td>\n",
       "      <td>Not applicable; cause of death was intoxicatio...</td>\n",
       "      <td>NaN</td>\n",
       "      <td>Man/Del/Sell/Poss Controlled Substance</td>\n",
       "      <td>NaN</td>\n",
       "      <td>NaN</td>\n",
       "      <td>Filed</td>\n",
       "      <td>NaN</td>\n",
       "      <td>NaN</td>\n",
       "      <td>Injured by NA</td>\n",
       "      <td>No</td>\n",
       "      <td>No</td>\n",
       "      <td>No</td>\n",
       "      <td>No</td>\n",
       "      <td>0</td>\n",
       "      <td>NaN</td>\n",
       "      <td>No</td>\n",
       "      <td>0</td>\n",
       "      <td>Medical</td>\n",
       "      <td>No</td>\n",
       "      <td>NaN</td>\n",
       "      <td>NaN</td>\n",
       "      <td>V_2005</td>\n",
       "    </tr>\n",
       "    <tr>\n",
       "      <th>2</th>\n",
       "      <td>PA05003P</td>\n",
       "      <td>2005-03-03 14:16:00</td>\n",
       "      <td>Submitted</td>\n",
       "      <td>ORIGINAL VERSION</td>\n",
       "      <td>1</td>\n",
       "      <td>STAGENCY</td>\n",
       "      <td>Texas Department Of Criminal Justice</td>\n",
       "      <td>9364376716</td>\n",
       "      <td>P.O. Box 4003</td>\n",
       "      <td>Huntsville</td>\n",
       "      <td>TRAVIS</td>\n",
       "      <td>TX</td>\n",
       "      <td>773424003</td>\n",
       "      <td>Mr.</td>\n",
       "      <td>Chris</td>\n",
       "      <td>H.</td>\n",
       "      <td>Stallings</td>\n",
       "      <td>Renee Gray</td>\n",
       "      <td>renee.gray@oag.state.tx.us</td>\n",
       "      <td>21 FM 247</td>\n",
       "      <td>Huntsville</td>\n",
       "      <td>Walker</td>\n",
       "      <td>Penitentiary</td>\n",
       "      <td>TDCJ</td>\n",
       "      <td>Byrd</td>\n",
       "      <td>2004-12-17 09:00:00</td>\n",
       "      <td>0</td>\n",
       "      <td>At medical facility</td>\n",
       "      <td>NaN</td>\n",
       "      <td>Darryl</td>\n",
       "      <td>Glenn</td>\n",
       "      <td>Wallace</td>\n",
       "      <td>NaN</td>\n",
       "      <td>1960-12-03</td>\n",
       "      <td>Male</td>\n",
       "      <td>African-American</td>\n",
       "      <td>NaN</td>\n",
       "      <td>2005-01-02 04:35:00</td>\n",
       "      <td>44</td>\n",
       "      <td>2004-12-17 09:00:00</td>\n",
       "      <td>0</td>\n",
       "      <td>Yes, results are available</td>\n",
       "      <td>Natural Causes/Illness</td>\n",
       "      <td>Cardiac</td>\n",
       "      <td>Medical condition only (e.g. heart attack)</td>\n",
       "      <td>Cardiac death secondary to cardiac ischemia th...</td>\n",
       "      <td>Yes</td>\n",
       "      <td>Nitroglycerin</td>\n",
       "      <td>Not applicable; cause of death was suicide, in...</td>\n",
       "      <td>NaN</td>\n",
       "      <td>Not Applicable</td>\n",
       "      <td>NaN</td>\n",
       "      <td>Pre-existing medical condition</td>\n",
       "      <td>Not applicable; cause of death was intoxicatio...</td>\n",
       "      <td>NaN</td>\n",
       "      <td>Burglary of Habitation</td>\n",
       "      <td>NaN</td>\n",
       "      <td>NaN</td>\n",
       "      <td>Convicted</td>\n",
       "      <td>NaN</td>\n",
       "      <td>NaN</td>\n",
       "      <td>Injured by NA</td>\n",
       "      <td>No</td>\n",
       "      <td>No</td>\n",
       "      <td>No</td>\n",
       "      <td>No</td>\n",
       "      <td>0</td>\n",
       "      <td>NaN</td>\n",
       "      <td>No</td>\n",
       "      <td>0</td>\n",
       "      <td>NaN</td>\n",
       "      <td>No</td>\n",
       "      <td>NaN</td>\n",
       "      <td>NaN</td>\n",
       "      <td>V_2005</td>\n",
       "    </tr>\n",
       "    <tr>\n",
       "      <th>3</th>\n",
       "      <td>PA05004C</td>\n",
       "      <td>2005-03-03 14:40:00</td>\n",
       "      <td>Submitted</td>\n",
       "      <td>ORIGINAL VERSION</td>\n",
       "      <td>1</td>\n",
       "      <td>POLICE</td>\n",
       "      <td>San Antonio Police Dept.</td>\n",
       "      <td>2102077449</td>\n",
       "      <td>214 W. Nueva, Suite 331</td>\n",
       "      <td>San Antonio</td>\n",
       "      <td>BEXAR</td>\n",
       "      <td>TX</td>\n",
       "      <td>78207</td>\n",
       "      <td>Chief</td>\n",
       "      <td>Albert</td>\n",
       "      <td>NaN</td>\n",
       "      <td>Ortiz</td>\n",
       "      <td>Renee Gray</td>\n",
       "      <td>renee.gray@oag.state.tx.us</td>\n",
       "      <td>2102 Goliad Road</td>\n",
       "      <td>San Antonio</td>\n",
       "      <td>Bexar</td>\n",
       "      <td>Police Custody (pre-booking)</td>\n",
       "      <td>Custody of Peace Officer during/fleeing arrest</td>\n",
       "      <td>NaN</td>\n",
       "      <td>NaT</td>\n",
       "      <td>1</td>\n",
       "      <td>At the crime/arrest scene</td>\n",
       "      <td>NaN</td>\n",
       "      <td>Albert</td>\n",
       "      <td>Chavez</td>\n",
       "      <td>Enriquez</td>\n",
       "      <td>NaN</td>\n",
       "      <td>1983-11-28</td>\n",
       "      <td>Male</td>\n",
       "      <td>Hispanic</td>\n",
       "      <td>NaN</td>\n",
       "      <td>2005-01-03 15:00:00</td>\n",
       "      <td>21</td>\n",
       "      <td>2005-01-03 14:50:00</td>\n",
       "      <td>0</td>\n",
       "      <td>Yes, results are available</td>\n",
       "      <td>Justifiable Homicide</td>\n",
       "      <td>NaN</td>\n",
       "      <td>Injuries only</td>\n",
       "      <td>Multiple Gunshot Wounds</td>\n",
       "      <td>Not Applicable</td>\n",
       "      <td>NaN</td>\n",
       "      <td>Law enforcement/correctional staff</td>\n",
       "      <td>NaN</td>\n",
       "      <td>Handgun</td>\n",
       "      <td>NaN</td>\n",
       "      <td>Not Applicable; cause of death was accidental ...</td>\n",
       "      <td>Firearm</td>\n",
       "      <td>NaN</td>\n",
       "      <td>Aggravated Robbery</td>\n",
       "      <td>NaN</td>\n",
       "      <td>NaN</td>\n",
       "      <td>Not filed at time of death</td>\n",
       "      <td>NaN</td>\n",
       "      <td>NaN</td>\n",
       "      <td>Injured by Officer</td>\n",
       "      <td>Yes</td>\n",
       "      <td>Yes</td>\n",
       "      <td>Yes</td>\n",
       "      <td>Yes</td>\n",
       "      <td>0</td>\n",
       "      <td>NaN</td>\n",
       "      <td>No</td>\n",
       "      <td>1</td>\n",
       "      <td>NaN</td>\n",
       "      <td>No</td>\n",
       "      <td>NaN</td>\n",
       "      <td>NaN</td>\n",
       "      <td>V_2005</td>\n",
       "    </tr>\n",
       "    <tr>\n",
       "      <th>4</th>\n",
       "      <td>PA05005C</td>\n",
       "      <td>2005-03-03 14:51:00</td>\n",
       "      <td>Submitted</td>\n",
       "      <td>ORIGINAL VERSION</td>\n",
       "      <td>1</td>\n",
       "      <td>POLICE</td>\n",
       "      <td>Houston Police Dept.</td>\n",
       "      <td>7133081778</td>\n",
       "      <td>1200 Travis, 17th Floor</td>\n",
       "      <td>Houston</td>\n",
       "      <td>HARRIS</td>\n",
       "      <td>TX</td>\n",
       "      <td>77002</td>\n",
       "      <td>Chief</td>\n",
       "      <td>Clarence</td>\n",
       "      <td>O.</td>\n",
       "      <td>Bradford</td>\n",
       "      <td>Renee Gray</td>\n",
       "      <td>renee.gray@oag.state.tx.us</td>\n",
       "      <td>3600 block of Telephone Rd</td>\n",
       "      <td>Houston</td>\n",
       "      <td>Harris</td>\n",
       "      <td>Police Custody (pre-booking)</td>\n",
       "      <td>Custody of Peace Officer during/fleeing arrest</td>\n",
       "      <td>NaN</td>\n",
       "      <td>NaT</td>\n",
       "      <td>1</td>\n",
       "      <td>At the crime/arrest scene</td>\n",
       "      <td>NaN</td>\n",
       "      <td>Alex</td>\n",
       "      <td>NaN</td>\n",
       "      <td>Mendez</td>\n",
       "      <td>NaN</td>\n",
       "      <td>1978-12-30</td>\n",
       "      <td>Male</td>\n",
       "      <td>Hispanic</td>\n",
       "      <td>NaN</td>\n",
       "      <td>2005-01-03 17:15:00</td>\n",
       "      <td>26</td>\n",
       "      <td>2005-01-03 17:15:00</td>\n",
       "      <td>0</td>\n",
       "      <td>Yes, results are available</td>\n",
       "      <td>Justifiable Homicide</td>\n",
       "      <td>NaN</td>\n",
       "      <td>Injuries only</td>\n",
       "      <td>Multiple Gunshot Wounds</td>\n",
       "      <td>Not Applicable</td>\n",
       "      <td>NaN</td>\n",
       "      <td>Law enforcement/correctional staff</td>\n",
       "      <td>NaN</td>\n",
       "      <td>Handgun</td>\n",
       "      <td>NaN</td>\n",
       "      <td>Not Applicable; cause of death was accidental ...</td>\n",
       "      <td>Firearm</td>\n",
       "      <td>NaN</td>\n",
       "      <td>Traffic Violation</td>\n",
       "      <td>NaN</td>\n",
       "      <td>NaN</td>\n",
       "      <td>Not filed at time of death</td>\n",
       "      <td>NaN</td>\n",
       "      <td>Traffic Violation</td>\n",
       "      <td>Injured by Officer</td>\n",
       "      <td>Yes</td>\n",
       "      <td>No</td>\n",
       "      <td>No</td>\n",
       "      <td>No</td>\n",
       "      <td>0</td>\n",
       "      <td>NaN</td>\n",
       "      <td>No</td>\n",
       "      <td>1</td>\n",
       "      <td>NaN</td>\n",
       "      <td>No</td>\n",
       "      <td>NaN</td>\n",
       "      <td>NaN</td>\n",
       "      <td>V_2005</td>\n",
       "    </tr>\n",
       "  </tbody>\n",
       "</table>\n",
       "</div>"
      ],
      "text/plain": [
       "  CDR: CDR Name         Report Date     Status      Version Type  \\\n",
       "0      PA05001C 2005-03-02 14:48:00  Submitted  ORIGINAL VERSION   \n",
       "1     PA05002CJ 2005-03-03 14:07:00  Submitted  ORIGINAL VERSION   \n",
       "2      PA05003P 2005-03-03 14:16:00  Submitted  ORIGINAL VERSION   \n",
       "3      PA05004C 2005-03-03 14:40:00  Submitted  ORIGINAL VERSION   \n",
       "4      PA05005C 2005-03-03 14:51:00  Submitted  ORIGINAL VERSION   \n",
       "\n",
       "   Version Number Department Type                           Agency Name  \\\n",
       "0               1          POLICE               Fort Worth Police Dept.   \n",
       "1               1         SHERIFF         Travis County Sheriff's Dept.   \n",
       "2               1        STAGENCY  Texas Department Of Criminal Justice   \n",
       "3               1          POLICE              San Antonio Police Dept.   \n",
       "4               1          POLICE                  Houston Police Dept.   \n",
       "\n",
       "  Agency Phone           Agency Address  Agency City Agency County  \\\n",
       "0   8178778022           350 W. Belknap   Fort Worth       TARRANT   \n",
       "1   5128549770           P. O. Box 1748       Austin        TRAVIS   \n",
       "2   9364376716            P.O. Box 4003   Huntsville        TRAVIS   \n",
       "3   2102077449  214 W. Nueva, Suite 331  San Antonio         BEXAR   \n",
       "4   7133081778  1200 Travis, 17th Floor      Houston        HARRIS   \n",
       "\n",
       "  Agency State  Agency Zip Director Salutation Director First Name  \\\n",
       "0           TX       76102               Chief               Ralph   \n",
       "1           TX       78767             Sheriff               Margo   \n",
       "2           TX   773424003                 Mr.               Chris   \n",
       "3           TX       78207               Chief              Albert   \n",
       "4           TX       77002               Chief            Clarence   \n",
       "\n",
       "  Director Middle Name Director Last Name Reporter Name Original CDR  \\\n",
       "0                  NaN            Mendoza                 Renee Gray   \n",
       "1                   L.            Frasier                 Renee Gray   \n",
       "2                   H.          Stallings                 Renee Gray   \n",
       "3                  NaN              Ortiz                 Renee Gray   \n",
       "4                   O.           Bradford                 Renee Gray   \n",
       "\n",
       "               Reporter Email              Street Address         City  \\\n",
       "0  renee.gray@oag.state.tx.us             1509 W. Hammond   Fort Worth   \n",
       "1  renee.gray@oag.state.tx.us        3614 Bill Price Road    Del Valle   \n",
       "2  renee.gray@oag.state.tx.us                   21 FM 247   Huntsville   \n",
       "3  renee.gray@oag.state.tx.us            2102 Goliad Road  San Antonio   \n",
       "4  renee.gray@oag.state.tx.us  3600 block of Telephone Rd      Houston   \n",
       "\n",
       "    County               Type of Custody  \\\n",
       "0  Tarrant  Police Custody (pre-booking)   \n",
       "1   Travis                   County Jail   \n",
       "2   Walker                  Penitentiary   \n",
       "3    Bexar  Police Custody (pre-booking)   \n",
       "4   Harris  Police Custody (pre-booking)   \n",
       "\n",
       "                Specific Type of Custody/Facility Custody Type Facility  \\\n",
       "0  Custody of Peace Officer during/fleeing arrest                   NaN   \n",
       "1                  Jail - multiple occupancy cell                   NaN   \n",
       "2                                            TDCJ                  Byrd   \n",
       "3  Custody of Peace Officer during/fleeing arrest                   NaN   \n",
       "4  Custody of Peace Officer during/fleeing arrest                   NaN   \n",
       "\n",
       "      Entry Date Time  Entry Date Time N/A             Death Location  \\\n",
       "0                 NaT                    1  At the crime/arrest scene   \n",
       "1 2004-10-20 20:56:00                    0        At medical facility   \n",
       "2 2004-12-17 09:00:00                    0        At medical facility   \n",
       "3                 NaT                    1  At the crime/arrest scene   \n",
       "4                 NaT                    1  At the crime/arrest scene   \n",
       "\n",
       "  Death Location Elsewhere First Name Middle Name Last Name Suffix  \\\n",
       "0                      NaN       Dino         NaN     Gomez    NaN   \n",
       "1                      NaN    Michael     Darnell   Dickson    NaN   \n",
       "2                      NaN     Darryl       Glenn   Wallace    NaN   \n",
       "3                      NaN     Albert      Chavez  Enriquez    NaN   \n",
       "4                      NaN       Alex         NaN    Mendez    NaN   \n",
       "\n",
       "  Date of Birth   Sex         Ethnicity Ethnicity Other Death Date and Time  \\\n",
       "0    1964-04-03  Male          Hispanic             NaN 2005-01-01 15:04:00   \n",
       "1    1953-03-04  Male  African-American             NaN 2005-01-01 15:59:00   \n",
       "2    1960-12-03  Male  African-American             NaN 2005-01-02 04:35:00   \n",
       "3    1983-11-28  Male          Hispanic             NaN 2005-01-03 15:00:00   \n",
       "4    1978-12-30  Male          Hispanic             NaN 2005-01-03 17:15:00   \n",
       "\n",
       "   Age At Time Of Death Date/Time of Custody or Incident  Custody Date NA  \\\n",
       "0                    40              2005-01-01 15:04:00                0   \n",
       "1                    51              2004-10-20 20:56:00                0   \n",
       "2                    44              2004-12-17 09:00:00                0   \n",
       "3                    21              2005-01-03 14:50:00                0   \n",
       "4                    26              2005-01-03 17:15:00                0   \n",
       "\n",
       "  Medical Examinor/Coroner Evalution?         Manner of Death  \\\n",
       "0          Yes, results are available    Justifiable Homicide   \n",
       "1          Yes, results are available  Natural Causes/Illness   \n",
       "2          Yes, results are available  Natural Causes/Illness   \n",
       "3          Yes, results are available    Justifiable Homicide   \n",
       "4          Yes, results are available    Justifiable Homicide   \n",
       "\n",
       "  Manner of Death Description                                Death Reason  \\\n",
       "0                         NaN                               Injuries only   \n",
       "1              Cardiac Arrest  Medical condition only (e.g. heart attack)   \n",
       "2                     Cardiac  Medical condition only (e.g. heart attack)   \n",
       "3                         NaN                               Injuries only   \n",
       "4                         NaN                               Injuries only   \n",
       "\n",
       "                              Medical Cause of Death Medical Treatment  \\\n",
       "0                         Gunshot Wound to the Chest    Not Applicable   \n",
       "1                              Myocardial infarction               Yes   \n",
       "2  Cardiac death secondary to cardiac ischemia th...               Yes   \n",
       "3                            Multiple Gunshot Wounds    Not Applicable   \n",
       "4                            Multiple Gunshot Wounds    Not Applicable   \n",
       "\n",
       "                       Medical Treatment Description  \\\n",
       "0                                                NaN   \n",
       "1  Treatment for hypertension, administered Proca...   \n",
       "2                                      Nitroglycerin   \n",
       "3                                                NaN   \n",
       "4                                                NaN   \n",
       "\n",
       "                               Who caused the death? Death Causer Other  \\\n",
       "0                 Law enforcement/correctional staff                NaN   \n",
       "1  Not applicable; cause of death was suicide, in...                NaN   \n",
       "2  Not applicable; cause of death was suicide, in...                NaN   \n",
       "3                 Law enforcement/correctional staff                NaN   \n",
       "4                 Law enforcement/correctional staff                NaN   \n",
       "\n",
       "  Type of Death Weapon Death Weapon Other Description  \\\n",
       "0              Handgun                            NaN   \n",
       "1       Not Applicable                            NaN   \n",
       "2       Not Applicable                            NaN   \n",
       "3              Handgun                            NaN   \n",
       "4              Handgun                            NaN   \n",
       "\n",
       "                     Pre existing medical condition?  \\\n",
       "0  Not Applicable; cause of death was accidental ...   \n",
       "1                     Pre-existing medical condition   \n",
       "2                     Pre-existing medical condition   \n",
       "3  Not Applicable; cause of death was accidental ...   \n",
       "4  Not Applicable; cause of death was accidental ...   \n",
       "\n",
       "                                      Means of Death Means of Death Other  \\\n",
       "0                                            Firearm                  NaN   \n",
       "1  Not applicable; cause of death was intoxicatio...                  NaN   \n",
       "2  Not applicable; cause of death was intoxicatio...                  NaN   \n",
       "3                                            Firearm                  NaN   \n",
       "4                                            Firearm                  NaN   \n",
       "\n",
       "                                Offense 1 Offense 2 Offense 3  \\\n",
       "0                      Aggravated Assault       NaN       NaN   \n",
       "1  Man/Del/Sell/Poss Controlled Substance       NaN       NaN   \n",
       "2                  Burglary of Habitation       NaN       NaN   \n",
       "3                      Aggravated Robbery       NaN       NaN   \n",
       "4                       Traffic Violation       NaN       NaN   \n",
       "\n",
       "            Were the Charges: Type of Offense Type of Offense, Other  \\\n",
       "0  Not filed at time of death             NaN                    NaN   \n",
       "1                       Filed             NaN                    NaN   \n",
       "2                   Convicted             NaN                    NaN   \n",
       "3  Not filed at time of death             NaN                    NaN   \n",
       "4  Not filed at time of death             NaN      Traffic Violation   \n",
       "\n",
       "           Injured By Threaten the officer(s) involved  \\\n",
       "0  Injured by Officer                              Yes   \n",
       "1       Injured by NA                               No   \n",
       "2       Injured by NA                               No   \n",
       "3  Injured by Officer                              Yes   \n",
       "4  Injured by Officer                              Yes   \n",
       "\n",
       "  Resist being handcuffed or arrested? Try to escape/flee from custody  \\\n",
       "0                                  Yes                             Yes   \n",
       "1                                   No                              No   \n",
       "2                                   No                              No   \n",
       "3                                  Yes                             Yes   \n",
       "4                                   No                              No   \n",
       "\n",
       "  Grab, hit or fight with the officer(s)  Other Behavior  \\\n",
       "0                                     No               0   \n",
       "1                                     No               0   \n",
       "2                                     No               0   \n",
       "3                                    Yes               0   \n",
       "4                                     No               0   \n",
       "\n",
       "  Specify Other Behavior Appear intoxicated (alcohol or drugs)  \\\n",
       "0                    NaN                                    No   \n",
       "1                    NaN                                    No   \n",
       "2                    NaN                                    No   \n",
       "3                    NaN                                    No   \n",
       "4                    NaN                                    No   \n",
       "\n",
       "  Use weapon threaten/assault officer(s) Entry Behavior Under Restraint  \\\n",
       "0                                      1            NaN              No   \n",
       "1                                      0        Medical              No   \n",
       "2                                      0            NaN              No   \n",
       "3                                      1            NaN              No   \n",
       "4                                      1            NaN              No   \n",
       "\n",
       "  Type of Restraint Other device, specify form_version  \n",
       "0               NaN                   NaN       V_2005  \n",
       "1               NaN                   NaN       V_2005  \n",
       "2               NaN                   NaN       V_2005  \n",
       "3               NaN                   NaN       V_2005  \n",
       "4               NaN                   NaN       V_2005  "
      ]
     },
     "execution_count": 10,
     "metadata": {},
     "output_type": "execute_result"
    }
   ],
   "source": [
    "dfs['Form Version 2005'].head()"
   ]
  },
  {
   "cell_type": "code",
   "execution_count": 11,
   "metadata": {
    "ExecuteTime": {
     "end_time": "2020-12-21T14:13:14.607521Z",
     "start_time": "2020-12-21T14:13:14.548459Z"
    }
   },
   "outputs": [
    {
     "data": {
      "text/html": [
       "<div>\n",
       "<style scoped>\n",
       "    .dataframe tbody tr th:only-of-type {\n",
       "        vertical-align: middle;\n",
       "    }\n",
       "\n",
       "    .dataframe tbody tr th {\n",
       "        vertical-align: top;\n",
       "    }\n",
       "\n",
       "    .dataframe thead th {\n",
       "        text-align: right;\n",
       "    }\n",
       "</style>\n",
       "<table border=\"1\" class=\"dataframe\">\n",
       "  <thead>\n",
       "    <tr style=\"text-align: right;\">\n",
       "      <th></th>\n",
       "      <th>CDR: CDR Name</th>\n",
       "      <th>Version Type</th>\n",
       "      <th>Version Number</th>\n",
       "      <th>Report Date</th>\n",
       "      <th>Report Time</th>\n",
       "      <th>Status</th>\n",
       "      <th>Agency Name</th>\n",
       "      <th>Agency Address</th>\n",
       "      <th>Agency City</th>\n",
       "      <th>Agency State</th>\n",
       "      <th>Agency Zip</th>\n",
       "      <th>Director Salutation</th>\n",
       "      <th>Director First Name</th>\n",
       "      <th>Director Middle Name</th>\n",
       "      <th>Director Last Name</th>\n",
       "      <th>Reporter Name</th>\n",
       "      <th>Reporter Email</th>\n",
       "      <th>First Name</th>\n",
       "      <th>Middle Name</th>\n",
       "      <th>Last Name</th>\n",
       "      <th>Suffix</th>\n",
       "      <th>Date of Birth</th>\n",
       "      <th>Sex</th>\n",
       "      <th>Race</th>\n",
       "      <th>Age At Time Of Death</th>\n",
       "      <th>Date/Time of Custody or Incident</th>\n",
       "      <th>Death Date and Time</th>\n",
       "      <th>Medical Examinor/Coroner Evalution?</th>\n",
       "      <th>Manner of Death</th>\n",
       "      <th>Manner of Death Description</th>\n",
       "      <th>Medical Cause of Death</th>\n",
       "      <th>Medical Treatment</th>\n",
       "      <th>Who caused the death?</th>\n",
       "      <th>Type of weapon that caused death?</th>\n",
       "      <th>Other weapon, specify</th>\n",
       "      <th>Pre existing medical condition?</th>\n",
       "      <th>Means of Death</th>\n",
       "      <th>Means of Death Other</th>\n",
       "      <th>Street Address</th>\n",
       "      <th>City</th>\n",
       "      <th>County</th>\n",
       "      <th>Zip</th>\n",
       "      <th>Location Category</th>\n",
       "      <th>Other Location Category</th>\n",
       "      <th>Type of Custody</th>\n",
       "      <th>Specific Type of Custody/Facility</th>\n",
       "      <th>TDCJ - Specify Unit</th>\n",
       "      <th>Entry Date Time</th>\n",
       "      <th>Entry Date Time N/A</th>\n",
       "      <th>Death Location</th>\n",
       "      <th>Death Location Elsewhere</th>\n",
       "      <th>Other Agencies Respond?</th>\n",
       "      <th>Offense 1</th>\n",
       "      <th>Offense 2</th>\n",
       "      <th>Offense 3</th>\n",
       "      <th>Were the Charges:</th>\n",
       "      <th>Type of Offense</th>\n",
       "      <th>Type of Offense, Other</th>\n",
       "      <th>Decedent display/use of weapons</th>\n",
       "      <th>Decedent Display or Use Weapon Details</th>\n",
       "      <th>Specify Weapon Used</th>\n",
       "      <th>Attempt to Injure Others?</th>\n",
       "      <th>Appear intoxicated (alcohol or drugs)</th>\n",
       "      <th>Make suicidal statements?</th>\n",
       "      <th>Exhibit any mental health problems?</th>\n",
       "      <th>Exhibit any medical problems?</th>\n",
       "      <th>Barricade self or initiate standoff?</th>\n",
       "      <th>Resist being handcuffed or arrested?</th>\n",
       "      <th>Physically attempt/assault officer(s)</th>\n",
       "      <th>Gain possession of officer's weapon</th>\n",
       "      <th>Verbally threaten other(s) including law</th>\n",
       "      <th>Escape or attempt to escape/flee custody</th>\n",
       "      <th>Attempt gain possession officer's weapon</th>\n",
       "      <th>Under Restraint</th>\n",
       "      <th>Type of Restraint</th>\n",
       "      <th>Other device, specify</th>\n",
       "      <th>Unnamed: 76</th>\n",
       "      <th>form_version</th>\n",
       "    </tr>\n",
       "  </thead>\n",
       "  <tbody>\n",
       "    <tr>\n",
       "      <th>0</th>\n",
       "      <td>16-3-C</td>\n",
       "      <td>AMENDED</td>\n",
       "      <td>4</td>\n",
       "      <td>2016-12-12 13:02:00</td>\n",
       "      <td>NaN</td>\n",
       "      <td>Submitted</td>\n",
       "      <td>Texas Department Of Public Safety</td>\n",
       "      <td>PO BOX 4087</td>\n",
       "      <td>Austin</td>\n",
       "      <td>TX</td>\n",
       "      <td>78773</td>\n",
       "      <td>Director</td>\n",
       "      <td>Steven</td>\n",
       "      <td>NaN</td>\n",
       "      <td>McCraw</td>\n",
       "      <td>Joanne Scarbrough</td>\n",
       "      <td>joanne.scarbrough@dps.texas.gov</td>\n",
       "      <td>Ivory</td>\n",
       "      <td>Charles</td>\n",
       "      <td>Pantallion</td>\n",
       "      <td>III</td>\n",
       "      <td>1980-09-14 00:00:00</td>\n",
       "      <td>Male</td>\n",
       "      <td>Black or African American</td>\n",
       "      <td>36</td>\n",
       "      <td>2016-11-22 09:26:00</td>\n",
       "      <td>2016-11-22 09:26:00</td>\n",
       "      <td>Yes, results are available</td>\n",
       "      <td>Homicide (includes Justifiable Homicide)</td>\n",
       "      <td>NaN</td>\n",
       "      <td>Multiple Gunshot Wounds</td>\n",
       "      <td>Not Applicable</td>\n",
       "      <td>Law enforcement/correctional personnel</td>\n",
       "      <td>Handgun; Rifle/shotgun</td>\n",
       "      <td>NaN</td>\n",
       "      <td>Not Applicable; cause of death was accidental ...</td>\n",
       "      <td>Firearm</td>\n",
       "      <td>NaN</td>\n",
       "      <td>7300 Interstate 10 W</td>\n",
       "      <td>Baytown</td>\n",
       "      <td>Harris</td>\n",
       "      <td>77521.0</td>\n",
       "      <td>Roadway/highway/street/sidewalk</td>\n",
       "      <td>NaN</td>\n",
       "      <td>Police Custody (pre-booking)</td>\n",
       "      <td>Custody of Law Enforcement Personnel during/fl...</td>\n",
       "      <td>NaN</td>\n",
       "      <td>NaN</td>\n",
       "      <td>1</td>\n",
       "      <td>Scene of incident</td>\n",
       "      <td>NaN</td>\n",
       "      <td>Yes</td>\n",
       "      <td>Aggravated Assault on Peace Officer</td>\n",
       "      <td>Evading Arrest or Detention</td>\n",
       "      <td>NaN</td>\n",
       "      <td>Not filed at time of death</td>\n",
       "      <td>Violent Crime Against Persons</td>\n",
       "      <td>NaN</td>\n",
       "      <td>Yes, mark all that apply</td>\n",
       "      <td>Displayed firearm without discharge</td>\n",
       "      <td>NaN</td>\n",
       "      <td>Yes (select all that apply)</td>\n",
       "      <td>No</td>\n",
       "      <td>No</td>\n",
       "      <td>No</td>\n",
       "      <td>No</td>\n",
       "      <td>Unknown</td>\n",
       "      <td>Yes</td>\n",
       "      <td>Yes</td>\n",
       "      <td>No</td>\n",
       "      <td>Unknown</td>\n",
       "      <td>Yes</td>\n",
       "      <td>No</td>\n",
       "      <td>No</td>\n",
       "      <td>NaN</td>\n",
       "      <td>NaN</td>\n",
       "      <td>NaN</td>\n",
       "      <td>V_2016</td>\n",
       "    </tr>\n",
       "    <tr>\n",
       "      <th>1</th>\n",
       "      <td>14-1-C</td>\n",
       "      <td>AMENDED</td>\n",
       "      <td>2</td>\n",
       "      <td>2016-12-13 16:20:00</td>\n",
       "      <td>NaN</td>\n",
       "      <td>Submitted</td>\n",
       "      <td>Texas Department Of Public Safety</td>\n",
       "      <td>PO BOX 4087</td>\n",
       "      <td>Austin</td>\n",
       "      <td>TX</td>\n",
       "      <td>78773</td>\n",
       "      <td>Director</td>\n",
       "      <td>Steven</td>\n",
       "      <td>NaN</td>\n",
       "      <td>McCraw</td>\n",
       "      <td>Joanne Scarbrough</td>\n",
       "      <td>joanne.scarbrough@dps.texas.gov</td>\n",
       "      <td>James</td>\n",
       "      <td>Earl</td>\n",
       "      <td>Nicholas</td>\n",
       "      <td>NaN</td>\n",
       "      <td>1966-04-24 00:00:00</td>\n",
       "      <td>Male</td>\n",
       "      <td>Anglo or White</td>\n",
       "      <td>48</td>\n",
       "      <td>2014-09-11 17:00:00</td>\n",
       "      <td>2014-09-11 17:00:00</td>\n",
       "      <td>Yes, results are available</td>\n",
       "      <td>Could not be determined</td>\n",
       "      <td>NaN</td>\n",
       "      <td>Multiple Gunshot Wounds</td>\n",
       "      <td>Not Applicable</td>\n",
       "      <td>Law enforcement/correctional personnel</td>\n",
       "      <td>Firearm, unspecified</td>\n",
       "      <td>NaN</td>\n",
       "      <td>Not Applicable; cause of death was accidental ...</td>\n",
       "      <td>Firearm</td>\n",
       "      <td>NaN</td>\n",
       "      <td>2030 Jacintoport Blvd.</td>\n",
       "      <td>Houston</td>\n",
       "      <td>Harris</td>\n",
       "      <td>77015.0</td>\n",
       "      <td>Roadway/highway/street/sidewalk</td>\n",
       "      <td>NaN</td>\n",
       "      <td>Police Custody (pre-booking)</td>\n",
       "      <td>Custody of Law Enforcement Personnel during/fl...</td>\n",
       "      <td>NaN</td>\n",
       "      <td>NaN</td>\n",
       "      <td>1</td>\n",
       "      <td>Scene of incident</td>\n",
       "      <td>NaN</td>\n",
       "      <td>Yes</td>\n",
       "      <td>Capital Murder - Filed</td>\n",
       "      <td>Aggravated Assault on a Peace Officer - Not Filed</td>\n",
       "      <td>Evading Arrest or Detention - Not Filed</td>\n",
       "      <td>Filed</td>\n",
       "      <td>Violent Crime Against Persons</td>\n",
       "      <td>NaN</td>\n",
       "      <td>Yes, mark all that apply</td>\n",
       "      <td>Discharged firearm</td>\n",
       "      <td>NaN</td>\n",
       "      <td>Yes (select all that apply)</td>\n",
       "      <td>No</td>\n",
       "      <td>No</td>\n",
       "      <td>No</td>\n",
       "      <td>No</td>\n",
       "      <td>No</td>\n",
       "      <td>Yes</td>\n",
       "      <td>Yes</td>\n",
       "      <td>No</td>\n",
       "      <td>Unknown</td>\n",
       "      <td>Yes</td>\n",
       "      <td>No</td>\n",
       "      <td>No</td>\n",
       "      <td>NaN</td>\n",
       "      <td>NaN</td>\n",
       "      <td>NaN</td>\n",
       "      <td>V_2016</td>\n",
       "    </tr>\n",
       "    <tr>\n",
       "      <th>2</th>\n",
       "      <td>16-4-P</td>\n",
       "      <td>ORIGINAL VERSION</td>\n",
       "      <td>1</td>\n",
       "      <td>2016-12-14 15:27:00</td>\n",
       "      <td>NaN</td>\n",
       "      <td>Submitted</td>\n",
       "      <td>TDCJ/Office of the Inspector General</td>\n",
       "      <td>2503 Lake Road, Suite 5</td>\n",
       "      <td>Huntsville</td>\n",
       "      <td>TX</td>\n",
       "      <td>77340</td>\n",
       "      <td>Other</td>\n",
       "      <td>John</td>\n",
       "      <td>NaN</td>\n",
       "      <td>West</td>\n",
       "      <td>Analou Sievers</td>\n",
       "      <td>analou.sievers@tdcj.texas.gov</td>\n",
       "      <td>Percy</td>\n",
       "      <td>NaN</td>\n",
       "      <td>Froman</td>\n",
       "      <td>NaN</td>\n",
       "      <td>1969-12-19 00:00:00</td>\n",
       "      <td>Male</td>\n",
       "      <td>Anglo or White</td>\n",
       "      <td>46</td>\n",
       "      <td>2000-01-28 00:00:00</td>\n",
       "      <td>2016-11-17 08:25:00</td>\n",
       "      <td>No, evaluation not planned</td>\n",
       "      <td>Natural</td>\n",
       "      <td>NaN</td>\n",
       "      <td>Colon Cancer</td>\n",
       "      <td>No</td>\n",
       "      <td>Not applicable</td>\n",
       "      <td>Not Applicable</td>\n",
       "      <td>NaN</td>\n",
       "      <td>Pre-existing medical condition</td>\n",
       "      <td>Not applicable, cause of death was illness/nat...</td>\n",
       "      <td>NaN</td>\n",
       "      <td>8602 Peach Street</td>\n",
       "      <td>Lubbock</td>\n",
       "      <td>Lubbock</td>\n",
       "      <td>79404.0</td>\n",
       "      <td>Law Enforcement Facility</td>\n",
       "      <td>NaN</td>\n",
       "      <td>Penitentiary</td>\n",
       "      <td>TDCJ, specify</td>\n",
       "      <td>Montford</td>\n",
       "      <td>2000-01-28 00:00:00</td>\n",
       "      <td>0</td>\n",
       "      <td>Medical facility</td>\n",
       "      <td>NaN</td>\n",
       "      <td>No</td>\n",
       "      <td>Aggravated Robbery</td>\n",
       "      <td>NaN</td>\n",
       "      <td>NaN</td>\n",
       "      <td>Convicted</td>\n",
       "      <td>Violent Crime Against Persons</td>\n",
       "      <td>NaN</td>\n",
       "      <td>No</td>\n",
       "      <td>NaN</td>\n",
       "      <td>NaN</td>\n",
       "      <td>No</td>\n",
       "      <td>NaN</td>\n",
       "      <td>NaN</td>\n",
       "      <td>NaN</td>\n",
       "      <td>NaN</td>\n",
       "      <td>NaN</td>\n",
       "      <td>NaN</td>\n",
       "      <td>NaN</td>\n",
       "      <td>NaN</td>\n",
       "      <td>NaN</td>\n",
       "      <td>NaN</td>\n",
       "      <td>NaN</td>\n",
       "      <td>No</td>\n",
       "      <td>NaN</td>\n",
       "      <td>NaN</td>\n",
       "      <td>NaN</td>\n",
       "      <td>V_2016</td>\n",
       "    </tr>\n",
       "    <tr>\n",
       "      <th>3</th>\n",
       "      <td>16-5-C</td>\n",
       "      <td>ORIGINAL VERSION</td>\n",
       "      <td>1</td>\n",
       "      <td>2016-12-14 18:37:00</td>\n",
       "      <td>NaN</td>\n",
       "      <td>Submitted</td>\n",
       "      <td>San Antonio Police Dept.</td>\n",
       "      <td>315 S. Santa Rosa</td>\n",
       "      <td>San Antonio</td>\n",
       "      <td>TX</td>\n",
       "      <td>78207</td>\n",
       "      <td>Chief</td>\n",
       "      <td>William</td>\n",
       "      <td>NaN</td>\n",
       "      <td>McManus</td>\n",
       "      <td>Leroy Carrion</td>\n",
       "      <td>leroy.carrion@sanantonio.gov</td>\n",
       "      <td>Andrew</td>\n",
       "      <td>NaN</td>\n",
       "      <td>Moreno</td>\n",
       "      <td>NaN</td>\n",
       "      <td>1991-12-23 00:00:00</td>\n",
       "      <td>Male</td>\n",
       "      <td>Hispanic or Latino</td>\n",
       "      <td>24</td>\n",
       "      <td>2016-11-19 21:00:00</td>\n",
       "      <td>2016-11-20 05:34:00</td>\n",
       "      <td>Yes, results are available</td>\n",
       "      <td>Homicide (includes Justifiable Homicide)</td>\n",
       "      <td>NaN</td>\n",
       "      <td>Multiple gunshot wounds</td>\n",
       "      <td>No</td>\n",
       "      <td>Law enforcement/correctional personnel</td>\n",
       "      <td>Rifle/shotgun</td>\n",
       "      <td>NaN</td>\n",
       "      <td>Not Applicable; cause of death was accidental ...</td>\n",
       "      <td>Firearm</td>\n",
       "      <td>NaN</td>\n",
       "      <td>5814 Shadow Glen #4</td>\n",
       "      <td>San Antonio</td>\n",
       "      <td>Bexar</td>\n",
       "      <td>78238.0</td>\n",
       "      <td>Residence/Home</td>\n",
       "      <td>NaN</td>\n",
       "      <td>Police Custody (pre-booking)</td>\n",
       "      <td>Custody of Law Enforcement Personnel during/fl...</td>\n",
       "      <td>NaN</td>\n",
       "      <td>2016-11-19 21:00:00</td>\n",
       "      <td>0</td>\n",
       "      <td>Scene of incident</td>\n",
       "      <td>NaN</td>\n",
       "      <td>Yes</td>\n",
       "      <td>Aggravated Assault with a Deadly Weapon</td>\n",
       "      <td>NaN</td>\n",
       "      <td>NaN</td>\n",
       "      <td>Filed</td>\n",
       "      <td>Violent Crime Against Persons</td>\n",
       "      <td>NaN</td>\n",
       "      <td>Yes, mark all that apply</td>\n",
       "      <td>Displayed firearm without discharge</td>\n",
       "      <td>NaN</td>\n",
       "      <td>Yes (select all that apply)</td>\n",
       "      <td>Unknown</td>\n",
       "      <td>Yes</td>\n",
       "      <td>No</td>\n",
       "      <td>No</td>\n",
       "      <td>Yes</td>\n",
       "      <td>No</td>\n",
       "      <td>Yes</td>\n",
       "      <td>No</td>\n",
       "      <td>Yes</td>\n",
       "      <td>No</td>\n",
       "      <td>No</td>\n",
       "      <td>No</td>\n",
       "      <td>NaN</td>\n",
       "      <td>NaN</td>\n",
       "      <td>NaN</td>\n",
       "      <td>V_2016</td>\n",
       "    </tr>\n",
       "    <tr>\n",
       "      <th>4</th>\n",
       "      <td>16-6-MJ</td>\n",
       "      <td>ORIGINAL VERSION</td>\n",
       "      <td>1</td>\n",
       "      <td>2016-12-15 11:20:00</td>\n",
       "      <td>NaN</td>\n",
       "      <td>Submitted</td>\n",
       "      <td>Rosenberg Police Dept.</td>\n",
       "      <td>2120 Fourth St.</td>\n",
       "      <td>Rosenberg</td>\n",
       "      <td>TX</td>\n",
       "      <td>77471</td>\n",
       "      <td>Chief</td>\n",
       "      <td>Dallis</td>\n",
       "      <td>NaN</td>\n",
       "      <td>Warren</td>\n",
       "      <td>Charles Crocker</td>\n",
       "      <td>justin.crocker@rosenbergtx.gov</td>\n",
       "      <td>Roberto</td>\n",
       "      <td>Eduardo</td>\n",
       "      <td>Velasquez</td>\n",
       "      <td>NaN</td>\n",
       "      <td>1977-01-31 00:00:00</td>\n",
       "      <td>Male</td>\n",
       "      <td>Hispanic or Latino</td>\n",
       "      <td>39</td>\n",
       "      <td>2016-12-02 22:32:00</td>\n",
       "      <td>2016-12-03 09:15:00</td>\n",
       "      <td>Yes, results pending</td>\n",
       "      <td>Pending autopsy results</td>\n",
       "      <td>NaN</td>\n",
       "      <td>Pending autopsy results.</td>\n",
       "      <td>No</td>\n",
       "      <td>Not applicable</td>\n",
       "      <td>Not Applicable</td>\n",
       "      <td>NaN</td>\n",
       "      <td>Pre-existing medical condition</td>\n",
       "      <td>Not applicable, cause of death was illness/nat...</td>\n",
       "      <td>NaN</td>\n",
       "      <td>1910 Louise #41</td>\n",
       "      <td>Rosenberg</td>\n",
       "      <td>Fort Bend</td>\n",
       "      <td>77471.0</td>\n",
       "      <td>Residence/Home</td>\n",
       "      <td>NaN</td>\n",
       "      <td>Municipal Jail</td>\n",
       "      <td>Jail - detox cell</td>\n",
       "      <td>NaN</td>\n",
       "      <td>2016-12-02 22:32:00</td>\n",
       "      <td>0</td>\n",
       "      <td>Medical facility</td>\n",
       "      <td>NaN</td>\n",
       "      <td>No</td>\n",
       "      <td>TCIC warrant - Failure to Appear (Child Neglect)</td>\n",
       "      <td>NaN</td>\n",
       "      <td>NaN</td>\n",
       "      <td>Filed</td>\n",
       "      <td>Other, specify</td>\n",
       "      <td>Investigation of disturbance call at residence...</td>\n",
       "      <td>No</td>\n",
       "      <td>NaN</td>\n",
       "      <td>NaN</td>\n",
       "      <td>No</td>\n",
       "      <td>Yes</td>\n",
       "      <td>No</td>\n",
       "      <td>No</td>\n",
       "      <td>No</td>\n",
       "      <td>No</td>\n",
       "      <td>No</td>\n",
       "      <td>No</td>\n",
       "      <td>No</td>\n",
       "      <td>No</td>\n",
       "      <td>No</td>\n",
       "      <td>No</td>\n",
       "      <td>No</td>\n",
       "      <td>NaN</td>\n",
       "      <td>NaN</td>\n",
       "      <td>NaN</td>\n",
       "      <td>V_2016</td>\n",
       "    </tr>\n",
       "  </tbody>\n",
       "</table>\n",
       "</div>"
      ],
      "text/plain": [
       "  CDR: CDR Name      Version Type  Version Number         Report Date  \\\n",
       "0        16-3-C           AMENDED               4 2016-12-12 13:02:00   \n",
       "1        14-1-C           AMENDED               2 2016-12-13 16:20:00   \n",
       "2        16-4-P  ORIGINAL VERSION               1 2016-12-14 15:27:00   \n",
       "3        16-5-C  ORIGINAL VERSION               1 2016-12-14 18:37:00   \n",
       "4       16-6-MJ  ORIGINAL VERSION               1 2016-12-15 11:20:00   \n",
       "\n",
       "  Report Time     Status                           Agency Name  \\\n",
       "0         NaN  Submitted     Texas Department Of Public Safety   \n",
       "1         NaN  Submitted     Texas Department Of Public Safety   \n",
       "2         NaN  Submitted  TDCJ/Office of the Inspector General   \n",
       "3         NaN  Submitted              San Antonio Police Dept.   \n",
       "4         NaN  Submitted                Rosenberg Police Dept.   \n",
       "\n",
       "            Agency Address  Agency City Agency State Agency Zip  \\\n",
       "0              PO BOX 4087       Austin           TX      78773   \n",
       "1              PO BOX 4087       Austin           TX      78773   \n",
       "2  2503 Lake Road, Suite 5   Huntsville           TX      77340   \n",
       "3        315 S. Santa Rosa  San Antonio           TX      78207   \n",
       "4          2120 Fourth St.    Rosenberg           TX      77471   \n",
       "\n",
       "  Director Salutation Director First Name Director Middle Name  \\\n",
       "0            Director              Steven                  NaN   \n",
       "1            Director              Steven                  NaN   \n",
       "2               Other                John                  NaN   \n",
       "3               Chief             William                  NaN   \n",
       "4               Chief              Dallis                  NaN   \n",
       "\n",
       "  Director Last Name      Reporter Name                   Reporter Email  \\\n",
       "0             McCraw  Joanne Scarbrough  joanne.scarbrough@dps.texas.gov   \n",
       "1             McCraw  Joanne Scarbrough  joanne.scarbrough@dps.texas.gov   \n",
       "2               West     Analou Sievers    analou.sievers@tdcj.texas.gov   \n",
       "3            McManus      Leroy Carrion     leroy.carrion@sanantonio.gov   \n",
       "4             Warren    Charles Crocker   justin.crocker@rosenbergtx.gov   \n",
       "\n",
       "  First Name Middle Name   Last Name Suffix        Date of Birth   Sex  \\\n",
       "0      Ivory     Charles  Pantallion    III  1980-09-14 00:00:00  Male   \n",
       "1      James        Earl    Nicholas    NaN  1966-04-24 00:00:00  Male   \n",
       "2      Percy         NaN      Froman    NaN  1969-12-19 00:00:00  Male   \n",
       "3     Andrew         NaN      Moreno    NaN  1991-12-23 00:00:00  Male   \n",
       "4    Roberto     Eduardo   Velasquez    NaN  1977-01-31 00:00:00  Male   \n",
       "\n",
       "                        Race  Age At Time Of Death  \\\n",
       "0  Black or African American                    36   \n",
       "1             Anglo or White                    48   \n",
       "2             Anglo or White                    46   \n",
       "3         Hispanic or Latino                    24   \n",
       "4         Hispanic or Latino                    39   \n",
       "\n",
       "  Date/Time of Custody or Incident  Death Date and Time  \\\n",
       "0              2016-11-22 09:26:00  2016-11-22 09:26:00   \n",
       "1              2014-09-11 17:00:00  2014-09-11 17:00:00   \n",
       "2              2000-01-28 00:00:00  2016-11-17 08:25:00   \n",
       "3              2016-11-19 21:00:00  2016-11-20 05:34:00   \n",
       "4              2016-12-02 22:32:00  2016-12-03 09:15:00   \n",
       "\n",
       "  Medical Examinor/Coroner Evalution?  \\\n",
       "0          Yes, results are available   \n",
       "1          Yes, results are available   \n",
       "2          No, evaluation not planned   \n",
       "3          Yes, results are available   \n",
       "4                Yes, results pending   \n",
       "\n",
       "                            Manner of Death Manner of Death Description  \\\n",
       "0  Homicide (includes Justifiable Homicide)                         NaN   \n",
       "1                   Could not be determined                         NaN   \n",
       "2                                   Natural                         NaN   \n",
       "3  Homicide (includes Justifiable Homicide)                         NaN   \n",
       "4                   Pending autopsy results                         NaN   \n",
       "\n",
       "     Medical Cause of Death Medical Treatment  \\\n",
       "0   Multiple Gunshot Wounds    Not Applicable   \n",
       "1   Multiple Gunshot Wounds    Not Applicable   \n",
       "2              Colon Cancer                No   \n",
       "3   Multiple gunshot wounds                No   \n",
       "4  Pending autopsy results.                No   \n",
       "\n",
       "                    Who caused the death? Type of weapon that caused death?  \\\n",
       "0  Law enforcement/correctional personnel            Handgun; Rifle/shotgun   \n",
       "1  Law enforcement/correctional personnel              Firearm, unspecified   \n",
       "2                          Not applicable                    Not Applicable   \n",
       "3  Law enforcement/correctional personnel                     Rifle/shotgun   \n",
       "4                          Not applicable                    Not Applicable   \n",
       "\n",
       "  Other weapon, specify                    Pre existing medical condition?  \\\n",
       "0                   NaN  Not Applicable; cause of death was accidental ...   \n",
       "1                   NaN  Not Applicable; cause of death was accidental ...   \n",
       "2                   NaN                     Pre-existing medical condition   \n",
       "3                   NaN  Not Applicable; cause of death was accidental ...   \n",
       "4                   NaN                     Pre-existing medical condition   \n",
       "\n",
       "                                      Means of Death Means of Death Other  \\\n",
       "0                                            Firearm                  NaN   \n",
       "1                                            Firearm                  NaN   \n",
       "2  Not applicable, cause of death was illness/nat...                  NaN   \n",
       "3                                            Firearm                  NaN   \n",
       "4  Not applicable, cause of death was illness/nat...                  NaN   \n",
       "\n",
       "           Street Address         City     County      Zip  \\\n",
       "0    7300 Interstate 10 W      Baytown     Harris  77521.0   \n",
       "1  2030 Jacintoport Blvd.      Houston     Harris  77015.0   \n",
       "2       8602 Peach Street      Lubbock    Lubbock  79404.0   \n",
       "3     5814 Shadow Glen #4  San Antonio      Bexar  78238.0   \n",
       "4         1910 Louise #41    Rosenberg  Fort Bend  77471.0   \n",
       "\n",
       "                 Location Category Other Location Category  \\\n",
       "0  Roadway/highway/street/sidewalk                     NaN   \n",
       "1  Roadway/highway/street/sidewalk                     NaN   \n",
       "2         Law Enforcement Facility                     NaN   \n",
       "3                   Residence/Home                     NaN   \n",
       "4                   Residence/Home                     NaN   \n",
       "\n",
       "                Type of Custody  \\\n",
       "0  Police Custody (pre-booking)   \n",
       "1  Police Custody (pre-booking)   \n",
       "2                  Penitentiary   \n",
       "3  Police Custody (pre-booking)   \n",
       "4                Municipal Jail   \n",
       "\n",
       "                   Specific Type of Custody/Facility TDCJ - Specify Unit  \\\n",
       "0  Custody of Law Enforcement Personnel during/fl...                 NaN   \n",
       "1  Custody of Law Enforcement Personnel during/fl...                 NaN   \n",
       "2                                      TDCJ, specify            Montford   \n",
       "3  Custody of Law Enforcement Personnel during/fl...                 NaN   \n",
       "4                                  Jail - detox cell                 NaN   \n",
       "\n",
       "       Entry Date Time Entry Date Time N/A     Death Location  \\\n",
       "0                  NaN                   1  Scene of incident   \n",
       "1                  NaN                   1  Scene of incident   \n",
       "2  2000-01-28 00:00:00                   0   Medical facility   \n",
       "3  2016-11-19 21:00:00                   0  Scene of incident   \n",
       "4  2016-12-02 22:32:00                   0   Medical facility   \n",
       "\n",
       "  Death Location Elsewhere Other Agencies Respond?  \\\n",
       "0                      NaN                     Yes   \n",
       "1                      NaN                     Yes   \n",
       "2                      NaN                      No   \n",
       "3                      NaN                     Yes   \n",
       "4                      NaN                      No   \n",
       "\n",
       "                                          Offense 1  \\\n",
       "0               Aggravated Assault on Peace Officer   \n",
       "1                            Capital Murder - Filed   \n",
       "2                                Aggravated Robbery   \n",
       "3           Aggravated Assault with a Deadly Weapon   \n",
       "4  TCIC warrant - Failure to Appear (Child Neglect)   \n",
       "\n",
       "                                           Offense 2  \\\n",
       "0                        Evading Arrest or Detention   \n",
       "1  Aggravated Assault on a Peace Officer - Not Filed   \n",
       "2                                                NaN   \n",
       "3                                                NaN   \n",
       "4                                                NaN   \n",
       "\n",
       "                                 Offense 3           Were the Charges:  \\\n",
       "0                                      NaN  Not filed at time of death   \n",
       "1  Evading Arrest or Detention - Not Filed                       Filed   \n",
       "2                                      NaN                   Convicted   \n",
       "3                                      NaN                       Filed   \n",
       "4                                      NaN                       Filed   \n",
       "\n",
       "                 Type of Offense  \\\n",
       "0  Violent Crime Against Persons   \n",
       "1  Violent Crime Against Persons   \n",
       "2  Violent Crime Against Persons   \n",
       "3  Violent Crime Against Persons   \n",
       "4                 Other, specify   \n",
       "\n",
       "                              Type of Offense, Other  \\\n",
       "0                                                NaN   \n",
       "1                                                NaN   \n",
       "2                                                NaN   \n",
       "3                                                NaN   \n",
       "4  Investigation of disturbance call at residence...   \n",
       "\n",
       "  Decedent display/use of weapons Decedent Display or Use Weapon Details  \\\n",
       "0        Yes, mark all that apply    Displayed firearm without discharge   \n",
       "1        Yes, mark all that apply                     Discharged firearm   \n",
       "2                              No                                    NaN   \n",
       "3        Yes, mark all that apply    Displayed firearm without discharge   \n",
       "4                              No                                    NaN   \n",
       "\n",
       "  Specify Weapon Used    Attempt to Injure Others?  \\\n",
       "0                 NaN  Yes (select all that apply)   \n",
       "1                 NaN  Yes (select all that apply)   \n",
       "2                 NaN                           No   \n",
       "3                 NaN  Yes (select all that apply)   \n",
       "4                 NaN                           No   \n",
       "\n",
       "  Appear intoxicated (alcohol or drugs) Make suicidal statements?  \\\n",
       "0                                    No                        No   \n",
       "1                                    No                        No   \n",
       "2                                   NaN                       NaN   \n",
       "3                               Unknown                       Yes   \n",
       "4                                   Yes                        No   \n",
       "\n",
       "  Exhibit any mental health problems? Exhibit any medical problems?  \\\n",
       "0                                  No                            No   \n",
       "1                                  No                            No   \n",
       "2                                 NaN                           NaN   \n",
       "3                                  No                            No   \n",
       "4                                  No                            No   \n",
       "\n",
       "  Barricade self or initiate standoff? Resist being handcuffed or arrested?  \\\n",
       "0                              Unknown                                  Yes   \n",
       "1                                   No                                  Yes   \n",
       "2                                  NaN                                  NaN   \n",
       "3                                  Yes                                   No   \n",
       "4                                   No                                   No   \n",
       "\n",
       "  Physically attempt/assault officer(s) Gain possession of officer's weapon  \\\n",
       "0                                   Yes                                  No   \n",
       "1                                   Yes                                  No   \n",
       "2                                   NaN                                 NaN   \n",
       "3                                   Yes                                  No   \n",
       "4                                    No                                  No   \n",
       "\n",
       "  Verbally threaten other(s) including law  \\\n",
       "0                                  Unknown   \n",
       "1                                  Unknown   \n",
       "2                                      NaN   \n",
       "3                                      Yes   \n",
       "4                                       No   \n",
       "\n",
       "  Escape or attempt to escape/flee custody  \\\n",
       "0                                      Yes   \n",
       "1                                      Yes   \n",
       "2                                      NaN   \n",
       "3                                       No   \n",
       "4                                       No   \n",
       "\n",
       "  Attempt gain possession officer's weapon Under Restraint Type of Restraint  \\\n",
       "0                                       No              No               NaN   \n",
       "1                                       No              No               NaN   \n",
       "2                                      NaN              No               NaN   \n",
       "3                                       No              No               NaN   \n",
       "4                                       No              No               NaN   \n",
       "\n",
       "  Other device, specify Unnamed: 76 form_version  \n",
       "0                   NaN         NaN       V_2016  \n",
       "1                   NaN         NaN       V_2016  \n",
       "2                   NaN         NaN       V_2016  \n",
       "3                   NaN         NaN       V_2016  \n",
       "4                   NaN         NaN       V_2016  "
      ]
     },
     "execution_count": 11,
     "metadata": {},
     "output_type": "execute_result"
    }
   ],
   "source": [
    "dfs['Form Version 2016'].head()"
   ]
  },
  {
   "cell_type": "markdown",
   "metadata": {},
   "source": [
    "<div style=\"background-color: #008;height: 20px\"></div>\n",
    "\n",
    "## 1c. Helper methods/code"
   ]
  },
  {
   "cell_type": "code",
   "execution_count": 12,
   "metadata": {
    "ExecuteTime": {
     "end_time": "2020-12-21T14:13:14.614458Z",
     "start_time": "2020-12-21T14:13:14.609535Z"
    }
   },
   "outputs": [],
   "source": [
    "def show_notnull_chart(cdr, vertical=False):\n",
    "    '''Show which columns have null values, how often, and break down by form version.'''\n",
    "    versions = sorted(set(cdr.form_version))\n",
    "    frames = []\n",
    "    for v in versions:\n",
    "        fr = cdr[cdr.form_version == v]\n",
    "        s = fr.notnull().mean()\n",
    "        frames.append(s)\n",
    "    frame = pd.concat(frames, axis=1)\n",
    "    frame.columns = versions\n",
    "    frame.sort_index(inplace=True)\n",
    "    if not vertical:\n",
    "        frame = frame.T\n",
    "    return frame.style.background_gradient(cmap='RdYlGn', axis=(0 if vertical else 1))"
   ]
  },
  {
   "cell_type": "code",
   "execution_count": 13,
   "metadata": {
    "ExecuteTime": {
     "end_time": "2020-12-21T14:13:14.617986Z",
     "start_time": "2020-12-21T14:13:14.616116Z"
    }
   },
   "outputs": [],
   "source": [
    "OTHER_SPECIFY = 'OTHER, SPECIFY'"
   ]
  },
  {
   "cell_type": "markdown",
   "metadata": {},
   "source": [
    "<div style=\"background-color: #080;height: 20px\"></div>\n",
    "\n",
    "# 2. Join disparate datasets, rename and reformat columns"
   ]
  },
  {
   "cell_type": "markdown",
   "metadata": {},
   "source": [
    "<div style=\"background-color: #008;height: 15px\"></div>\n",
    "\n",
    "## 2a. Reduce the number of columns that we keep, and rename them more conveniently"
   ]
  },
  {
   "cell_type": "markdown",
   "metadata": {},
   "source": [
    "#### Look at how often our columns are populated, broken down by form version (since each ask slightly different questions)"
   ]
  },
  {
   "cell_type": "code",
   "execution_count": 14,
   "metadata": {
    "ExecuteTime": {
     "end_time": "2020-12-21T14:13:15.143046Z",
     "start_time": "2020-12-21T14:13:14.619761Z"
    }
   },
   "outputs": [
    {
     "data": {
      "text/html": [
       "<style  type=\"text/css\" >\n",
       "#T_aa99a1c6_4396_11eb_980d_acde48001122row0_col0,#T_aa99a1c6_4396_11eb_980d_acde48001122row0_col1,#T_aa99a1c6_4396_11eb_980d_acde48001122row0_col2,#T_aa99a1c6_4396_11eb_980d_acde48001122row0_col3,#T_aa99a1c6_4396_11eb_980d_acde48001122row0_col4,#T_aa99a1c6_4396_11eb_980d_acde48001122row0_col5,#T_aa99a1c6_4396_11eb_980d_acde48001122row0_col7,#T_aa99a1c6_4396_11eb_980d_acde48001122row0_col8,#T_aa99a1c6_4396_11eb_980d_acde48001122row0_col12,#T_aa99a1c6_4396_11eb_980d_acde48001122row0_col13,#T_aa99a1c6_4396_11eb_980d_acde48001122row0_col14,#T_aa99a1c6_4396_11eb_980d_acde48001122row0_col15,#T_aa99a1c6_4396_11eb_980d_acde48001122row0_col17,#T_aa99a1c6_4396_11eb_980d_acde48001122row0_col18,#T_aa99a1c6_4396_11eb_980d_acde48001122row0_col20,#T_aa99a1c6_4396_11eb_980d_acde48001122row0_col21,#T_aa99a1c6_4396_11eb_980d_acde48001122row0_col23,#T_aa99a1c6_4396_11eb_980d_acde48001122row0_col27,#T_aa99a1c6_4396_11eb_980d_acde48001122row0_col28,#T_aa99a1c6_4396_11eb_980d_acde48001122row0_col29,#T_aa99a1c6_4396_11eb_980d_acde48001122row0_col31,#T_aa99a1c6_4396_11eb_980d_acde48001122row0_col34,#T_aa99a1c6_4396_11eb_980d_acde48001122row0_col36,#T_aa99a1c6_4396_11eb_980d_acde48001122row0_col40,#T_aa99a1c6_4396_11eb_980d_acde48001122row0_col42,#T_aa99a1c6_4396_11eb_980d_acde48001122row0_col43,#T_aa99a1c6_4396_11eb_980d_acde48001122row0_col44,#T_aa99a1c6_4396_11eb_980d_acde48001122row0_col47,#T_aa99a1c6_4396_11eb_980d_acde48001122row0_col49,#T_aa99a1c6_4396_11eb_980d_acde48001122row0_col51,#T_aa99a1c6_4396_11eb_980d_acde48001122row0_col52,#T_aa99a1c6_4396_11eb_980d_acde48001122row0_col53,#T_aa99a1c6_4396_11eb_980d_acde48001122row0_col56,#T_aa99a1c6_4396_11eb_980d_acde48001122row0_col60,#T_aa99a1c6_4396_11eb_980d_acde48001122row0_col65,#T_aa99a1c6_4396_11eb_980d_acde48001122row0_col67,#T_aa99a1c6_4396_11eb_980d_acde48001122row0_col69,#T_aa99a1c6_4396_11eb_980d_acde48001122row0_col71,#T_aa99a1c6_4396_11eb_980d_acde48001122row0_col72,#T_aa99a1c6_4396_11eb_980d_acde48001122row0_col73,#T_aa99a1c6_4396_11eb_980d_acde48001122row0_col74,#T_aa99a1c6_4396_11eb_980d_acde48001122row0_col77,#T_aa99a1c6_4396_11eb_980d_acde48001122row0_col78,#T_aa99a1c6_4396_11eb_980d_acde48001122row0_col81,#T_aa99a1c6_4396_11eb_980d_acde48001122row0_col82,#T_aa99a1c6_4396_11eb_980d_acde48001122row0_col83,#T_aa99a1c6_4396_11eb_980d_acde48001122row0_col84,#T_aa99a1c6_4396_11eb_980d_acde48001122row0_col89,#T_aa99a1c6_4396_11eb_980d_acde48001122row0_col91,#T_aa99a1c6_4396_11eb_980d_acde48001122row0_col93,#T_aa99a1c6_4396_11eb_980d_acde48001122row0_col94,#T_aa99a1c6_4396_11eb_980d_acde48001122row0_col95,#T_aa99a1c6_4396_11eb_980d_acde48001122row0_col96,#T_aa99a1c6_4396_11eb_980d_acde48001122row0_col98,#T_aa99a1c6_4396_11eb_980d_acde48001122row1_col0,#T_aa99a1c6_4396_11eb_980d_acde48001122row1_col1,#T_aa99a1c6_4396_11eb_980d_acde48001122row1_col2,#T_aa99a1c6_4396_11eb_980d_acde48001122row1_col4,#T_aa99a1c6_4396_11eb_980d_acde48001122row1_col6,#T_aa99a1c6_4396_11eb_980d_acde48001122row1_col7,#T_aa99a1c6_4396_11eb_980d_acde48001122row1_col12,#T_aa99a1c6_4396_11eb_980d_acde48001122row1_col13,#T_aa99a1c6_4396_11eb_980d_acde48001122row1_col14,#T_aa99a1c6_4396_11eb_980d_acde48001122row1_col17,#T_aa99a1c6_4396_11eb_980d_acde48001122row1_col18,#T_aa99a1c6_4396_11eb_980d_acde48001122row1_col20,#T_aa99a1c6_4396_11eb_980d_acde48001122row1_col21,#T_aa99a1c6_4396_11eb_980d_acde48001122row1_col28,#T_aa99a1c6_4396_11eb_980d_acde48001122row1_col29,#T_aa99a1c6_4396_11eb_980d_acde48001122row1_col31,#T_aa99a1c6_4396_11eb_980d_acde48001122row1_col40,#T_aa99a1c6_4396_11eb_980d_acde48001122row1_col44,#T_aa99a1c6_4396_11eb_980d_acde48001122row1_col45,#T_aa99a1c6_4396_11eb_980d_acde48001122row1_col47,#T_aa99a1c6_4396_11eb_980d_acde48001122row1_col49,#T_aa99a1c6_4396_11eb_980d_acde48001122row1_col51,#T_aa99a1c6_4396_11eb_980d_acde48001122row1_col52,#T_aa99a1c6_4396_11eb_980d_acde48001122row1_col53,#T_aa99a1c6_4396_11eb_980d_acde48001122row1_col65,#T_aa99a1c6_4396_11eb_980d_acde48001122row1_col66,#T_aa99a1c6_4396_11eb_980d_acde48001122row1_col67,#T_aa99a1c6_4396_11eb_980d_acde48001122row1_col69,#T_aa99a1c6_4396_11eb_980d_acde48001122row1_col70,#T_aa99a1c6_4396_11eb_980d_acde48001122row1_col73,#T_aa99a1c6_4396_11eb_980d_acde48001122row1_col77,#T_aa99a1c6_4396_11eb_980d_acde48001122row1_col78,#T_aa99a1c6_4396_11eb_980d_acde48001122row1_col83,#T_aa99a1c6_4396_11eb_980d_acde48001122row1_col85,#T_aa99a1c6_4396_11eb_980d_acde48001122row1_col88,#T_aa99a1c6_4396_11eb_980d_acde48001122row1_col89,#T_aa99a1c6_4396_11eb_980d_acde48001122row1_col93,#T_aa99a1c6_4396_11eb_980d_acde48001122row1_col94,#T_aa99a1c6_4396_11eb_980d_acde48001122row1_col96,#T_aa99a1c6_4396_11eb_980d_acde48001122row1_col97,#T_aa99a1c6_4396_11eb_980d_acde48001122row1_col98{\n",
       "            background-color:  #006837;\n",
       "            color:  #f1f1f1;\n",
       "        }#T_aa99a1c6_4396_11eb_980d_acde48001122row0_col6,#T_aa99a1c6_4396_11eb_980d_acde48001122row1_col34,#T_aa99a1c6_4396_11eb_980d_acde48001122row1_col56{\n",
       "            background-color:  #016a38;\n",
       "            color:  #f1f1f1;\n",
       "        }#T_aa99a1c6_4396_11eb_980d_acde48001122row0_col9,#T_aa99a1c6_4396_11eb_980d_acde48001122row0_col10,#T_aa99a1c6_4396_11eb_980d_acde48001122row0_col11,#T_aa99a1c6_4396_11eb_980d_acde48001122row0_col25,#T_aa99a1c6_4396_11eb_980d_acde48001122row0_col26,#T_aa99a1c6_4396_11eb_980d_acde48001122row0_col35,#T_aa99a1c6_4396_11eb_980d_acde48001122row0_col38,#T_aa99a1c6_4396_11eb_980d_acde48001122row0_col39,#T_aa99a1c6_4396_11eb_980d_acde48001122row0_col41,#T_aa99a1c6_4396_11eb_980d_acde48001122row0_col45,#T_aa99a1c6_4396_11eb_980d_acde48001122row0_col46,#T_aa99a1c6_4396_11eb_980d_acde48001122row0_col59,#T_aa99a1c6_4396_11eb_980d_acde48001122row0_col61,#T_aa99a1c6_4396_11eb_980d_acde48001122row0_col63,#T_aa99a1c6_4396_11eb_980d_acde48001122row0_col64,#T_aa99a1c6_4396_11eb_980d_acde48001122row0_col66,#T_aa99a1c6_4396_11eb_980d_acde48001122row0_col68,#T_aa99a1c6_4396_11eb_980d_acde48001122row0_col70,#T_aa99a1c6_4396_11eb_980d_acde48001122row0_col76,#T_aa99a1c6_4396_11eb_980d_acde48001122row0_col80,#T_aa99a1c6_4396_11eb_980d_acde48001122row0_col85,#T_aa99a1c6_4396_11eb_980d_acde48001122row0_col87,#T_aa99a1c6_4396_11eb_980d_acde48001122row0_col88,#T_aa99a1c6_4396_11eb_980d_acde48001122row0_col90,#T_aa99a1c6_4396_11eb_980d_acde48001122row0_col92,#T_aa99a1c6_4396_11eb_980d_acde48001122row0_col97,#T_aa99a1c6_4396_11eb_980d_acde48001122row1_col3,#T_aa99a1c6_4396_11eb_980d_acde48001122row1_col5,#T_aa99a1c6_4396_11eb_980d_acde48001122row1_col15,#T_aa99a1c6_4396_11eb_980d_acde48001122row1_col16,#T_aa99a1c6_4396_11eb_980d_acde48001122row1_col19,#T_aa99a1c6_4396_11eb_980d_acde48001122row1_col23,#T_aa99a1c6_4396_11eb_980d_acde48001122row1_col24,#T_aa99a1c6_4396_11eb_980d_acde48001122row1_col27,#T_aa99a1c6_4396_11eb_980d_acde48001122row1_col32,#T_aa99a1c6_4396_11eb_980d_acde48001122row1_col36,#T_aa99a1c6_4396_11eb_980d_acde48001122row1_col37,#T_aa99a1c6_4396_11eb_980d_acde48001122row1_col42,#T_aa99a1c6_4396_11eb_980d_acde48001122row1_col43,#T_aa99a1c6_4396_11eb_980d_acde48001122row1_col54,#T_aa99a1c6_4396_11eb_980d_acde48001122row1_col60,#T_aa99a1c6_4396_11eb_980d_acde48001122row1_col71,#T_aa99a1c6_4396_11eb_980d_acde48001122row1_col75,#T_aa99a1c6_4396_11eb_980d_acde48001122row1_col81,#T_aa99a1c6_4396_11eb_980d_acde48001122row1_col82,#T_aa99a1c6_4396_11eb_980d_acde48001122row1_col84,#T_aa99a1c6_4396_11eb_980d_acde48001122row1_col90,#T_aa99a1c6_4396_11eb_980d_acde48001122row1_col91{\n",
       "            background-color:  #a50026;\n",
       "            color:  #f1f1f1;\n",
       "        }#T_aa99a1c6_4396_11eb_980d_acde48001122row0_col16{\n",
       "            background-color:  #fafdb8;\n",
       "            color:  #000000;\n",
       "        }#T_aa99a1c6_4396_11eb_980d_acde48001122row0_col19{\n",
       "            background-color:  #a90426;\n",
       "            color:  #f1f1f1;\n",
       "        }#T_aa99a1c6_4396_11eb_980d_acde48001122row0_col22,#T_aa99a1c6_4396_11eb_980d_acde48001122row0_col62{\n",
       "            background-color:  #ad0826;\n",
       "            color:  #f1f1f1;\n",
       "        }#T_aa99a1c6_4396_11eb_980d_acde48001122row0_col24,#T_aa99a1c6_4396_11eb_980d_acde48001122row0_col75,#T_aa99a1c6_4396_11eb_980d_acde48001122row1_col63{\n",
       "            background-color:  #b50f26;\n",
       "            color:  #f1f1f1;\n",
       "        }#T_aa99a1c6_4396_11eb_980d_acde48001122row0_col30{\n",
       "            background-color:  #f46d43;\n",
       "            color:  #000000;\n",
       "        }#T_aa99a1c6_4396_11eb_980d_acde48001122row0_col32{\n",
       "            background-color:  #e34933;\n",
       "            color:  #f1f1f1;\n",
       "        }#T_aa99a1c6_4396_11eb_980d_acde48001122row0_col33{\n",
       "            background-color:  #a9da6c;\n",
       "            color:  #000000;\n",
       "        }#T_aa99a1c6_4396_11eb_980d_acde48001122row0_col37{\n",
       "            background-color:  #a70226;\n",
       "            color:  #f1f1f1;\n",
       "        }#T_aa99a1c6_4396_11eb_980d_acde48001122row0_col48{\n",
       "            background-color:  #ddf191;\n",
       "            color:  #000000;\n",
       "        }#T_aa99a1c6_4396_11eb_980d_acde48001122row0_col50,#T_aa99a1c6_4396_11eb_980d_acde48001122row1_col50{\n",
       "            background-color:  #bb1526;\n",
       "            color:  #f1f1f1;\n",
       "        }#T_aa99a1c6_4396_11eb_980d_acde48001122row0_col54{\n",
       "            background-color:  #fba05b;\n",
       "            color:  #000000;\n",
       "        }#T_aa99a1c6_4396_11eb_980d_acde48001122row0_col55{\n",
       "            background-color:  #e8f59f;\n",
       "            color:  #000000;\n",
       "        }#T_aa99a1c6_4396_11eb_980d_acde48001122row0_col57{\n",
       "            background-color:  #f99355;\n",
       "            color:  #000000;\n",
       "        }#T_aa99a1c6_4396_11eb_980d_acde48001122row0_col58{\n",
       "            background-color:  #cc2627;\n",
       "            color:  #f1f1f1;\n",
       "        }#T_aa99a1c6_4396_11eb_980d_acde48001122row0_col79{\n",
       "            background-color:  #c82227;\n",
       "            color:  #f1f1f1;\n",
       "        }#T_aa99a1c6_4396_11eb_980d_acde48001122row0_col86,#T_aa99a1c6_4396_11eb_980d_acde48001122row1_col87{\n",
       "            background-color:  #e54e35;\n",
       "            color:  #000000;\n",
       "        }#T_aa99a1c6_4396_11eb_980d_acde48001122row1_col8,#T_aa99a1c6_4396_11eb_980d_acde48001122row1_col39,#T_aa99a1c6_4396_11eb_980d_acde48001122row1_col46{\n",
       "            background-color:  #17934e;\n",
       "            color:  #000000;\n",
       "        }#T_aa99a1c6_4396_11eb_980d_acde48001122row1_col9,#T_aa99a1c6_4396_11eb_980d_acde48001122row1_col41,#T_aa99a1c6_4396_11eb_980d_acde48001122row1_col64,#T_aa99a1c6_4396_11eb_980d_acde48001122row1_col92{\n",
       "            background-color:  #89cc67;\n",
       "            color:  #000000;\n",
       "        }#T_aa99a1c6_4396_11eb_980d_acde48001122row1_col10,#T_aa99a1c6_4396_11eb_980d_acde48001122row1_col26,#T_aa99a1c6_4396_11eb_980d_acde48001122row1_col38,#T_aa99a1c6_4396_11eb_980d_acde48001122row1_col59,#T_aa99a1c6_4396_11eb_980d_acde48001122row1_col95{\n",
       "            background-color:  #15904c;\n",
       "            color:  #000000;\n",
       "        }#T_aa99a1c6_4396_11eb_980d_acde48001122row1_col11,#T_aa99a1c6_4396_11eb_980d_acde48001122row1_col35{\n",
       "            background-color:  #8ccd67;\n",
       "            color:  #000000;\n",
       "        }#T_aa99a1c6_4396_11eb_980d_acde48001122row1_col22{\n",
       "            background-color:  #d62f27;\n",
       "            color:  #f1f1f1;\n",
       "        }#T_aa99a1c6_4396_11eb_980d_acde48001122row1_col25{\n",
       "            background-color:  #f7814c;\n",
       "            color:  #000000;\n",
       "        }#T_aa99a1c6_4396_11eb_980d_acde48001122row1_col30{\n",
       "            background-color:  #c62027;\n",
       "            color:  #f1f1f1;\n",
       "        }#T_aa99a1c6_4396_11eb_980d_acde48001122row1_col33{\n",
       "            background-color:  #69be63;\n",
       "            color:  #000000;\n",
       "        }#T_aa99a1c6_4396_11eb_980d_acde48001122row1_col48,#T_aa99a1c6_4396_11eb_980d_acde48001122row1_col62{\n",
       "            background-color:  #ab0626;\n",
       "            color:  #f1f1f1;\n",
       "        }#T_aa99a1c6_4396_11eb_980d_acde48001122row1_col55{\n",
       "            background-color:  #fffdbc;\n",
       "            color:  #000000;\n",
       "        }#T_aa99a1c6_4396_11eb_980d_acde48001122row1_col57{\n",
       "            background-color:  #fdc171;\n",
       "            color:  #000000;\n",
       "        }#T_aa99a1c6_4396_11eb_980d_acde48001122row1_col58{\n",
       "            background-color:  #d93429;\n",
       "            color:  #f1f1f1;\n",
       "        }#T_aa99a1c6_4396_11eb_980d_acde48001122row1_col61{\n",
       "            background-color:  #bd1726;\n",
       "            color:  #f1f1f1;\n",
       "        }#T_aa99a1c6_4396_11eb_980d_acde48001122row1_col68{\n",
       "            background-color:  #fdb96a;\n",
       "            color:  #000000;\n",
       "        }#T_aa99a1c6_4396_11eb_980d_acde48001122row1_col72{\n",
       "            background-color:  #91d068;\n",
       "            color:  #000000;\n",
       "        }#T_aa99a1c6_4396_11eb_980d_acde48001122row1_col74{\n",
       "            background-color:  #0e8245;\n",
       "            color:  #f1f1f1;\n",
       "        }#T_aa99a1c6_4396_11eb_980d_acde48001122row1_col76{\n",
       "            background-color:  #b10b26;\n",
       "            color:  #f1f1f1;\n",
       "        }#T_aa99a1c6_4396_11eb_980d_acde48001122row1_col79{\n",
       "            background-color:  #c21c27;\n",
       "            color:  #f1f1f1;\n",
       "        }#T_aa99a1c6_4396_11eb_980d_acde48001122row1_col80{\n",
       "            background-color:  #b7e075;\n",
       "            color:  #000000;\n",
       "        }#T_aa99a1c6_4396_11eb_980d_acde48001122row1_col86{\n",
       "            background-color:  #f36b42;\n",
       "            color:  #000000;\n",
       "        }</style><table id=\"T_aa99a1c6_4396_11eb_980d_acde48001122\" ><thead>    <tr>        <th class=\"blank level0\" ></th>        <th class=\"col_heading level0 col0\" >Age At Time Of Death</th>        <th class=\"col_heading level0 col1\" >Agency Address</th>        <th class=\"col_heading level0 col2\" >Agency City</th>        <th class=\"col_heading level0 col3\" >Agency County</th>        <th class=\"col_heading level0 col4\" >Agency Name</th>        <th class=\"col_heading level0 col5\" >Agency Phone</th>        <th class=\"col_heading level0 col6\" >Agency State</th>        <th class=\"col_heading level0 col7\" >Agency Zip</th>        <th class=\"col_heading level0 col8\" >Appear intoxicated (alcohol or drugs)</th>        <th class=\"col_heading level0 col9\" >Attempt gain possession officer's weapon</th>        <th class=\"col_heading level0 col10\" >Attempt to Injure Others?</th>        <th class=\"col_heading level0 col11\" >Barricade self or initiate standoff?</th>        <th class=\"col_heading level0 col12\" >CDR: CDR Name</th>        <th class=\"col_heading level0 col13\" >City</th>        <th class=\"col_heading level0 col14\" >County</th>        <th class=\"col_heading level0 col15\" >Custody Date NA</th>        <th class=\"col_heading level0 col16\" >Custody Type Facility</th>        <th class=\"col_heading level0 col17\" >Date of Birth</th>        <th class=\"col_heading level0 col18\" >Date/Time of Custody or Incident</th>        <th class=\"col_heading level0 col19\" >Death Causer Other</th>        <th class=\"col_heading level0 col20\" >Death Date and Time</th>        <th class=\"col_heading level0 col21\" >Death Location</th>        <th class=\"col_heading level0 col22\" >Death Location Elsewhere</th>        <th class=\"col_heading level0 col23\" >Death Reason</th>        <th class=\"col_heading level0 col24\" >Death Weapon Other Description</th>        <th class=\"col_heading level0 col25\" >Decedent Display or Use Weapon Details</th>        <th class=\"col_heading level0 col26\" >Decedent display/use of weapons</th>        <th class=\"col_heading level0 col27\" >Department Type</th>        <th class=\"col_heading level0 col28\" >Director First Name</th>        <th class=\"col_heading level0 col29\" >Director Last Name</th>        <th class=\"col_heading level0 col30\" >Director Middle Name</th>        <th class=\"col_heading level0 col31\" >Director Salutation</th>        <th class=\"col_heading level0 col32\" >Entry Behavior</th>        <th class=\"col_heading level0 col33\" >Entry Date Time</th>        <th class=\"col_heading level0 col34\" >Entry Date Time N/A</th>        <th class=\"col_heading level0 col35\" >Escape or attempt to escape/flee custody</th>        <th class=\"col_heading level0 col36\" >Ethnicity</th>        <th class=\"col_heading level0 col37\" >Ethnicity Other</th>        <th class=\"col_heading level0 col38\" >Exhibit any medical problems?</th>        <th class=\"col_heading level0 col39\" >Exhibit any mental health problems?</th>        <th class=\"col_heading level0 col40\" >First Name</th>        <th class=\"col_heading level0 col41\" >Gain possession of officer's weapon</th>        <th class=\"col_heading level0 col42\" >Grab, hit or fight with the officer(s)</th>        <th class=\"col_heading level0 col43\" >Injured By</th>        <th class=\"col_heading level0 col44\" >Last Name</th>        <th class=\"col_heading level0 col45\" >Location Category</th>        <th class=\"col_heading level0 col46\" >Make suicidal statements?</th>        <th class=\"col_heading level0 col47\" >Manner of Death</th>        <th class=\"col_heading level0 col48\" >Manner of Death Description</th>        <th class=\"col_heading level0 col49\" >Means of Death</th>        <th class=\"col_heading level0 col50\" >Means of Death Other</th>        <th class=\"col_heading level0 col51\" >Medical Cause of Death</th>        <th class=\"col_heading level0 col52\" >Medical Examinor/Coroner Evalution?</th>        <th class=\"col_heading level0 col53\" >Medical Treatment</th>        <th class=\"col_heading level0 col54\" >Medical Treatment Description</th>        <th class=\"col_heading level0 col55\" >Middle Name</th>        <th class=\"col_heading level0 col56\" >Offense 1</th>        <th class=\"col_heading level0 col57\" >Offense 2</th>        <th class=\"col_heading level0 col58\" >Offense 3</th>        <th class=\"col_heading level0 col59\" >Other Agencies Respond?</th>        <th class=\"col_heading level0 col60\" >Other Behavior</th>        <th class=\"col_heading level0 col61\" >Other Location Category</th>        <th class=\"col_heading level0 col62\" >Other device, specify</th>        <th class=\"col_heading level0 col63\" >Other weapon, specify</th>        <th class=\"col_heading level0 col64\" >Physically attempt/assault officer(s)</th>        <th class=\"col_heading level0 col65\" >Pre existing medical condition?</th>        <th class=\"col_heading level0 col66\" >Race</th>        <th class=\"col_heading level0 col67\" >Report Date</th>        <th class=\"col_heading level0 col68\" >Report Time</th>        <th class=\"col_heading level0 col69\" >Reporter Email</th>        <th class=\"col_heading level0 col70\" >Reporter Name</th>        <th class=\"col_heading level0 col71\" >Reporter Name Original CDR</th>        <th class=\"col_heading level0 col72\" >Resist being handcuffed or arrested?</th>        <th class=\"col_heading level0 col73\" >Sex</th>        <th class=\"col_heading level0 col74\" >Specific Type of Custody/Facility</th>        <th class=\"col_heading level0 col75\" >Specify Other Behavior</th>        <th class=\"col_heading level0 col76\" >Specify Weapon Used</th>        <th class=\"col_heading level0 col77\" >Status</th>        <th class=\"col_heading level0 col78\" >Street Address</th>        <th class=\"col_heading level0 col79\" >Suffix</th>        <th class=\"col_heading level0 col80\" >TDCJ - Specify Unit</th>        <th class=\"col_heading level0 col81\" >Threaten the officer(s) involved</th>        <th class=\"col_heading level0 col82\" >Try to escape/flee from custody</th>        <th class=\"col_heading level0 col83\" >Type of Custody</th>        <th class=\"col_heading level0 col84\" >Type of Death Weapon</th>        <th class=\"col_heading level0 col85\" >Type of Offense</th>        <th class=\"col_heading level0 col86\" >Type of Offense, Other</th>        <th class=\"col_heading level0 col87\" >Type of Restraint</th>        <th class=\"col_heading level0 col88\" >Type of weapon that caused death?</th>        <th class=\"col_heading level0 col89\" >Under Restraint</th>        <th class=\"col_heading level0 col90\" >Unnamed: 76</th>        <th class=\"col_heading level0 col91\" >Use weapon threaten/assault officer(s)</th>        <th class=\"col_heading level0 col92\" >Verbally threaten other(s) including law</th>        <th class=\"col_heading level0 col93\" >Version Number</th>        <th class=\"col_heading level0 col94\" >Version Type</th>        <th class=\"col_heading level0 col95\" >Were the Charges:</th>        <th class=\"col_heading level0 col96\" >Who caused the death?</th>        <th class=\"col_heading level0 col97\" >Zip</th>        <th class=\"col_heading level0 col98\" >form_version</th>    </tr></thead><tbody>\n",
       "                <tr>\n",
       "                        <th id=\"T_aa99a1c6_4396_11eb_980d_acde48001122level0_row0\" class=\"row_heading level0 row0\" >V_2005</th>\n",
       "                        <td id=\"T_aa99a1c6_4396_11eb_980d_acde48001122row0_col0\" class=\"data row0 col0\" >1.000000</td>\n",
       "                        <td id=\"T_aa99a1c6_4396_11eb_980d_acde48001122row0_col1\" class=\"data row0 col1\" >1.000000</td>\n",
       "                        <td id=\"T_aa99a1c6_4396_11eb_980d_acde48001122row0_col2\" class=\"data row0 col2\" >1.000000</td>\n",
       "                        <td id=\"T_aa99a1c6_4396_11eb_980d_acde48001122row0_col3\" class=\"data row0 col3\" >0.999612</td>\n",
       "                        <td id=\"T_aa99a1c6_4396_11eb_980d_acde48001122row0_col4\" class=\"data row0 col4\" >1.000000</td>\n",
       "                        <td id=\"T_aa99a1c6_4396_11eb_980d_acde48001122row0_col5\" class=\"data row0 col5\" >1.000000</td>\n",
       "                        <td id=\"T_aa99a1c6_4396_11eb_980d_acde48001122row0_col6\" class=\"data row0 col6\" >0.993398</td>\n",
       "                        <td id=\"T_aa99a1c6_4396_11eb_980d_acde48001122row0_col7\" class=\"data row0 col7\" >1.000000</td>\n",
       "                        <td id=\"T_aa99a1c6_4396_11eb_980d_acde48001122row0_col8\" class=\"data row0 col8\" >0.998447</td>\n",
       "                        <td id=\"T_aa99a1c6_4396_11eb_980d_acde48001122row0_col9\" class=\"data row0 col9\" >0.000000</td>\n",
       "                        <td id=\"T_aa99a1c6_4396_11eb_980d_acde48001122row0_col10\" class=\"data row0 col10\" >0.000000</td>\n",
       "                        <td id=\"T_aa99a1c6_4396_11eb_980d_acde48001122row0_col11\" class=\"data row0 col11\" >0.000000</td>\n",
       "                        <td id=\"T_aa99a1c6_4396_11eb_980d_acde48001122row0_col12\" class=\"data row0 col12\" >1.000000</td>\n",
       "                        <td id=\"T_aa99a1c6_4396_11eb_980d_acde48001122row0_col13\" class=\"data row0 col13\" >0.998835</td>\n",
       "                        <td id=\"T_aa99a1c6_4396_11eb_980d_acde48001122row0_col14\" class=\"data row0 col14\" >1.000000</td>\n",
       "                        <td id=\"T_aa99a1c6_4396_11eb_980d_acde48001122row0_col15\" class=\"data row0 col15\" >1.000000</td>\n",
       "                        <td id=\"T_aa99a1c6_4396_11eb_980d_acde48001122row0_col16\" class=\"data row0 col16\" >0.512427</td>\n",
       "                        <td id=\"T_aa99a1c6_4396_11eb_980d_acde48001122row0_col17\" class=\"data row0 col17\" >1.000000</td>\n",
       "                        <td id=\"T_aa99a1c6_4396_11eb_980d_acde48001122row0_col18\" class=\"data row0 col18\" >1.000000</td>\n",
       "                        <td id=\"T_aa99a1c6_4396_11eb_980d_acde48001122row0_col19\" class=\"data row0 col19\" >0.009126</td>\n",
       "                        <td id=\"T_aa99a1c6_4396_11eb_980d_acde48001122row0_col20\" class=\"data row0 col20\" >1.000000</td>\n",
       "                        <td id=\"T_aa99a1c6_4396_11eb_980d_acde48001122row0_col21\" class=\"data row0 col21\" >1.000000</td>\n",
       "                        <td id=\"T_aa99a1c6_4396_11eb_980d_acde48001122row0_col22\" class=\"data row0 col22\" >0.019223</td>\n",
       "                        <td id=\"T_aa99a1c6_4396_11eb_980d_acde48001122row0_col23\" class=\"data row0 col23\" >0.999806</td>\n",
       "                        <td id=\"T_aa99a1c6_4396_11eb_980d_acde48001122row0_col24\" class=\"data row0 col24\" >0.033398</td>\n",
       "                        <td id=\"T_aa99a1c6_4396_11eb_980d_acde48001122row0_col25\" class=\"data row0 col25\" >0.000000</td>\n",
       "                        <td id=\"T_aa99a1c6_4396_11eb_980d_acde48001122row0_col26\" class=\"data row0 col26\" >0.000000</td>\n",
       "                        <td id=\"T_aa99a1c6_4396_11eb_980d_acde48001122row0_col27\" class=\"data row0 col27\" >0.999806</td>\n",
       "                        <td id=\"T_aa99a1c6_4396_11eb_980d_acde48001122row0_col28\" class=\"data row0 col28\" >1.000000</td>\n",
       "                        <td id=\"T_aa99a1c6_4396_11eb_980d_acde48001122row0_col29\" class=\"data row0 col29\" >1.000000</td>\n",
       "                        <td id=\"T_aa99a1c6_4396_11eb_980d_acde48001122row0_col30\" class=\"data row0 col30\" >0.202524</td>\n",
       "                        <td id=\"T_aa99a1c6_4396_11eb_980d_acde48001122row0_col31\" class=\"data row0 col31\" >1.000000</td>\n",
       "                        <td id=\"T_aa99a1c6_4396_11eb_980d_acde48001122row0_col32\" class=\"data row0 col32\" >0.141748</td>\n",
       "                        <td id=\"T_aa99a1c6_4396_11eb_980d_acde48001122row0_col33\" class=\"data row0 col33\" >0.693592</td>\n",
       "                        <td id=\"T_aa99a1c6_4396_11eb_980d_acde48001122row0_col34\" class=\"data row0 col34\" >1.000000</td>\n",
       "                        <td id=\"T_aa99a1c6_4396_11eb_980d_acde48001122row0_col35\" class=\"data row0 col35\" >0.000000</td>\n",
       "                        <td id=\"T_aa99a1c6_4396_11eb_980d_acde48001122row0_col36\" class=\"data row0 col36\" >1.000000</td>\n",
       "                        <td id=\"T_aa99a1c6_4396_11eb_980d_acde48001122row0_col37\" class=\"data row0 col37\" >0.004272</td>\n",
       "                        <td id=\"T_aa99a1c6_4396_11eb_980d_acde48001122row0_col38\" class=\"data row0 col38\" >0.000000</td>\n",
       "                        <td id=\"T_aa99a1c6_4396_11eb_980d_acde48001122row0_col39\" class=\"data row0 col39\" >0.000000</td>\n",
       "                        <td id=\"T_aa99a1c6_4396_11eb_980d_acde48001122row0_col40\" class=\"data row0 col40\" >1.000000</td>\n",
       "                        <td id=\"T_aa99a1c6_4396_11eb_980d_acde48001122row0_col41\" class=\"data row0 col41\" >0.000000</td>\n",
       "                        <td id=\"T_aa99a1c6_4396_11eb_980d_acde48001122row0_col42\" class=\"data row0 col42\" >0.998641</td>\n",
       "                        <td id=\"T_aa99a1c6_4396_11eb_980d_acde48001122row0_col43\" class=\"data row0 col43\" >0.999806</td>\n",
       "                        <td id=\"T_aa99a1c6_4396_11eb_980d_acde48001122row0_col44\" class=\"data row0 col44\" >1.000000</td>\n",
       "                        <td id=\"T_aa99a1c6_4396_11eb_980d_acde48001122row0_col45\" class=\"data row0 col45\" >0.000000</td>\n",
       "                        <td id=\"T_aa99a1c6_4396_11eb_980d_acde48001122row0_col46\" class=\"data row0 col46\" >0.000000</td>\n",
       "                        <td id=\"T_aa99a1c6_4396_11eb_980d_acde48001122row0_col47\" class=\"data row0 col47\" >1.000000</td>\n",
       "                        <td id=\"T_aa99a1c6_4396_11eb_980d_acde48001122row0_col48\" class=\"data row0 col48\" >0.589126</td>\n",
       "                        <td id=\"T_aa99a1c6_4396_11eb_980d_acde48001122row0_col49\" class=\"data row0 col49\" >1.000000</td>\n",
       "                        <td id=\"T_aa99a1c6_4396_11eb_980d_acde48001122row0_col50\" class=\"data row0 col50\" >0.046019</td>\n",
       "                        <td id=\"T_aa99a1c6_4396_11eb_980d_acde48001122row0_col51\" class=\"data row0 col51\" >0.999417</td>\n",
       "                        <td id=\"T_aa99a1c6_4396_11eb_980d_acde48001122row0_col52\" class=\"data row0 col52\" >1.000000</td>\n",
       "                        <td id=\"T_aa99a1c6_4396_11eb_980d_acde48001122row0_col53\" class=\"data row0 col53\" >0.999806</td>\n",
       "                        <td id=\"T_aa99a1c6_4396_11eb_980d_acde48001122row0_col54\" class=\"data row0 col54\" >0.279223</td>\n",
       "                        <td id=\"T_aa99a1c6_4396_11eb_980d_acde48001122row0_col55\" class=\"data row0 col55\" >0.559806</td>\n",
       "                        <td id=\"T_aa99a1c6_4396_11eb_980d_acde48001122row0_col56\" class=\"data row0 col56\" >0.998835</td>\n",
       "                        <td id=\"T_aa99a1c6_4396_11eb_980d_acde48001122row0_col57\" class=\"data row0 col57\" >0.261553</td>\n",
       "                        <td id=\"T_aa99a1c6_4396_11eb_980d_acde48001122row0_col58\" class=\"data row0 col58\" >0.081942</td>\n",
       "                        <td id=\"T_aa99a1c6_4396_11eb_980d_acde48001122row0_col59\" class=\"data row0 col59\" >0.000000</td>\n",
       "                        <td id=\"T_aa99a1c6_4396_11eb_980d_acde48001122row0_col60\" class=\"data row0 col60\" >1.000000</td>\n",
       "                        <td id=\"T_aa99a1c6_4396_11eb_980d_acde48001122row0_col61\" class=\"data row0 col61\" >0.000000</td>\n",
       "                        <td id=\"T_aa99a1c6_4396_11eb_980d_acde48001122row0_col62\" class=\"data row0 col62\" >0.015922</td>\n",
       "                        <td id=\"T_aa99a1c6_4396_11eb_980d_acde48001122row0_col63\" class=\"data row0 col63\" >0.000000</td>\n",
       "                        <td id=\"T_aa99a1c6_4396_11eb_980d_acde48001122row0_col64\" class=\"data row0 col64\" >0.000000</td>\n",
       "                        <td id=\"T_aa99a1c6_4396_11eb_980d_acde48001122row0_col65\" class=\"data row0 col65\" >1.000000</td>\n",
       "                        <td id=\"T_aa99a1c6_4396_11eb_980d_acde48001122row0_col66\" class=\"data row0 col66\" >0.000000</td>\n",
       "                        <td id=\"T_aa99a1c6_4396_11eb_980d_acde48001122row0_col67\" class=\"data row0 col67\" >1.000000</td>\n",
       "                        <td id=\"T_aa99a1c6_4396_11eb_980d_acde48001122row0_col68\" class=\"data row0 col68\" >0.000000</td>\n",
       "                        <td id=\"T_aa99a1c6_4396_11eb_980d_acde48001122row0_col69\" class=\"data row0 col69\" >1.000000</td>\n",
       "                        <td id=\"T_aa99a1c6_4396_11eb_980d_acde48001122row0_col70\" class=\"data row0 col70\" >0.000000</td>\n",
       "                        <td id=\"T_aa99a1c6_4396_11eb_980d_acde48001122row0_col71\" class=\"data row0 col71\" >0.999806</td>\n",
       "                        <td id=\"T_aa99a1c6_4396_11eb_980d_acde48001122row0_col72\" class=\"data row0 col72\" >0.998641</td>\n",
       "                        <td id=\"T_aa99a1c6_4396_11eb_980d_acde48001122row0_col73\" class=\"data row0 col73\" >1.000000</td>\n",
       "                        <td id=\"T_aa99a1c6_4396_11eb_980d_acde48001122row0_col74\" class=\"data row0 col74\" >1.000000</td>\n",
       "                        <td id=\"T_aa99a1c6_4396_11eb_980d_acde48001122row0_col75\" class=\"data row0 col75\" >0.034175</td>\n",
       "                        <td id=\"T_aa99a1c6_4396_11eb_980d_acde48001122row0_col76\" class=\"data row0 col76\" >0.000000</td>\n",
       "                        <td id=\"T_aa99a1c6_4396_11eb_980d_acde48001122row0_col77\" class=\"data row0 col77\" >1.000000</td>\n",
       "                        <td id=\"T_aa99a1c6_4396_11eb_980d_acde48001122row0_col78\" class=\"data row0 col78\" >0.999806</td>\n",
       "                        <td id=\"T_aa99a1c6_4396_11eb_980d_acde48001122row0_col79\" class=\"data row0 col79\" >0.070680</td>\n",
       "                        <td id=\"T_aa99a1c6_4396_11eb_980d_acde48001122row0_col80\" class=\"data row0 col80\" >0.000000</td>\n",
       "                        <td id=\"T_aa99a1c6_4396_11eb_980d_acde48001122row0_col81\" class=\"data row0 col81\" >0.999417</td>\n",
       "                        <td id=\"T_aa99a1c6_4396_11eb_980d_acde48001122row0_col82\" class=\"data row0 col82\" >0.999029</td>\n",
       "                        <td id=\"T_aa99a1c6_4396_11eb_980d_acde48001122row0_col83\" class=\"data row0 col83\" >1.000000</td>\n",
       "                        <td id=\"T_aa99a1c6_4396_11eb_980d_acde48001122row0_col84\" class=\"data row0 col84\" >0.999417</td>\n",
       "                        <td id=\"T_aa99a1c6_4396_11eb_980d_acde48001122row0_col85\" class=\"data row0 col85\" >0.001942</td>\n",
       "                        <td id=\"T_aa99a1c6_4396_11eb_980d_acde48001122row0_col86\" class=\"data row0 col86\" >0.149126</td>\n",
       "                        <td id=\"T_aa99a1c6_4396_11eb_980d_acde48001122row0_col87\" class=\"data row0 col87\" >0.000388</td>\n",
       "                        <td id=\"T_aa99a1c6_4396_11eb_980d_acde48001122row0_col88\" class=\"data row0 col88\" >0.000000</td>\n",
       "                        <td id=\"T_aa99a1c6_4396_11eb_980d_acde48001122row0_col89\" class=\"data row0 col89\" >0.999806</td>\n",
       "                        <td id=\"T_aa99a1c6_4396_11eb_980d_acde48001122row0_col90\" class=\"data row0 col90\" >0.000000</td>\n",
       "                        <td id=\"T_aa99a1c6_4396_11eb_980d_acde48001122row0_col91\" class=\"data row0 col91\" >1.000000</td>\n",
       "                        <td id=\"T_aa99a1c6_4396_11eb_980d_acde48001122row0_col92\" class=\"data row0 col92\" >0.000000</td>\n",
       "                        <td id=\"T_aa99a1c6_4396_11eb_980d_acde48001122row0_col93\" class=\"data row0 col93\" >1.000000</td>\n",
       "                        <td id=\"T_aa99a1c6_4396_11eb_980d_acde48001122row0_col94\" class=\"data row0 col94\" >1.000000</td>\n",
       "                        <td id=\"T_aa99a1c6_4396_11eb_980d_acde48001122row0_col95\" class=\"data row0 col95\" >1.000000</td>\n",
       "                        <td id=\"T_aa99a1c6_4396_11eb_980d_acde48001122row0_col96\" class=\"data row0 col96\" >1.000000</td>\n",
       "                        <td id=\"T_aa99a1c6_4396_11eb_980d_acde48001122row0_col97\" class=\"data row0 col97\" >0.000000</td>\n",
       "                        <td id=\"T_aa99a1c6_4396_11eb_980d_acde48001122row0_col98\" class=\"data row0 col98\" >1.000000</td>\n",
       "            </tr>\n",
       "            <tr>\n",
       "                        <th id=\"T_aa99a1c6_4396_11eb_980d_acde48001122level0_row1\" class=\"row_heading level0 row1\" >V_2016</th>\n",
       "                        <td id=\"T_aa99a1c6_4396_11eb_980d_acde48001122row1_col0\" class=\"data row1 col0\" >1.000000</td>\n",
       "                        <td id=\"T_aa99a1c6_4396_11eb_980d_acde48001122row1_col1\" class=\"data row1 col1\" >1.000000</td>\n",
       "                        <td id=\"T_aa99a1c6_4396_11eb_980d_acde48001122row1_col2\" class=\"data row1 col2\" >1.000000</td>\n",
       "                        <td id=\"T_aa99a1c6_4396_11eb_980d_acde48001122row1_col3\" class=\"data row1 col3\" >0.000000</td>\n",
       "                        <td id=\"T_aa99a1c6_4396_11eb_980d_acde48001122row1_col4\" class=\"data row1 col4\" >1.000000</td>\n",
       "                        <td id=\"T_aa99a1c6_4396_11eb_980d_acde48001122row1_col5\" class=\"data row1 col5\" >0.000000</td>\n",
       "                        <td id=\"T_aa99a1c6_4396_11eb_980d_acde48001122row1_col6\" class=\"data row1 col6\" >1.000000</td>\n",
       "                        <td id=\"T_aa99a1c6_4396_11eb_980d_acde48001122row1_col7\" class=\"data row1 col7\" >1.000000</td>\n",
       "                        <td id=\"T_aa99a1c6_4396_11eb_980d_acde48001122row1_col8\" class=\"data row1 col8\" >0.907011</td>\n",
       "                        <td id=\"T_aa99a1c6_4396_11eb_980d_acde48001122row1_col9\" class=\"data row1 col9\" >0.743073</td>\n",
       "                        <td id=\"T_aa99a1c6_4396_11eb_980d_acde48001122row1_col10\" class=\"data row1 col10\" >0.914568</td>\n",
       "                        <td id=\"T_aa99a1c6_4396_11eb_980d_acde48001122row1_col11\" class=\"data row1 col11\" >0.741394</td>\n",
       "                        <td id=\"T_aa99a1c6_4396_11eb_980d_acde48001122row1_col12\" class=\"data row1 col12\" >1.000000</td>\n",
       "                        <td id=\"T_aa99a1c6_4396_11eb_980d_acde48001122row1_col13\" class=\"data row1 col13\" >0.999370</td>\n",
       "                        <td id=\"T_aa99a1c6_4396_11eb_980d_acde48001122row1_col14\" class=\"data row1 col14\" >1.000000</td>\n",
       "                        <td id=\"T_aa99a1c6_4396_11eb_980d_acde48001122row1_col15\" class=\"data row1 col15\" >0.000000</td>\n",
       "                        <td id=\"T_aa99a1c6_4396_11eb_980d_acde48001122row1_col16\" class=\"data row1 col16\" >0.000000</td>\n",
       "                        <td id=\"T_aa99a1c6_4396_11eb_980d_acde48001122row1_col17\" class=\"data row1 col17\" >1.000000</td>\n",
       "                        <td id=\"T_aa99a1c6_4396_11eb_980d_acde48001122row1_col18\" class=\"data row1 col18\" >1.000000</td>\n",
       "                        <td id=\"T_aa99a1c6_4396_11eb_980d_acde48001122row1_col19\" class=\"data row1 col19\" >0.000000</td>\n",
       "                        <td id=\"T_aa99a1c6_4396_11eb_980d_acde48001122row1_col20\" class=\"data row1 col20\" >1.000000</td>\n",
       "                        <td id=\"T_aa99a1c6_4396_11eb_980d_acde48001122row1_col21\" class=\"data row1 col21\" >1.000000</td>\n",
       "                        <td id=\"T_aa99a1c6_4396_11eb_980d_acde48001122row1_col22\" class=\"data row1 col22\" >0.101385</td>\n",
       "                        <td id=\"T_aa99a1c6_4396_11eb_980d_acde48001122row1_col23\" class=\"data row1 col23\" >0.000000</td>\n",
       "                        <td id=\"T_aa99a1c6_4396_11eb_980d_acde48001122row1_col24\" class=\"data row1 col24\" >0.000000</td>\n",
       "                        <td id=\"T_aa99a1c6_4396_11eb_980d_acde48001122row1_col25\" class=\"data row1 col25\" >0.234257</td>\n",
       "                        <td id=\"T_aa99a1c6_4396_11eb_980d_acde48001122row1_col26\" class=\"data row1 col26\" >0.917716</td>\n",
       "                        <td id=\"T_aa99a1c6_4396_11eb_980d_acde48001122row1_col27\" class=\"data row1 col27\" >0.000000</td>\n",
       "                        <td id=\"T_aa99a1c6_4396_11eb_980d_acde48001122row1_col28\" class=\"data row1 col28\" >1.000000</td>\n",
       "                        <td id=\"T_aa99a1c6_4396_11eb_980d_acde48001122row1_col29\" class=\"data row1 col29\" >1.000000</td>\n",
       "                        <td id=\"T_aa99a1c6_4396_11eb_980d_acde48001122row1_col30\" class=\"data row1 col30\" >0.068640</td>\n",
       "                        <td id=\"T_aa99a1c6_4396_11eb_980d_acde48001122row1_col31\" class=\"data row1 col31\" >1.000000</td>\n",
       "                        <td id=\"T_aa99a1c6_4396_11eb_980d_acde48001122row1_col32\" class=\"data row1 col32\" >0.000000</td>\n",
       "                        <td id=\"T_aa99a1c6_4396_11eb_980d_acde48001122row1_col33\" class=\"data row1 col33\" >0.794291</td>\n",
       "                        <td id=\"T_aa99a1c6_4396_11eb_980d_acde48001122row1_col34\" class=\"data row1 col34\" >0.993703</td>\n",
       "                        <td id=\"T_aa99a1c6_4396_11eb_980d_acde48001122row1_col35\" class=\"data row1 col35\" >0.741394</td>\n",
       "                        <td id=\"T_aa99a1c6_4396_11eb_980d_acde48001122row1_col36\" class=\"data row1 col36\" >0.000000</td>\n",
       "                        <td id=\"T_aa99a1c6_4396_11eb_980d_acde48001122row1_col37\" class=\"data row1 col37\" >0.000000</td>\n",
       "                        <td id=\"T_aa99a1c6_4396_11eb_980d_acde48001122row1_col38\" class=\"data row1 col38\" >0.914777</td>\n",
       "                        <td id=\"T_aa99a1c6_4396_11eb_980d_acde48001122row1_col39\" class=\"data row1 col39\" >0.906591</td>\n",
       "                        <td id=\"T_aa99a1c6_4396_11eb_980d_acde48001122row1_col40\" class=\"data row1 col40\" >1.000000</td>\n",
       "                        <td id=\"T_aa99a1c6_4396_11eb_980d_acde48001122row1_col41\" class=\"data row1 col41\" >0.743073</td>\n",
       "                        <td id=\"T_aa99a1c6_4396_11eb_980d_acde48001122row1_col42\" class=\"data row1 col42\" >0.000000</td>\n",
       "                        <td id=\"T_aa99a1c6_4396_11eb_980d_acde48001122row1_col43\" class=\"data row1 col43\" >0.000000</td>\n",
       "                        <td id=\"T_aa99a1c6_4396_11eb_980d_acde48001122row1_col44\" class=\"data row1 col44\" >1.000000</td>\n",
       "                        <td id=\"T_aa99a1c6_4396_11eb_980d_acde48001122row1_col45\" class=\"data row1 col45\" >1.000000</td>\n",
       "                        <td id=\"T_aa99a1c6_4396_11eb_980d_acde48001122row1_col46\" class=\"data row1 col46\" >0.906801</td>\n",
       "                        <td id=\"T_aa99a1c6_4396_11eb_980d_acde48001122row1_col47\" class=\"data row1 col47\" >1.000000</td>\n",
       "                        <td id=\"T_aa99a1c6_4396_11eb_980d_acde48001122row1_col48\" class=\"data row1 col48\" >0.011965</td>\n",
       "                        <td id=\"T_aa99a1c6_4396_11eb_980d_acde48001122row1_col49\" class=\"data row1 col49\" >1.000000</td>\n",
       "                        <td id=\"T_aa99a1c6_4396_11eb_980d_acde48001122row1_col50\" class=\"data row1 col50\" >0.045970</td>\n",
       "                        <td id=\"T_aa99a1c6_4396_11eb_980d_acde48001122row1_col51\" class=\"data row1 col51\" >0.998111</td>\n",
       "                        <td id=\"T_aa99a1c6_4396_11eb_980d_acde48001122row1_col52\" class=\"data row1 col52\" >1.000000</td>\n",
       "                        <td id=\"T_aa99a1c6_4396_11eb_980d_acde48001122row1_col53\" class=\"data row1 col53\" >1.000000</td>\n",
       "                        <td id=\"T_aa99a1c6_4396_11eb_980d_acde48001122row1_col54\" class=\"data row1 col54\" >0.000000</td>\n",
       "                        <td id=\"T_aa99a1c6_4396_11eb_980d_acde48001122row1_col55\" class=\"data row1 col55\" >0.492653</td>\n",
       "                        <td id=\"T_aa99a1c6_4396_11eb_980d_acde48001122row1_col56\" class=\"data row1 col56\" >0.995172</td>\n",
       "                        <td id=\"T_aa99a1c6_4396_11eb_980d_acde48001122row1_col57\" class=\"data row1 col57\" >0.336272</td>\n",
       "                        <td id=\"T_aa99a1c6_4396_11eb_980d_acde48001122row1_col58\" class=\"data row1 col58\" >0.106633</td>\n",
       "                        <td id=\"T_aa99a1c6_4396_11eb_980d_acde48001122row1_col59\" class=\"data row1 col59\" >0.914148</td>\n",
       "                        <td id=\"T_aa99a1c6_4396_11eb_980d_acde48001122row1_col60\" class=\"data row1 col60\" >0.000000</td>\n",
       "                        <td id=\"T_aa99a1c6_4396_11eb_980d_acde48001122row1_col61\" class=\"data row1 col61\" >0.048069</td>\n",
       "                        <td id=\"T_aa99a1c6_4396_11eb_980d_acde48001122row1_col62\" class=\"data row1 col62\" >0.012175</td>\n",
       "                        <td id=\"T_aa99a1c6_4396_11eb_980d_acde48001122row1_col63\" class=\"data row1 col63\" >0.031276</td>\n",
       "                        <td id=\"T_aa99a1c6_4396_11eb_980d_acde48001122row1_col64\" class=\"data row1 col64\" >0.742653</td>\n",
       "                        <td id=\"T_aa99a1c6_4396_11eb_980d_acde48001122row1_col65\" class=\"data row1 col65\" >1.000000</td>\n",
       "                        <td id=\"T_aa99a1c6_4396_11eb_980d_acde48001122row1_col66\" class=\"data row1 col66\" >1.000000</td>\n",
       "                        <td id=\"T_aa99a1c6_4396_11eb_980d_acde48001122row1_col67\" class=\"data row1 col67\" >1.000000</td>\n",
       "                        <td id=\"T_aa99a1c6_4396_11eb_980d_acde48001122row1_col68\" class=\"data row1 col68\" >0.320949</td>\n",
       "                        <td id=\"T_aa99a1c6_4396_11eb_980d_acde48001122row1_col69\" class=\"data row1 col69\" >0.999790</td>\n",
       "                        <td id=\"T_aa99a1c6_4396_11eb_980d_acde48001122row1_col70\" class=\"data row1 col70\" >1.000000</td>\n",
       "                        <td id=\"T_aa99a1c6_4396_11eb_980d_acde48001122row1_col71\" class=\"data row1 col71\" >0.000000</td>\n",
       "                        <td id=\"T_aa99a1c6_4396_11eb_980d_acde48001122row1_col72\" class=\"data row1 col72\" >0.732578</td>\n",
       "                        <td id=\"T_aa99a1c6_4396_11eb_980d_acde48001122row1_col73\" class=\"data row1 col73\" >1.000000</td>\n",
       "                        <td id=\"T_aa99a1c6_4396_11eb_980d_acde48001122row1_col74\" class=\"data row1 col74\" >0.944584</td>\n",
       "                        <td id=\"T_aa99a1c6_4396_11eb_980d_acde48001122row1_col75\" class=\"data row1 col75\" >0.000000</td>\n",
       "                        <td id=\"T_aa99a1c6_4396_11eb_980d_acde48001122row1_col76\" class=\"data row1 col76\" >0.024769</td>\n",
       "                        <td id=\"T_aa99a1c6_4396_11eb_980d_acde48001122row1_col77\" class=\"data row1 col77\" >1.000000</td>\n",
       "                        <td id=\"T_aa99a1c6_4396_11eb_980d_acde48001122row1_col78\" class=\"data row1 col78\" >1.000000</td>\n",
       "                        <td id=\"T_aa99a1c6_4396_11eb_980d_acde48001122row1_col79\" class=\"data row1 col79\" >0.059404</td>\n",
       "                        <td id=\"T_aa99a1c6_4396_11eb_980d_acde48001122row1_col80\" class=\"data row1 col80\" >0.664568</td>\n",
       "                        <td id=\"T_aa99a1c6_4396_11eb_980d_acde48001122row1_col81\" class=\"data row1 col81\" >0.000000</td>\n",
       "                        <td id=\"T_aa99a1c6_4396_11eb_980d_acde48001122row1_col82\" class=\"data row1 col82\" >0.000000</td>\n",
       "                        <td id=\"T_aa99a1c6_4396_11eb_980d_acde48001122row1_col83\" class=\"data row1 col83\" >1.000000</td>\n",
       "                        <td id=\"T_aa99a1c6_4396_11eb_980d_acde48001122row1_col84\" class=\"data row1 col84\" >0.000000</td>\n",
       "                        <td id=\"T_aa99a1c6_4396_11eb_980d_acde48001122row1_col85\" class=\"data row1 col85\" >0.996432</td>\n",
       "                        <td id=\"T_aa99a1c6_4396_11eb_980d_acde48001122row1_col86\" class=\"data row1 col86\" >0.195634</td>\n",
       "                        <td id=\"T_aa99a1c6_4396_11eb_980d_acde48001122row1_col87\" class=\"data row1 col87\" >0.150924</td>\n",
       "                        <td id=\"T_aa99a1c6_4396_11eb_980d_acde48001122row1_col88\" class=\"data row1 col88\" >0.999790</td>\n",
       "                        <td id=\"T_aa99a1c6_4396_11eb_980d_acde48001122row1_col89\" class=\"data row1 col89\" >0.999790</td>\n",
       "                        <td id=\"T_aa99a1c6_4396_11eb_980d_acde48001122row1_col90\" class=\"data row1 col90\" >0.000210</td>\n",
       "                        <td id=\"T_aa99a1c6_4396_11eb_980d_acde48001122row1_col91\" class=\"data row1 col91\" >0.000000</td>\n",
       "                        <td id=\"T_aa99a1c6_4396_11eb_980d_acde48001122row1_col92\" class=\"data row1 col92\" >0.744542</td>\n",
       "                        <td id=\"T_aa99a1c6_4396_11eb_980d_acde48001122row1_col93\" class=\"data row1 col93\" >1.000000</td>\n",
       "                        <td id=\"T_aa99a1c6_4396_11eb_980d_acde48001122row1_col94\" class=\"data row1 col94\" >1.000000</td>\n",
       "                        <td id=\"T_aa99a1c6_4396_11eb_980d_acde48001122row1_col95\" class=\"data row1 col95\" >0.917716</td>\n",
       "                        <td id=\"T_aa99a1c6_4396_11eb_980d_acde48001122row1_col96\" class=\"data row1 col96\" >1.000000</td>\n",
       "                        <td id=\"T_aa99a1c6_4396_11eb_980d_acde48001122row1_col97\" class=\"data row1 col97\" >0.999790</td>\n",
       "                        <td id=\"T_aa99a1c6_4396_11eb_980d_acde48001122row1_col98\" class=\"data row1 col98\" >1.000000</td>\n",
       "            </tr>\n",
       "    </tbody></table>"
      ],
      "text/plain": [
       "<pandas.io.formats.style.Styler at 0x7fa2fb58a810>"
      ]
     },
     "execution_count": 14,
     "metadata": {},
     "output_type": "execute_result"
    }
   ],
   "source": [
    "show_notnull_chart(cdr)"
   ]
  },
  {
   "cell_type": "markdown",
   "metadata": {},
   "source": [
    "### Drop columns that we either don't need or haven't written code to clean yet."
   ]
  },
  {
   "cell_type": "code",
   "execution_count": 15,
   "metadata": {
    "ExecuteTime": {
     "end_time": "2020-12-21T14:13:15.148563Z",
     "start_time": "2020-12-21T14:13:15.144747Z"
    }
   },
   "outputs": [],
   "source": [
    "keep_text = '''Both forms\n",
    "\n",
    "- Age At Time Of Death\n",
    "- Agency Address\n",
    "- Agency City\n",
    "- Agency Name\n",
    "- Agency Zip\n",
    "- CDR: CDR Name\n",
    "- City\n",
    "- County\n",
    "- Date of Birth\n",
    "- Date/Time of Custody or Incident\n",
    "- Death Date and Time\n",
    "- Death Location\n",
    "- Death Location Elsewhere\n",
    "- Entry Date Time\n",
    "- Entry Date Time N/A\n",
    "- First Name\n",
    "- Middle Name\n",
    "- Last Name\n",
    "- Suffix\n",
    "- Manner of Death\n",
    "- Manner of Death Description\n",
    "- Means of Death\n",
    "- Means of Death Other\n",
    "- Medical Cause of Death\n",
    "- Medical Examinor/Coroner Evalution?\n",
    "- Medical Treatment\n",
    "- Offense 1\n",
    "- Offense 2\n",
    "- Offense 3\n",
    "- Pre existing medical condition?\n",
    "- Report Date\n",
    "- Sex\n",
    "- Specific Type of Custody/Facility\n",
    "- Street Address\n",
    "- Type of Custody\n",
    "- Type of Offense\n",
    "- Type of Offense, Other\n",
    "- Version Number\n",
    "- Version Type\n",
    "- Were the Charges:\n",
    "- Who caused the death?\n",
    "- form_version\n",
    "- Type of Restraint\n",
    "- Under Restraint\n",
    "\n",
    "2005 form only\n",
    "\n",
    "- Agency County\n",
    "- Custody Date NA\n",
    "- Death Causer Other\n",
    "- Department Type\n",
    "- Entry Behavior\n",
    "- Ethnicity\n",
    "- Ethnicity Other\n",
    "- Other Behavior\n",
    "- Specify Other Behavior\n",
    "\n",
    "2016 form only\n",
    "\n",
    "- Exhibit any medical problems?\n",
    "- Exhibit any mental health problems?\n",
    "- Make suicidal statements?\n",
    "- Race'''\n",
    "keep_cols = []\n",
    "drop_cols = set(cdr.columns)\n",
    "for line in keep_text.splitlines():\n",
    "    if line.startswith('- '):\n",
    "        colname = line[2:]\n",
    "        keep_cols.append(colname)\n",
    "        drop_cols.remove(colname)"
   ]
  },
  {
   "cell_type": "markdown",
   "metadata": {},
   "source": [
    "### Rename columns to be more machine friendly (lowercase, snake_case, and remove non-alphanumeric characters)"
   ]
  },
  {
   "cell_type": "code",
   "execution_count": 16,
   "metadata": {
    "ExecuteTime": {
     "end_time": "2020-12-21T14:13:15.154095Z",
     "start_time": "2020-12-21T14:13:15.150211Z"
    }
   },
   "outputs": [],
   "source": [
    "col_renames = {}\n",
    "for c in keep_cols:\n",
    "    new_name = ''.join([ch if ch.isalnum() else ' ' for ch in c.lower()])\n",
    "    new_name = '_'.join(new_name.strip().split())\n",
    "    col_renames[c] = new_name"
   ]
  },
  {
   "cell_type": "code",
   "execution_count": 17,
   "metadata": {
    "ExecuteTime": {
     "end_time": "2020-12-21T14:13:15.210946Z",
     "start_time": "2020-12-21T14:13:15.155550Z"
    }
   },
   "outputs": [
    {
     "data": {
      "text/html": [
       "<div>\n",
       "<style scoped>\n",
       "    .dataframe tbody tr th:only-of-type {\n",
       "        vertical-align: middle;\n",
       "    }\n",
       "\n",
       "    .dataframe tbody tr th {\n",
       "        vertical-align: top;\n",
       "    }\n",
       "\n",
       "    .dataframe thead th {\n",
       "        text-align: right;\n",
       "    }\n",
       "</style>\n",
       "<table border=\"1\" class=\"dataframe\">\n",
       "  <thead>\n",
       "    <tr style=\"text-align: right;\">\n",
       "      <th></th>\n",
       "      <th>age_at_time_of_death</th>\n",
       "      <th>agency_address</th>\n",
       "      <th>agency_city</th>\n",
       "      <th>agency_name</th>\n",
       "      <th>agency_zip</th>\n",
       "      <th>cdr_cdr_name</th>\n",
       "      <th>city</th>\n",
       "      <th>county</th>\n",
       "      <th>date_of_birth</th>\n",
       "      <th>date_time_of_custody_or_incident</th>\n",
       "      <th>death_date_and_time</th>\n",
       "      <th>death_location</th>\n",
       "      <th>death_location_elsewhere</th>\n",
       "      <th>entry_date_time</th>\n",
       "      <th>entry_date_time_n_a</th>\n",
       "      <th>first_name</th>\n",
       "      <th>middle_name</th>\n",
       "      <th>last_name</th>\n",
       "      <th>suffix</th>\n",
       "      <th>manner_of_death</th>\n",
       "      <th>manner_of_death_description</th>\n",
       "      <th>means_of_death</th>\n",
       "      <th>means_of_death_other</th>\n",
       "      <th>medical_cause_of_death</th>\n",
       "      <th>medical_examinor_coroner_evalution</th>\n",
       "      <th>medical_treatment</th>\n",
       "      <th>offense_1</th>\n",
       "      <th>offense_2</th>\n",
       "      <th>offense_3</th>\n",
       "      <th>pre_existing_medical_condition</th>\n",
       "      <th>report_date</th>\n",
       "      <th>sex</th>\n",
       "      <th>specific_type_of_custody_facility</th>\n",
       "      <th>street_address</th>\n",
       "      <th>type_of_custody</th>\n",
       "      <th>type_of_offense</th>\n",
       "      <th>type_of_offense_other</th>\n",
       "      <th>version_number</th>\n",
       "      <th>version_type</th>\n",
       "      <th>were_the_charges</th>\n",
       "      <th>who_caused_the_death</th>\n",
       "      <th>form_version</th>\n",
       "      <th>type_of_restraint</th>\n",
       "      <th>under_restraint</th>\n",
       "      <th>agency_county</th>\n",
       "      <th>custody_date_na</th>\n",
       "      <th>death_causer_other</th>\n",
       "      <th>department_type</th>\n",
       "      <th>entry_behavior</th>\n",
       "      <th>ethnicity</th>\n",
       "      <th>ethnicity_other</th>\n",
       "      <th>other_behavior</th>\n",
       "      <th>specify_other_behavior</th>\n",
       "      <th>exhibit_any_medical_problems</th>\n",
       "      <th>exhibit_any_mental_health_problems</th>\n",
       "      <th>make_suicidal_statements</th>\n",
       "      <th>race</th>\n",
       "    </tr>\n",
       "  </thead>\n",
       "  <tbody>\n",
       "    <tr>\n",
       "      <th>0</th>\n",
       "      <td>40</td>\n",
       "      <td>350 W. Belknap</td>\n",
       "      <td>Fort Worth</td>\n",
       "      <td>Fort Worth Police Dept.</td>\n",
       "      <td>76102</td>\n",
       "      <td>PA05001C</td>\n",
       "      <td>Fort Worth</td>\n",
       "      <td>Tarrant</td>\n",
       "      <td>1964-04-03 00:00:00</td>\n",
       "      <td>2005-01-01 15:04:00</td>\n",
       "      <td>2005-01-01 15:04:00</td>\n",
       "      <td>At the crime/arrest scene</td>\n",
       "      <td>NaN</td>\n",
       "      <td>NaT</td>\n",
       "      <td>1</td>\n",
       "      <td>Dino</td>\n",
       "      <td>NaN</td>\n",
       "      <td>Gomez</td>\n",
       "      <td>NaN</td>\n",
       "      <td>Justifiable Homicide</td>\n",
       "      <td>NaN</td>\n",
       "      <td>Firearm</td>\n",
       "      <td>NaN</td>\n",
       "      <td>Gunshot Wound to the Chest</td>\n",
       "      <td>Yes, results are available</td>\n",
       "      <td>Not Applicable</td>\n",
       "      <td>Aggravated Assault</td>\n",
       "      <td>NaN</td>\n",
       "      <td>NaN</td>\n",
       "      <td>Not Applicable; cause of death was accidental ...</td>\n",
       "      <td>2005-03-02 14:48:00</td>\n",
       "      <td>Male</td>\n",
       "      <td>Custody of Peace Officer during/fleeing arrest</td>\n",
       "      <td>1509 W. Hammond</td>\n",
       "      <td>Police Custody (pre-booking)</td>\n",
       "      <td>NaN</td>\n",
       "      <td>NaN</td>\n",
       "      <td>1</td>\n",
       "      <td>ORIGINAL VERSION</td>\n",
       "      <td>Not filed at time of death</td>\n",
       "      <td>Law enforcement/correctional staff</td>\n",
       "      <td>V_2005</td>\n",
       "      <td>NaN</td>\n",
       "      <td>No</td>\n",
       "      <td>TARRANT</td>\n",
       "      <td>0.0</td>\n",
       "      <td>NaN</td>\n",
       "      <td>POLICE</td>\n",
       "      <td>NaN</td>\n",
       "      <td>Hispanic</td>\n",
       "      <td>NaN</td>\n",
       "      <td>0.0</td>\n",
       "      <td>NaN</td>\n",
       "      <td>NaN</td>\n",
       "      <td>NaN</td>\n",
       "      <td>NaN</td>\n",
       "      <td>NaN</td>\n",
       "    </tr>\n",
       "    <tr>\n",
       "      <th>1</th>\n",
       "      <td>51</td>\n",
       "      <td>P. O. Box 1748</td>\n",
       "      <td>Austin</td>\n",
       "      <td>Travis County Sheriff's Dept.</td>\n",
       "      <td>78767</td>\n",
       "      <td>PA05002CJ</td>\n",
       "      <td>Del Valle</td>\n",
       "      <td>Travis</td>\n",
       "      <td>1953-03-04 00:00:00</td>\n",
       "      <td>2004-10-20 20:56:00</td>\n",
       "      <td>2005-01-01 15:59:00</td>\n",
       "      <td>At medical facility</td>\n",
       "      <td>NaN</td>\n",
       "      <td>2004-10-20 20:56:00</td>\n",
       "      <td>0</td>\n",
       "      <td>Michael</td>\n",
       "      <td>Darnell</td>\n",
       "      <td>Dickson</td>\n",
       "      <td>NaN</td>\n",
       "      <td>Natural Causes/Illness</td>\n",
       "      <td>Cardiac Arrest</td>\n",
       "      <td>Not applicable; cause of death was intoxicatio...</td>\n",
       "      <td>NaN</td>\n",
       "      <td>Myocardial infarction</td>\n",
       "      <td>Yes, results are available</td>\n",
       "      <td>Yes</td>\n",
       "      <td>Man/Del/Sell/Poss Controlled Substance</td>\n",
       "      <td>NaN</td>\n",
       "      <td>NaN</td>\n",
       "      <td>Pre-existing medical condition</td>\n",
       "      <td>2005-03-03 14:07:00</td>\n",
       "      <td>Male</td>\n",
       "      <td>Jail - multiple occupancy cell</td>\n",
       "      <td>3614 Bill Price Road</td>\n",
       "      <td>County Jail</td>\n",
       "      <td>NaN</td>\n",
       "      <td>NaN</td>\n",
       "      <td>1</td>\n",
       "      <td>ORIGINAL VERSION</td>\n",
       "      <td>Filed</td>\n",
       "      <td>Not applicable; cause of death was suicide, in...</td>\n",
       "      <td>V_2005</td>\n",
       "      <td>NaN</td>\n",
       "      <td>No</td>\n",
       "      <td>TRAVIS</td>\n",
       "      <td>0.0</td>\n",
       "      <td>NaN</td>\n",
       "      <td>SHERIFF</td>\n",
       "      <td>Medical</td>\n",
       "      <td>African-American</td>\n",
       "      <td>NaN</td>\n",
       "      <td>0.0</td>\n",
       "      <td>NaN</td>\n",
       "      <td>NaN</td>\n",
       "      <td>NaN</td>\n",
       "      <td>NaN</td>\n",
       "      <td>NaN</td>\n",
       "    </tr>\n",
       "    <tr>\n",
       "      <th>2</th>\n",
       "      <td>44</td>\n",
       "      <td>P.O. Box 4003</td>\n",
       "      <td>Huntsville</td>\n",
       "      <td>Texas Department Of Criminal Justice</td>\n",
       "      <td>773424003</td>\n",
       "      <td>PA05003P</td>\n",
       "      <td>Huntsville</td>\n",
       "      <td>Walker</td>\n",
       "      <td>1960-12-03 00:00:00</td>\n",
       "      <td>2004-12-17 09:00:00</td>\n",
       "      <td>2005-01-02 04:35:00</td>\n",
       "      <td>At medical facility</td>\n",
       "      <td>NaN</td>\n",
       "      <td>2004-12-17 09:00:00</td>\n",
       "      <td>0</td>\n",
       "      <td>Darryl</td>\n",
       "      <td>Glenn</td>\n",
       "      <td>Wallace</td>\n",
       "      <td>NaN</td>\n",
       "      <td>Natural Causes/Illness</td>\n",
       "      <td>Cardiac</td>\n",
       "      <td>Not applicable; cause of death was intoxicatio...</td>\n",
       "      <td>NaN</td>\n",
       "      <td>Cardiac death secondary to cardiac ischemia th...</td>\n",
       "      <td>Yes, results are available</td>\n",
       "      <td>Yes</td>\n",
       "      <td>Burglary of Habitation</td>\n",
       "      <td>NaN</td>\n",
       "      <td>NaN</td>\n",
       "      <td>Pre-existing medical condition</td>\n",
       "      <td>2005-03-03 14:16:00</td>\n",
       "      <td>Male</td>\n",
       "      <td>TDCJ</td>\n",
       "      <td>21 FM 247</td>\n",
       "      <td>Penitentiary</td>\n",
       "      <td>NaN</td>\n",
       "      <td>NaN</td>\n",
       "      <td>1</td>\n",
       "      <td>ORIGINAL VERSION</td>\n",
       "      <td>Convicted</td>\n",
       "      <td>Not applicable; cause of death was suicide, in...</td>\n",
       "      <td>V_2005</td>\n",
       "      <td>NaN</td>\n",
       "      <td>No</td>\n",
       "      <td>TRAVIS</td>\n",
       "      <td>0.0</td>\n",
       "      <td>NaN</td>\n",
       "      <td>STAGENCY</td>\n",
       "      <td>NaN</td>\n",
       "      <td>African-American</td>\n",
       "      <td>NaN</td>\n",
       "      <td>0.0</td>\n",
       "      <td>NaN</td>\n",
       "      <td>NaN</td>\n",
       "      <td>NaN</td>\n",
       "      <td>NaN</td>\n",
       "      <td>NaN</td>\n",
       "    </tr>\n",
       "    <tr>\n",
       "      <th>3</th>\n",
       "      <td>21</td>\n",
       "      <td>214 W. Nueva, Suite 331</td>\n",
       "      <td>San Antonio</td>\n",
       "      <td>San Antonio Police Dept.</td>\n",
       "      <td>78207</td>\n",
       "      <td>PA05004C</td>\n",
       "      <td>San Antonio</td>\n",
       "      <td>Bexar</td>\n",
       "      <td>1983-11-28 00:00:00</td>\n",
       "      <td>2005-01-03 14:50:00</td>\n",
       "      <td>2005-01-03 15:00:00</td>\n",
       "      <td>At the crime/arrest scene</td>\n",
       "      <td>NaN</td>\n",
       "      <td>NaT</td>\n",
       "      <td>1</td>\n",
       "      <td>Albert</td>\n",
       "      <td>Chavez</td>\n",
       "      <td>Enriquez</td>\n",
       "      <td>NaN</td>\n",
       "      <td>Justifiable Homicide</td>\n",
       "      <td>NaN</td>\n",
       "      <td>Firearm</td>\n",
       "      <td>NaN</td>\n",
       "      <td>Multiple Gunshot Wounds</td>\n",
       "      <td>Yes, results are available</td>\n",
       "      <td>Not Applicable</td>\n",
       "      <td>Aggravated Robbery</td>\n",
       "      <td>NaN</td>\n",
       "      <td>NaN</td>\n",
       "      <td>Not Applicable; cause of death was accidental ...</td>\n",
       "      <td>2005-03-03 14:40:00</td>\n",
       "      <td>Male</td>\n",
       "      <td>Custody of Peace Officer during/fleeing arrest</td>\n",
       "      <td>2102 Goliad Road</td>\n",
       "      <td>Police Custody (pre-booking)</td>\n",
       "      <td>NaN</td>\n",
       "      <td>NaN</td>\n",
       "      <td>1</td>\n",
       "      <td>ORIGINAL VERSION</td>\n",
       "      <td>Not filed at time of death</td>\n",
       "      <td>Law enforcement/correctional staff</td>\n",
       "      <td>V_2005</td>\n",
       "      <td>NaN</td>\n",
       "      <td>No</td>\n",
       "      <td>BEXAR</td>\n",
       "      <td>0.0</td>\n",
       "      <td>NaN</td>\n",
       "      <td>POLICE</td>\n",
       "      <td>NaN</td>\n",
       "      <td>Hispanic</td>\n",
       "      <td>NaN</td>\n",
       "      <td>0.0</td>\n",
       "      <td>NaN</td>\n",
       "      <td>NaN</td>\n",
       "      <td>NaN</td>\n",
       "      <td>NaN</td>\n",
       "      <td>NaN</td>\n",
       "    </tr>\n",
       "    <tr>\n",
       "      <th>4</th>\n",
       "      <td>26</td>\n",
       "      <td>1200 Travis, 17th Floor</td>\n",
       "      <td>Houston</td>\n",
       "      <td>Houston Police Dept.</td>\n",
       "      <td>77002</td>\n",
       "      <td>PA05005C</td>\n",
       "      <td>Houston</td>\n",
       "      <td>Harris</td>\n",
       "      <td>1978-12-30 00:00:00</td>\n",
       "      <td>2005-01-03 17:15:00</td>\n",
       "      <td>2005-01-03 17:15:00</td>\n",
       "      <td>At the crime/arrest scene</td>\n",
       "      <td>NaN</td>\n",
       "      <td>NaT</td>\n",
       "      <td>1</td>\n",
       "      <td>Alex</td>\n",
       "      <td>NaN</td>\n",
       "      <td>Mendez</td>\n",
       "      <td>NaN</td>\n",
       "      <td>Justifiable Homicide</td>\n",
       "      <td>NaN</td>\n",
       "      <td>Firearm</td>\n",
       "      <td>NaN</td>\n",
       "      <td>Multiple Gunshot Wounds</td>\n",
       "      <td>Yes, results are available</td>\n",
       "      <td>Not Applicable</td>\n",
       "      <td>Traffic Violation</td>\n",
       "      <td>NaN</td>\n",
       "      <td>NaN</td>\n",
       "      <td>Not Applicable; cause of death was accidental ...</td>\n",
       "      <td>2005-03-03 14:51:00</td>\n",
       "      <td>Male</td>\n",
       "      <td>Custody of Peace Officer during/fleeing arrest</td>\n",
       "      <td>3600 block of Telephone Rd</td>\n",
       "      <td>Police Custody (pre-booking)</td>\n",
       "      <td>NaN</td>\n",
       "      <td>Traffic Violation</td>\n",
       "      <td>1</td>\n",
       "      <td>ORIGINAL VERSION</td>\n",
       "      <td>Not filed at time of death</td>\n",
       "      <td>Law enforcement/correctional staff</td>\n",
       "      <td>V_2005</td>\n",
       "      <td>NaN</td>\n",
       "      <td>No</td>\n",
       "      <td>HARRIS</td>\n",
       "      <td>0.0</td>\n",
       "      <td>NaN</td>\n",
       "      <td>POLICE</td>\n",
       "      <td>NaN</td>\n",
       "      <td>Hispanic</td>\n",
       "      <td>NaN</td>\n",
       "      <td>0.0</td>\n",
       "      <td>NaN</td>\n",
       "      <td>NaN</td>\n",
       "      <td>NaN</td>\n",
       "      <td>NaN</td>\n",
       "      <td>NaN</td>\n",
       "    </tr>\n",
       "  </tbody>\n",
       "</table>\n",
       "</div>"
      ],
      "text/plain": [
       "   age_at_time_of_death           agency_address  agency_city  \\\n",
       "0                    40           350 W. Belknap   Fort Worth   \n",
       "1                    51           P. O. Box 1748       Austin   \n",
       "2                    44            P.O. Box 4003   Huntsville   \n",
       "3                    21  214 W. Nueva, Suite 331  San Antonio   \n",
       "4                    26  1200 Travis, 17th Floor      Houston   \n",
       "\n",
       "                            agency_name agency_zip cdr_cdr_name         city  \\\n",
       "0               Fort Worth Police Dept.      76102     PA05001C   Fort Worth   \n",
       "1         Travis County Sheriff's Dept.      78767    PA05002CJ    Del Valle   \n",
       "2  Texas Department Of Criminal Justice  773424003     PA05003P   Huntsville   \n",
       "3              San Antonio Police Dept.      78207     PA05004C  San Antonio   \n",
       "4                  Houston Police Dept.      77002     PA05005C      Houston   \n",
       "\n",
       "    county        date_of_birth date_time_of_custody_or_incident  \\\n",
       "0  Tarrant  1964-04-03 00:00:00              2005-01-01 15:04:00   \n",
       "1   Travis  1953-03-04 00:00:00              2004-10-20 20:56:00   \n",
       "2   Walker  1960-12-03 00:00:00              2004-12-17 09:00:00   \n",
       "3    Bexar  1983-11-28 00:00:00              2005-01-03 14:50:00   \n",
       "4   Harris  1978-12-30 00:00:00              2005-01-03 17:15:00   \n",
       "\n",
       "  death_date_and_time             death_location death_location_elsewhere  \\\n",
       "0 2005-01-01 15:04:00  At the crime/arrest scene                      NaN   \n",
       "1 2005-01-01 15:59:00        At medical facility                      NaN   \n",
       "2 2005-01-02 04:35:00        At medical facility                      NaN   \n",
       "3 2005-01-03 15:00:00  At the crime/arrest scene                      NaN   \n",
       "4 2005-01-03 17:15:00  At the crime/arrest scene                      NaN   \n",
       "\n",
       "       entry_date_time entry_date_time_n_a first_name middle_name last_name  \\\n",
       "0                  NaT                   1       Dino         NaN     Gomez   \n",
       "1  2004-10-20 20:56:00                   0    Michael     Darnell   Dickson   \n",
       "2  2004-12-17 09:00:00                   0     Darryl       Glenn   Wallace   \n",
       "3                  NaT                   1     Albert      Chavez  Enriquez   \n",
       "4                  NaT                   1       Alex         NaN    Mendez   \n",
       "\n",
       "  suffix         manner_of_death manner_of_death_description  \\\n",
       "0    NaN    Justifiable Homicide                         NaN   \n",
       "1    NaN  Natural Causes/Illness              Cardiac Arrest   \n",
       "2    NaN  Natural Causes/Illness                     Cardiac   \n",
       "3    NaN    Justifiable Homicide                         NaN   \n",
       "4    NaN    Justifiable Homicide                         NaN   \n",
       "\n",
       "                                      means_of_death means_of_death_other  \\\n",
       "0                                            Firearm                  NaN   \n",
       "1  Not applicable; cause of death was intoxicatio...                  NaN   \n",
       "2  Not applicable; cause of death was intoxicatio...                  NaN   \n",
       "3                                            Firearm                  NaN   \n",
       "4                                            Firearm                  NaN   \n",
       "\n",
       "                              medical_cause_of_death  \\\n",
       "0                         Gunshot Wound to the Chest   \n",
       "1                              Myocardial infarction   \n",
       "2  Cardiac death secondary to cardiac ischemia th...   \n",
       "3                            Multiple Gunshot Wounds   \n",
       "4                            Multiple Gunshot Wounds   \n",
       "\n",
       "  medical_examinor_coroner_evalution medical_treatment  \\\n",
       "0         Yes, results are available    Not Applicable   \n",
       "1         Yes, results are available               Yes   \n",
       "2         Yes, results are available               Yes   \n",
       "3         Yes, results are available    Not Applicable   \n",
       "4         Yes, results are available    Not Applicable   \n",
       "\n",
       "                                offense_1 offense_2 offense_3  \\\n",
       "0                      Aggravated Assault       NaN       NaN   \n",
       "1  Man/Del/Sell/Poss Controlled Substance       NaN       NaN   \n",
       "2                  Burglary of Habitation       NaN       NaN   \n",
       "3                      Aggravated Robbery       NaN       NaN   \n",
       "4                       Traffic Violation       NaN       NaN   \n",
       "\n",
       "                      pre_existing_medical_condition         report_date  \\\n",
       "0  Not Applicable; cause of death was accidental ... 2005-03-02 14:48:00   \n",
       "1                     Pre-existing medical condition 2005-03-03 14:07:00   \n",
       "2                     Pre-existing medical condition 2005-03-03 14:16:00   \n",
       "3  Not Applicable; cause of death was accidental ... 2005-03-03 14:40:00   \n",
       "4  Not Applicable; cause of death was accidental ... 2005-03-03 14:51:00   \n",
       "\n",
       "    sex               specific_type_of_custody_facility  \\\n",
       "0  Male  Custody of Peace Officer during/fleeing arrest   \n",
       "1  Male                  Jail - multiple occupancy cell   \n",
       "2  Male                                            TDCJ   \n",
       "3  Male  Custody of Peace Officer during/fleeing arrest   \n",
       "4  Male  Custody of Peace Officer during/fleeing arrest   \n",
       "\n",
       "               street_address               type_of_custody type_of_offense  \\\n",
       "0             1509 W. Hammond  Police Custody (pre-booking)             NaN   \n",
       "1        3614 Bill Price Road                   County Jail             NaN   \n",
       "2                   21 FM 247                  Penitentiary             NaN   \n",
       "3            2102 Goliad Road  Police Custody (pre-booking)             NaN   \n",
       "4  3600 block of Telephone Rd  Police Custody (pre-booking)             NaN   \n",
       "\n",
       "  type_of_offense_other  version_number      version_type  \\\n",
       "0                   NaN               1  ORIGINAL VERSION   \n",
       "1                   NaN               1  ORIGINAL VERSION   \n",
       "2                   NaN               1  ORIGINAL VERSION   \n",
       "3                   NaN               1  ORIGINAL VERSION   \n",
       "4     Traffic Violation               1  ORIGINAL VERSION   \n",
       "\n",
       "             were_the_charges  \\\n",
       "0  Not filed at time of death   \n",
       "1                       Filed   \n",
       "2                   Convicted   \n",
       "3  Not filed at time of death   \n",
       "4  Not filed at time of death   \n",
       "\n",
       "                                who_caused_the_death form_version  \\\n",
       "0                 Law enforcement/correctional staff       V_2005   \n",
       "1  Not applicable; cause of death was suicide, in...       V_2005   \n",
       "2  Not applicable; cause of death was suicide, in...       V_2005   \n",
       "3                 Law enforcement/correctional staff       V_2005   \n",
       "4                 Law enforcement/correctional staff       V_2005   \n",
       "\n",
       "  type_of_restraint under_restraint agency_county  custody_date_na  \\\n",
       "0               NaN              No       TARRANT              0.0   \n",
       "1               NaN              No        TRAVIS              0.0   \n",
       "2               NaN              No        TRAVIS              0.0   \n",
       "3               NaN              No         BEXAR              0.0   \n",
       "4               NaN              No        HARRIS              0.0   \n",
       "\n",
       "  death_causer_other department_type entry_behavior         ethnicity  \\\n",
       "0                NaN          POLICE            NaN          Hispanic   \n",
       "1                NaN         SHERIFF        Medical  African-American   \n",
       "2                NaN        STAGENCY            NaN  African-American   \n",
       "3                NaN          POLICE            NaN          Hispanic   \n",
       "4                NaN          POLICE            NaN          Hispanic   \n",
       "\n",
       "  ethnicity_other  other_behavior specify_other_behavior  \\\n",
       "0             NaN             0.0                    NaN   \n",
       "1             NaN             0.0                    NaN   \n",
       "2             NaN             0.0                    NaN   \n",
       "3             NaN             0.0                    NaN   \n",
       "4             NaN             0.0                    NaN   \n",
       "\n",
       "  exhibit_any_medical_problems exhibit_any_mental_health_problems  \\\n",
       "0                          NaN                                NaN   \n",
       "1                          NaN                                NaN   \n",
       "2                          NaN                                NaN   \n",
       "3                          NaN                                NaN   \n",
       "4                          NaN                                NaN   \n",
       "\n",
       "  make_suicidal_statements race  \n",
       "0                      NaN  NaN  \n",
       "1                      NaN  NaN  \n",
       "2                      NaN  NaN  \n",
       "3                      NaN  NaN  \n",
       "4                      NaN  NaN  "
      ]
     },
     "execution_count": 17,
     "metadata": {},
     "output_type": "execute_result"
    }
   ],
   "source": [
    "cdr = cdr[list(col_renames.keys())]\n",
    "cdr.rename(columns=col_renames, inplace=True)\n",
    "cdr.head()"
   ]
  },
  {
   "cell_type": "markdown",
   "metadata": {},
   "source": [
    "<div style=\"background-color: #008;height: 15px\"></div>\n",
    "\n",
    "## 2b. Add rows from the old master file to get BJS inpatient deaths (will dedup later)"
   ]
  },
  {
   "cell_type": "code",
   "execution_count": 18,
   "metadata": {
    "ExecuteTime": {
     "end_time": "2020-12-21T14:13:19.732412Z",
     "start_time": "2020-12-21T14:13:15.212548Z"
    }
   },
   "outputs": [
    {
     "name": "stdout",
     "output_type": "stream",
     "text": [
      "(7735, 47)\n"
     ]
    },
    {
     "data": {
      "text/html": [
       "<div>\n",
       "<style scoped>\n",
       "    .dataframe tbody tr th:only-of-type {\n",
       "        vertical-align: middle;\n",
       "    }\n",
       "\n",
       "    .dataframe tbody tr th {\n",
       "        vertical-align: top;\n",
       "    }\n",
       "\n",
       "    .dataframe thead th {\n",
       "        text-align: right;\n",
       "    }\n",
       "</style>\n",
       "<table border=\"1\" class=\"dataframe\">\n",
       "  <thead>\n",
       "    <tr style=\"text-align: right;\">\n",
       "      <th></th>\n",
       "      <th>first_name</th>\n",
       "      <th>middle_name</th>\n",
       "      <th>last_name</th>\n",
       "      <th>suffix</th>\n",
       "      <th>age_at_time_of_death</th>\n",
       "      <th>sex</th>\n",
       "      <th>date_of_birth</th>\n",
       "      <th>offense_1</th>\n",
       "      <th>offense_2</th>\n",
       "      <th>offense_3</th>\n",
       "      <th>report_date</th>\n",
       "      <th>death_date_and_time</th>\n",
       "      <th>cdr_cdr_name</th>\n",
       "      <th>agency_name</th>\n",
       "      <th>agency_address</th>\n",
       "      <th>agency_city</th>\n",
       "      <th>agency_zip</th>\n",
       "      <th>agency_county</th>\n",
       "      <th>who_caused_the_death</th>\n",
       "      <th>death_causer_other</th>\n",
       "      <th>date_time_of_custody_or_incident</th>\n",
       "      <th>custody_date_na</th>\n",
       "      <th>type_of_custody</th>\n",
       "      <th>specific_type_of_custody_facility</th>\n",
       "      <th>street_address</th>\n",
       "      <th>city</th>\n",
       "      <th>county</th>\n",
       "      <th>death_location</th>\n",
       "      <th>death_location_elsewhere</th>\n",
       "      <th>means_of_death</th>\n",
       "      <th>means_of_death_other</th>\n",
       "      <th>manner_of_death</th>\n",
       "      <th>manner_of_death_description</th>\n",
       "      <th>entry_date_time</th>\n",
       "      <th>entry_date_time_n_a</th>\n",
       "      <th>medical_cause_of_death</th>\n",
       "      <th>pre_existing_medical_condition</th>\n",
       "      <th>medical_examinor_coroner_evalution</th>\n",
       "      <th>medical_treatment</th>\n",
       "      <th>ethnicity</th>\n",
       "      <th>ethnicity_other</th>\n",
       "      <th>other_behavior</th>\n",
       "      <th>entry_behavior</th>\n",
       "      <th>were_the_charges</th>\n",
       "      <th>type_of_offense</th>\n",
       "      <th>type_of_offense_other</th>\n",
       "      <th>form_version</th>\n",
       "    </tr>\n",
       "  </thead>\n",
       "  <tbody>\n",
       "    <tr>\n",
       "      <th>0</th>\n",
       "      <td>Clyde</td>\n",
       "      <td>L</td>\n",
       "      <td>Pady</td>\n",
       "      <td>NaN</td>\n",
       "      <td>80.0</td>\n",
       "      <td>Male</td>\n",
       "      <td>2024-10-01</td>\n",
       "      <td>SEXUAL ASSLT/RAPE OF CHILD</td>\n",
       "      <td>SEXUAL ASSLT/RAPE OF CHILD</td>\n",
       "      <td>SEXUAL ASSLT/RAPE OF CHILD</td>\n",
       "      <td>3/1/2005 0:00</td>\n",
       "      <td>2005-01-02</td>\n",
       "      <td>PRISON20051001</td>\n",
       "      <td>Texas Department Of Criminal Justice</td>\n",
       "      <td>NaN</td>\n",
       "      <td>NaN</td>\n",
       "      <td>NaN</td>\n",
       "      <td>NaN</td>\n",
       "      <td>NaN</td>\n",
       "      <td>NaN</td>\n",
       "      <td>5/30/1995 0:00</td>\n",
       "      <td>NaN</td>\n",
       "      <td>Penitentiary</td>\n",
       "      <td>TDCJ</td>\n",
       "      <td>NaN</td>\n",
       "      <td>Tenessee Colony</td>\n",
       "      <td>NaN</td>\n",
       "      <td>NaN</td>\n",
       "      <td>NaN</td>\n",
       "      <td>NaN</td>\n",
       "      <td>NaN</td>\n",
       "      <td>Natural Causes/Illness</td>\n",
       "      <td>Prostate/Lung Cancer</td>\n",
       "      <td>NaN</td>\n",
       "      <td>NaN</td>\n",
       "      <td>NaN</td>\n",
       "      <td>Developed condition after admission</td>\n",
       "      <td>No</td>\n",
       "      <td>Yes</td>\n",
       "      <td>Anglo or White</td>\n",
       "      <td>NaN</td>\n",
       "      <td>NaN</td>\n",
       "      <td>NaN</td>\n",
       "      <td>Convicted</td>\n",
       "      <td>child</td>\n",
       "      <td>NaN</td>\n",
       "      <td>V_BJS</td>\n",
       "    </tr>\n",
       "    <tr>\n",
       "      <th>1</th>\n",
       "      <td>Winston</td>\n",
       "      <td>NaN</td>\n",
       "      <td>Wilkins</td>\n",
       "      <td>NaN</td>\n",
       "      <td>61.0</td>\n",
       "      <td>Male</td>\n",
       "      <td>1943-09-27</td>\n",
       "      <td>STOLEN VEHICLE, UNAUTHORIZED USE</td>\n",
       "      <td>0</td>\n",
       "      <td>0</td>\n",
       "      <td>3/1/2005 0:00</td>\n",
       "      <td>2005-01-02</td>\n",
       "      <td>PRISON20051002</td>\n",
       "      <td>Texas Department Of Criminal Justice</td>\n",
       "      <td>NaN</td>\n",
       "      <td>NaN</td>\n",
       "      <td>NaN</td>\n",
       "      <td>NaN</td>\n",
       "      <td>NaN</td>\n",
       "      <td>NaN</td>\n",
       "      <td>9/8/2003 0:00</td>\n",
       "      <td>NaN</td>\n",
       "      <td>Penitentiary</td>\n",
       "      <td>TDCJ</td>\n",
       "      <td>NaN</td>\n",
       "      <td>Galveston</td>\n",
       "      <td>NaN</td>\n",
       "      <td>NaN</td>\n",
       "      <td>NaN</td>\n",
       "      <td>NaN</td>\n",
       "      <td>NaN</td>\n",
       "      <td>Natural Causes/Illness</td>\n",
       "      <td>Lung Cancer</td>\n",
       "      <td>NaN</td>\n",
       "      <td>NaN</td>\n",
       "      <td>NaN</td>\n",
       "      <td>Pre-existing medical condition</td>\n",
       "      <td>No</td>\n",
       "      <td>Yes</td>\n",
       "      <td>Anglo or White</td>\n",
       "      <td>NaN</td>\n",
       "      <td>NaN</td>\n",
       "      <td>NaN</td>\n",
       "      <td>Convicted</td>\n",
       "      <td>property</td>\n",
       "      <td>NaN</td>\n",
       "      <td>V_BJS</td>\n",
       "    </tr>\n",
       "    <tr>\n",
       "      <th>2</th>\n",
       "      <td>Steven</td>\n",
       "      <td>NaN</td>\n",
       "      <td>Fleming</td>\n",
       "      <td>NaN</td>\n",
       "      <td>37.0</td>\n",
       "      <td>Male</td>\n",
       "      <td>1967-10-30</td>\n",
       "      <td>SEXUAL ASSLT/RAPE AGG/SEX ABUSE</td>\n",
       "      <td>0</td>\n",
       "      <td>0</td>\n",
       "      <td>3/1/2005 0:00</td>\n",
       "      <td>2005-01-04</td>\n",
       "      <td>PRISON20051004</td>\n",
       "      <td>Texas Department Of Criminal Justice</td>\n",
       "      <td>NaN</td>\n",
       "      <td>NaN</td>\n",
       "      <td>NaN</td>\n",
       "      <td>NaN</td>\n",
       "      <td>NaN</td>\n",
       "      <td>NaN</td>\n",
       "      <td>10/7/1988 0:00</td>\n",
       "      <td>NaN</td>\n",
       "      <td>Penitentiary</td>\n",
       "      <td>TDCJ</td>\n",
       "      <td>NaN</td>\n",
       "      <td>Livingston</td>\n",
       "      <td>NaN</td>\n",
       "      <td>NaN</td>\n",
       "      <td>NaN</td>\n",
       "      <td>NaN</td>\n",
       "      <td>NaN</td>\n",
       "      <td>Natural Causes/Illness</td>\n",
       "      <td>NaN</td>\n",
       "      <td>NaN</td>\n",
       "      <td>NaN</td>\n",
       "      <td>NaN</td>\n",
       "      <td>Pre-existing medical condition</td>\n",
       "      <td>No</td>\n",
       "      <td>Yes</td>\n",
       "      <td>Black or African American</td>\n",
       "      <td>NaN</td>\n",
       "      <td>NaN</td>\n",
       "      <td>NaN</td>\n",
       "      <td>Convicted</td>\n",
       "      <td>violent</td>\n",
       "      <td>NaN</td>\n",
       "      <td>V_BJS</td>\n",
       "    </tr>\n",
       "    <tr>\n",
       "      <th>3</th>\n",
       "      <td>James</td>\n",
       "      <td>B</td>\n",
       "      <td>Walker</td>\n",
       "      <td>NaN</td>\n",
       "      <td>61.0</td>\n",
       "      <td>Male</td>\n",
       "      <td>1943-08-27</td>\n",
       "      <td>AGG SEXUAL ASSLT</td>\n",
       "      <td>AGG KIDNAPPING</td>\n",
       "      <td>0</td>\n",
       "      <td>3/1/2005 0:00</td>\n",
       "      <td>2005-01-04</td>\n",
       "      <td>PRISON20051005</td>\n",
       "      <td>Texas Department Of Criminal Justice</td>\n",
       "      <td>NaN</td>\n",
       "      <td>NaN</td>\n",
       "      <td>NaN</td>\n",
       "      <td>NaN</td>\n",
       "      <td>NaN</td>\n",
       "      <td>NaN</td>\n",
       "      <td>4/23/2004 0:00</td>\n",
       "      <td>NaN</td>\n",
       "      <td>Penitentiary</td>\n",
       "      <td>TDCJ</td>\n",
       "      <td>NaN</td>\n",
       "      <td>Tenessee Colony</td>\n",
       "      <td>NaN</td>\n",
       "      <td>NaN</td>\n",
       "      <td>NaN</td>\n",
       "      <td>NaN</td>\n",
       "      <td>NaN</td>\n",
       "      <td>Natural Causes/Illness</td>\n",
       "      <td>Hepatocellular Cancer</td>\n",
       "      <td>NaN</td>\n",
       "      <td>NaN</td>\n",
       "      <td>NaN</td>\n",
       "      <td>Developed condition after admission</td>\n",
       "      <td>No</td>\n",
       "      <td>Yes</td>\n",
       "      <td>Black or African American</td>\n",
       "      <td>NaN</td>\n",
       "      <td>NaN</td>\n",
       "      <td>NaN</td>\n",
       "      <td>Convicted</td>\n",
       "      <td>violent</td>\n",
       "      <td>NaN</td>\n",
       "      <td>V_BJS</td>\n",
       "    </tr>\n",
       "    <tr>\n",
       "      <th>4</th>\n",
       "      <td>David</td>\n",
       "      <td>L</td>\n",
       "      <td>Jones</td>\n",
       "      <td>NaN</td>\n",
       "      <td>45.0</td>\n",
       "      <td>Male</td>\n",
       "      <td>1960-05-01</td>\n",
       "      <td>INDECENCY W/ A CHILD SEXUAL CONTACT</td>\n",
       "      <td>0</td>\n",
       "      <td>0</td>\n",
       "      <td>3/1/2005 0:00</td>\n",
       "      <td>2005-01-06</td>\n",
       "      <td>PRISON20051007</td>\n",
       "      <td>Texas Department Of Criminal Justice</td>\n",
       "      <td>NaN</td>\n",
       "      <td>NaN</td>\n",
       "      <td>NaN</td>\n",
       "      <td>NaN</td>\n",
       "      <td>NaN</td>\n",
       "      <td>NaN</td>\n",
       "      <td>11/8/2001 0:00</td>\n",
       "      <td>NaN</td>\n",
       "      <td>Penitentiary</td>\n",
       "      <td>TDCJ</td>\n",
       "      <td>NaN</td>\n",
       "      <td>Abilene</td>\n",
       "      <td>NaN</td>\n",
       "      <td>NaN</td>\n",
       "      <td>NaN</td>\n",
       "      <td>NaN</td>\n",
       "      <td>NaN</td>\n",
       "      <td>Natural Causes/Illness</td>\n",
       "      <td>Cardiomyopathy Heart Failure</td>\n",
       "      <td>NaN</td>\n",
       "      <td>NaN</td>\n",
       "      <td>NaN</td>\n",
       "      <td>Pre-existing medical condition</td>\n",
       "      <td>No</td>\n",
       "      <td>Yes</td>\n",
       "      <td>Anglo or White</td>\n",
       "      <td>NaN</td>\n",
       "      <td>NaN</td>\n",
       "      <td>NaN</td>\n",
       "      <td>Convicted</td>\n",
       "      <td>child</td>\n",
       "      <td>NaN</td>\n",
       "      <td>V_BJS</td>\n",
       "    </tr>\n",
       "  </tbody>\n",
       "</table>\n",
       "</div>"
      ],
      "text/plain": [
       "  first_name middle_name last_name suffix  age_at_time_of_death   sex  \\\n",
       "0      Clyde           L      Pady    NaN                  80.0  Male   \n",
       "1    Winston         NaN   Wilkins    NaN                  61.0  Male   \n",
       "2     Steven         NaN   Fleming    NaN                  37.0  Male   \n",
       "3      James           B    Walker    NaN                  61.0  Male   \n",
       "4      David           L     Jones    NaN                  45.0  Male   \n",
       "\n",
       "  date_of_birth                            offense_1  \\\n",
       "0    2024-10-01           SEXUAL ASSLT/RAPE OF CHILD   \n",
       "1    1943-09-27     STOLEN VEHICLE, UNAUTHORIZED USE   \n",
       "2    1967-10-30      SEXUAL ASSLT/RAPE AGG/SEX ABUSE   \n",
       "3    1943-08-27                     AGG SEXUAL ASSLT   \n",
       "4    1960-05-01  INDECENCY W/ A CHILD SEXUAL CONTACT   \n",
       "\n",
       "                    offense_2                   offense_3    report_date  \\\n",
       "0  SEXUAL ASSLT/RAPE OF CHILD  SEXUAL ASSLT/RAPE OF CHILD  3/1/2005 0:00   \n",
       "1                           0                           0  3/1/2005 0:00   \n",
       "2                           0                           0  3/1/2005 0:00   \n",
       "3              AGG KIDNAPPING                           0  3/1/2005 0:00   \n",
       "4                           0                           0  3/1/2005 0:00   \n",
       "\n",
       "  death_date_and_time    cdr_cdr_name                           agency_name  \\\n",
       "0          2005-01-02  PRISON20051001  Texas Department Of Criminal Justice   \n",
       "1          2005-01-02  PRISON20051002  Texas Department Of Criminal Justice   \n",
       "2          2005-01-04  PRISON20051004  Texas Department Of Criminal Justice   \n",
       "3          2005-01-04  PRISON20051005  Texas Department Of Criminal Justice   \n",
       "4          2005-01-06  PRISON20051007  Texas Department Of Criminal Justice   \n",
       "\n",
       "  agency_address agency_city  agency_zip agency_county who_caused_the_death  \\\n",
       "0            NaN         NaN         NaN           NaN                  NaN   \n",
       "1            NaN         NaN         NaN           NaN                  NaN   \n",
       "2            NaN         NaN         NaN           NaN                  NaN   \n",
       "3            NaN         NaN         NaN           NaN                  NaN   \n",
       "4            NaN         NaN         NaN           NaN                  NaN   \n",
       "\n",
       "  death_causer_other date_time_of_custody_or_incident  custody_date_na  \\\n",
       "0                NaN                   5/30/1995 0:00              NaN   \n",
       "1                NaN                    9/8/2003 0:00              NaN   \n",
       "2                NaN                   10/7/1988 0:00              NaN   \n",
       "3                NaN                   4/23/2004 0:00              NaN   \n",
       "4                NaN                   11/8/2001 0:00              NaN   \n",
       "\n",
       "  type_of_custody specific_type_of_custody_facility street_address  \\\n",
       "0    Penitentiary                              TDCJ            NaN   \n",
       "1    Penitentiary                              TDCJ            NaN   \n",
       "2    Penitentiary                              TDCJ            NaN   \n",
       "3    Penitentiary                              TDCJ            NaN   \n",
       "4    Penitentiary                              TDCJ            NaN   \n",
       "\n",
       "              city county death_location death_location_elsewhere  \\\n",
       "0  Tenessee Colony    NaN            NaN                      NaN   \n",
       "1        Galveston    NaN            NaN                      NaN   \n",
       "2       Livingston    NaN            NaN                      NaN   \n",
       "3  Tenessee Colony    NaN            NaN                      NaN   \n",
       "4          Abilene    NaN            NaN                      NaN   \n",
       "\n",
       "  means_of_death means_of_death_other         manner_of_death  \\\n",
       "0            NaN                  NaN  Natural Causes/Illness   \n",
       "1            NaN                  NaN  Natural Causes/Illness   \n",
       "2            NaN                  NaN  Natural Causes/Illness   \n",
       "3            NaN                  NaN  Natural Causes/Illness   \n",
       "4            NaN                  NaN  Natural Causes/Illness   \n",
       "\n",
       "    manner_of_death_description entry_date_time  entry_date_time_n_a  \\\n",
       "0          Prostate/Lung Cancer             NaN                  NaN   \n",
       "1                   Lung Cancer             NaN                  NaN   \n",
       "2                           NaN             NaN                  NaN   \n",
       "3         Hepatocellular Cancer             NaN                  NaN   \n",
       "4  Cardiomyopathy Heart Failure             NaN                  NaN   \n",
       "\n",
       "  medical_cause_of_death       pre_existing_medical_condition  \\\n",
       "0                    NaN  Developed condition after admission   \n",
       "1                    NaN       Pre-existing medical condition   \n",
       "2                    NaN       Pre-existing medical condition   \n",
       "3                    NaN  Developed condition after admission   \n",
       "4                    NaN       Pre-existing medical condition   \n",
       "\n",
       "  medical_examinor_coroner_evalution medical_treatment  \\\n",
       "0                                 No               Yes   \n",
       "1                                 No               Yes   \n",
       "2                                 No               Yes   \n",
       "3                                 No               Yes   \n",
       "4                                 No               Yes   \n",
       "\n",
       "                   ethnicity ethnicity_other other_behavior entry_behavior  \\\n",
       "0             Anglo or White             NaN            NaN            NaN   \n",
       "1             Anglo or White             NaN            NaN            NaN   \n",
       "2  Black or African American             NaN            NaN            NaN   \n",
       "3  Black or African American             NaN            NaN            NaN   \n",
       "4             Anglo or White             NaN            NaN            NaN   \n",
       "\n",
       "  were_the_charges type_of_offense type_of_offense_other form_version  \n",
       "0        Convicted           child                   NaN        V_BJS  \n",
       "1        Convicted        property                   NaN        V_BJS  \n",
       "2        Convicted         violent                   NaN        V_BJS  \n",
       "3        Convicted         violent                   NaN        V_BJS  \n",
       "4        Convicted           child                   NaN        V_BJS  "
      ]
     },
     "execution_count": 18,
     "metadata": {},
     "output_type": "execute_result"
    }
   ],
   "source": [
    "datasets = dw.load_dataset(DW_PROJECT_RAW_AND_PROCESSING, force_update=True)\n",
    "old_master = datasets.dataframes['reformatted_cdr_2017_master_file']\n",
    "old_master['form_version'] = 'V_BJS'\n",
    "print(old_master.shape)\n",
    "old_master.head()"
   ]
  },
  {
   "cell_type": "code",
   "execution_count": 19,
   "metadata": {
    "ExecuteTime": {
     "end_time": "2020-12-21T14:13:19.741569Z",
     "start_time": "2020-12-21T14:13:19.735312Z"
    }
   },
   "outputs": [
    {
     "data": {
      "text/plain": [
       "((9914, 57), (7735, 47))"
      ]
     },
     "execution_count": 19,
     "metadata": {},
     "output_type": "execute_result"
    }
   ],
   "source": [
    "cdr.shape, old_master.shape"
   ]
  },
  {
   "cell_type": "markdown",
   "metadata": {},
   "source": [
    "#### There will be a few columns that the old master file doesn't have, which is fine"
   ]
  },
  {
   "cell_type": "code",
   "execution_count": 20,
   "metadata": {
    "ExecuteTime": {
     "end_time": "2020-12-21T14:13:19.749700Z",
     "start_time": "2020-12-21T14:13:19.744283Z"
    }
   },
   "outputs": [
    {
     "data": {
      "text/plain": [
       "{'department_type',\n",
       " 'exhibit_any_medical_problems',\n",
       " 'exhibit_any_mental_health_problems',\n",
       " 'make_suicidal_statements',\n",
       " 'race',\n",
       " 'specify_other_behavior',\n",
       " 'type_of_restraint',\n",
       " 'under_restraint',\n",
       " 'version_number',\n",
       " 'version_type'}"
      ]
     },
     "execution_count": 20,
     "metadata": {},
     "output_type": "execute_result"
    }
   ],
   "source": [
    "set(cdr.columns) - set(old_master.columns)"
   ]
  },
  {
   "cell_type": "markdown",
   "metadata": {},
   "source": [
    "#### However, it shouldn't have any novel columns that the *other* data doesn't have"
   ]
  },
  {
   "cell_type": "code",
   "execution_count": 21,
   "metadata": {
    "ExecuteTime": {
     "end_time": "2020-12-21T14:13:19.757383Z",
     "start_time": "2020-12-21T14:13:19.752834Z"
    }
   },
   "outputs": [],
   "source": [
    "assert(len(set(old_master.columns) - set(cdr.columns)) == 0)"
   ]
  },
  {
   "cell_type": "markdown",
   "metadata": {},
   "source": [
    "### Merge the \"old master\" file with the other CDR records"
   ]
  },
  {
   "cell_type": "code",
   "execution_count": 22,
   "metadata": {
    "ExecuteTime": {
     "end_time": "2020-12-21T14:13:20.062553Z",
     "start_time": "2020-12-21T14:13:19.760065Z"
    }
   },
   "outputs": [
    {
     "data": {
      "text/html": [
       "<div>\n",
       "<style scoped>\n",
       "    .dataframe tbody tr th:only-of-type {\n",
       "        vertical-align: middle;\n",
       "    }\n",
       "\n",
       "    .dataframe tbody tr th {\n",
       "        vertical-align: top;\n",
       "    }\n",
       "\n",
       "    .dataframe thead th {\n",
       "        text-align: right;\n",
       "    }\n",
       "</style>\n",
       "<table border=\"1\" class=\"dataframe\">\n",
       "  <thead>\n",
       "    <tr style=\"text-align: right;\">\n",
       "      <th></th>\n",
       "      <th>age_at_time_of_death</th>\n",
       "      <th>agency_address</th>\n",
       "      <th>agency_city</th>\n",
       "      <th>agency_name</th>\n",
       "      <th>agency_zip</th>\n",
       "      <th>cdr_cdr_name</th>\n",
       "      <th>city</th>\n",
       "      <th>county</th>\n",
       "      <th>date_of_birth</th>\n",
       "      <th>date_time_of_custody_or_incident</th>\n",
       "      <th>death_date_and_time</th>\n",
       "      <th>death_location</th>\n",
       "      <th>death_location_elsewhere</th>\n",
       "      <th>entry_date_time</th>\n",
       "      <th>entry_date_time_n_a</th>\n",
       "      <th>first_name</th>\n",
       "      <th>middle_name</th>\n",
       "      <th>last_name</th>\n",
       "      <th>suffix</th>\n",
       "      <th>manner_of_death</th>\n",
       "      <th>manner_of_death_description</th>\n",
       "      <th>means_of_death</th>\n",
       "      <th>means_of_death_other</th>\n",
       "      <th>medical_cause_of_death</th>\n",
       "      <th>medical_examinor_coroner_evalution</th>\n",
       "      <th>medical_treatment</th>\n",
       "      <th>offense_1</th>\n",
       "      <th>offense_2</th>\n",
       "      <th>offense_3</th>\n",
       "      <th>pre_existing_medical_condition</th>\n",
       "      <th>report_date</th>\n",
       "      <th>sex</th>\n",
       "      <th>specific_type_of_custody_facility</th>\n",
       "      <th>street_address</th>\n",
       "      <th>type_of_custody</th>\n",
       "      <th>type_of_offense</th>\n",
       "      <th>type_of_offense_other</th>\n",
       "      <th>version_number</th>\n",
       "      <th>version_type</th>\n",
       "      <th>were_the_charges</th>\n",
       "      <th>who_caused_the_death</th>\n",
       "      <th>form_version</th>\n",
       "      <th>type_of_restraint</th>\n",
       "      <th>under_restraint</th>\n",
       "      <th>agency_county</th>\n",
       "      <th>custody_date_na</th>\n",
       "      <th>death_causer_other</th>\n",
       "      <th>department_type</th>\n",
       "      <th>entry_behavior</th>\n",
       "      <th>ethnicity</th>\n",
       "      <th>ethnicity_other</th>\n",
       "      <th>other_behavior</th>\n",
       "      <th>specify_other_behavior</th>\n",
       "      <th>exhibit_any_medical_problems</th>\n",
       "      <th>exhibit_any_mental_health_problems</th>\n",
       "      <th>make_suicidal_statements</th>\n",
       "      <th>race</th>\n",
       "    </tr>\n",
       "  </thead>\n",
       "  <tbody>\n",
       "    <tr>\n",
       "      <th>0</th>\n",
       "      <td>40.0</td>\n",
       "      <td>350 W. Belknap</td>\n",
       "      <td>Fort Worth</td>\n",
       "      <td>Fort Worth Police Dept.</td>\n",
       "      <td>76102</td>\n",
       "      <td>PA05001C</td>\n",
       "      <td>Fort Worth</td>\n",
       "      <td>Tarrant</td>\n",
       "      <td>1964-04-03 00:00:00</td>\n",
       "      <td>2005-01-01 15:04:00</td>\n",
       "      <td>2005-01-01 15:04:00</td>\n",
       "      <td>At the crime/arrest scene</td>\n",
       "      <td>NaN</td>\n",
       "      <td>NaT</td>\n",
       "      <td>1</td>\n",
       "      <td>Dino</td>\n",
       "      <td>NaN</td>\n",
       "      <td>Gomez</td>\n",
       "      <td>NaN</td>\n",
       "      <td>Justifiable Homicide</td>\n",
       "      <td>NaN</td>\n",
       "      <td>Firearm</td>\n",
       "      <td>NaN</td>\n",
       "      <td>Gunshot Wound to the Chest</td>\n",
       "      <td>Yes, results are available</td>\n",
       "      <td>Not Applicable</td>\n",
       "      <td>Aggravated Assault</td>\n",
       "      <td>NaN</td>\n",
       "      <td>NaN</td>\n",
       "      <td>Not Applicable; cause of death was accidental ...</td>\n",
       "      <td>2005-03-02 14:48:00</td>\n",
       "      <td>Male</td>\n",
       "      <td>Custody of Peace Officer during/fleeing arrest</td>\n",
       "      <td>1509 W. Hammond</td>\n",
       "      <td>Police Custody (pre-booking)</td>\n",
       "      <td>NaN</td>\n",
       "      <td>NaN</td>\n",
       "      <td>1.0</td>\n",
       "      <td>ORIGINAL VERSION</td>\n",
       "      <td>Not filed at time of death</td>\n",
       "      <td>Law enforcement/correctional staff</td>\n",
       "      <td>V_2005</td>\n",
       "      <td>NaN</td>\n",
       "      <td>No</td>\n",
       "      <td>TARRANT</td>\n",
       "      <td>0.0</td>\n",
       "      <td>NaN</td>\n",
       "      <td>POLICE</td>\n",
       "      <td>NaN</td>\n",
       "      <td>Hispanic</td>\n",
       "      <td>NaN</td>\n",
       "      <td>0</td>\n",
       "      <td>NaN</td>\n",
       "      <td>NaN</td>\n",
       "      <td>NaN</td>\n",
       "      <td>NaN</td>\n",
       "      <td>NaN</td>\n",
       "    </tr>\n",
       "    <tr>\n",
       "      <th>3437</th>\n",
       "      <td>33.0</td>\n",
       "      <td>133 N. Riverfront Blvd.</td>\n",
       "      <td>Dallas</td>\n",
       "      <td>Dallas County Sheriff's Dept.</td>\n",
       "      <td>75207</td>\n",
       "      <td>PA14199CJ</td>\n",
       "      <td>Dallas</td>\n",
       "      <td>Dallas</td>\n",
       "      <td>1981-03-23 00:00:00</td>\n",
       "      <td>2014-04-17 09:49:00</td>\n",
       "      <td>2014-04-20 08:14:00</td>\n",
       "      <td>At medical facility</td>\n",
       "      <td>NaN</td>\n",
       "      <td>2014-04-17 09:49:00</td>\n",
       "      <td>0</td>\n",
       "      <td>Alisha</td>\n",
       "      <td>NaN</td>\n",
       "      <td>Skeats</td>\n",
       "      <td>NaN</td>\n",
       "      <td>Natural Causes/Illness</td>\n",
       "      <td>Complications of chronic opiate use</td>\n",
       "      <td>Not applicable; cause of death was intoxicatio...</td>\n",
       "      <td>NaN</td>\n",
       "      <td>Complications of chronic opiate, benzodiazepin...</td>\n",
       "      <td>Yes, results are available</td>\n",
       "      <td>Yes</td>\n",
       "      <td>Theft of Service</td>\n",
       "      <td>NaN</td>\n",
       "      <td>NaN</td>\n",
       "      <td>Don't know</td>\n",
       "      <td>2014-04-28 09:27:00</td>\n",
       "      <td>Female</td>\n",
       "      <td>Hospital/Infirmary</td>\n",
       "      <td>Parkland Hospital</td>\n",
       "      <td>County Jail</td>\n",
       "      <td>NaN</td>\n",
       "      <td>property crime</td>\n",
       "      <td>1.0</td>\n",
       "      <td>ORIGINAL VERSION</td>\n",
       "      <td>Filed</td>\n",
       "      <td>Not applicable; cause of death was suicide, in...</td>\n",
       "      <td>V_2005</td>\n",
       "      <td>NaN</td>\n",
       "      <td>No</td>\n",
       "      <td>Dallas</td>\n",
       "      <td>0.0</td>\n",
       "      <td>NaN</td>\n",
       "      <td>SHERIFF</td>\n",
       "      <td>NaN</td>\n",
       "      <td>Anglo</td>\n",
       "      <td>NaN</td>\n",
       "      <td>0</td>\n",
       "      <td>NaN</td>\n",
       "      <td>NaN</td>\n",
       "      <td>NaN</td>\n",
       "      <td>NaN</td>\n",
       "      <td>NaN</td>\n",
       "    </tr>\n",
       "    <tr>\n",
       "      <th>3436</th>\n",
       "      <td>64.0</td>\n",
       "      <td>2503 Lake Road, Suite 5</td>\n",
       "      <td>Huntsville</td>\n",
       "      <td>Texas Department Of Criminal Justice</td>\n",
       "      <td>77340</td>\n",
       "      <td>PA14198P</td>\n",
       "      <td>Tennessee Colony</td>\n",
       "      <td>Anderson</td>\n",
       "      <td>1949-11-02 00:00:00</td>\n",
       "      <td>1998-10-06 00:00:00</td>\n",
       "      <td>2014-04-23 09:07:00</td>\n",
       "      <td>At law enforcement facility</td>\n",
       "      <td>NaN</td>\n",
       "      <td>1998-10-06 00:00:00</td>\n",
       "      <td>0</td>\n",
       "      <td>Orville</td>\n",
       "      <td>Lee</td>\n",
       "      <td>McCoy</td>\n",
       "      <td>NaN</td>\n",
       "      <td>Natural Causes/Illness</td>\n",
       "      <td>Malignant Pleural Effusion GT Bleesing/Anemia</td>\n",
       "      <td>Not applicable; cause of death was intoxicatio...</td>\n",
       "      <td>NaN</td>\n",
       "      <td>ESLD-Liver Disease</td>\n",
       "      <td>No, evaluation not planned</td>\n",
       "      <td>Yes</td>\n",
       "      <td>Aggravated Sexual Assault of a Child</td>\n",
       "      <td>NaN</td>\n",
       "      <td>NaN</td>\n",
       "      <td>Don't know</td>\n",
       "      <td>2014-04-25 15:15:00</td>\n",
       "      <td>Male</td>\n",
       "      <td>TDCJ</td>\n",
       "      <td>Michael Unit, 2664 FM 2054</td>\n",
       "      <td>Penitentiary</td>\n",
       "      <td>NaN</td>\n",
       "      <td>NaN</td>\n",
       "      <td>1.0</td>\n",
       "      <td>ORIGINAL VERSION</td>\n",
       "      <td>Convicted</td>\n",
       "      <td>Not applicable; cause of death was suicide, in...</td>\n",
       "      <td>V_2005</td>\n",
       "      <td>NaN</td>\n",
       "      <td>No</td>\n",
       "      <td>Walker</td>\n",
       "      <td>0.0</td>\n",
       "      <td>NaN</td>\n",
       "      <td>STAGENCY</td>\n",
       "      <td>NaN</td>\n",
       "      <td>Anglo</td>\n",
       "      <td>NaN</td>\n",
       "      <td>0</td>\n",
       "      <td>NaN</td>\n",
       "      <td>NaN</td>\n",
       "      <td>NaN</td>\n",
       "      <td>NaN</td>\n",
       "      <td>NaN</td>\n",
       "    </tr>\n",
       "    <tr>\n",
       "      <th>3435</th>\n",
       "      <td>53.0</td>\n",
       "      <td>2503 Lake Road, Suite 5</td>\n",
       "      <td>Huntsville</td>\n",
       "      <td>Texas Department Of Criminal Justice</td>\n",
       "      <td>77340</td>\n",
       "      <td>PA14197P</td>\n",
       "      <td>New Boston</td>\n",
       "      <td>Bowie</td>\n",
       "      <td>1960-05-11 00:00:00</td>\n",
       "      <td>2012-03-19 00:00:00</td>\n",
       "      <td>2014-04-16 06:44:00</td>\n",
       "      <td>At law enforcement facility</td>\n",
       "      <td>NaN</td>\n",
       "      <td>2012-04-25 00:00:00</td>\n",
       "      <td>0</td>\n",
       "      <td>Pedro</td>\n",
       "      <td>NaN</td>\n",
       "      <td>Juarez</td>\n",
       "      <td>Jr</td>\n",
       "      <td>Natural Causes/Illness</td>\n",
       "      <td>Cardiac arrhythmia</td>\n",
       "      <td>Not applicable; cause of death was intoxicatio...</td>\n",
       "      <td>NaN</td>\n",
       "      <td>Sudden unexpected death in schizophrenia due t...</td>\n",
       "      <td>Yes, results are available</td>\n",
       "      <td>Not Applicable</td>\n",
       "      <td>Aggravated Assault</td>\n",
       "      <td>NaN</td>\n",
       "      <td>NaN</td>\n",
       "      <td>Don't know</td>\n",
       "      <td>2014-04-25 13:25:00</td>\n",
       "      <td>Male</td>\n",
       "      <td>TDCJ</td>\n",
       "      <td>3899 State Hwy 98</td>\n",
       "      <td>Penitentiary</td>\n",
       "      <td>NaN</td>\n",
       "      <td>NaN</td>\n",
       "      <td>1.0</td>\n",
       "      <td>ORIGINAL VERSION</td>\n",
       "      <td>Convicted</td>\n",
       "      <td>Not applicable; cause of death was suicide, in...</td>\n",
       "      <td>V_2005</td>\n",
       "      <td>NaN</td>\n",
       "      <td>No</td>\n",
       "      <td>Walker</td>\n",
       "      <td>0.0</td>\n",
       "      <td>NaN</td>\n",
       "      <td>STAGENCY</td>\n",
       "      <td>NaN</td>\n",
       "      <td>Hispanic</td>\n",
       "      <td>NaN</td>\n",
       "      <td>0</td>\n",
       "      <td>NaN</td>\n",
       "      <td>NaN</td>\n",
       "      <td>NaN</td>\n",
       "      <td>NaN</td>\n",
       "      <td>NaN</td>\n",
       "    </tr>\n",
       "    <tr>\n",
       "      <th>3434</th>\n",
       "      <td>44.0</td>\n",
       "      <td>2503 Lake Road, Suite 5</td>\n",
       "      <td>Huntsville</td>\n",
       "      <td>Texas Department Of Criminal Justice</td>\n",
       "      <td>77340</td>\n",
       "      <td>PA14196P</td>\n",
       "      <td>Richmon</td>\n",
       "      <td>Fort Bend</td>\n",
       "      <td>1969-10-03 00:00:00</td>\n",
       "      <td>2014-02-03 00:00:00</td>\n",
       "      <td>2014-04-23 13:35:00</td>\n",
       "      <td>At medical facility</td>\n",
       "      <td>NaN</td>\n",
       "      <td>2014-02-03 00:00:00</td>\n",
       "      <td>0</td>\n",
       "      <td>James</td>\n",
       "      <td>Neal</td>\n",
       "      <td>Benjamin</td>\n",
       "      <td>NaN</td>\n",
       "      <td>Natural Causes/Illness</td>\n",
       "      <td>Thromboembolism</td>\n",
       "      <td>Not applicable; cause of death was intoxicatio...</td>\n",
       "      <td>NaN</td>\n",
       "      <td>Acute pulmonary thromboembolism</td>\n",
       "      <td>Yes, results are available</td>\n",
       "      <td>Not Applicable</td>\n",
       "      <td>Felony Theft ( 1yr probation) SAFPF</td>\n",
       "      <td>NaN</td>\n",
       "      <td>NaN</td>\n",
       "      <td>Don't know</td>\n",
       "      <td>2014-04-25 11:14:00</td>\n",
       "      <td>Male</td>\n",
       "      <td>TDCJ</td>\n",
       "      <td>Jester 4 Unit-4 Jester Rd.</td>\n",
       "      <td>Penitentiary</td>\n",
       "      <td>NaN</td>\n",
       "      <td>Theft</td>\n",
       "      <td>1.0</td>\n",
       "      <td>ORIGINAL VERSION</td>\n",
       "      <td>Probation/Parole</td>\n",
       "      <td>Not applicable; cause of death was suicide, in...</td>\n",
       "      <td>V_2005</td>\n",
       "      <td>NaN</td>\n",
       "      <td>No</td>\n",
       "      <td>Walker</td>\n",
       "      <td>0.0</td>\n",
       "      <td>NaN</td>\n",
       "      <td>STAGENCY</td>\n",
       "      <td>NaN</td>\n",
       "      <td>African-American</td>\n",
       "      <td>NaN</td>\n",
       "      <td>0</td>\n",
       "      <td>NaN</td>\n",
       "      <td>NaN</td>\n",
       "      <td>NaN</td>\n",
       "      <td>NaN</td>\n",
       "      <td>NaN</td>\n",
       "    </tr>\n",
       "  </tbody>\n",
       "</table>\n",
       "</div>"
      ],
      "text/plain": [
       "      age_at_time_of_death           agency_address agency_city  \\\n",
       "0                     40.0           350 W. Belknap  Fort Worth   \n",
       "3437                  33.0  133 N. Riverfront Blvd.      Dallas   \n",
       "3436                  64.0  2503 Lake Road, Suite 5  Huntsville   \n",
       "3435                  53.0  2503 Lake Road, Suite 5  Huntsville   \n",
       "3434                  44.0  2503 Lake Road, Suite 5  Huntsville   \n",
       "\n",
       "                               agency_name agency_zip cdr_cdr_name  \\\n",
       "0                  Fort Worth Police Dept.      76102     PA05001C   \n",
       "3437         Dallas County Sheriff's Dept.      75207    PA14199CJ   \n",
       "3436  Texas Department Of Criminal Justice      77340     PA14198P   \n",
       "3435  Texas Department Of Criminal Justice      77340     PA14197P   \n",
       "3434  Texas Department Of Criminal Justice      77340     PA14196P   \n",
       "\n",
       "                  city     county        date_of_birth  \\\n",
       "0           Fort Worth    Tarrant  1964-04-03 00:00:00   \n",
       "3437            Dallas     Dallas  1981-03-23 00:00:00   \n",
       "3436  Tennessee Colony   Anderson  1949-11-02 00:00:00   \n",
       "3435        New Boston      Bowie  1960-05-11 00:00:00   \n",
       "3434           Richmon  Fort Bend  1969-10-03 00:00:00   \n",
       "\n",
       "     date_time_of_custody_or_incident death_date_and_time  \\\n",
       "0                 2005-01-01 15:04:00 2005-01-01 15:04:00   \n",
       "3437              2014-04-17 09:49:00 2014-04-20 08:14:00   \n",
       "3436              1998-10-06 00:00:00 2014-04-23 09:07:00   \n",
       "3435              2012-03-19 00:00:00 2014-04-16 06:44:00   \n",
       "3434              2014-02-03 00:00:00 2014-04-23 13:35:00   \n",
       "\n",
       "                   death_location death_location_elsewhere  \\\n",
       "0       At the crime/arrest scene                      NaN   \n",
       "3437          At medical facility                      NaN   \n",
       "3436  At law enforcement facility                      NaN   \n",
       "3435  At law enforcement facility                      NaN   \n",
       "3434          At medical facility                      NaN   \n",
       "\n",
       "          entry_date_time entry_date_time_n_a first_name middle_name  \\\n",
       "0                     NaT                   1       Dino         NaN   \n",
       "3437  2014-04-17 09:49:00                   0     Alisha         NaN   \n",
       "3436  1998-10-06 00:00:00                   0    Orville         Lee   \n",
       "3435  2012-04-25 00:00:00                   0      Pedro         NaN   \n",
       "3434  2014-02-03 00:00:00                   0      James        Neal   \n",
       "\n",
       "     last_name suffix         manner_of_death  \\\n",
       "0        Gomez    NaN    Justifiable Homicide   \n",
       "3437    Skeats    NaN  Natural Causes/Illness   \n",
       "3436     McCoy    NaN  Natural Causes/Illness   \n",
       "3435    Juarez     Jr  Natural Causes/Illness   \n",
       "3434  Benjamin    NaN  Natural Causes/Illness   \n",
       "\n",
       "                        manner_of_death_description  \\\n",
       "0                                               NaN   \n",
       "3437            Complications of chronic opiate use   \n",
       "3436  Malignant Pleural Effusion GT Bleesing/Anemia   \n",
       "3435                             Cardiac arrhythmia   \n",
       "3434                                Thromboembolism   \n",
       "\n",
       "                                         means_of_death means_of_death_other  \\\n",
       "0                                               Firearm                  NaN   \n",
       "3437  Not applicable; cause of death was intoxicatio...                  NaN   \n",
       "3436  Not applicable; cause of death was intoxicatio...                  NaN   \n",
       "3435  Not applicable; cause of death was intoxicatio...                  NaN   \n",
       "3434  Not applicable; cause of death was intoxicatio...                  NaN   \n",
       "\n",
       "                                 medical_cause_of_death  \\\n",
       "0                            Gunshot Wound to the Chest   \n",
       "3437  Complications of chronic opiate, benzodiazepin...   \n",
       "3436                                 ESLD-Liver Disease   \n",
       "3435  Sudden unexpected death in schizophrenia due t...   \n",
       "3434                    Acute pulmonary thromboembolism   \n",
       "\n",
       "     medical_examinor_coroner_evalution medical_treatment  \\\n",
       "0            Yes, results are available    Not Applicable   \n",
       "3437         Yes, results are available               Yes   \n",
       "3436         No, evaluation not planned               Yes   \n",
       "3435         Yes, results are available    Not Applicable   \n",
       "3434         Yes, results are available    Not Applicable   \n",
       "\n",
       "                                 offense_1 offense_2 offense_3  \\\n",
       "0                       Aggravated Assault       NaN       NaN   \n",
       "3437                      Theft of Service       NaN       NaN   \n",
       "3436  Aggravated Sexual Assault of a Child       NaN       NaN   \n",
       "3435                    Aggravated Assault       NaN       NaN   \n",
       "3434   Felony Theft ( 1yr probation) SAFPF       NaN       NaN   \n",
       "\n",
       "                         pre_existing_medical_condition          report_date  \\\n",
       "0     Not Applicable; cause of death was accidental ...  2005-03-02 14:48:00   \n",
       "3437                                         Don't know  2014-04-28 09:27:00   \n",
       "3436                                         Don't know  2014-04-25 15:15:00   \n",
       "3435                                         Don't know  2014-04-25 13:25:00   \n",
       "3434                                         Don't know  2014-04-25 11:14:00   \n",
       "\n",
       "         sex               specific_type_of_custody_facility  \\\n",
       "0       Male  Custody of Peace Officer during/fleeing arrest   \n",
       "3437  Female                              Hospital/Infirmary   \n",
       "3436    Male                                            TDCJ   \n",
       "3435    Male                                            TDCJ   \n",
       "3434    Male                                            TDCJ   \n",
       "\n",
       "                  street_address               type_of_custody  \\\n",
       "0                1509 W. Hammond  Police Custody (pre-booking)   \n",
       "3437           Parkland Hospital                   County Jail   \n",
       "3436  Michael Unit, 2664 FM 2054                  Penitentiary   \n",
       "3435           3899 State Hwy 98                  Penitentiary   \n",
       "3434  Jester 4 Unit-4 Jester Rd.                  Penitentiary   \n",
       "\n",
       "     type_of_offense type_of_offense_other  version_number      version_type  \\\n",
       "0                NaN                   NaN             1.0  ORIGINAL VERSION   \n",
       "3437             NaN        property crime             1.0  ORIGINAL VERSION   \n",
       "3436             NaN                   NaN             1.0  ORIGINAL VERSION   \n",
       "3435             NaN                   NaN             1.0  ORIGINAL VERSION   \n",
       "3434             NaN                 Theft             1.0  ORIGINAL VERSION   \n",
       "\n",
       "                were_the_charges  \\\n",
       "0     Not filed at time of death   \n",
       "3437                       Filed   \n",
       "3436                   Convicted   \n",
       "3435                   Convicted   \n",
       "3434            Probation/Parole   \n",
       "\n",
       "                                   who_caused_the_death form_version  \\\n",
       "0                    Law enforcement/correctional staff       V_2005   \n",
       "3437  Not applicable; cause of death was suicide, in...       V_2005   \n",
       "3436  Not applicable; cause of death was suicide, in...       V_2005   \n",
       "3435  Not applicable; cause of death was suicide, in...       V_2005   \n",
       "3434  Not applicable; cause of death was suicide, in...       V_2005   \n",
       "\n",
       "     type_of_restraint under_restraint agency_county  custody_date_na  \\\n",
       "0                  NaN              No       TARRANT              0.0   \n",
       "3437               NaN              No        Dallas              0.0   \n",
       "3436               NaN              No        Walker              0.0   \n",
       "3435               NaN              No        Walker              0.0   \n",
       "3434               NaN              No        Walker              0.0   \n",
       "\n",
       "     death_causer_other department_type entry_behavior         ethnicity  \\\n",
       "0                   NaN          POLICE            NaN          Hispanic   \n",
       "3437                NaN         SHERIFF            NaN             Anglo   \n",
       "3436                NaN        STAGENCY            NaN             Anglo   \n",
       "3435                NaN        STAGENCY            NaN          Hispanic   \n",
       "3434                NaN        STAGENCY            NaN  African-American   \n",
       "\n",
       "     ethnicity_other other_behavior specify_other_behavior  \\\n",
       "0                NaN              0                    NaN   \n",
       "3437             NaN              0                    NaN   \n",
       "3436             NaN              0                    NaN   \n",
       "3435             NaN              0                    NaN   \n",
       "3434             NaN              0                    NaN   \n",
       "\n",
       "     exhibit_any_medical_problems exhibit_any_mental_health_problems  \\\n",
       "0                             NaN                                NaN   \n",
       "3437                          NaN                                NaN   \n",
       "3436                          NaN                                NaN   \n",
       "3435                          NaN                                NaN   \n",
       "3434                          NaN                                NaN   \n",
       "\n",
       "     make_suicidal_statements race  \n",
       "0                         NaN  NaN  \n",
       "3437                      NaN  NaN  \n",
       "3436                      NaN  NaN  \n",
       "3435                      NaN  NaN  \n",
       "3434                      NaN  NaN  "
      ]
     },
     "execution_count": 22,
     "metadata": {},
     "output_type": "execute_result"
    }
   ],
   "source": [
    "cdr = pd.concat([cdr, old_master])\n",
    "cdr.reset_index(inplace=True, drop=True)\n",
    "cdr.sort_values('form_version', inplace=True)\n",
    "cdr.head()"
   ]
  },
  {
   "cell_type": "markdown",
   "metadata": {},
   "source": [
    "<div style=\"background-color: #008;height: 15px\"></div>\n",
    "\n",
    "## 2c. Data is merged into one frame. Now do column type conversions"
   ]
  },
  {
   "cell_type": "markdown",
   "metadata": {},
   "source": [
    "### Convert date columns"
   ]
  },
  {
   "cell_type": "code",
   "execution_count": 23,
   "metadata": {
    "ExecuteTime": {
     "end_time": "2020-12-21T14:13:25.878163Z",
     "start_time": "2020-12-21T14:13:20.064765Z"
    }
   },
   "outputs": [
    {
     "name": "stdout",
     "output_type": "stream",
     "text": [
      "Converting column date_of_birth to datetime\n",
      "Converting column date_time_of_custody_or_incident to datetime\n",
      "Converting column death_date_and_time to datetime\n",
      "Converting column entry_date_time to datetime\n",
      "Replaced 1361 bad values with NaT:\n",
      "Unique bad values: {'0000-00-00 00:00:00'}\n",
      "Converting column report_date to datetime\n",
      "Changed 4 cols to datetime (from some other dtype): ['date_of_birth', 'date_time_of_custody_or_incident', 'entry_date_time', 'report_date']\n"
     ]
    }
   ],
   "source": [
    "s1 = cdr.dtypes\n",
    "convert_date_cols(cdr)\n",
    "s2 = cdr.dtypes\n",
    "different = s1[s1 != s2].index.tolist()\n",
    "print(\"Changed %d cols to datetime (from some other dtype):\" % len(different), different)"
   ]
  },
  {
   "cell_type": "markdown",
   "metadata": {},
   "source": [
    "### As shown below, some float columns are in string format. We'll fix that next."
   ]
  },
  {
   "cell_type": "code",
   "execution_count": 24,
   "metadata": {
    "ExecuteTime": {
     "end_time": "2020-12-21T14:13:25.895733Z",
     "start_time": "2020-12-21T14:13:25.886596Z"
    }
   },
   "outputs": [
    {
     "data": {
      "text/plain": [
       "0           8898\n",
       "1           3590\n",
       "0           1200\n",
       "00:00:00     354\n",
       "1            341\n",
       "Name: entry_date_time_n_a, dtype: int64"
      ]
     },
     "execution_count": 24,
     "metadata": {},
     "output_type": "execute_result"
    }
   ],
   "source": [
    "cdr.entry_date_time_n_a.value_counts().head()"
   ]
  },
  {
   "cell_type": "code",
   "execution_count": 25,
   "metadata": {
    "ExecuteTime": {
     "end_time": "2020-12-21T14:13:25.989686Z",
     "start_time": "2020-12-21T14:13:25.900814Z"
    }
   },
   "outputs": [
    {
     "name": "stdout",
     "output_type": "stream",
     "text": [
      "Converting age_at_time_of_death\n",
      "Converting agency_zip\n",
      "- BAD VALUE (returning NaN): 78/155\n",
      "Converting custody_date_na\n",
      "Converting entry_date_time_n_a\n",
      "- BAD VALUE (returning NaN): 00:00:00\n",
      "- BAD VALUE (returning NaN): 00:00:00\n",
      "- BAD VALUE (returning NaN): 00:00:00\n",
      "- BAD VALUE (returning NaN): 00:00:00\n",
      "- BAD VALUE (returning NaN): 00:00:00\n",
      "- BAD VALUE (returning NaN): 00:00:00\n",
      "- BAD VALUE (returning NaN): 00:00:00\n",
      "- BAD VALUE (returning NaN): 00:00:00\n",
      "- BAD VALUE (returning NaN): 00:00:00\n",
      "- BAD VALUE (returning NaN): 00:00:00\n",
      "- BAD VALUE (returning NaN): 00:00:00\n",
      "- BAD VALUE (returning NaN): 00:00:00\n",
      "- BAD VALUE (returning NaN): 00:22:00\n",
      "- BAD VALUE (returning NaN): 03:25:00\n",
      "- BAD VALUE (returning NaN): 00:00:00\n",
      "- BAD VALUE (returning NaN): 00:00:00\n",
      "- BAD VALUE (returning NaN): 00:00:00\n",
      "- BAD VALUE (returning NaN): 00:00:00\n",
      "- BAD VALUE (returning NaN): 00:00:00\n",
      "- BAD VALUE (returning NaN): 00:00:00\n",
      "- BAD VALUE (returning NaN): 00:00:00\n",
      "- BAD VALUE (returning NaN): 00:00:00\n",
      "- BAD VALUE (returning NaN): 00:00:00\n",
      "- BAD VALUE (returning NaN): 00:00:00\n",
      "- BAD VALUE (returning NaN): 00:00:00\n",
      "- BAD VALUE (returning NaN): 00:00:00\n",
      "- BAD VALUE (returning NaN): 00:00:00\n",
      "- BAD VALUE (returning NaN): 00:00:00\n",
      "- BAD VALUE (returning NaN): 00:00:00\n",
      "- BAD VALUE (returning NaN): 00:00:00\n",
      "- BAD VALUE (returning NaN): 00:00:00\n",
      "- BAD VALUE (returning NaN): 00:00:00\n",
      "- BAD VALUE (returning NaN): 00:00:00\n",
      "- BAD VALUE (returning NaN): 11:00:00\n",
      "- BAD VALUE (returning NaN): 00:00:00\n",
      "- BAD VALUE (returning NaN): 09:15:00\n",
      "- BAD VALUE (returning NaN): 22:15:00\n",
      "- BAD VALUE (returning NaN): 20:35:00\n",
      "- BAD VALUE (returning NaN): 06:27:00\n",
      "- BAD VALUE (returning NaN): 17:20:00\n",
      "- BAD VALUE (returning NaN): 00:00:00\n",
      "- BAD VALUE (returning NaN): 00:00:00\n",
      "- BAD VALUE (returning NaN): 00:00:00\n",
      "- BAD VALUE (returning NaN): 00:00:00\n",
      "- BAD VALUE (returning NaN): 00:00:00\n",
      "- BAD VALUE (returning NaN): 00:00:00\n",
      "- BAD VALUE (returning NaN): 00:00:00\n",
      "- BAD VALUE (returning NaN): 00:00:00\n",
      "- BAD VALUE (returning NaN): 00:00:00\n",
      "- BAD VALUE (returning NaN): 00:00:00\n",
      "- BAD VALUE (returning NaN): 00:00:00\n",
      "- BAD VALUE (returning NaN): 00:00:00\n",
      "- BAD VALUE (returning NaN): 00:00:00\n",
      "- BAD VALUE (returning NaN): 00:00:00\n",
      "- BAD VALUE (returning NaN): 00:00:00\n",
      "- BAD VALUE (returning NaN): 00:00:00\n",
      "- BAD VALUE (returning NaN): 00:00:00\n",
      "- BAD VALUE (returning NaN): 00:00:00\n",
      "- BAD VALUE (returning NaN): 00:00:00\n",
      "- BAD VALUE (returning NaN): 00:00:00\n",
      "- BAD VALUE (returning NaN): 00:00:00\n",
      "- BAD VALUE (returning NaN): 00:00:00\n",
      "- BAD VALUE (returning NaN): 00:00:00\n",
      "- BAD VALUE (returning NaN): 00:00:00\n",
      "- BAD VALUE (returning NaN): 00:00:00\n",
      "- BAD VALUE (returning NaN): 11:01:00\n",
      "- BAD VALUE (returning NaN): 00:00:00\n",
      "- BAD VALUE (returning NaN): 00:00:00\n",
      "- BAD VALUE (returning NaN): 00:00:00\n",
      "- BAD VALUE (returning NaN): 00:00:00\n",
      "- BAD VALUE (returning NaN): 00:00:00\n",
      "- BAD VALUE (returning NaN): 00:00:00\n",
      "- BAD VALUE (returning NaN): 00:00:00\n",
      "- BAD VALUE (returning NaN): 00:00:00\n",
      "- BAD VALUE (returning NaN): 00:00:00\n",
      "- BAD VALUE (returning NaN): 00:00:00\n",
      "- BAD VALUE (returning NaN): 00:00:00\n",
      "- BAD VALUE (returning NaN): 00:00:00\n",
      "- BAD VALUE (returning NaN): 00:00:00\n",
      "- BAD VALUE (returning NaN): 00:00:00\n",
      "- BAD VALUE (returning NaN): 00:00:00\n",
      "- BAD VALUE (returning NaN): 00:00:00\n",
      "- BAD VALUE (returning NaN): 00:00:00\n",
      "- BAD VALUE (returning NaN): 00:00:00\n",
      "- BAD VALUE (returning NaN): 00:00:00\n",
      "- BAD VALUE (returning NaN): 00:00:00\n",
      "- BAD VALUE (returning NaN): 00:00:00\n",
      "- BAD VALUE (returning NaN): 00:00:00\n",
      "- BAD VALUE (returning NaN): 00:00:00\n",
      "- BAD VALUE (returning NaN): 00:00:00\n",
      "- BAD VALUE (returning NaN): 00:00:00\n",
      "- BAD VALUE (returning NaN): 00:00:00\n",
      "- BAD VALUE (returning NaN): 00:00:00\n",
      "- BAD VALUE (returning NaN): 00:00:00\n",
      "- BAD VALUE (returning NaN): 00:00:00\n",
      "- BAD VALUE (returning NaN): 00:00:00\n",
      "- BAD VALUE (returning NaN): 00:00:00\n",
      "- BAD VALUE (returning NaN): 00:00:00\n",
      "- BAD VALUE (returning NaN): 00:00:00\n",
      "- BAD VALUE (returning NaN): 00:00:00\n",
      "- BAD VALUE (returning NaN): 00:00:00\n",
      "- BAD VALUE (returning NaN): 00:00:00\n",
      "- BAD VALUE (returning NaN): 00:00:00\n",
      "- BAD VALUE (returning NaN): 00:00:00\n",
      "- BAD VALUE (returning NaN): 00:00:00\n",
      "- BAD VALUE (returning NaN): 00:00:00\n",
      "- BAD VALUE (returning NaN): 00:00:00\n",
      "- BAD VALUE (returning NaN): 00:00:00\n",
      "- BAD VALUE (returning NaN): 00:00:00\n",
      "- BAD VALUE (returning NaN): 00:00:00\n",
      "- BAD VALUE (returning NaN): 00:00:00\n",
      "- BAD VALUE (returning NaN): 00:00:00\n",
      "- BAD VALUE (returning NaN): 00:00:00\n",
      "- BAD VALUE (returning NaN): 00:00:00\n",
      "- BAD VALUE (returning NaN): 00:00:00\n",
      "- BAD VALUE (returning NaN): 00:00:00\n",
      "- BAD VALUE (returning NaN): 00:00:00\n",
      "- BAD VALUE (returning NaN): 00:00:00\n",
      "- BAD VALUE (returning NaN): 00:00:00\n",
      "- BAD VALUE (returning NaN): 00:00:00\n",
      "- BAD VALUE (returning NaN): 00:00:00\n",
      "- BAD VALUE (returning NaN): 00:00:00\n",
      "- BAD VALUE (returning NaN): 00:00:00\n",
      "- BAD VALUE (returning NaN): 00:00:00\n",
      "- BAD VALUE (returning NaN): 12:45:00\n",
      "- BAD VALUE (returning NaN): 00:00:00\n",
      "- BAD VALUE (returning NaN): 00:00:00\n",
      "- BAD VALUE (returning NaN): 00:00:00\n",
      "- BAD VALUE (returning NaN): 00:00:00\n",
      "- BAD VALUE (returning NaN): 00:00:00\n",
      "- BAD VALUE (returning NaN): 00:00:00\n",
      "- BAD VALUE (returning NaN): 00:00:00\n",
      "- BAD VALUE (returning NaN): 10:34:00\n",
      "- BAD VALUE (returning NaN): 11:24:00\n",
      "- BAD VALUE (returning NaN): 19:08:00\n",
      "- BAD VALUE (returning NaN): 02:24:00\n",
      "- BAD VALUE (returning NaN): 00:00:00\n",
      "- BAD VALUE (returning NaN): 11:15:00\n",
      "- BAD VALUE (returning NaN): 00:00:00\n",
      "- BAD VALUE (returning NaN): 00:00:00\n",
      "- BAD VALUE (returning NaN): 00:00:00\n",
      "- BAD VALUE (returning NaN): 00:00:00\n",
      "- BAD VALUE (returning NaN): 00:00:00\n",
      "- BAD VALUE (returning NaN): 00:00:00\n",
      "- BAD VALUE (returning NaN): 00:00:00\n",
      "- BAD VALUE (returning NaN): 00:00:00\n",
      "- BAD VALUE (returning NaN): 00:00:00\n",
      "- BAD VALUE (returning NaN): 00:00:00\n",
      "- BAD VALUE (returning NaN): 00:00:00\n",
      "- BAD VALUE (returning NaN): 00:00:00\n",
      "- BAD VALUE (returning NaN): 00:00:00\n",
      "- BAD VALUE (returning NaN): 00:00:00\n",
      "- BAD VALUE (returning NaN): 00:00:00\n",
      "- BAD VALUE (returning NaN): 00:00:00\n",
      "- BAD VALUE (returning NaN): 00:00:00\n",
      "- BAD VALUE (returning NaN): 00:00:00\n",
      "- BAD VALUE (returning NaN): 00:00:00\n",
      "- BAD VALUE (returning NaN): 00:00:00\n",
      "- BAD VALUE (returning NaN): 00:00:00\n",
      "- BAD VALUE (returning NaN): 00:00:00\n",
      "- BAD VALUE (returning NaN): 00:00:00\n",
      "- BAD VALUE (returning NaN): 00:00:00\n",
      "- BAD VALUE (returning NaN): 00:00:00\n",
      "- BAD VALUE (returning NaN): 00:00:00\n",
      "- BAD VALUE (returning NaN): 00:00:00\n",
      "- BAD VALUE (returning NaN): 00:00:00\n",
      "- BAD VALUE (returning NaN): 00:00:00\n",
      "- BAD VALUE (returning NaN): 00:00:00\n",
      "- BAD VALUE (returning NaN): 00:00:00\n",
      "- BAD VALUE (returning NaN): 00:00:00\n",
      "- BAD VALUE (returning NaN): 00:00:00\n",
      "- BAD VALUE (returning NaN): 00:00:00\n",
      "- BAD VALUE (returning NaN): 00:00:00\n",
      "- BAD VALUE (returning NaN): 00:00:00\n",
      "- BAD VALUE (returning NaN): 00:00:00\n",
      "- BAD VALUE (returning NaN): 00:00:00\n",
      "- BAD VALUE (returning NaN): 00:00:00\n",
      "- BAD VALUE (returning NaN): 16:28:00\n",
      "- BAD VALUE (returning NaN): 00:00:00\n",
      "- BAD VALUE (returning NaN): 00:00:00\n",
      "- BAD VALUE (returning NaN): 13:40:00\n",
      "- BAD VALUE (returning NaN): 00:00:00\n",
      "- BAD VALUE (returning NaN): 01:11:00\n",
      "- BAD VALUE (returning NaN): 12:50:00\n",
      "- BAD VALUE (returning NaN): 00:34:00\n",
      "- BAD VALUE (returning NaN): 00:00:00\n",
      "- BAD VALUE (returning NaN): 00:00:00\n",
      "- BAD VALUE (returning NaN): 00:00:00\n",
      "- BAD VALUE (returning NaN): 00:00:00\n",
      "- BAD VALUE (returning NaN): 00:00:00\n",
      "- BAD VALUE (returning NaN): 00:00:00\n",
      "- BAD VALUE (returning NaN): 00:00:00\n",
      "- BAD VALUE (returning NaN): 16:29:00\n",
      "- BAD VALUE (returning NaN): 00:26:00\n",
      "- BAD VALUE (returning NaN): 09:16:00\n",
      "- BAD VALUE (returning NaN): 00:00:00\n",
      "- BAD VALUE (returning NaN): 00:00:00\n",
      "- BAD VALUE (returning NaN): 00:00:00\n",
      "- BAD VALUE (returning NaN): 00:00:00\n",
      "- BAD VALUE (returning NaN): 00:00:00\n",
      "- BAD VALUE (returning NaN): 00:00:00\n",
      "- BAD VALUE (returning NaN): 00:00:00\n",
      "- BAD VALUE (returning NaN): 00:00:00\n",
      "- BAD VALUE (returning NaN): 00:00:00\n",
      "- BAD VALUE (returning NaN): 00:00:00\n",
      "- BAD VALUE (returning NaN): 00:00:00\n",
      "- BAD VALUE (returning NaN): 00:00:00\n",
      "- BAD VALUE (returning NaN): 00:00:00\n",
      "- BAD VALUE (returning NaN): 00:00:00\n",
      "- BAD VALUE (returning NaN): 00:00:00\n",
      "- BAD VALUE (returning NaN): 00:00:00\n",
      "- BAD VALUE (returning NaN): 00:00:00\n",
      "- BAD VALUE (returning NaN): 00:00:00\n",
      "- BAD VALUE (returning NaN): 00:00:00\n",
      "- BAD VALUE (returning NaN): 00:00:00\n",
      "- BAD VALUE (returning NaN): 00:00:00\n",
      "- BAD VALUE (returning NaN): 00:00:00\n",
      "- BAD VALUE (returning NaN): 00:00:00\n",
      "- BAD VALUE (returning NaN): 00:00:00\n",
      "- BAD VALUE (returning NaN): 00:00:00\n",
      "- BAD VALUE (returning NaN): 00:00:00\n",
      "- BAD VALUE (returning NaN): 00:00:00\n",
      "- BAD VALUE (returning NaN): 00:00:00\n",
      "- BAD VALUE (returning NaN): 00:00:00\n",
      "- BAD VALUE (returning NaN): 00:00:00\n",
      "- BAD VALUE (returning NaN): 00:00:00\n",
      "- BAD VALUE (returning NaN): 00:00:00\n",
      "- BAD VALUE (returning NaN): 00:00:00\n",
      "- BAD VALUE (returning NaN): 00:00:00\n",
      "- BAD VALUE (returning NaN): 00:00:00\n",
      "- BAD VALUE (returning NaN): 00:00:00\n",
      "- BAD VALUE (returning NaN): 00:00:00\n",
      "- BAD VALUE (returning NaN): 00:00:00\n",
      "- BAD VALUE (returning NaN): 00:00:00\n",
      "- BAD VALUE (returning NaN): 00:00:00\n",
      "- BAD VALUE (returning NaN): 00:00:00\n",
      "- BAD VALUE (returning NaN): 00:00:00\n",
      "- BAD VALUE (returning NaN): 00:00:00\n",
      "- BAD VALUE (returning NaN): 00:00:00\n",
      "- BAD VALUE (returning NaN): 00:00:00\n",
      "- BAD VALUE (returning NaN): 00:00:00\n",
      "- BAD VALUE (returning NaN): 00:00:00\n",
      "- BAD VALUE (returning NaN): 00:00:00\n",
      "- BAD VALUE (returning NaN): 00:00:00\n",
      "- BAD VALUE (returning NaN): 00:00:00\n",
      "- BAD VALUE (returning NaN): 00:00:00\n",
      "- BAD VALUE (returning NaN): 00:00:00\n",
      "- BAD VALUE (returning NaN): 00:00:00\n",
      "- BAD VALUE (returning NaN): 00:00:00\n",
      "- BAD VALUE (returning NaN): 00:00:00\n",
      "- BAD VALUE (returning NaN): 00:00:00\n",
      "- BAD VALUE (returning NaN): 00:00:00\n",
      "- BAD VALUE (returning NaN): 00:00:00\n",
      "- BAD VALUE (returning NaN): 00:00:00\n",
      "- BAD VALUE (returning NaN): 00:00:00\n",
      "- BAD VALUE (returning NaN): 00:00:00\n",
      "- BAD VALUE (returning NaN): 00:00:00\n",
      "- BAD VALUE (returning NaN): 00:00:00\n",
      "- BAD VALUE (returning NaN): 00:00:00\n",
      "- BAD VALUE (returning NaN): 00:00:00\n",
      "- BAD VALUE (returning NaN): 00:00:00\n",
      "- BAD VALUE (returning NaN): 00:00:00\n",
      "- BAD VALUE (returning NaN): 23:59:00\n",
      "- BAD VALUE (returning NaN): 00:00:00\n",
      "- BAD VALUE (returning NaN): 00:00:00\n",
      "- BAD VALUE (returning NaN): 00:00:00\n",
      "- BAD VALUE (returning NaN): 00:00:00\n",
      "- BAD VALUE (returning NaN): 00:00:00\n",
      "- BAD VALUE (returning NaN): 00:00:00\n",
      "- BAD VALUE (returning NaN): 00:00:00\n",
      "- BAD VALUE (returning NaN): 00:00:00\n",
      "- BAD VALUE (returning NaN): 00:00:00\n",
      "- BAD VALUE (returning NaN): 00:00:00\n",
      "- BAD VALUE (returning NaN): 00:00:00\n",
      "- BAD VALUE (returning NaN): 00:00:00\n",
      "- BAD VALUE (returning NaN): 00:00:00\n",
      "- BAD VALUE (returning NaN): 00:00:00\n",
      "- BAD VALUE (returning NaN): 00:00:00\n",
      "- BAD VALUE (returning NaN): 00:00:00\n",
      "- BAD VALUE (returning NaN): 00:00:00\n",
      "- BAD VALUE (returning NaN): 00:00:00\n",
      "- BAD VALUE (returning NaN): 00:00:00\n",
      "- BAD VALUE (returning NaN): 00:00:00\n",
      "- BAD VALUE (returning NaN): 00:00:00\n",
      "- BAD VALUE (returning NaN): 00:00:00\n",
      "- BAD VALUE (returning NaN): 20:53:00\n",
      "- BAD VALUE (returning NaN): 00:00:00\n",
      "- BAD VALUE (returning NaN): 00:00:00\n",
      "- BAD VALUE (returning NaN): 00:00:00\n",
      "- BAD VALUE (returning NaN): 00:00:00\n",
      "- BAD VALUE (returning NaN): 00:00:00\n",
      "- BAD VALUE (returning NaN): 00:00:00\n",
      "- BAD VALUE (returning NaN): 00:00:00\n",
      "- BAD VALUE (returning NaN): 00:00:00\n",
      "- BAD VALUE (returning NaN): 00:00:00\n",
      "- BAD VALUE (returning NaN): 00:00:00\n",
      "- BAD VALUE (returning NaN): 00:00:00\n",
      "- BAD VALUE (returning NaN): 00:00:00\n",
      "- BAD VALUE (returning NaN): 00:00:00\n",
      "- BAD VALUE (returning NaN): 00:00:00\n",
      "- BAD VALUE (returning NaN): 00:00:00\n",
      "- BAD VALUE (returning NaN): 00:00:00\n",
      "- BAD VALUE (returning NaN): 00:00:00\n",
      "- BAD VALUE (returning NaN): 00:00:00\n",
      "- BAD VALUE (returning NaN): 00:00:00\n",
      "- BAD VALUE (returning NaN): 00:00:00\n",
      "- BAD VALUE (returning NaN): 00:00:00\n",
      "- BAD VALUE (returning NaN): 00:00:00\n",
      "- BAD VALUE (returning NaN): 00:00:00\n",
      "- BAD VALUE (returning NaN): 00:00:00\n",
      "- BAD VALUE (returning NaN): 00:00:00\n",
      "- BAD VALUE (returning NaN): 00:00:00\n",
      "- BAD VALUE (returning NaN): 00:00:00\n",
      "- BAD VALUE (returning NaN): 00:00:00\n",
      "- BAD VALUE (returning NaN): 00:00:00\n",
      "- BAD VALUE (returning NaN): 00:00:00\n",
      "- BAD VALUE (returning NaN): 00:00:00\n",
      "- BAD VALUE (returning NaN): 00:00:00\n",
      "- BAD VALUE (returning NaN): 00:00:00\n",
      "- BAD VALUE (returning NaN): 00:00:00\n",
      "- BAD VALUE (returning NaN): 00:00:00\n",
      "- BAD VALUE (returning NaN): 00:00:00\n",
      "- BAD VALUE (returning NaN): 00:00:00\n",
      "- BAD VALUE (returning NaN): 00:00:00\n",
      "- BAD VALUE (returning NaN): 00:00:00\n",
      "- BAD VALUE (returning NaN): 00:00:00\n",
      "- BAD VALUE (returning NaN): 00:00:00\n",
      "- BAD VALUE (returning NaN): 00:00:00\n",
      "- BAD VALUE (returning NaN): 00:00:00\n",
      "- BAD VALUE (returning NaN): 00:00:00\n",
      "- BAD VALUE (returning NaN): 00:00:00\n",
      "- BAD VALUE (returning NaN): 11:50:00\n",
      "- BAD VALUE (returning NaN): 19:10:00\n",
      "- BAD VALUE (returning NaN): 00:00:00\n",
      "- BAD VALUE (returning NaN): 00:00:00\n",
      "- BAD VALUE (returning NaN): 00:00:00\n",
      "- BAD VALUE (returning NaN): 00:00:00\n",
      "- BAD VALUE (returning NaN): 00:00:00\n",
      "- BAD VALUE (returning NaN): 00:00:00\n",
      "- BAD VALUE (returning NaN): 00:00:00\n",
      "- BAD VALUE (returning NaN): 00:00:00\n",
      "- BAD VALUE (returning NaN): 00:00:00\n",
      "- BAD VALUE (returning NaN): 00:00:00\n",
      "- BAD VALUE (returning NaN): 00:00:00\n",
      "- BAD VALUE (returning NaN): 20:37:00\n",
      "- BAD VALUE (returning NaN): 00:00:00\n",
      "- BAD VALUE (returning NaN): 00:00:00\n",
      "- BAD VALUE (returning NaN): 00:00:00\n",
      "- BAD VALUE (returning NaN): 00:00:00\n",
      "- BAD VALUE (returning NaN): 00:00:00\n",
      "- BAD VALUE (returning NaN): 00:00:00\n",
      "- BAD VALUE (returning NaN): 00:00:00\n",
      "- BAD VALUE (returning NaN): 00:00:00\n",
      "- BAD VALUE (returning NaN): 00:00:00\n",
      "- BAD VALUE (returning NaN): 00:00:00\n",
      "- BAD VALUE (returning NaN): 00:00:00\n",
      "- BAD VALUE (returning NaN): 00:00:00\n",
      "- BAD VALUE (returning NaN): 00:00:00\n",
      "- BAD VALUE (returning NaN): 00:00:00\n",
      "- BAD VALUE (returning NaN): 00:00:00\n",
      "- BAD VALUE (returning NaN): 00:00:00\n",
      "- BAD VALUE (returning NaN): 00:00:00\n",
      "- BAD VALUE (returning NaN): 00:00:00\n",
      "- BAD VALUE (returning NaN): 00:00:00\n",
      "- BAD VALUE (returning NaN): 00:00:00\n",
      "- BAD VALUE (returning NaN): 00:00:00\n",
      "- BAD VALUE (returning NaN): 00:00:00\n",
      "- BAD VALUE (returning NaN): 00:00:00\n",
      "- BAD VALUE (returning NaN): 00:00:00\n",
      "- BAD VALUE (returning NaN): 00:00:00\n",
      "- BAD VALUE (returning NaN): 00:00:00\n",
      "- BAD VALUE (returning NaN): 00:00:00\n",
      "- BAD VALUE (returning NaN): 00:00:00\n",
      "- BAD VALUE (returning NaN): 00:00:00\n",
      "- BAD VALUE (returning NaN): 00:00:00\n",
      "- BAD VALUE (returning NaN): 00:00:00\n",
      "- BAD VALUE (returning NaN): 00:00:00\n",
      "- BAD VALUE (returning NaN): 00:00:00\n",
      "- BAD VALUE (returning NaN): 00:00:00\n",
      "- BAD VALUE (returning NaN): 00:00:00\n",
      "- BAD VALUE (returning NaN): 00:00:00\n",
      "- BAD VALUE (returning NaN): 00:00:00\n",
      "Converting version_number\n"
     ]
    }
   ],
   "source": [
    "def float_or_nan(val):\n",
    "    try:\n",
    "        return float(val)\n",
    "    except ValueError:\n",
    "        pass\n",
    "    except TypeError:\n",
    "        pass\n",
    "    print(\"- BAD VALUE (returning NaN):\", val)\n",
    "    return np.NAN\n",
    "\n",
    "float_cols = [\n",
    " 'age_at_time_of_death',\n",
    " 'agency_zip',\n",
    " 'custody_date_na',\n",
    " 'entry_date_time_n_a',\n",
    " 'version_number'\n",
    "]\n",
    "\n",
    "for c in float_cols:\n",
    "    print(\"Converting\", c)\n",
    "    cdr[c] = cdr[c].apply(float_or_nan).astype(float)"
   ]
  },
  {
   "cell_type": "markdown",
   "metadata": {},
   "source": [
    "### Upcase string cell contents"
   ]
  },
  {
   "cell_type": "code",
   "execution_count": 26,
   "metadata": {
    "ExecuteTime": {
     "end_time": "2020-12-21T14:13:26.608189Z",
     "start_time": "2020-12-21T14:13:25.991229Z"
    }
   },
   "outputs": [],
   "source": [
    "upcase_strip_string_cells(cdr)"
   ]
  },
  {
   "cell_type": "markdown",
   "metadata": {},
   "source": [
    "### Add a `death_date` column (without the death time)"
   ]
  },
  {
   "cell_type": "code",
   "execution_count": 27,
   "metadata": {
    "ExecuteTime": {
     "end_time": "2020-12-21T14:13:26.734403Z",
     "start_time": "2020-12-21T14:13:26.610671Z"
    }
   },
   "outputs": [],
   "source": [
    "cdr['death_date'] = pd.to_datetime(cdr.death_date_and_time.apply(lambda dt: datetime.date(dt.year, dt.month, dt.day)))"
   ]
  },
  {
   "cell_type": "code",
   "execution_count": 28,
   "metadata": {
    "ExecuteTime": {
     "end_time": "2020-12-21T14:13:26.766223Z",
     "start_time": "2020-12-21T14:13:26.739258Z"
    }
   },
   "outputs": [],
   "source": [
    "cdr_ready_to_clean = cdr.copy()"
   ]
  },
  {
   "cell_type": "markdown",
   "metadata": {},
   "source": [
    "<div style=\"background-color: #080;height: 20px\"></div>\n",
    "\n",
    "# 3. Begin deep cleaning"
   ]
  },
  {
   "cell_type": "code",
   "execution_count": 29,
   "metadata": {
    "ExecuteTime": {
     "end_time": "2020-12-21T14:13:26.830415Z",
     "start_time": "2020-12-21T14:13:26.801986Z"
    }
   },
   "outputs": [],
   "source": [
    "# When we're working on modifying this file, and we need to reset\n",
    "# the dataset, it's annoying to run the whole notebook, fetch from\n",
    "# data.world, etc. So you can just rerun from here downward.\n",
    "cdr = cdr_ready_to_clean.copy()"
   ]
  },
  {
   "cell_type": "markdown",
   "metadata": {},
   "source": [
    "<div style=\"background-color: #008;height: 15px\"></div>\n",
    "\n",
    "## 3a.  Standardize `race` values"
   ]
  },
  {
   "cell_type": "markdown",
   "metadata": {},
   "source": [
    "### First we need to merge race and ethnicity columns (the 2005 form calls it 'ethnicity', the 2016 'race')"
   ]
  },
  {
   "cell_type": "markdown",
   "metadata": {},
   "source": [
    "#### Have a look at the values first"
   ]
  },
  {
   "cell_type": "code",
   "execution_count": 30,
   "metadata": {
    "ExecuteTime": {
     "end_time": "2020-12-21T14:13:26.841427Z",
     "start_time": "2020-12-21T14:13:26.833741Z"
    }
   },
   "outputs": [
    {
     "data": {
      "text/plain": [
       "ANGLO OR WHITE                      2024\n",
       "HISPANIC OR LATINO                  1360\n",
       "BLACK OR AFRICAN AMERICAN           1331\n",
       "ASIAN OR PACIFIC ISLANDER             27\n",
       "OTHER                                 17\n",
       "AMERICAN INDIAN OR ALASKA NATIVE       4\n",
       "UNKNOWN                                1\n",
       "Name: race, dtype: int64"
      ]
     },
     "execution_count": 30,
     "metadata": {},
     "output_type": "execute_result"
    }
   ],
   "source": [
    "cdr.race.value_counts()"
   ]
  },
  {
   "cell_type": "code",
   "execution_count": 31,
   "metadata": {
    "ExecuteTime": {
     "end_time": "2020-12-21T14:13:26.852152Z",
     "start_time": "2020-12-21T14:13:26.844242Z"
    }
   },
   "outputs": [
    {
     "data": {
      "text/plain": [
       "ANGLO OR WHITE                      3231\n",
       "BLACK OR AFRICAN AMERICAN           2275\n",
       "HISPANIC OR LATINO                  2119\n",
       "ANGLO                               2115\n",
       "AFRICAN-AMERICAN                    1521\n",
       "HISPANIC                            1433\n",
       "ASIAN                                 63\n",
       "OTHER/DON'T KNOW                      46\n",
       "AMERICAN INDIAN/ALASKA NATIVE         26\n",
       "MIDDLE EAST                           24\n",
       "OTHER                                 22\n",
       "NATIVE HAWAIIAN/PACIFIC ISLANDER      10\n",
       "Name: ethnicity, dtype: int64"
      ]
     },
     "execution_count": 31,
     "metadata": {},
     "output_type": "execute_result"
    }
   ],
   "source": [
    "cdr.ethnicity.value_counts()"
   ]
  },
  {
   "cell_type": "code",
   "execution_count": 32,
   "metadata": {
    "ExecuteTime": {
     "end_time": "2020-12-21T14:13:26.872506Z",
     "start_time": "2020-12-21T14:13:26.854977Z"
    }
   },
   "outputs": [],
   "source": [
    "# Collapse the various OTHER-like values\n",
    "cdr.loc[cdr.ethnicity.fillna('').str.contains('OTHER'), 'ethnicity'] = 'OTHER'"
   ]
  },
  {
   "cell_type": "code",
   "execution_count": 33,
   "metadata": {
    "ExecuteTime": {
     "end_time": "2020-12-21T14:13:26.882846Z",
     "start_time": "2020-12-21T14:13:26.874404Z"
    }
   },
   "outputs": [
    {
     "data": {
      "text/plain": [
       "0                      665\n",
       "WHITE                   14\n",
       "CAUCASIAN                8\n",
       "UNKNOWN                  8\n",
       "WHITE NON HISPANIC       2\n",
       "SUDANESE BLACK           2\n",
       "ANGLO & MIDDLE EAST      2\n",
       "CUBAN                    2\n",
       "ARABIAN                  2\n",
       "UNITED KINGDOM           1\n",
       "BELIZE, BRAZILIAN        1\n",
       "Name: ethnicity_other, dtype: int64"
      ]
     },
     "execution_count": 33,
     "metadata": {},
     "output_type": "execute_result"
    }
   ],
   "source": [
    "# When choosing the 'Other' ethnicity in the 2005 form version, there\n",
    "# is a subsequent field to specify. Though clearly some of them are not\n",
    "# truly 'other' ethnicities. See:\n",
    "cdr.ethnicity_other.value_counts()"
   ]
  },
  {
   "cell_type": "code",
   "execution_count": 34,
   "metadata": {
    "ExecuteTime": {
     "end_time": "2020-12-21T14:13:26.895261Z",
     "start_time": "2020-12-21T14:13:26.885037Z"
    }
   },
   "outputs": [],
   "source": [
    "# Replace the nonsensical 0 with NaN\n",
    "cdr.loc[cdr.ethnicity_other.astype(str) == '0', 'ethnicity_other'] = None"
   ]
  },
  {
   "cell_type": "code",
   "execution_count": 35,
   "metadata": {
    "ExecuteTime": {
     "end_time": "2020-12-21T14:13:26.907802Z",
     "start_time": "2020-12-21T14:13:26.897200Z"
    }
   },
   "outputs": [
    {
     "data": {
      "text/html": [
       "<div>\n",
       "<style scoped>\n",
       "    .dataframe tbody tr th:only-of-type {\n",
       "        vertical-align: middle;\n",
       "    }\n",
       "\n",
       "    .dataframe tbody tr th {\n",
       "        vertical-align: top;\n",
       "    }\n",
       "\n",
       "    .dataframe thead th {\n",
       "        text-align: right;\n",
       "    }\n",
       "</style>\n",
       "<table border=\"1\" class=\"dataframe\">\n",
       "  <thead>\n",
       "    <tr style=\"text-align: right;\">\n",
       "      <th></th>\n",
       "      <th>ethnicity</th>\n",
       "      <th>ethnicity_other</th>\n",
       "    </tr>\n",
       "  </thead>\n",
       "  <tbody>\n",
       "    <tr>\n",
       "      <th>15014</th>\n",
       "      <td>ANGLO OR WHITE</td>\n",
       "      <td>WHITE</td>\n",
       "    </tr>\n",
       "    <tr>\n",
       "      <th>15169</th>\n",
       "      <td>ANGLO OR WHITE</td>\n",
       "      <td>CAUCASIAN</td>\n",
       "    </tr>\n",
       "    <tr>\n",
       "      <th>14900</th>\n",
       "      <td>ANGLO OR WHITE</td>\n",
       "      <td>CAUCASIAN</td>\n",
       "    </tr>\n",
       "    <tr>\n",
       "      <th>15644</th>\n",
       "      <td>ANGLO OR WHITE</td>\n",
       "      <td>WHITE</td>\n",
       "    </tr>\n",
       "    <tr>\n",
       "      <th>15257</th>\n",
       "      <td>ANGLO OR WHITE</td>\n",
       "      <td>CAUCASIAN</td>\n",
       "    </tr>\n",
       "    <tr>\n",
       "      <th>14559</th>\n",
       "      <td>BLACK OR AFRICAN AMERICAN</td>\n",
       "      <td>SUDANESE BLACK</td>\n",
       "    </tr>\n",
       "    <tr>\n",
       "      <th>16772</th>\n",
       "      <td>ANGLO OR WHITE</td>\n",
       "      <td>WHITE</td>\n",
       "    </tr>\n",
       "    <tr>\n",
       "      <th>15736</th>\n",
       "      <td>ANGLO OR WHITE</td>\n",
       "      <td>CAUCASIAN</td>\n",
       "    </tr>\n",
       "    <tr>\n",
       "      <th>12866</th>\n",
       "      <td>ANGLO OR WHITE</td>\n",
       "      <td>WHITE</td>\n",
       "    </tr>\n",
       "    <tr>\n",
       "      <th>13621</th>\n",
       "      <td>ANGLO OR WHITE</td>\n",
       "      <td>WHITE NON HISPANIC</td>\n",
       "    </tr>\n",
       "    <tr>\n",
       "      <th>13554</th>\n",
       "      <td>ANGLO OR WHITE</td>\n",
       "      <td>WHITE</td>\n",
       "    </tr>\n",
       "    <tr>\n",
       "      <th>12714</th>\n",
       "      <td>ANGLO OR WHITE</td>\n",
       "      <td>WHITE</td>\n",
       "    </tr>\n",
       "  </tbody>\n",
       "</table>\n",
       "</div>"
      ],
      "text/plain": [
       "                       ethnicity     ethnicity_other\n",
       "15014             ANGLO OR WHITE               WHITE\n",
       "15169             ANGLO OR WHITE           CAUCASIAN\n",
       "14900             ANGLO OR WHITE           CAUCASIAN\n",
       "15644             ANGLO OR WHITE               WHITE\n",
       "15257             ANGLO OR WHITE           CAUCASIAN\n",
       "14559  BLACK OR AFRICAN AMERICAN      SUDANESE BLACK\n",
       "16772             ANGLO OR WHITE               WHITE\n",
       "15736             ANGLO OR WHITE           CAUCASIAN\n",
       "12866             ANGLO OR WHITE               WHITE\n",
       "13621             ANGLO OR WHITE  WHITE NON HISPANIC\n",
       "13554             ANGLO OR WHITE               WHITE\n",
       "12714             ANGLO OR WHITE               WHITE"
      ]
     },
     "execution_count": 35,
     "metadata": {},
     "output_type": "execute_result"
    }
   ],
   "source": [
    "# Let's make sure nobody is filling out the \"other ethnicity\" column when they shouldn't...\n",
    "cdr[(~(cdr.ethnicity == 'OTHER') & cdr.ethnicity_other.notnull())][['ethnicity', 'ethnicity_other']]"
   ]
  },
  {
   "cell_type": "code",
   "execution_count": 36,
   "metadata": {
    "ExecuteTime": {
     "end_time": "2020-12-21T14:13:26.930425Z",
     "start_time": "2020-12-21T14:13:26.909561Z"
    }
   },
   "outputs": [
    {
     "name": "stdout",
     "output_type": "stream",
     "text": [
      "Merging 68 \"ethnicity_other\" values into the main \"ethnicity\" column\n"
     ]
    }
   ],
   "source": [
    "# Good. Let's transfer those specified ethnicity_other values into\n",
    "# the 'ethnicity' column, so we can merge everything at once.\n",
    "other_eth = (cdr.ethnicity == 'OTHER')\n",
    "print('Merging %d \"ethnicity_other\" values into the main \"ethnicity\" column' % other_eth.sum())\n",
    "cdr.loc[other_eth, 'ethnicity'] = cdr.ethnicity_other[other_eth]\n",
    "cdr.drop('ethnicity_other', axis=1, inplace=True)"
   ]
  },
  {
   "cell_type": "code",
   "execution_count": 37,
   "metadata": {
    "ExecuteTime": {
     "end_time": "2020-12-21T14:13:26.961462Z",
     "start_time": "2020-12-21T14:13:26.932666Z"
    }
   },
   "outputs": [],
   "source": [
    "# Make a single 'race' column that has merged, simplified values of race or ethnicity.\n",
    "race_eth_list = []\n",
    "for race, eth in zip(cdr.race, cdr.ethnicity):\n",
    "    # Only one of (race, eth) should be set\n",
    "    assert pd.isnull(race) or pd.isnull(eth)\n",
    "    if pd.isnull(race):\n",
    "        if pd.isnull(eth):\n",
    "            race_eth_list.append(None)\n",
    "            continue\n",
    "        x = eth\n",
    "    else:\n",
    "        x = race\n",
    "    race_eth_list.append(x)"
   ]
  },
  {
   "cell_type": "code",
   "execution_count": 38,
   "metadata": {
    "ExecuteTime": {
     "end_time": "2020-12-21T14:13:26.987669Z",
     "start_time": "2020-12-21T14:13:26.964629Z"
    }
   },
   "outputs": [
    {
     "data": {
      "text/plain": [
       "ANGLO OR WHITE                      5255\n",
       "BLACK OR AFRICAN AMERICAN           3606\n",
       "HISPANIC OR LATINO                  3479\n",
       "ANGLO                               2115\n",
       "AFRICAN-AMERICAN                    1521\n",
       "HISPANIC                            1433\n",
       "ASIAN                                 63\n",
       "ASIAN OR PACIFIC ISLANDER             27\n",
       "AMERICAN INDIAN/ALASKA NATIVE         26\n",
       "MIDDLE EAST                           24\n",
       "OTHER                                 17\n",
       "NATIVE HAWAIIAN/PACIFIC ISLANDER      10\n",
       "UNKNOWN                                9\n",
       "WHITE                                  8\n",
       "CAUCASIAN                              4\n",
       "AMERICAN INDIAN OR ALASKA NATIVE       4\n",
       "ANGLO & MIDDLE EAST                    2\n",
       "CUBAN                                  2\n",
       "ARABIAN                                2\n",
       "SUDANESE BLACK                         1\n",
       "BELIZE, BRAZILIAN                      1\n",
       "WHITE NON HISPANIC                     1\n",
       "UNITED KINGDOM                         1\n",
       "Name: race, dtype: int64"
      ]
     },
     "execution_count": 38,
     "metadata": {},
     "output_type": "execute_result"
    }
   ],
   "source": [
    "cdr['race'] = race_eth_list\n",
    "cdr.drop('ethnicity', axis=1, inplace=True)\n",
    "cdr.race.value_counts()"
   ]
  },
  {
   "cell_type": "markdown",
   "metadata": {
    "collapsed": true
   },
   "source": [
    "### Collapse `race` values into a smaller set (white/hispanic/black/other)"
   ]
  },
  {
   "cell_type": "code",
   "execution_count": 39,
   "metadata": {
    "ExecuteTime": {
     "end_time": "2020-12-21T14:13:26.993474Z",
     "start_time": "2020-12-21T14:13:26.989878Z"
    }
   },
   "outputs": [],
   "source": [
    "race_before = cdr.race.copy()\n",
    "race_before.name = 'race_before'"
   ]
  },
  {
   "cell_type": "code",
   "execution_count": 40,
   "metadata": {
    "ExecuteTime": {
     "end_time": "2020-12-21T14:13:27.015874Z",
     "start_time": "2020-12-21T14:13:26.995507Z"
    }
   },
   "outputs": [
    {
     "data": {
      "text/plain": [
       "WHITE       7385\n",
       "BLACK       5128\n",
       "HISPANIC    4912\n",
       "OTHER        186\n",
       "Name: race, dtype: int64"
      ]
     },
     "execution_count": 40,
     "metadata": {},
     "output_type": "execute_result"
    }
   ],
   "source": [
    "standardize_race_cols(cdr)\n",
    "cdr.race.value_counts()"
   ]
  },
  {
   "cell_type": "code",
   "execution_count": 41,
   "metadata": {
    "ExecuteTime": {
     "end_time": "2020-12-21T14:13:27.030947Z",
     "start_time": "2020-12-21T14:13:27.018248Z"
    }
   },
   "outputs": [
    {
     "data": {
      "text/plain": [
       "race_before                       race    \n",
       "AFRICAN-AMERICAN                  BLACK       1521\n",
       "AMERICAN INDIAN OR ALASKA NATIVE  OTHER          4\n",
       "AMERICAN INDIAN/ALASKA NATIVE     OTHER         26\n",
       "ANGLO                             WHITE       2115\n",
       "ANGLO & MIDDLE EAST               WHITE          2\n",
       "ANGLO OR WHITE                    WHITE       5255\n",
       "ARABIAN                           OTHER          2\n",
       "ASIAN                             OTHER         63\n",
       "ASIAN OR PACIFIC ISLANDER         OTHER         27\n",
       "BELIZE, BRAZILIAN                 OTHER          1\n",
       "BLACK OR AFRICAN AMERICAN         BLACK       3606\n",
       "CAUCASIAN                         WHITE          4\n",
       "CUBAN                             OTHER          2\n",
       "HISPANIC                          HISPANIC    1433\n",
       "HISPANIC OR LATINO                HISPANIC    3479\n",
       "MIDDLE EAST                       OTHER         24\n",
       "NATIVE HAWAIIAN/PACIFIC ISLANDER  OTHER         10\n",
       "OTHER                             OTHER         17\n",
       "SUDANESE BLACK                    BLACK          1\n",
       "UNITED KINGDOM                    OTHER          1\n",
       "UNKNOWN                           OTHER          9\n",
       "WHITE                             WHITE          8\n",
       "WHITE NON HISPANIC                WHITE          1\n",
       "dtype: int64"
      ]
     },
     "execution_count": 41,
     "metadata": {},
     "output_type": "execute_result"
    }
   ],
   "source": [
    "cdr.groupby([race_before, 'race']).size()"
   ]
  },
  {
   "cell_type": "markdown",
   "metadata": {},
   "source": [
    "<div style=\"background-color: #008;height: 15px\"></div>\n",
    "\n",
    "## 3b. Standardize agency information"
   ]
  },
  {
   "cell_type": "code",
   "execution_count": 42,
   "metadata": {
    "ExecuteTime": {
     "end_time": "2020-12-21T14:13:27.233656Z",
     "start_time": "2020-12-21T14:13:27.032917Z"
    }
   },
   "outputs": [],
   "source": [
    "# Standardize agency name (so we can join/compare across datasets)\n",
    "cdr['agency_name'] = cdr['agency_name'].apply(standardize_agency_name)\n",
    "\n",
    "# Lookup county name by agency name. If this fails, fall back\n",
    "# on the county specified in the form, if it exists.\n",
    "cdr['agency_county'] = cdr['agency_county'].str.upper()\n",
    "county_lookup = cdr['agency_name'].apply(lambda name: agency_county.get(name, np.nan))\n",
    "cdr['agency_county'] = county_lookup.fillna(cdr['agency_county'])\n",
    "\n",
    "# Manually handle one major agency\n",
    "cdr.loc[cdr['agency_name'] == 'TEXAS DEPT OF CRIMINAL JUSTICE', 'agency_county'] = 'STATE'"
   ]
  },
  {
   "cell_type": "code",
   "execution_count": 43,
   "metadata": {
    "ExecuteTime": {
     "end_time": "2020-12-21T14:13:27.245395Z",
     "start_time": "2020-12-21T14:13:27.235933Z"
    }
   },
   "outputs": [
    {
     "data": {
      "text/plain": [
       "ECTOR CO SHERIFFS OFC                                       7\n",
       "TEXAS JUVENILE JUSTICE DEPT OFFICE OF INSPECTOR GENERAL     3\n",
       "OFFICE OF THE ATTY GENERAL                                  2\n",
       "TEST CDR AGENCY                                             2\n",
       "TEXARKANA COMMUNITY COLLEGE POLICE DEPT                     2\n",
       "DALLASFW AIRPORT DPS                                        2\n",
       "HILDAGO CO SHERIFFS OFFICE                                  2\n",
       "ROWLETT POLICE DEPT CO ROWLETT                              1\n",
       "NORTHSIDE INDEPENDENT SCHOOL DIST POLICE                    1\n",
       "ELLIS CO SHERIFFS OFFICE WAYNE MCCOLLUM DETENTION CENTER    1\n",
       "NACONA POLICE DEPT                                          1\n",
       "SUGARLAND POLICE DEPT                                       1\n",
       "GULF COAST VIOLENT OFFENDERS TASK FORCE                     1\n",
       "BEAUMONT INDEPENDENT SCHOOL DIST POLICE DEPT                1\n",
       "RENO POLICE DEPT PARKER CO                                  1\n",
       "METROPOLITAN TRANSIT AUTH OF HARRIS CO                      1\n",
       "GEO GROUP EAGLE PASS CORRECTIONAL FACILITY                  1\n",
       "Name: agency_name, dtype: int64"
      ]
     },
     "execution_count": 43,
     "metadata": {},
     "output_type": "execute_result"
    }
   ],
   "source": [
    "# Check that we are only missing counties for a paltry few records now.\n",
    "cdr[cdr['agency_county'].isnull()]['agency_name'].value_counts()"
   ]
  },
  {
   "cell_type": "code",
   "execution_count": 44,
   "metadata": {
    "ExecuteTime": {
     "end_time": "2020-12-21T14:13:27.264172Z",
     "start_time": "2020-12-21T14:13:27.247835Z"
    }
   },
   "outputs": [
    {
     "name": "stdout",
     "output_type": "stream",
     "text": [
      "Dropping 2 records from 'TEST CDR AGENCY', leaving 17647 records\n"
     ]
    }
   ],
   "source": [
    "# Clearly 'TEST CDR AGENCY' is meant to be ignored\n",
    "test_agencies = cdr['agency_name'] == 'TEST CDR AGENCY'\n",
    "cdr = cdr[~test_agencies]\n",
    "print(\"Dropping %d records from 'TEST CDR AGENCY', leaving %d records\" % (test_agencies.sum(), len(cdr)))"
   ]
  },
  {
   "cell_type": "markdown",
   "metadata": {},
   "source": [
    "<div style=\"background-color: #008;height: 15px\"></div>\n",
    "\n",
    "## 3c.  Fix death-information related columns\n",
    "\n",
    "#### The two form versions offer slightly different options (e.g. V_2005 uses 'AT MEDICAL FACILITY' while V_2016 uses 'MEDICAL FACILITY'). Collapse values to stabilize the options across form versions, and roll up rare values into a single 'OTHER' value."
   ]
  },
  {
   "cell_type": "markdown",
   "metadata": {},
   "source": [
    "### Fix: `death_location`"
   ]
  },
  {
   "cell_type": "code",
   "execution_count": 60,
   "metadata": {
    "ExecuteTime": {
     "end_time": "2020-12-21T14:20:59.491818Z",
     "start_time": "2020-12-21T14:20:59.467483Z"
    }
   },
   "outputs": [
    {
     "data": {
      "text/html": [
       "<div>\n",
       "<style scoped>\n",
       "    .dataframe tbody tr th:only-of-type {\n",
       "        vertical-align: middle;\n",
       "    }\n",
       "\n",
       "    .dataframe tbody tr th {\n",
       "        vertical-align: top;\n",
       "    }\n",
       "\n",
       "    .dataframe thead th {\n",
       "        text-align: right;\n",
       "    }\n",
       "</style>\n",
       "<table border=\"1\" class=\"dataframe\">\n",
       "  <thead>\n",
       "    <tr style=\"text-align: right;\">\n",
       "      <th>form_version</th>\n",
       "      <th>V_2005</th>\n",
       "      <th>V_2016</th>\n",
       "      <th>V_BJS</th>\n",
       "    </tr>\n",
       "    <tr>\n",
       "      <th>death_location</th>\n",
       "      <th></th>\n",
       "      <th></th>\n",
       "      <th></th>\n",
       "    </tr>\n",
       "  </thead>\n",
       "  <tbody>\n",
       "    <tr>\n",
       "      <th>AT LAW ENFORCEMENT FACILITY</th>\n",
       "      <td>1269</td>\n",
       "      <td>0</td>\n",
       "      <td>1134</td>\n",
       "    </tr>\n",
       "    <tr>\n",
       "      <th>AT MEDICAL FACILITY</th>\n",
       "      <td>3053</td>\n",
       "      <td>0</td>\n",
       "      <td>2682</td>\n",
       "    </tr>\n",
       "    <tr>\n",
       "      <th>AT THE CRIME/ARREST SCENE</th>\n",
       "      <td>673</td>\n",
       "      <td>0</td>\n",
       "      <td>565</td>\n",
       "    </tr>\n",
       "    <tr>\n",
       "      <th>DEAD ON ARRIVAL AT MEDICAL FACILITY</th>\n",
       "      <td>0</td>\n",
       "      <td>77</td>\n",
       "      <td>0</td>\n",
       "    </tr>\n",
       "    <tr>\n",
       "      <th>ELSEWHERE</th>\n",
       "      <td>97</td>\n",
       "      <td>0</td>\n",
       "      <td>94</td>\n",
       "    </tr>\n",
       "    <tr>\n",
       "      <th>ELSEWHERE, SPECIFY</th>\n",
       "      <td>1</td>\n",
       "      <td>64</td>\n",
       "      <td>0</td>\n",
       "    </tr>\n",
       "    <tr>\n",
       "      <th>EN ROUTE TO BOOKING CENTER/POLICE LOCKUP</th>\n",
       "      <td>2</td>\n",
       "      <td>3</td>\n",
       "      <td>2</td>\n",
       "    </tr>\n",
       "    <tr>\n",
       "      <th>EN ROUTE TO MEDICAL FACILITY</th>\n",
       "      <td>54</td>\n",
       "      <td>0</td>\n",
       "      <td>50</td>\n",
       "    </tr>\n",
       "    <tr>\n",
       "      <th>LAW ENFORCEMENT FACILITY/BOOKING CENTER</th>\n",
       "      <td>0</td>\n",
       "      <td>713</td>\n",
       "      <td>0</td>\n",
       "    </tr>\n",
       "    <tr>\n",
       "      <th>MEDICAL FACILITY</th>\n",
       "      <td>0</td>\n",
       "      <td>2888</td>\n",
       "      <td>0</td>\n",
       "    </tr>\n",
       "    <tr>\n",
       "      <th>SCENE OF INCIDENT</th>\n",
       "      <td>1</td>\n",
       "      <td>605</td>\n",
       "      <td>0</td>\n",
       "    </tr>\n",
       "  </tbody>\n",
       "</table>\n",
       "</div>"
      ],
      "text/plain": [
       "form_version                              V_2005  V_2016  V_BJS\n",
       "death_location                                                 \n",
       "AT LAW ENFORCEMENT FACILITY                 1269       0   1134\n",
       "AT MEDICAL FACILITY                         3053       0   2682\n",
       "AT THE CRIME/ARREST SCENE                    673       0    565\n",
       "DEAD ON ARRIVAL AT MEDICAL FACILITY            0      77      0\n",
       "ELSEWHERE                                     97       0     94\n",
       "ELSEWHERE, SPECIFY                             1      64      0\n",
       "EN ROUTE TO BOOKING CENTER/POLICE LOCKUP       2       3      2\n",
       "EN ROUTE TO MEDICAL FACILITY                  54       0     50\n",
       "LAW ENFORCEMENT FACILITY/BOOKING CENTER        0     713      0\n",
       "MEDICAL FACILITY                               0    2888      0\n",
       "SCENE OF INCIDENT                              1     605      0"
      ]
     },
     "execution_count": 60,
     "metadata": {},
     "output_type": "execute_result"
    }
   ],
   "source": [
    "pd.crosstab(cdr.death_location, cdr.form_version)"
   ]
  },
  {
   "cell_type": "markdown",
   "metadata": {
    "ExecuteTime": {
     "end_time": "2020-12-21T14:16:38.718848Z",
     "start_time": "2020-12-21T14:16:38.711278Z"
    }
   },
   "source": [
    "#### We now have 0/1 that throws an error if not coerced"
   ]
  },
  {
   "cell_type": "code",
   "execution_count": 59,
   "metadata": {
    "ExecuteTime": {
     "end_time": "2020-12-21T14:20:55.351633Z",
     "start_time": "2020-12-21T14:20:55.345945Z"
    }
   },
   "outputs": [],
   "source": [
    "cdr['death_location'] = np.where(cdr['death_location'].isin([0,1]),\n",
    "                                 np.NaN,\n",
    "                                 cdr['death_location'])"
   ]
  },
  {
   "cell_type": "code",
   "execution_count": 61,
   "metadata": {
    "ExecuteTime": {
     "end_time": "2020-12-21T14:21:02.472243Z",
     "start_time": "2020-12-21T14:21:02.435491Z"
    }
   },
   "outputs": [
    {
     "data": {
      "text/html": [
       "<div>\n",
       "<style scoped>\n",
       "    .dataframe tbody tr th:only-of-type {\n",
       "        vertical-align: middle;\n",
       "    }\n",
       "\n",
       "    .dataframe tbody tr th {\n",
       "        vertical-align: top;\n",
       "    }\n",
       "\n",
       "    .dataframe thead th {\n",
       "        text-align: right;\n",
       "    }\n",
       "</style>\n",
       "<table border=\"1\" class=\"dataframe\">\n",
       "  <thead>\n",
       "    <tr style=\"text-align: right;\">\n",
       "      <th>form_version</th>\n",
       "      <th>V_2005</th>\n",
       "      <th>V_2016</th>\n",
       "      <th>V_BJS</th>\n",
       "    </tr>\n",
       "    <tr>\n",
       "      <th>death_location</th>\n",
       "      <th></th>\n",
       "      <th></th>\n",
       "      <th></th>\n",
       "    </tr>\n",
       "  </thead>\n",
       "  <tbody>\n",
       "    <tr>\n",
       "      <th>CRIME/ARREST SCENE</th>\n",
       "      <td>674</td>\n",
       "      <td>605</td>\n",
       "      <td>565</td>\n",
       "    </tr>\n",
       "    <tr>\n",
       "      <th>EN ROUTE TO LAW ENFORCEMENT FACILITY</th>\n",
       "      <td>2</td>\n",
       "      <td>3</td>\n",
       "      <td>2</td>\n",
       "    </tr>\n",
       "    <tr>\n",
       "      <th>EN ROUTE TO MEDICAL FACILITY</th>\n",
       "      <td>54</td>\n",
       "      <td>77</td>\n",
       "      <td>50</td>\n",
       "    </tr>\n",
       "    <tr>\n",
       "      <th>LAW ENFORCEMENT FACILITY</th>\n",
       "      <td>1269</td>\n",
       "      <td>713</td>\n",
       "      <td>1134</td>\n",
       "    </tr>\n",
       "    <tr>\n",
       "      <th>MEDICAL FACILITY</th>\n",
       "      <td>3053</td>\n",
       "      <td>2888</td>\n",
       "      <td>2682</td>\n",
       "    </tr>\n",
       "    <tr>\n",
       "      <th>OTHER, SPECIFY</th>\n",
       "      <td>98</td>\n",
       "      <td>64</td>\n",
       "      <td>94</td>\n",
       "    </tr>\n",
       "  </tbody>\n",
       "</table>\n",
       "</div>"
      ],
      "text/plain": [
       "form_version                          V_2005  V_2016  V_BJS\n",
       "death_location                                             \n",
       "CRIME/ARREST SCENE                       674     605    565\n",
       "EN ROUTE TO LAW ENFORCEMENT FACILITY       2       3      2\n",
       "EN ROUTE TO MEDICAL FACILITY              54      77     50\n",
       "LAW ENFORCEMENT FACILITY                1269     713   1134\n",
       "MEDICAL FACILITY                        3053    2888   2682\n",
       "OTHER, SPECIFY                            98      64     94"
      ]
     },
     "execution_count": 61,
     "metadata": {},
     "output_type": "execute_result"
    }
   ],
   "source": [
    "replacements = {\n",
    "    'AT MEDICAL FACILITY': 'MEDICAL FACILITY',\n",
    "    'AT LAW ENFORCEMENT FACILITY': 'LAW ENFORCEMENT FACILITY',\n",
    "    'AT THE CRIME/ARREST SCENE': 'CRIME/ARREST SCENE',\n",
    "    'SCENE OF INCIDENT': 'CRIME/ARREST SCENE',\n",
    "    'LAW ENFORCEMENT FACILITY/BOOKING CENTER': 'LAW ENFORCEMENT FACILITY',\n",
    "    'DEAD ON ARRIVAL AT MEDICAL FACILITY': 'EN ROUTE TO MEDICAL FACILITY',\n",
    "    'EN ROUTE TO BOOKING CENTER/POLICE LOCKUP': 'EN ROUTE TO LAW ENFORCEMENT FACILITY',\n",
    "    'ELSEWHERE': OTHER_SPECIFY,\n",
    "    'ELSEWHERE, SPECIFY': OTHER_SPECIFY,\n",
    "}\n",
    "cdr['death_location'] = cdr['death_location'].apply(lambda x: None if pd.isnull(x) else replacements.get(x.strip(), x))\n",
    "pd.crosstab(cdr.death_location, cdr.form_version)"
   ]
  },
  {
   "cell_type": "markdown",
   "metadata": {},
   "source": [
    "### Fix: `means_of_death`"
   ]
  },
  {
   "cell_type": "code",
   "execution_count": null,
   "metadata": {
    "ExecuteTime": {
     "end_time": "2020-12-21T14:13:27.584820Z",
     "start_time": "2020-12-21T14:12:41.886Z"
    }
   },
   "outputs": [],
   "source": [
    "pd.crosstab(cdr.means_of_death, cdr.form_version)"
   ]
  },
  {
   "cell_type": "code",
   "execution_count": null,
   "metadata": {
    "ExecuteTime": {
     "end_time": "2020-12-21T14:13:27.586553Z",
     "start_time": "2020-12-21T14:12:41.889Z"
    }
   },
   "outputs": [],
   "source": [
    "replacements = {\n",
    "    'NOT APPLICABLE, CAUSE OF DEATH WAS ILLNESS/NATURAL CAUSE': 'NOT APPLICABLE',\n",
    "    'NOT APPLICABLE; CAUSE OF DEATH WAS INTOXICATION OR ILLNESS/NATURAL CAUSES': 'NOT APPLICABLE',\n",
    "    'OTHER': OTHER_SPECIFY,\n",
    "    'KNIFE, CUTTING INSTRUMENT': 'KNIFE / EDGED INSTRUMENT',\n",
    "    'BLUNT INSTRUMENT': 'BATON / BLUNT INSTRUMENT',\n",
    "    \"DON'T KNOW\": 'UNKNOWN',\n",
    "    \"DON\\\\'T KNOW\": 'UNKNOWN',\n",
    "    'RIFLE/SHOTGUN': 'FIREARM',\n",
    "}\n",
    "cdr['means_of_death'] = cdr['means_of_death'].apply(lambda x:  None if pd.isnull(x) else replacements.get(x.strip(), x))\n",
    "pd.crosstab(cdr.means_of_death, cdr.form_version)"
   ]
  },
  {
   "cell_type": "markdown",
   "metadata": {},
   "source": [
    "### It seems officers sometimes misuse the 'other' option, selecting it when another category is more appropriate:"
   ]
  },
  {
   "cell_type": "code",
   "execution_count": null,
   "metadata": {
    "ExecuteTime": {
     "end_time": "2020-12-21T14:13:27.588099Z",
     "start_time": "2020-12-21T14:12:41.893Z"
    }
   },
   "outputs": [],
   "source": [
    "cdr[cdr.means_of_death == OTHER_SPECIFY]['means_of_death_other'].value_counts().head()"
   ]
  },
  {
   "cell_type": "markdown",
   "metadata": {},
   "source": [
    "### Let's roll all rare and 'unknown'-type values into the 'other' category. 'VEHICLE ACCIDENT' in particular is new in the 2016 form, only indicated as 'other' in older forms."
   ]
  },
  {
   "cell_type": "code",
   "execution_count": null,
   "metadata": {
    "ExecuteTime": {
     "end_time": "2020-12-21T14:13:27.589707Z",
     "start_time": "2020-12-21T14:12:41.897Z"
    }
   },
   "outputs": [],
   "source": [
    "other_values = ['UNKNOWN', 'VEHICLE ACCIDENT', 'KNIFE / EDGED INSTRUMENT', 'BATON / BLUNT INSTRUMENT']\n",
    "indices = cdr['means_of_death'].isin(other_values)\n",
    "cdr.loc[indices, 'means_of_death_other'] = cdr.loc[indices, 'means_of_death']\n",
    "cdr.loc[indices, 'means_of_death'] = OTHER_SPECIFY\n",
    "\n",
    "pd.crosstab(cdr.means_of_death, cdr.form_version)"
   ]
  },
  {
   "cell_type": "markdown",
   "metadata": {},
   "source": [
    "### Fix: `manner_of_death` and  `manner_of_death_description`"
   ]
  },
  {
   "cell_type": "code",
   "execution_count": null,
   "metadata": {
    "ExecuteTime": {
     "end_time": "2020-12-21T14:13:27.591076Z",
     "start_time": "2020-12-21T14:12:41.901Z"
    }
   },
   "outputs": [],
   "source": [
    "pd.crosstab(cdr.form_version, cdr.manner_of_death).T"
   ]
  },
  {
   "cell_type": "code",
   "execution_count": null,
   "metadata": {
    "ExecuteTime": {
     "end_time": "2020-12-21T14:13:27.592613Z",
     "start_time": "2020-12-21T14:12:41.905Z"
    }
   },
   "outputs": [],
   "source": [
    "pd.crosstab(cdr.manner_of_death, cdr.manner_of_death_description.notnull())"
   ]
  },
  {
   "cell_type": "code",
   "execution_count": null,
   "metadata": {
    "ExecuteTime": {
     "end_time": "2020-12-21T14:13:27.593766Z",
     "start_time": "2020-12-21T14:12:41.908Z"
    }
   },
   "outputs": [],
   "source": [
    "replacements = {\n",
    "    'NATURAL': 'NATURAL CAUSES/ILLNESS',\n",
    "    'JUSTIFIABLE HOMICIDE': 'HOMICIDE',\n",
    "    'HOMICIDE BY LAW ENFORCEMENT/CORRECTIONAL STAFF': 'HOMICIDE',\n",
    "    'OTHER HOMICIDE': 'HOMICIDE',\n",
    "    'HOMICIDE (INCLUDES JUSTIFIABLE HOMICIDE)': 'HOMICIDE',\n",
    "    'ACCIDENTAL INJURY CAUSED BY OTHERS': 'ACCIDENTAL',\n",
    "    'ACCIDENTAL INJURY TO SELF': 'ACCIDENTAL',\n",
    "    'OTHER': OTHER_SPECIFY,\n",
    "    'OTHER - SPECIFY': OTHER_SPECIFY,\n",
    "}\n",
    "cdr['manner_of_death'] = cdr['manner_of_death'].apply(lambda x: None if pd.isnull(x) else replacements.get(x.strip(), x))\n",
    "\n",
    "# In past versions, \"pending autopsy results\" was not an option, and reports had \"other\"\n",
    "# checked with some mention of pending autopsy in the free field. We emulate this here\n",
    "# to preserve consistency across form versions.\n",
    "other_values = ['PENDING AUTOPSY RESULTS', 'COULD NOT BE DETERMINED']\n",
    "indices = cdr['manner_of_death'].isin(other_values)\n",
    "cdr.loc[indices, 'manner_of_death_description'] = cdr.loc[indices, 'manner_of_death']\n",
    "cdr.loc[indices, 'manner_of_death'] = OTHER_SPECIFY\n",
    "\n",
    "pd.crosstab(cdr.form_version, cdr.manner_of_death).T"
   ]
  },
  {
   "cell_type": "markdown",
   "metadata": {},
   "source": [
    "### A few suicides by hanging have the wrong `means_of_death`"
   ]
  },
  {
   "cell_type": "code",
   "execution_count": null,
   "metadata": {
    "ExecuteTime": {
     "end_time": "2020-12-21T14:13:27.595009Z",
     "start_time": "2020-12-21T14:12:41.912Z"
    }
   },
   "outputs": [],
   "source": [
    "frame = cdr[(cdr.manner_of_death == 'SUICIDE') & (cdr.means_of_death != 'HANGING, STRANGULATION')]\n",
    "frame = frame[(frame.medical_cause_of_death.fillna('').str.contains('HANGING')) |\n",
    "              frame.manner_of_death_description.fillna('').str.contains('HANGING')]\n",
    "print(len(frame))\n",
    "frame[['medical_cause_of_death', 'means_of_death', 'means_of_death_other', 'manner_of_death', 'manner_of_death_description']].head()"
   ]
  },
  {
   "cell_type": "code",
   "execution_count": null,
   "metadata": {
    "ExecuteTime": {
     "end_time": "2020-12-21T14:13:27.596439Z",
     "start_time": "2020-12-21T14:12:41.915Z"
    }
   },
   "outputs": [],
   "source": [
    "cdr.loc[frame.index, 'means_of_death'] = 'HANGING, STRANGULATION'\n",
    "\n",
    "# Be sure we got them all\n",
    "frame = cdr[(cdr.manner_of_death == 'SUICIDE') & (cdr.means_of_death != 'HANGING, STRANGULATION')]\n",
    "frame = frame[frame.medical_cause_of_death.fillna('').str.contains('HANGING')]\n",
    "assert len(frame) == 0"
   ]
  },
  {
   "cell_type": "markdown",
   "metadata": {},
   "source": [
    "### For a few suicides, the `manner_of_death` is 'NOT APPLICABLE', which makes no sense. We need to change these to OTHER, though (as shown below) more is going on"
   ]
  },
  {
   "cell_type": "code",
   "execution_count": null,
   "metadata": {
    "ExecuteTime": {
     "end_time": "2020-12-21T14:13:27.597856Z",
     "start_time": "2020-12-21T14:12:41.919Z"
    }
   },
   "outputs": [],
   "source": [
    "frame = cdr[(cdr.manner_of_death == 'SUICIDE') & (cdr.means_of_death == 'NOT APPLICABLE')]\n",
    "print(len(frame))\n",
    "frame[['means_of_death', 'means_of_death_other', 'manner_of_death', 'manner_of_death_description', 'medical_cause_of_death']].head()"
   ]
  },
  {
   "cell_type": "code",
   "execution_count": null,
   "metadata": {
    "ExecuteTime": {
     "end_time": "2020-12-21T14:13:27.599000Z",
     "start_time": "2020-12-21T14:12:41.921Z"
    }
   },
   "outputs": [],
   "source": [
    "cdr.loc[frame.index, 'means_of_death'] = OTHER_SPECIFY\n",
    "assert len(cdr[(cdr.manner_of_death == 'SUICIDE') & (cdr.means_of_death == 'NOT APPLICABLE')]) == 0"
   ]
  },
  {
   "cell_type": "markdown",
   "metadata": {},
   "source": [
    "### Fix: `pre_existing_medical_condition` "
   ]
  },
  {
   "cell_type": "code",
   "execution_count": null,
   "metadata": {
    "ExecuteTime": {
     "end_time": "2020-12-21T14:13:27.600030Z",
     "start_time": "2020-12-21T14:12:41.925Z"
    }
   },
   "outputs": [],
   "source": [
    "pd.crosstab(cdr.form_version, cdr.pre_existing_medical_condition).T"
   ]
  },
  {
   "cell_type": "code",
   "execution_count": null,
   "metadata": {
    "ExecuteTime": {
     "end_time": "2020-12-21T14:13:27.601195Z",
     "start_time": "2020-12-21T14:12:41.929Z"
    }
   },
   "outputs": [],
   "source": [
    "replacements = {\n",
    "    'DECEASED DEVELOPED CONDITION AFTER ADMISSION': 'DEVELOPED CONDITION AFTER ADMISSION',\n",
    "    \"DON'T KNOW\": 'UNKNOWN',\n",
    "    \"DON\\\\'T KNOW\": 'UNKNOWN',\n",
    "    'NOT APPLICABLE; CAUSE OF DEATH WAS ACCIDENTAL INJURY, INTOXICATION, SUICIDE OR HOMICIDE': 'NOT APPLICABLE',\n",
    "    'COULD NOT BE DETERMINED': 'UNKNOWN',\n",
    "    'PRE-EXISTING MEDICAL CONDITION': 'YES',\n",
    "}\n",
    "cdr['pre_existing_medical_condition'] = cdr['pre_existing_medical_condition'].apply(lambda x: None if pd.isnull(x) else replacements.get(x.strip(), x))\n",
    "pd.crosstab(cdr.form_version, cdr.pre_existing_medical_condition).T"
   ]
  },
  {
   "cell_type": "markdown",
   "metadata": {},
   "source": [
    "### Fix: `who_caused_the_death` \n",
    "\n",
    "NOTE: This question is framed as follows:\n",
    "* 2005 form: \"If the death was an accident or homicide, who caused the death?\"\n",
    "* 2016 form: \"If the death was an accident, homicide **or suicide**, who caused the death?\" (emphasis added)\n",
    "\n",
    "Thus, we need to:\n",
    "1. Collapse near-identical values from different forms, similar to the other areas here.\n",
    "1. Remove suicides from the 2016 responses, as they skew the data (see below). While we're add it, change ANY entries that are not of type homicide/suicide to have \"NOT APPLICABLE\" as the value."
   ]
  },
  {
   "cell_type": "markdown",
   "metadata": {},
   "source": [
    "#### Collapse near-identical values from different forms, similar to the other areas here."
   ]
  },
  {
   "cell_type": "code",
   "execution_count": null,
   "metadata": {
    "ExecuteTime": {
     "end_time": "2020-12-21T14:13:27.602257Z",
     "start_time": "2020-12-21T14:12:41.934Z"
    }
   },
   "outputs": [],
   "source": [
    "pd.crosstab(cdr.who_caused_the_death, cdr.death_date_and_time.dt.year)"
   ]
  },
  {
   "cell_type": "code",
   "execution_count": null,
   "metadata": {
    "ExecuteTime": {
     "end_time": "2020-12-21T14:13:27.603518Z",
     "start_time": "2020-12-21T14:12:41.938Z"
    }
   },
   "outputs": [],
   "source": [
    "replacements = {\n",
    "    'DECEASED': 'DECEDENT',\n",
    "    \"DON'T KNOW\": 'UNKNOWN',\n",
    "    \"DON\\\\'T KNOW\": 'UNKNOWN',\n",
    "    'LAW ENFORCEMENT/CORRECTIONAL STAFF': 'LAW ENFORCEMENT/CORRECTIONAL PERSONNEL',\n",
    "    'NOT APPLICABLE; CAUSE OF DEATH WAS SUICIDE, INTOXICATION OR ILLNESS/NATURAL CAUSES': 'NOT APPLICABLE',\n",
    "    'OTHER DETAINEES': 'OTHER DETAINEE(S)',\n",
    "    'OTHER PERSONS': 'OTHER CIVILIAN(S)',\n",
    "    'ACCIDENTAL INJURY TO SELF': 'ACCIDENTAL',\n",
    "    'UNKNOWN PERSON(S) CAUSED THE INJURY': 'UNKNOWN',\n",
    "    'UNKNOWN WHETHER DECEDENT SUSTAINED A FATAL INJURY': 'UNKNOWN',\n",
    "}\n",
    "cdr['who_caused_the_death'] = cdr['who_caused_the_death'].apply(lambda x:  None if pd.isnull(x) else replacements.get(x.strip(), x))\n",
    "pd.crosstab(cdr['who_caused_the_death'], cdr.form_version)"
   ]
  },
  {
   "cell_type": "markdown",
   "metadata": {},
   "source": [
    "#### Remove suicides from the 2016 responses to 'who caused the death' question, as in previous years 'who caused the death' was only asked for homicides and accidents. (see below)"
   ]
  },
  {
   "cell_type": "code",
   "execution_count": null,
   "metadata": {
    "ExecuteTime": {
     "end_time": "2020-12-21T14:13:27.604917Z",
     "start_time": "2020-12-21T14:12:41.944Z"
    }
   },
   "outputs": [],
   "source": [
    "pd.crosstab(cdr.who_caused_the_death, cdr.manner_of_death)"
   ]
  },
  {
   "cell_type": "code",
   "execution_count": null,
   "metadata": {
    "ExecuteTime": {
     "end_time": "2020-12-21T14:13:27.606117Z",
     "start_time": "2020-12-21T14:12:41.949Z"
    }
   },
   "outputs": [],
   "source": [
    "cdr.loc[~cdr.manner_of_death.isin(['HOMICIDE', 'ACCIDENTAL', OTHER_SPECIFY]), 'who_caused_the_death'] = 'NOT APPLICABLE'\n",
    "pd.crosstab(cdr.who_caused_the_death, cdr.manner_of_death)"
   ]
  },
  {
   "cell_type": "markdown",
   "metadata": {},
   "source": [
    "### Fix `medical_examinor_coroner_evalution`"
   ]
  },
  {
   "cell_type": "code",
   "execution_count": null,
   "metadata": {
    "ExecuteTime": {
     "end_time": "2020-12-21T14:13:27.607198Z",
     "start_time": "2020-12-21T14:12:41.953Z"
    }
   },
   "outputs": [],
   "source": [
    "pd.crosstab(cdr.form_version, cdr.medical_examinor_coroner_evalution).T"
   ]
  },
  {
   "cell_type": "code",
   "execution_count": null,
   "metadata": {
    "ExecuteTime": {
     "end_time": "2020-12-21T14:13:27.608488Z",
     "start_time": "2020-12-21T14:12:41.956Z"
    }
   },
   "outputs": [],
   "source": [
    "def fix_coroner(result):\n",
    "    if pd.isnull(result):\n",
    "        return None\n",
    "    result = result.strip()\n",
    "    if result.startswith('YES'):\n",
    "        return 'YES'\n",
    "    elif result.startswith('NO'):\n",
    "        return 'NO'\n",
    "    return None\n",
    "\n",
    "cdr['medical_examinor_coroner_evalution'] = cdr['medical_examinor_coroner_evalution'].apply(fix_coroner)\n",
    "pd.crosstab(cdr.form_version, cdr.medical_examinor_coroner_evalution).T"
   ]
  },
  {
   "cell_type": "markdown",
   "metadata": {},
   "source": [
    "<div style=\"background-color: #008;height: 15px\"></div>\n",
    "\n",
    "## 3d.  Fix other columns one-by-one"
   ]
  },
  {
   "cell_type": "markdown",
   "metadata": {},
   "source": [
    "### Fix `gender` related columns"
   ]
  },
  {
   "cell_type": "code",
   "execution_count": null,
   "metadata": {
    "ExecuteTime": {
     "end_time": "2020-12-21T14:13:27.609687Z",
     "start_time": "2020-12-21T14:12:41.960Z"
    }
   },
   "outputs": [],
   "source": [
    "standardize_gender_cols(cdr)"
   ]
  },
  {
   "cell_type": "markdown",
   "metadata": {},
   "source": [
    "### Fix: `were_the_charges` "
   ]
  },
  {
   "cell_type": "code",
   "execution_count": null,
   "metadata": {
    "ExecuteTime": {
     "end_time": "2020-12-21T14:13:27.610724Z",
     "start_time": "2020-12-21T14:12:41.964Z"
    }
   },
   "outputs": [],
   "source": [
    "pd.crosstab(cdr['were_the_charges'], cdr.form_version)"
   ]
  },
  {
   "cell_type": "code",
   "execution_count": null,
   "metadata": {
    "ExecuteTime": {
     "end_time": "2020-12-21T14:13:27.612008Z",
     "start_time": "2020-12-21T14:12:41.968Z"
    }
   },
   "outputs": [],
   "source": [
    "replacements = {\n",
    "    'CAPITAL MURDER': 'CONVICTED',\n",
    "    'PROBATION/PAROLE': 'PROBATION/PAROLE VIOLATION',\n",
    "    'A PROBATION/PAROLE VIOLATION': 'PROBATION/PAROLE VIOLATION',\n",
    "}\n",
    "cdr['were_the_charges'] = cdr['were_the_charges'].apply(lambda x: None if pd.isnull(x) else replacements.get(x.strip(), x))\n",
    "pd.crosstab(cdr['were_the_charges'], cdr.form_version)"
   ]
  },
  {
   "cell_type": "markdown",
   "metadata": {},
   "source": [
    "### Fix `type_of_custody`"
   ]
  },
  {
   "cell_type": "code",
   "execution_count": null,
   "metadata": {
    "ExecuteTime": {
     "end_time": "2020-12-21T14:13:27.613341Z",
     "start_time": "2020-12-21T14:12:41.971Z"
    }
   },
   "outputs": [],
   "source": [
    "pd.crosstab(cdr['type_of_custody'], cdr.form_version)"
   ]
  },
  {
   "cell_type": "code",
   "execution_count": null,
   "metadata": {
    "ExecuteTime": {
     "end_time": "2020-12-21T14:13:27.614555Z",
     "start_time": "2020-12-21T14:12:41.975Z"
    }
   },
   "outputs": [],
   "source": [
    "replacements = {\n",
    "    'PRE-CUSTODIAL USE OF FORCE': 'POLICE CUSTODY (PRE-BOOKING)',\n",
    "    'PRIVATE CORRECTIONAL FACILITY': 'PRIVATE FACILITY',\n",
    "    'COUNTY JAIL': 'JAIL - COUNTY',\n",
    "    'MUNICIPAL JAIL': 'JAIL - MUNICIPAL',\n",
    "    'PENITENTIARY': 'PRISON',\n",
    "}\n",
    "cdr['type_of_custody'] = cdr['type_of_custody'].apply(lambda x: None if pd.isnull(x) else replacements.get(x.strip(), x))\n",
    "pd.crosstab(cdr['type_of_custody'], cdr.form_version)"
   ]
  },
  {
   "cell_type": "markdown",
   "metadata": {},
   "source": [
    "### Fix `specific_type_of_custody_facility`"
   ]
  },
  {
   "cell_type": "code",
   "execution_count": null,
   "metadata": {
    "ExecuteTime": {
     "end_time": "2020-12-21T14:13:27.615811Z",
     "start_time": "2020-12-21T14:12:41.979Z"
    }
   },
   "outputs": [],
   "source": [
    "pd.crosstab(cdr.specific_type_of_custody_facility, cdr.form_version)"
   ]
  },
  {
   "cell_type": "code",
   "execution_count": null,
   "metadata": {
    "ExecuteTime": {
     "end_time": "2020-12-21T14:13:27.616928Z",
     "start_time": "2020-12-21T14:12:41.982Z"
    }
   },
   "outputs": [],
   "source": [
    "replacements = {\n",
    "    'TDCJ, SPECIFY': 'TDCJ',\n",
    "    'CUSTODY OF PEACE OFFICER DURING/FLEEING ARREST': 'CUSTODY OF LAW ENFORCEMENT PERSONNEL DURING/FLEEING ARREST',\n",
    "    'CUSTODY OF PEACE OFFICER SUBSEQUENT TO ARREST': 'CUSTODY OF LAW ENFORCEMENT PERSONNEL AFTER ARREST',\n",
    "    'CUSTODY OF LAW ENFORCEMENT PERSONNEL SUBSEQUENT TO ARREST': 'CUSTODY OF LAW ENFORCEMENT PERSONNEL AFTER ARREST',\n",
    "    'TEXAS-JUVENILE JUSTICE DEPARTMENT - FACILITY/DETENTION CENTER, SPECIFY': 'OTHER',\n",
    "    'TJPC': 'OTHER',\n",
    "    'TYC': 'OTHER',\n",
    "    'HALFWAY HOUSE/RESTITUTION CENTER': 'OTHER',\n",
    "    'CORRECTIONAL/REHABILITATION FACILITY': 'OTHER',\n",
    "    'NON-LAW ENFORCEMENT DETOX FACILITY': 'OTHER',\n",
    "}\n",
    "cdr['specific_type_of_custody_facility'] = cdr['specific_type_of_custody_facility'].apply(\n",
    "    lambda x: x if pd.isnull(x) else replacements.get(x.strip(), x))\n",
    "pd.crosstab(cdr['specific_type_of_custody_facility'], cdr.form_version)"
   ]
  },
  {
   "cell_type": "markdown",
   "metadata": {},
   "source": [
    "### Glance at the types of custody crossed with facility"
   ]
  },
  {
   "cell_type": "code",
   "execution_count": null,
   "metadata": {
    "ExecuteTime": {
     "end_time": "2020-12-21T14:13:27.618104Z",
     "start_time": "2020-12-21T14:12:41.986Z"
    }
   },
   "outputs": [],
   "source": [
    "pd.crosstab(cdr.specific_type_of_custody_facility, cdr.type_of_custody)"
   ]
  },
  {
   "cell_type": "markdown",
   "metadata": {},
   "source": [
    "### `other_behavior` and `specify_other_behavior` are very annoying and misused"
   ]
  },
  {
   "cell_type": "code",
   "execution_count": null,
   "metadata": {
    "ExecuteTime": {
     "end_time": "2020-12-21T14:13:27.619252Z",
     "start_time": "2020-12-21T14:12:41.990Z"
    }
   },
   "outputs": [],
   "source": [
    "s = cdr['other_behavior'].value_counts()\n",
    "print(\"%d records have 'other_behavior' set (%d do not)\" % (s.sum(), len(cdr) - s.sum()))\n",
    "print(\"%d unique values for 'other_behavior' - sample below:\" % len(set(s)))\n",
    "s.head(10)"
   ]
  },
  {
   "cell_type": "code",
   "execution_count": null,
   "metadata": {
    "ExecuteTime": {
     "end_time": "2020-12-21T14:13:27.620692Z",
     "start_time": "2020-12-21T14:12:41.993Z"
    }
   },
   "outputs": [],
   "source": [
    "s = cdr['specify_other_behavior'].value_counts()\n",
    "print(\"%d records have 'specify_other_behavior' set (%d do not)\" % (s.sum(), len(cdr) - s.sum()))\n",
    "print(\"%d unique values for 'specify_other_behavior' - sample below:\" % len(set(s)))\n",
    "s.head(10)"
   ]
  },
  {
   "cell_type": "markdown",
   "metadata": {},
   "source": [
    "### It _appears_ that anytime other_behavior is 1.0, specify_other_behavior is set:"
   ]
  },
  {
   "cell_type": "code",
   "execution_count": null,
   "metadata": {
    "ExecuteTime": {
     "end_time": "2020-12-21T14:13:27.621959Z",
     "start_time": "2020-12-21T14:12:41.996Z"
    }
   },
   "outputs": [],
   "source": [
    "cdr[cdr['specify_other_behavior'].notnull()]['other_behavior'].fillna('(None)').value_counts()"
   ]
  },
  {
   "cell_type": "markdown",
   "metadata": {},
   "source": [
    "### Alright, we can just overwrite 'other_behavior' with 'specify_other_behavior' when the latter is given"
   ]
  },
  {
   "cell_type": "code",
   "execution_count": null,
   "metadata": {
    "ExecuteTime": {
     "end_time": "2020-12-21T14:13:27.623223Z",
     "start_time": "2020-12-21T14:12:42.000Z"
    }
   },
   "outputs": [],
   "source": [
    "behavior = []\n",
    "for other, specify in zip(cdr['other_behavior'], cdr['specify_other_behavior']):\n",
    "    if pd.notnull(specify):\n",
    "        behavior.append(specify)\n",
    "    else:\n",
    "        try:\n",
    "            other = float(other)\n",
    "            if other == 0.0:\n",
    "                behavior.append(None)\n",
    "                continue\n",
    "        except TypeError:\n",
    "            pass\n",
    "        except ValueError:\n",
    "            pass\n",
    "        behavior.append(other)\n",
    "\n",
    "cdr['other_behavior'] = pd.Series(behavior, index=cdr.index)\n",
    "cdr.drop('specify_other_behavior', axis=1, inplace=True)\n",
    "\n",
    "cdr['other_behavior'].fillna('(None)').value_counts().head(10)"
   ]
  },
  {
   "cell_type": "markdown",
   "metadata": {},
   "source": [
    "<div style=\"background-color: #008;height: 15px\"></div>\n",
    "\n",
    "## 3e. Identify and drop a range of unnecessary columns"
   ]
  },
  {
   "cell_type": "markdown",
   "metadata": {},
   "source": [
    "### `entry_date_time_n_a` and `custody_date_na` are useless - we can infer them from (duh) an NA value in entry_date_time or custody_date"
   ]
  },
  {
   "cell_type": "code",
   "execution_count": null,
   "metadata": {
    "ExecuteTime": {
     "end_time": "2020-12-21T14:13:27.624526Z",
     "start_time": "2020-12-21T14:12:42.004Z"
    }
   },
   "outputs": [],
   "source": [
    "cdr.groupby([cdr.entry_date_time.isnull(), cdr.entry_date_time_n_a]).size().unstack()"
   ]
  },
  {
   "cell_type": "code",
   "execution_count": null,
   "metadata": {
    "ExecuteTime": {
     "end_time": "2020-12-21T14:13:27.625826Z",
     "start_time": "2020-12-21T14:12:42.007Z"
    }
   },
   "outputs": [],
   "source": [
    "pd.crosstab(cdr.custody_date_na, cdr['date_time_of_custody_or_incident'].isnull())"
   ]
  },
  {
   "cell_type": "code",
   "execution_count": null,
   "metadata": {
    "ExecuteTime": {
     "end_time": "2020-12-21T14:13:27.626926Z",
     "start_time": "2020-12-21T14:12:42.010Z"
    }
   },
   "outputs": [],
   "source": [
    "cdr.drop(['entry_date_time_n_a', 'custody_date_na'], axis=1, inplace=True)"
   ]
  },
  {
   "cell_type": "markdown",
   "metadata": {},
   "source": [
    "### 'department_type' is not consistently present. Drop it."
   ]
  },
  {
   "cell_type": "code",
   "execution_count": null,
   "metadata": {
    "ExecuteTime": {
     "end_time": "2020-12-21T14:13:27.628472Z",
     "start_time": "2020-12-21T14:12:42.014Z"
    }
   },
   "outputs": [],
   "source": [
    "pd.crosstab(cdr.department_type.notnull(), cdr.form_version)"
   ]
  },
  {
   "cell_type": "code",
   "execution_count": null,
   "metadata": {
    "ExecuteTime": {
     "end_time": "2020-12-21T14:13:27.629855Z",
     "start_time": "2020-12-21T14:12:42.016Z"
    }
   },
   "outputs": [],
   "source": [
    "cdr.drop('department_type', axis=1, inplace=True)"
   ]
  },
  {
   "cell_type": "markdown",
   "metadata": {},
   "source": [
    "<div style=\"background-color: #080;height: 20px\"></div>\n",
    "\n",
    "# 4. De-duplicate (oh boy, this is a doozy)"
   ]
  },
  {
   "cell_type": "markdown",
   "metadata": {},
   "source": [
    "### In theory we should able to de-dup by the record id (`cdr_cdr_name`), BUT...\n",
    "1. Sometimes two records with the same record ID differ on some columns. _Usually_ the version_number can tell us which one is the latest, but not always.\n",
    "1. Sometimes we'll see multiple records for the same person with different record IDs (ugh).\n",
    "\n",
    "...so it's complicated.\n",
    "\n",
    "### After a LOT of tinkering, I think we can catch most reasonable duplicates with the following:\n",
    "  * Drop all records that are a complete, exact duplicate of another (easy step)\n",
    "  * Merge all records sharing a record id, `cdr_cdr_name`\n",
    "  * Merge all records with the same name and date of birth\n",
    "  * Merge all records with the same name and date of death"
   ]
  },
  {
   "cell_type": "markdown",
   "metadata": {},
   "source": [
    "### 4a. Get rid of totally, utterly duplicate rows"
   ]
  },
  {
   "cell_type": "code",
   "execution_count": null,
   "metadata": {
    "ExecuteTime": {
     "end_time": "2020-12-21T14:13:27.631153Z",
     "start_time": "2020-12-21T14:12:42.021Z"
    }
   },
   "outputs": [],
   "source": [
    "pure_dups = cdr.duplicated()\n",
    "cdr = cdr[~pure_dups]\n",
    "print(\"Dropping %d rows that are 100%% duplicates of another row, leaving %d rows\" % (pure_dups.sum(), len(cdr)))"
   ]
  },
  {
   "cell_type": "markdown",
   "metadata": {},
   "source": [
    "### 4b. Define some dedup functions to help us"
   ]
  },
  {
   "cell_type": "code",
   "execution_count": null,
   "metadata": {
    "ExecuteTime": {
     "end_time": "2020-12-21T14:13:27.632316Z",
     "start_time": "2020-12-21T14:12:42.024Z"
    }
   },
   "outputs": [],
   "source": [
    "def merge_dup_records(frame):\n",
    "    '''Master merge function. Creates one record from several that are known duplicates.'''\n",
    "    # Ignore BJS records (these are from and old data dump),\n",
    "    # unless there is no other option.\n",
    "    form_versions_seen = set(frame['form_version'])\n",
    "    if 'V_BJS' in form_versions_seen and len(form_versions_seen) > 1:\n",
    "        frame = frame[frame['form_version'] != 'V_BJS']\n",
    "        if len(frame) == 1:\n",
    "            return frame.iloc[0], 'Keeping the only non-BJS record'\n",
    "    \n",
    "    \n",
    "    # If one record has a higher version_number than the rest, keep that one.\n",
    "    # If one record has a more recent report_date than the rest, keep that one.\n",
    "    max_cols = ['version_number', 'report_date']\n",
    "    for c in max_cols:\n",
    "        maxval = frame[c].max()  # Implicitly ignores missing values, unless only missing values exist\n",
    "        if pd.notnull(maxval):\n",
    "            frame = frame[frame[c] == maxval]\n",
    "            if len(frame) == 1:\n",
    "                return frame.iloc[0], 'Keeping the record with greatest %s' % c\n",
    "\n",
    "    # Otherwise, there's no way to flag the \"one\" right record (that I know of).\n",
    "    # So we gotta merge them somehow...\n",
    "    merged_rec = pd.Series(index = frame.columns,\n",
    "                           name = 1000000 + frame.index[0])  # Give it a new, unique index\n",
    "    awk = False\n",
    "    for c in frame.columns:\n",
    "        notnull = frame[c][frame[c].notnull()]\n",
    "\n",
    "        # If all records have NA for this column, leave it as NA\n",
    "        if len(notnull) == 0:\n",
    "            merged_rec[c] = frame[c].iloc[0]\n",
    "            continue\n",
    "\n",
    "        # Only 1 unique not-null value? Keep that one.\n",
    "        if len(notnull) == 1 or len(set(notnull)) == 1:\n",
    "            merged_rec[c] = notnull.iloc[0]\n",
    "            continue\n",
    "        \n",
    "        # Are we trying to merge record IDs? That's impossible anyway,\n",
    "        # let's just concatenate them.\n",
    "        if c == 'cdr_cdr_name':\n",
    "            merged_rec[c] = '-'.join(notnull)\n",
    "            continue\n",
    "        \n",
    "        # Well, poop. Multiple unique values for this column.\n",
    "        # Take the most popular one ¯\\_(ツ)_/¯\n",
    "        # (Which will just be a random one if there's a tie ¯\\_(ツ)_/¯ )\n",
    "        awk = True\n",
    "        vc = notnull.value_counts()\n",
    "        keeper = vc.index[0]\n",
    "        if vc.iloc[0] > vc.iloc[1]:\n",
    "            print(\"  > Problem with column %s, keeping the most popular value, '%s'\"\n",
    "                  % (c, keeper), notnull.values)\n",
    "        else:\n",
    "            print(\"  > Problem with column %s, keeping an arbitrary tied-for-most-popular value, '%s'\"\n",
    "                  % (c, keeper), notnull.values)\n",
    "        merged_rec[c] = keeper\n",
    "\n",
    "    merged_rec['cdr_cdr_name'] = 'MERGED-DUPLICATES-%s' % merged_rec['cdr_cdr_name']\n",
    "    if awk:\n",
    "        return merged_rec, 'Merged awkwardly'\n",
    "    else:\n",
    "        return merged_rec, 'Merged smoothly enough'"
   ]
  },
  {
   "cell_type": "code",
   "execution_count": null,
   "metadata": {
    "ExecuteTime": {
     "end_time": "2020-12-21T14:13:27.633523Z",
     "start_time": "2020-12-21T14:12:42.027Z"
    }
   },
   "outputs": [],
   "source": [
    "def dedup_cdr_by(cdr, cols):\n",
    "    '''Given a cdr dataframe, and a set of columns to use to identify duplicates, dedups/merges as needed.'''\n",
    "    dups = cdr[cdr.duplicated(subset=cols, keep=False)]\n",
    "    if not len(dups):\n",
    "        return cdr\n",
    "    unmerged_frames = []\n",
    "    merged_records = []\n",
    "    merge_methods = []\n",
    "    for _, frame in dups.groupby(cols):\n",
    "        rec, meth = merge_dup_records(frame)\n",
    "        unmerged_frames.append(frame)\n",
    "        merged_records.append(rec)\n",
    "        merge_methods.append(meth)\n",
    "        if 'awkward' in meth:\n",
    "            print(\"...awkward merge complete for records at indices\", frame.index)\n",
    "\n",
    "    return cdr.drop(dups.index).append(merged_records), unmerged_frames, merged_records, merge_methods"
   ]
  },
  {
   "cell_type": "markdown",
   "metadata": {},
   "source": [
    "### 4c. Dedup!"
   ]
  },
  {
   "cell_type": "code",
   "execution_count": null,
   "metadata": {
    "ExecuteTime": {
     "end_time": "2020-12-21T14:13:27.634678Z",
     "start_time": "2020-12-21T14:12:42.031Z"
    }
   },
   "outputs": [],
   "source": [
    "dedup_rounds = [\n",
    "    ['cdr_cdr_name'],\n",
    "    ['first_name', 'last_name', 'date_of_birth'],\n",
    "    ['first_name', 'last_name', 'death_date'],\n",
    "]\n",
    "all_cdrs = [cdr]\n",
    "all_merged_records = []\n",
    "all_unmerged_frames = []\n",
    "all_merge_methods = []\n",
    "for i, dr in enumerate(dedup_rounds):\n",
    "    print('**** Dedup step %d: find duplicates on these columns:' % (i + 1), dr)\n",
    "    vals = dedup_cdr_by(all_cdrs[-1], dr)\n",
    "    new_cdr, umf, mr, mm = vals\n",
    "    all_cdrs.append(new_cdr)\n",
    "    all_unmerged_frames.append(umf)\n",
    "    all_merged_records.append(mr)\n",
    "    all_merge_methods.append(mm)\n",
    "    dropping = sum(len(f) for f in umf)\n",
    "    print(\"Dropping %d duplicates and adding %d merged records, yielding %d records\" % (\n",
    "        dropping, len(mr), len(new_cdr)))"
   ]
  },
  {
   "cell_type": "code",
   "execution_count": null,
   "metadata": {
    "ExecuteTime": {
     "end_time": "2020-12-21T14:13:27.635633Z",
     "start_time": "2020-12-21T14:12:42.034Z"
    }
   },
   "outputs": [],
   "source": [
    "print(\"Ultimately removing %d duplicate records, leaving %d\" % (\n",
    "    len(all_cdrs[0]) - len(all_cdrs[-1]), len(all_cdrs[-1])))\n",
    "cdr = all_cdrs[-1]"
   ]
  },
  {
   "cell_type": "markdown",
   "metadata": {},
   "source": [
    "### 4d. If you want to inspect the merges (what records were merged into what), use the code below"
   ]
  },
  {
   "cell_type": "code",
   "execution_count": null,
   "metadata": {
    "ExecuteTime": {
     "end_time": "2020-12-21T14:13:27.636945Z",
     "start_time": "2020-12-21T14:12:42.038Z"
    }
   },
   "outputs": [],
   "source": [
    "for rd, cols in enumerate(dedup_rounds):\n",
    "    print(\"In round %d, there were %d record merges based on\" % (rd, len(all_merged_records[rd])), cols)"
   ]
  },
  {
   "cell_type": "code",
   "execution_count": null,
   "metadata": {
    "ExecuteTime": {
     "end_time": "2020-12-21T14:13:27.638144Z",
     "start_time": "2020-12-21T14:12:42.041Z"
    }
   },
   "outputs": [],
   "source": [
    "def show_merge(merge_round, idx):\n",
    "    umf = all_unmerged_frames[merge_round][idx]\n",
    "    mr = all_merged_records[merge_round][idx]\n",
    "    renamed = mr.copy()\n",
    "    renamed.name = 'merged'\n",
    "    return umf.append(renamed)"
   ]
  },
  {
   "cell_type": "code",
   "execution_count": null,
   "metadata": {
    "ExecuteTime": {
     "end_time": "2020-12-21T14:13:27.639171Z",
     "start_time": "2020-12-21T14:12:42.045Z"
    }
   },
   "outputs": [],
   "source": [
    "show_merge(2, 1)"
   ]
  },
  {
   "cell_type": "markdown",
   "metadata": {},
   "source": [
    "<div style=\"background-color: #080;height: 20px\"></div>\n",
    "\n",
    "# 5. Add new columns, rename/reorder, otherwise finalize dataframe"
   ]
  },
  {
   "cell_type": "markdown",
   "metadata": {},
   "source": [
    "<div style=\"background-color: #008;height: 15px\"></div>\n",
    "\n",
    "## 5a. New columns and bookkeeping columns"
   ]
  },
  {
   "cell_type": "markdown",
   "metadata": {},
   "source": [
    "### Column for the time (in days) between incarceration (or incident) and death\n",
    "Note: for a few of these, the death date/time is before the incarceration/incident date. If they are only one day apart, we just call it 0 and assume it was a minor error. If they are more than a day apart, clearly there was a larger error, so we use a NaN value."
   ]
  },
  {
   "cell_type": "code",
   "execution_count": null,
   "metadata": {
    "ExecuteTime": {
     "end_time": "2020-12-21T14:13:27.640468Z",
     "start_time": "2020-12-21T14:12:42.049Z"
    }
   },
   "outputs": [],
   "source": [
    "cdr.date_time_of_custody_or_incident.dtype"
   ]
  },
  {
   "cell_type": "code",
   "execution_count": null,
   "metadata": {
    "ExecuteTime": {
     "end_time": "2020-12-21T14:13:27.641712Z",
     "start_time": "2020-12-21T14:12:42.052Z"
    }
   },
   "outputs": [],
   "source": [
    "def get_days(dt):\n",
    "    if dt.days < -1:\n",
    "        return None\n",
    "    elif dt.days == -1:\n",
    "        return 0\n",
    "    else:\n",
    "        return dt.days\n",
    "\n",
    "delta = cdr.death_date_and_time - cdr.date_time_of_custody_or_incident\n",
    "print(\"For %d records with death date before custoday date, setting the days_from_custody_to_death to NaN\" % (delta.dt.days < -1).sum())\n",
    "cdr['days_from_custody_to_death'] = delta.apply(get_days)"
   ]
  },
  {
   "cell_type": "code",
   "execution_count": null,
   "metadata": {
    "ExecuteTime": {
     "end_time": "2020-12-21T14:13:27.642857Z",
     "start_time": "2020-12-21T14:12:42.055Z"
    }
   },
   "outputs": [],
   "source": [
    "cdr['name_full'] = ''\n",
    "for col in ['first_name', 'middle_name', 'last_name', 'suffix']:\n",
    "    cdr['name_full'] = cdr['name_full'] + ' ' + cdr[col].fillna('')\n",
    "cdr['name_full'] = cdr['name_full'].apply(lambda s: ' '.join(s.strip().split()))\n",
    "cdr.loc[cdr['name_full'] == '', 'name_full'] = np.nan"
   ]
  },
  {
   "cell_type": "markdown",
   "metadata": {},
   "source": [
    "### Tweak bookkeping columns"
   ]
  },
  {
   "cell_type": "code",
   "execution_count": null,
   "metadata": {
    "ExecuteTime": {
     "end_time": "2020-12-21T14:13:27.644373Z",
     "start_time": "2020-12-21T14:12:42.059Z"
    }
   },
   "outputs": [],
   "source": [
    "cdr['num_revisions'] = cdr['version_number'] - 1\n",
    "cdr.drop(['version_type', 'version_number'], axis=1, inplace=True)"
   ]
  },
  {
   "cell_type": "markdown",
   "metadata": {},
   "source": [
    "<div style=\"background-color: #008;height: 15px\"></div>\n",
    "\n",
    "## 5b. Rename and reorder columns sensibly"
   ]
  },
  {
   "cell_type": "code",
   "execution_count": null,
   "metadata": {
    "ExecuteTime": {
     "end_time": "2020-12-21T14:13:27.646164Z",
     "start_time": "2020-12-21T14:12:42.062Z"
    }
   },
   "outputs": [],
   "source": [
    "col_renames = {\n",
    "    'first_name': 'name_first',\n",
    "    'middle_name': 'name_middle',\n",
    "    'last_name': 'name_last',\n",
    "    'suffix': 'name_suffix',\n",
    "    'cdr_cdr_name': 'record_id',\n",
    "    'death_causer_other': 'who_caused_death_in_homicide_or_accident_other',\n",
    "    'who_caused_the_death': 'who_caused_death_in_homicide_or_accident',\n",
    "    'death_location': 'death_location_type',\n",
    "    'death_location_elsewhere': 'death_location_type_other',\n",
    "    'city': 'death_location_city',\n",
    "    'county': 'death_location_county',\n",
    "    'street_address': 'death_location_street_address',\n",
    "    'entry_date_time': 'facility_entry_date_time',\n",
    "    'pre_existing_medical_condition': 'death_from_pre_existing_medical_condition',\n",
    "}"
   ]
  },
  {
   "cell_type": "code",
   "execution_count": null,
   "metadata": {
    "ExecuteTime": {
     "end_time": "2020-12-21T14:13:27.647663Z",
     "start_time": "2020-12-21T14:12:42.065Z"
    }
   },
   "outputs": [],
   "source": [
    "cdr.rename(columns=col_renames, inplace=True)"
   ]
  },
  {
   "cell_type": "code",
   "execution_count": null,
   "metadata": {
    "ExecuteTime": {
     "end_time": "2020-12-21T14:13:27.648938Z",
     "start_time": "2020-12-21T14:12:42.068Z"
    }
   },
   "outputs": [],
   "source": [
    "new_order = [\n",
    "    # Record indexing columns\n",
    "    'record_id',\n",
    "    'num_revisions',\n",
    "    'form_version',\n",
    "    'report_date',\n",
    "    'date_time_of_custody_or_incident',\n",
    "\n",
    "    # Deceased personal information, demographics\n",
    "    'name_first',\n",
    "    'name_last',\n",
    "    'name_middle',\n",
    "    'name_suffix',\n",
    "    'name_full',\n",
    "    'date_of_birth',\n",
    "    'age_at_time_of_death',\n",
    "    'sex',\n",
    "    'race',\n",
    "\n",
    "    # Death event information\n",
    "    'death_date',\n",
    "    'death_date_and_time',\n",
    "    'death_location_county',\n",
    "    'death_location_city',\n",
    "    'death_location_street_address',\n",
    "    'death_location_type',\n",
    "    'death_location_type_other',\n",
    "    'death_from_pre_existing_medical_condition',\n",
    "    'manner_of_death',\n",
    "    'manner_of_death_description',\n",
    "    'means_of_death',\n",
    "    'means_of_death_other',\n",
    "    'medical_cause_of_death',\n",
    "    'medical_examinor_coroner_evalution',\n",
    "    'medical_treatment',\n",
    "    'days_from_custody_to_death',\n",
    "    'who_caused_death_in_homicide_or_accident',\n",
    "    'who_caused_death_in_homicide_or_accident_other',\n",
    "\n",
    "    # Criminal information on deceased\n",
    "    'offense_1',\n",
    "    'offense_2',\n",
    "    'offense_3',\n",
    "    'type_of_offense',\n",
    "    'type_of_offense_other',\n",
    "    'were_the_charges',\n",
    "\n",
    "    # Facility and agency information\n",
    "    'facility_entry_date_time',\n",
    "    'type_of_custody',\n",
    "    'specific_type_of_custody_facility',\n",
    "    'agency_address',\n",
    "    'agency_city',\n",
    "    'agency_county',\n",
    "    'agency_name',\n",
    "    'agency_zip',\n",
    "    \n",
    "    # Deceased behavior upon entry or custody\n",
    "    'type_of_restraint',\n",
    "    'under_restraint',\n",
    "    'entry_behavior',\n",
    "    'other_behavior',\n",
    "    'exhibit_any_medical_problems',\n",
    "    'exhibit_any_mental_health_problems',\n",
    "    'make_suicidal_statements',\n",
    "]\n",
    "\n",
    "cdr = reorder_columns_and_check(cdr, new_order)"
   ]
  },
  {
   "cell_type": "markdown",
   "metadata": {},
   "source": [
    "<div style=\"background-color: #008;height: 15px\"></div>\n",
    "\n",
    "## 5c. Final look before writing (NO CHANGES from here until writing)"
   ]
  },
  {
   "cell_type": "code",
   "execution_count": null,
   "metadata": {
    "ExecuteTime": {
     "end_time": "2020-12-21T14:13:27.650336Z",
     "start_time": "2020-12-21T14:12:42.074Z"
    }
   },
   "outputs": [],
   "source": [
    "cdr.sample(10)"
   ]
  },
  {
   "cell_type": "code",
   "execution_count": null,
   "metadata": {
    "ExecuteTime": {
     "end_time": "2020-12-21T14:13:27.651463Z",
     "start_time": "2020-12-21T14:12:42.077Z"
    }
   },
   "outputs": [],
   "source": [
    "show_notnull_chart(cdr)"
   ]
  },
  {
   "cell_type": "code",
   "execution_count": null,
   "metadata": {
    "ExecuteTime": {
     "end_time": "2020-12-21T14:13:27.652820Z",
     "start_time": "2020-12-21T14:12:42.080Z"
    }
   },
   "outputs": [],
   "source": [
    "print(len(cdr))"
   ]
  },
  {
   "cell_type": "code",
   "execution_count": null,
   "metadata": {
    "ExecuteTime": {
     "end_time": "2020-12-21T14:13:27.654347Z",
     "start_time": "2020-12-21T14:12:42.083Z"
    }
   },
   "outputs": [],
   "source": [
    "cdr.form_version.value_counts()"
   ]
  },
  {
   "cell_type": "code",
   "execution_count": null,
   "metadata": {
    "ExecuteTime": {
     "end_time": "2020-12-21T14:13:27.655609Z",
     "start_time": "2020-12-21T14:12:42.086Z"
    }
   },
   "outputs": [],
   "source": [
    "pd.crosstab(cdr.death_date.apply(lambda dt: dt.year), cdr.form_version)"
   ]
  },
  {
   "cell_type": "markdown",
   "metadata": {},
   "source": [
    "### One more duplication sanity check -- any CDRs with the same name since 2018?"
   ]
  },
  {
   "cell_type": "code",
   "execution_count": null,
   "metadata": {
    "ExecuteTime": {
     "end_time": "2020-12-21T14:13:27.656955Z",
     "start_time": "2020-12-21T14:12:42.090Z"
    }
   },
   "outputs": [],
   "source": [
    "f = cdr[cdr.death_date.apply(lambda dt: dt.year) >= 2018]\n",
    "vc = f['name_full'].value_counts()\n",
    "vc[vc > 1]"
   ]
  },
  {
   "cell_type": "markdown",
   "metadata": {},
   "source": [
    "### Looking at these cases, they seem fine. Just name coincidences."
   ]
  },
  {
   "cell_type": "code",
   "execution_count": null,
   "metadata": {
    "ExecuteTime": {
     "end_time": "2020-12-21T14:13:27.658219Z",
     "start_time": "2020-12-21T14:12:42.096Z"
    }
   },
   "outputs": [],
   "source": [
    "f[f['name_full'] == 'RENE GARCIA']"
   ]
  },
  {
   "cell_type": "code",
   "execution_count": null,
   "metadata": {
    "ExecuteTime": {
     "end_time": "2020-12-21T14:13:27.659860Z",
     "start_time": "2020-12-21T14:12:42.100Z"
    }
   },
   "outputs": [],
   "source": [
    "f[f['name_full'] == 'JOSE RIOS']"
   ]
  },
  {
   "cell_type": "markdown",
   "metadata": {},
   "source": [
    "<div style=\"background-color: #080;height: 20px\"></div>\n",
    "\n",
    "# 6. Write"
   ]
  },
  {
   "cell_type": "code",
   "execution_count": null,
   "metadata": {
    "ExecuteTime": {
     "end_time": "2020-12-21T14:13:27.661585Z",
     "start_time": "2020-12-21T14:12:42.104Z"
    }
   },
   "outputs": [],
   "source": [
    "if os.environ.get('CLEAN_CDR_DW') != 'TRUE':\n",
    "    print(\"Not syncing to Data.world. To do so, set CLEAN_CDR_DW to 'TRUE'\")\n",
    "else:\n",
    "    with dw.open_remote_file(OUTPUT_DW_PROJECT, OUTPUT_FILENAME) as w:\n",
    "        print(\"Writing to data.world:\", OUTPUT_FILENAME)\n",
    "        cdr.to_csv(w, index=False)\n",
    "        "
   ]
  },
  {
   "cell_type": "code",
   "execution_count": null,
   "metadata": {
    "ExecuteTime": {
     "end_time": "2020-12-21T14:13:27.663365Z",
     "start_time": "2020-12-21T14:12:42.107Z"
    }
   },
   "outputs": [],
   "source": [
    "if os.environ.get('CLEAN_CDR_S3') != 'TRUE':\n",
    "    print(\"Not writing to s3. To do so, set CLEAN_CDR_S3 to 'TRUE'\")\n",
    "else:\n",
    "    csv_buffer = StringIO()\n",
    "    cdr.to_csv(csv_buffer, index=False)\n",
    "    s3_resource = boto3.resource('s3')\n",
    "    s3_resource.Object('tji-public-cleaned-datasets', OUTPUT_FILENAME).put(Body=csv_buffer.getvalue())\n"
   ]
  },
  {
   "cell_type": "markdown",
   "metadata": {
    "collapsed": true
   },
   "source": [
    "<div style=\"background-color: #A0A;height: 20px\"></div>\n",
    "\n",
    "# 7. TODOs -- problems that still exist in the data and need work"
   ]
  },
  {
   "cell_type": "markdown",
   "metadata": {},
   "source": [
    "### [TODO] `age_at_time_of_death` and `date_of_birth` can sometimes be impossible"
   ]
  },
  {
   "cell_type": "code",
   "execution_count": null,
   "metadata": {
    "ExecuteTime": {
     "end_time": "2020-12-21T14:13:27.665230Z",
     "start_time": "2020-12-21T14:12:42.113Z"
    }
   },
   "outputs": [],
   "source": [
    "cdr.age_at_time_of_death[cdr.age_at_time_of_death < 0].value_counts().sort_index()"
   ]
  },
  {
   "cell_type": "code",
   "execution_count": null,
   "metadata": {
    "ExecuteTime": {
     "end_time": "2020-12-21T14:13:27.666844Z",
     "start_time": "2020-12-21T14:12:42.118Z"
    }
   },
   "outputs": [],
   "source": [
    "print(\"%d records have a birth date AFTER death date\" % (cdr.date_of_birth > cdr.death_date).sum())"
   ]
  },
  {
   "cell_type": "markdown",
   "metadata": {},
   "source": [
    "### [TODO] `type_of_offense` is a semicolon-separated list. Break this into multiple binary columns? Or reduce to only the most serious type? Unclear what to do if want to actually USE this column"
   ]
  },
  {
   "cell_type": "code",
   "execution_count": null,
   "metadata": {
    "ExecuteTime": {
     "end_time": "2020-12-21T14:13:27.668687Z",
     "start_time": "2020-12-21T14:12:42.124Z"
    }
   },
   "outputs": [],
   "source": [
    "s = cdr.type_of_offense\n",
    "print(\"%d unique values for type_of_offense. Sample below:\" % len(set(cdr.type_of_offense)))\n",
    "s.value_counts().head(25)"
   ]
  },
  {
   "cell_type": "code",
   "execution_count": null,
   "metadata": {
    "ExecuteTime": {
     "end_time": "2020-12-21T14:13:27.670508Z",
     "start_time": "2020-12-21T14:12:42.128Z"
    }
   },
   "outputs": [],
   "source": [
    "s = cdr.type_of_offense_other\n",
    "print(\"%d unique values for type_of_offense_other. Sample below:\" % len(set(cdr.type_of_offense_other)))\n",
    "s.value_counts().head(10)"
   ]
  },
  {
   "cell_type": "markdown",
   "metadata": {},
   "source": [
    "### [TODO] Manner of death is sometimes 'OTHER' when it should not be\n",
    "Two columns detail the manner of death: `manner_of_death` and `manner_of_death_description`. A handful of rows have `manner_of_death` = `OTHER` when they should have picked `ACCIDENT` or `HOMICIDE` -- as evinced by the information in the `manner_of_death_description` column:"
   ]
  },
  {
   "cell_type": "code",
   "execution_count": null,
   "metadata": {
    "ExecuteTime": {
     "end_time": "2020-12-21T14:13:27.672480Z",
     "start_time": "2020-12-21T14:12:42.134Z"
    }
   },
   "outputs": [],
   "source": [
    "frame = cdr[(cdr.manner_of_death == OTHER_SPECIFY) & (cdr.manner_of_death_description.notnull())]\n",
    "for exempt in ('PENDING', 'DETERMIN'):\n",
    "    frame = frame[~frame.manner_of_death_description.str.contains(exempt)]\n",
    "print(len(frame), len(cdr))\n",
    "frame[['form_version', 'manner_of_death_description', 'manner_of_death', 'medical_cause_of_death']]"
   ]
  },
  {
   "cell_type": "markdown",
   "metadata": {},
   "source": [
    "### [TODO] (Related) Extract motor vehicle accidents into a unique type?"
   ]
  },
  {
   "cell_type": "code",
   "execution_count": null,
   "metadata": {
    "ExecuteTime": {
     "end_time": "2020-12-21T14:13:27.674144Z",
     "start_time": "2020-12-21T14:12:42.144Z"
    }
   },
   "outputs": [],
   "source": [
    "# This starter code should get it going\n",
    "frame = cdr[(cdr.manner_of_death != 'ACCIDENTAL')]\n",
    "frame = frame[(frame.medical_cause_of_death.fillna('').str.contains('ACCIDENT')) |\n",
    "              frame.manner_of_death_description.fillna('').str.contains('ACCIDENT')]\n",
    "print(len(frame))\n",
    "frame[['medical_cause_of_death', 'means_of_death', 'means_of_death_other', 'manner_of_death', 'manner_of_death_description']]"
   ]
  },
  {
   "cell_type": "markdown",
   "metadata": {},
   "source": [
    "### [TODO] Remove `medical_examinor_coroner_evalution`? Not sure it's useful."
   ]
  },
  {
   "cell_type": "code",
   "execution_count": null,
   "metadata": {
    "ExecuteTime": {
     "end_time": "2020-12-21T14:13:27.675742Z",
     "start_time": "2020-12-21T14:12:42.151Z"
    }
   },
   "outputs": [],
   "source": [
    "pd.crosstab(cdr.medical_examinor_coroner_evalution, cdr.form_version).sort_values(['V_2005'],ascending=False)"
   ]
  },
  {
   "cell_type": "markdown",
   "metadata": {},
   "source": [
    "### [TODO] Somehow blend the `entry_behavior`/`other_behavior` field from V_2005 with the `exhibit_any_medical_problems`, `exhibit_any_mental_health_problems` and `make_suicidal_statements` from V_2016"
   ]
  },
  {
   "cell_type": "code",
   "execution_count": null,
   "metadata": {
    "ExecuteTime": {
     "end_time": "2020-12-21T14:13:27.677577Z",
     "start_time": "2020-12-21T14:12:42.156Z"
    }
   },
   "outputs": [],
   "source": [
    "pd.crosstab(cdr.entry_behavior, cdr.form_version).sort_values(['V_2005'],ascending=False)"
   ]
  },
  {
   "cell_type": "code",
   "execution_count": null,
   "metadata": {
    "ExecuteTime": {
     "end_time": "2020-12-21T14:13:27.679291Z",
     "start_time": "2020-12-21T14:12:42.159Z"
    }
   },
   "outputs": [],
   "source": [
    "pd.crosstab(cdr.exhibit_any_medical_problems, cdr.form_version).sort_values(['V_2016'],ascending=False)"
   ]
  },
  {
   "cell_type": "code",
   "execution_count": null,
   "metadata": {
    "ExecuteTime": {
     "end_time": "2020-12-21T14:13:27.680695Z",
     "start_time": "2020-12-21T14:12:42.162Z"
    }
   },
   "outputs": [],
   "source": [
    "pd.crosstab(cdr.exhibit_any_mental_health_problems, cdr.form_version).sort_values(['V_2016'],ascending=False)"
   ]
  },
  {
   "cell_type": "code",
   "execution_count": null,
   "metadata": {
    "ExecuteTime": {
     "end_time": "2020-12-21T14:13:27.682188Z",
     "start_time": "2020-12-21T14:12:42.165Z"
    }
   },
   "outputs": [],
   "source": [
    "pd.crosstab(cdr.make_suicidal_statements, cdr.form_version).sort_values(['V_2016'],ascending=False)"
   ]
  },
  {
   "cell_type": "markdown",
   "metadata": {},
   "source": [
    "### [TODO] Align various binary behavioral columns across form versions so we can keep them?"
   ]
  },
  {
   "cell_type": "code",
   "execution_count": null,
   "metadata": {
    "ExecuteTime": {
     "end_time": "2020-12-21T14:13:27.683755Z",
     "start_time": "2020-12-21T14:12:42.168Z"
    }
   },
   "outputs": [],
   "source": [
    "# These columns were completely removed. Some can stay once paired off\n",
    "drop_cols"
   ]
  },
  {
   "cell_type": "code",
   "execution_count": null,
   "metadata": {},
   "outputs": [],
   "source": []
  }
 ],
 "metadata": {
  "kernelspec": {
   "display_name": "Python 3",
   "language": "python",
   "name": "python3"
  },
  "language_info": {
   "codemirror_mode": {
    "name": "ipython",
    "version": 3
   },
   "file_extension": ".py",
   "mimetype": "text/x-python",
   "name": "python",
   "nbconvert_exporter": "python",
   "pygments_lexer": "ipython3",
   "version": "3.7.4"
  },
  "toc": {
   "base_numbering": 1,
   "nav_menu": {},
   "number_sections": false,
   "sideBar": true,
   "skip_h1_title": false,
   "title_cell": "Table of Contents",
   "title_sidebar": "Contents",
   "toc_cell": false,
   "toc_position": {},
   "toc_section_display": true,
   "toc_window_display": true
  }
 },
 "nbformat": 4,
 "nbformat_minor": 2
}
