{
 "cells": [
  {
   "cell_type": "markdown",
   "metadata": {},
   "source": [
    "# Clean and reformat CDR data from its multi-tab excel file into a single csv\n",
    "\n",
    "### About the data\n",
    "\n",
    "CDR data is tricky -- the form used by law enforcement has changed over time, first in 2005, then again in 2016. The data before 2005 is known to be be sparse and poorly enforced, so we ignore those entries. The 2005 and 2016 versions of the form have some overlap and some differences, so we must be careful in how we merge them.\n",
    "\n",
    "**In this repo you can find blank versions of the [2005](https://github.com/texas-justice-initiative/data-processing/blob/master/forms/CDR%20Form%20Version%202005.pdf) and [2016](https://github.com/texas-justice-initiative/data-processing/blob/master/forms/CDR%20Form%20Version%202016.pdf) forms, to see for yourself exactly what fields are collected and how.**\n",
    "\n",
    "### Datasets used\n",
    "\n",
    "\n",
    "* Input:\n",
    "  * `tji/deaths-in-custody/CDR - All Reports.xlsx`\n",
    "  * `tji/auxiliary-datasets/agencies_and_counties`\n",
    "* Output:\n",
    "  * `tji/deaths-in-custody/cleaned_custodial_death_reports.csv`\n",
    "  \n",
    "##### Author: Everett Wetchler (everett.wetchler@gmail.com)"
   ]
  },
  {
   "cell_type": "markdown",
   "metadata": {},
   "source": [
    "## Setup and read data"
   ]
  },
  {
   "cell_type": "code",
   "execution_count": null,
   "metadata": {
    "scrolled": false
   },
   "outputs": [],
   "source": [
    "DTW_PROJECT_KEY_CDR = 'tji/deaths-in-custody'\n",
    "RAW_FILENAME = 'original/CDR Reports All.xlsx'\n",
    "CLEANED_FILENAME = 'cleaned_custodial_death_reports.csv'"
   ]
  },
  {
   "cell_type": "code",
   "execution_count": null,
   "metadata": {},
   "outputs": [],
   "source": [
    "import os\n",
    "import sys\n",
    "import json\n",
    "import boto3\n",
    "import datetime\n",
    "import numpy as np\n",
    "import pandas as pd\n",
    "import datadotworld as dw\n",
    "\n",
    "from io import StringIO\n",
    "from lib.cleaning_tools import *\n",
    "\n",
    "sys.path.append(os.getcwd() + '/../data_cleaning')\n",
    "\n",
    "pd.set_option('display.max_rows', 100)\n",
    "pd.set_option('display.max_columns', 100)\n",
    "\n",
    "%load_ext watermark\n",
    "%watermark -a \"Everett Wetchler\" -d -t -z -w -p numpy,pandas,datadotworld"
   ]
  },
  {
   "cell_type": "code",
   "execution_count": null,
   "metadata": {},
   "outputs": [],
   "source": [
    "from lib.standardize_police_agency_names import standardize_agency_name"
   ]
  },
  {
   "cell_type": "code",
   "execution_count": null,
   "metadata": {},
   "outputs": [],
   "source": [
    "datasets = dw.load_dataset('tji/auxiliary-datasets', force_update=True)\n",
    "agency_county = datasets.dataframes['agencies_and_counties']\n",
    "agency_county = agency_county.set_index('agency')['county'].to_dict()"
   ]
  },
  {
   "cell_type": "code",
   "execution_count": null,
   "metadata": {},
   "outputs": [],
   "source": [
    "dfs = read_dtw_excel(DTW_PROJECT_KEY_CDR, RAW_FILENAME)\n",
    "dfs['Form Version 2005']['form_version'] = 'V_2005'\n",
    "dfs['Form Version 2016']['form_version'] = 'V_2016'\n",
    "dfs['Older Forms']['form_version'] = 'V_OLDER'\n",
    "cdr = pd.concat([dfs['Form Version 2005'], dfs['Form Version 2016']])\n",
    "print('Read %d raw CDR records. Ignoring %d from older form versions (pre-2005).' % (\n",
    "    sum(len(x) for x in dfs), len(dfs['Older Forms'])))\n",
    "print('Keeping %d records using form version 2005, and %d using version 2016 (keeping %d in total)' % (\n",
    "    len(dfs['Form Version 2005']), len(dfs['Form Version 2016']), len(cdr)))"
   ]
  },
  {
   "cell_type": "markdown",
   "metadata": {},
   "source": [
    "### In theory, all these records should be for deaths in 2005 or later. Let's double check and drop any miscreants."
   ]
  },
  {
   "cell_type": "code",
   "execution_count": null,
   "metadata": {},
   "outputs": [],
   "source": [
    "assert cdr['Death Date and Time'].isnull().sum() == 0"
   ]
  },
  {
   "cell_type": "code",
   "execution_count": null,
   "metadata": {},
   "outputs": [],
   "source": [
    "before = len(cdr)\n",
    "cdr = cdr[cdr['Death Date and Time'].dt.year >= 2005]\n",
    "after = len(cdr)\n",
    "print('Dropped %d (of %d) reports for deaths before 2005, leaving %d' % (before - after, before, after))"
   ]
  },
  {
   "cell_type": "code",
   "execution_count": null,
   "metadata": {},
   "outputs": [],
   "source": [
    "print(\"Data goes from %s to %s\" % (cdr['Death Date and Time'].min().strftime(\"%Y-%m-%d\"),\n",
    "                                   cdr['Death Date and Time'].max().strftime(\"%Y-%m-%d\")))"
   ]
  },
  {
   "cell_type": "markdown",
   "metadata": {},
   "source": [
    "### A quick look at the raw data"
   ]
  },
  {
   "cell_type": "code",
   "execution_count": null,
   "metadata": {},
   "outputs": [],
   "source": [
    "dfs['Form Version 2005'].head()"
   ]
  },
  {
   "cell_type": "code",
   "execution_count": null,
   "metadata": {},
   "outputs": [],
   "source": [
    "dfs['Form Version 2016'].head()"
   ]
  },
  {
   "cell_type": "markdown",
   "metadata": {},
   "source": [
    "## Helper methods"
   ]
  },
  {
   "cell_type": "code",
   "execution_count": null,
   "metadata": {},
   "outputs": [],
   "source": [
    "def show_notnull_chart(cdr, vertical=False):\n",
    "    '''Show which columns have null values, how often, and break down by form version.'''\n",
    "    versions = sorted(set(cdr.form_version))\n",
    "    frames = []\n",
    "    for v in versions:\n",
    "        fr = cdr[cdr.form_version == v]\n",
    "        s = fr.notnull().mean()\n",
    "        frames.append(s)\n",
    "    frame = pd.concat(frames, axis=1)\n",
    "    frame.columns = versions\n",
    "    frame.sort_index(inplace=True)\n",
    "    if not vertical:\n",
    "        frame = frame.T\n",
    "    return frame.style.background_gradient(cmap='RdYlGn', axis=(0 if vertical else 1))"
   ]
  },
  {
   "cell_type": "code",
   "execution_count": null,
   "metadata": {},
   "outputs": [],
   "source": [
    "OTHER_SPECIFY = 'OTHER, SPECIFY'"
   ]
  },
  {
   "cell_type": "markdown",
   "metadata": {},
   "source": [
    "-----\n",
    "## Begin Cleaning\n",
    "-----"
   ]
  },
  {
   "cell_type": "markdown",
   "metadata": {},
   "source": [
    "### First, take a look at how often our columns are populated, broken down by form version (since each ask slightly different questions)"
   ]
  },
  {
   "cell_type": "code",
   "execution_count": null,
   "metadata": {},
   "outputs": [],
   "source": [
    "show_notnull_chart(cdr)"
   ]
  },
  {
   "cell_type": "markdown",
   "metadata": {},
   "source": [
    "### Start by dropping columns that we either don't need or haven't written code to clean yet."
   ]
  },
  {
   "cell_type": "code",
   "execution_count": null,
   "metadata": {},
   "outputs": [],
   "source": [
    "keep_text = '''Both forms\n",
    "\n",
    "- Age At Time Of Death\n",
    "- Agency Address\n",
    "- Agency City\n",
    "- Agency Name\n",
    "- Agency Zip\n",
    "- CDR: CDR Name\n",
    "- City\n",
    "- County\n",
    "- Date of Birth\n",
    "- Date/Time of Custody or Incident\n",
    "- Death Date and Time\n",
    "- Death Location\n",
    "- Death Location Elsewhere\n",
    "- Entry Date Time\n",
    "- Entry Date Time N/A\n",
    "- First Name\n",
    "- Middle Name\n",
    "- Last Name\n",
    "- Suffix\n",
    "- Manner of Death\n",
    "- Manner of Death Description\n",
    "- Means of Death\n",
    "- Means of Death Other\n",
    "- Medical Cause of Death\n",
    "- Medical Examinor/Coroner Evalution?\n",
    "- Medical Treatment\n",
    "- Offense 1\n",
    "- Offense 2\n",
    "- Offense 3\n",
    "- Pre existing medical condition?\n",
    "- Report Date\n",
    "- Sex\n",
    "- Specific Type of Custody/Facility\n",
    "- Street Address\n",
    "- Type of Custody\n",
    "- Type of Offense\n",
    "- Type of Offense, Other\n",
    "- Version Number\n",
    "- Version Type\n",
    "- Were the Charges:\n",
    "- Who caused the death?\n",
    "- form_version\n",
    "\n",
    "2005 form only\n",
    "\n",
    "- Agency County\n",
    "- Custody Date NA\n",
    "- Death Causer Other\n",
    "- Department Type\n",
    "- Entry Behavior\n",
    "- Ethnicity\n",
    "- Ethnicity Other\n",
    "- Other Behavior\n",
    "- Specify Other Behavior\n",
    "\n",
    "2016 form only\n",
    "\n",
    "- Exhibit any medical problems?\n",
    "- Exhibit any mental health problems?\n",
    "- Make suicidal statements?\n",
    "- Race'''\n",
    "keep_cols = []\n",
    "drop_cols = set(cdr.columns)\n",
    "for line in keep_text.splitlines():\n",
    "    if line.startswith('- '):\n",
    "        colname = line[2:]\n",
    "        keep_cols.append(colname)\n",
    "        drop_cols.remove(colname)"
   ]
  },
  {
   "cell_type": "markdown",
   "metadata": {},
   "source": [
    "### Rename columns to be more machine friendly (lowercase, snake_case, and remove non-alphanumeric characters)"
   ]
  },
  {
   "cell_type": "code",
   "execution_count": null,
   "metadata": {},
   "outputs": [],
   "source": [
    "col_renames = {}\n",
    "for c in keep_cols:\n",
    "    new_name = ''.join([ch if ch.isalnum() else ' ' for ch in c.lower()])\n",
    "    new_name = '_'.join(new_name.strip().split())\n",
    "    col_renames[c] = new_name"
   ]
  },
  {
   "cell_type": "code",
   "execution_count": null,
   "metadata": {},
   "outputs": [],
   "source": [
    "cdr = cdr[list(col_renames.keys())]\n",
    "cdr.rename(columns=col_renames, inplace=True)\n",
    "cdr.head()"
   ]
  },
  {
   "cell_type": "markdown",
   "metadata": {},
   "source": [
    "## Add rows from the old master file to get BJS inpatient deaths (will dedup after)"
   ]
  },
  {
   "cell_type": "code",
   "execution_count": null,
   "metadata": {},
   "outputs": [],
   "source": [
    "datasets = dw.load_dataset('tji/raw-and-processing', force_update=True)\n",
    "old_master = datasets.dataframes['reformatted_cdr_2017_master_file']\n",
    "old_master['form_version'] = 'V_BJS'\n",
    "print(old_master.shape)\n",
    "old_master.head()"
   ]
  },
  {
   "cell_type": "code",
   "execution_count": null,
   "metadata": {},
   "outputs": [],
   "source": [
    "cdr.shape, old_master.shape"
   ]
  },
  {
   "cell_type": "markdown",
   "metadata": {},
   "source": [
    "#### There will be a few columns that the old master file doesn't have, which is fine"
   ]
  },
  {
   "cell_type": "code",
   "execution_count": null,
   "metadata": {},
   "outputs": [],
   "source": [
    "set(cdr.columns) - set(old_master.columns)"
   ]
  },
  {
   "cell_type": "markdown",
   "metadata": {},
   "source": [
    "#### However, it shouldn't have any novel columns that the *other* data doesn't have"
   ]
  },
  {
   "cell_type": "code",
   "execution_count": null,
   "metadata": {},
   "outputs": [],
   "source": [
    "assert(len(set(old_master.columns) - set(cdr.columns)) == 0)"
   ]
  },
  {
   "cell_type": "code",
   "execution_count": null,
   "metadata": {},
   "outputs": [],
   "source": [
    "cdr = pd.concat([cdr, old_master])\n",
    "cdr.reset_index(inplace=True, drop=True)\n",
    "cdr.sort_values('form_version', inplace=True)\n",
    "cdr.head()"
   ]
  },
  {
   "cell_type": "markdown",
   "metadata": {},
   "source": [
    "### Convert date columns"
   ]
  },
  {
   "cell_type": "code",
   "execution_count": null,
   "metadata": {},
   "outputs": [],
   "source": [
    "convert_date_cols(cdr)"
   ]
  },
  {
   "cell_type": "markdown",
   "metadata": {},
   "source": [
    "### Upcase string cell contents"
   ]
  },
  {
   "cell_type": "code",
   "execution_count": null,
   "metadata": {},
   "outputs": [],
   "source": [
    "upcase_strip_string_cells(cdr)"
   ]
  },
  {
   "cell_type": "markdown",
   "metadata": {},
   "source": [
    "### Add a `death_date` column (without the death time)"
   ]
  },
  {
   "cell_type": "code",
   "execution_count": null,
   "metadata": {},
   "outputs": [],
   "source": [
    "cdr['death_date'] = cdr.death_date_and_time.apply(lambda dt: datetime.date(dt.year, dt.month, dt.day))"
   ]
  },
  {
   "cell_type": "code",
   "execution_count": null,
   "metadata": {},
   "outputs": [],
   "source": [
    "cdr_full = cdr.copy()"
   ]
  },
  {
   "cell_type": "markdown",
   "metadata": {},
   "source": [
    "## De-duplicate\n",
    "* We de-dup by finding pairs (or sets) of records that have the same key personal information fields (`pii`).\n",
    "* In theory we should able to de-dup by the CDR record id, but sometimes we'll see multiple records for the same person with different record IDs."
   ]
  },
  {
   "cell_type": "code",
   "execution_count": null,
   "metadata": {},
   "outputs": [],
   "source": [
    "pii_cols = ['first_name', 'last_name', 'date_of_birth', 'death_date']\n",
    "dup_pii = cdr.duplicated(subset=pii_cols)\n",
    "dup_pii.name = 'dup_pii'\n",
    "dup_record_id = cdr.duplicated(subset='cdr_cdr_name')\n",
    "dup_record_id.name = 'dup_record_id'"
   ]
  },
  {
   "cell_type": "code",
   "execution_count": null,
   "metadata": {},
   "outputs": [],
   "source": [
    "pd.crosstab(dup_record_id, dup_pii)"
   ]
  },
  {
   "cell_type": "markdown",
   "metadata": {},
   "source": [
    "#### As you can see, MOST records with duplicate personal information also use the same record id, but a few do not."
   ]
  },
  {
   "cell_type": "code",
   "execution_count": null,
   "metadata": {},
   "outputs": [],
   "source": [
    "dropped = cdr[dup_pii]\n",
    "cdr = cdr[~dup_pii]"
   ]
  },
  {
   "cell_type": "code",
   "execution_count": null,
   "metadata": {},
   "outputs": [],
   "source": [
    "dup_record_id = cdr.duplicated(subset='cdr_cdr_name', keep=False)  # Note keep=False to mark both in a duplicate pair"
   ]
  },
  {
   "cell_type": "code",
   "execution_count": null,
   "metadata": {},
   "outputs": [],
   "source": [
    "print(\"Removed %d duplicate rows (%s)\" % (len(dropped), ['cdr_cdr_name'] + pii_cols))\n",
    "print(\"%d remain\" % len(cdr))\n",
    "print(\"For now, leaving %d questionable records where there exists another record with the same record id but different personal information\" %\n",
    "     dup_record_id.sum())"
   ]
  },
  {
   "cell_type": "code",
   "execution_count": null,
   "metadata": {},
   "outputs": [],
   "source": [
    "cdr[dup_record_id].sort_values(['cdr_cdr_name'])[['cdr_cdr_name'] + pii_cols].head(6)"
   ]
  },
  {
   "cell_type": "markdown",
   "metadata": {},
   "source": [
    "## Standardize and merge race columns -- the 2005 form calls it 'ethnicity', the 2016 'race'"
   ]
  },
  {
   "cell_type": "markdown",
   "metadata": {},
   "source": [
    "#### Have a look at the values first"
   ]
  },
  {
   "cell_type": "code",
   "execution_count": null,
   "metadata": {},
   "outputs": [],
   "source": [
    "cdr.race.value_counts()"
   ]
  },
  {
   "cell_type": "code",
   "execution_count": null,
   "metadata": {},
   "outputs": [],
   "source": [
    "cdr.ethnicity.value_counts()"
   ]
  },
  {
   "cell_type": "code",
   "execution_count": null,
   "metadata": {},
   "outputs": [],
   "source": [
    "# Collapse the various OTHER-like values\n",
    "cdr.loc[cdr.ethnicity.fillna('').str.contains('OTHER'), 'ethnicity'] = 'OTHER'"
   ]
  },
  {
   "cell_type": "code",
   "execution_count": null,
   "metadata": {},
   "outputs": [],
   "source": [
    "# When choosing the 'Other' ethnicity in the 2005 form version, there\n",
    "# is a subsequent field to specify. Though clearly some of them are not\n",
    "# truly 'other' ethnicities. See:\n",
    "cdr.ethnicity_other.value_counts()"
   ]
  },
  {
   "cell_type": "code",
   "execution_count": null,
   "metadata": {},
   "outputs": [],
   "source": [
    "# Replace the nonsensical 0 with NaN\n",
    "cdr.loc[cdr.ethnicity_other.astype(str) == '0', 'ethnicity_other'] = None"
   ]
  },
  {
   "cell_type": "code",
   "execution_count": null,
   "metadata": {},
   "outputs": [],
   "source": [
    "# Let's make sure nobody is filling out the \"other ethnicity\" column when they shouldn't...\n",
    "cdr[(~(cdr.ethnicity == 'OTHER') & cdr.ethnicity_other.notnull())][['ethnicity', 'ethnicity_other']]"
   ]
  },
  {
   "cell_type": "code",
   "execution_count": null,
   "metadata": {},
   "outputs": [],
   "source": [
    "# Good. Let's transfer those specified ethnicity_other values into\n",
    "# the 'ethnicity' column, so we can merge everything at once.\n",
    "other_eth = (cdr.ethnicity == 'OTHER')\n",
    "print('Merging %d \"ethnicity_other\" values into the main \"ethnicity\" column' % other_eth.sum())\n",
    "cdr.loc[other_eth, 'ethnicity'] = cdr.ethnicity_other[other_eth]\n",
    "cdr.drop('ethnicity_other', axis=1, inplace=True)"
   ]
  },
  {
   "cell_type": "code",
   "execution_count": null,
   "metadata": {},
   "outputs": [],
   "source": [
    "# Make a single 'race' column that has merged, simplified values of race or ethnicity.\n",
    "race_eth_list = []\n",
    "for race, eth in zip(cdr.race, cdr.ethnicity):\n",
    "    # Only one of (race, eth) should be set\n",
    "    assert pd.isnull(race) or pd.isnull(eth)\n",
    "    if pd.isnull(race):\n",
    "        if pd.isnull(eth):\n",
    "            race_eth_list.append(None)\n",
    "            continue\n",
    "        x = eth\n",
    "    else:\n",
    "        x = race\n",
    "    race_eth_list.append(x)"
   ]
  },
  {
   "cell_type": "code",
   "execution_count": null,
   "metadata": {},
   "outputs": [],
   "source": [
    "cdr['race'] = race_eth_list\n",
    "cdr.drop('ethnicity', axis=1, inplace=True)\n",
    "cdr.race.value_counts()"
   ]
  },
  {
   "cell_type": "markdown",
   "metadata": {
    "collapsed": true
   },
   "source": [
    "### Regularize race and several other columns"
   ]
  },
  {
   "cell_type": "code",
   "execution_count": null,
   "metadata": {},
   "outputs": [],
   "source": [
    "race_before = cdr.race.copy()\n",
    "race_before.name = 'race_before'"
   ]
  },
  {
   "cell_type": "code",
   "execution_count": null,
   "metadata": {},
   "outputs": [],
   "source": [
    "standardize_gender_cols(cdr)\n",
    "standardize_race_cols(cdr)\n",
    "numericalize_age_cols(cdr)\n",
    "\n",
    "cdr.race.value_counts()"
   ]
  },
  {
   "cell_type": "code",
   "execution_count": null,
   "metadata": {},
   "outputs": [],
   "source": [
    "cdr.groupby([race_before, 'race']).size()"
   ]
  },
  {
   "cell_type": "markdown",
   "metadata": {},
   "source": [
    "## Standardize agency names, and add agency counties"
   ]
  },
  {
   "cell_type": "code",
   "execution_count": null,
   "metadata": {},
   "outputs": [],
   "source": [
    "# Standardize agency name (so we can join/compare across datasets)\n",
    "cdr['agency_name'] = cdr['agency_name'].apply(standardize_agency_name)\n",
    "\n",
    "# Lookup county name by agency name. If this fails, fall back\n",
    "# on the county specified in the form, if it exists.\n",
    "cdr['agency_county'] = cdr['agency_county'].str.upper()\n",
    "county_lookup = cdr['agency_name'].apply(lambda name: agency_county.get(name, np.nan))\n",
    "cdr['agency_county'] = county_lookup.fillna(cdr['agency_county'])\n",
    "\n",
    "# Manually handle one major agency\n",
    "cdr.loc[cdr['agency_name'] == 'TEXAS DEPT OF CRIMINAL JUSTICE', 'agency_county'] = 'STATE'"
   ]
  },
  {
   "cell_type": "code",
   "execution_count": null,
   "metadata": {},
   "outputs": [],
   "source": [
    "# Check that we are only missing counties for a paltry few records now.\n",
    "cdr[cdr['agency_county'].isnull()]['agency_name'].value_counts()"
   ]
  },
  {
   "cell_type": "markdown",
   "metadata": {},
   "source": [
    "## FIx death-information related columns\n",
    "\n",
    "#### The two form versions offer slightly different options(e.g. V_2005 uses 'AT MEDICAL FACILITY' while V_2016 uses 'MEDICAL FACILITY'). Collapse values to stabilize the options across form versions, and roll up rare values into a single 'OTHER' value."
   ]
  },
  {
   "cell_type": "markdown",
   "metadata": {},
   "source": [
    "### Fix: `death_location`"
   ]
  },
  {
   "cell_type": "code",
   "execution_count": null,
   "metadata": {},
   "outputs": [],
   "source": [
    "pd.crosstab(cdr.death_location, cdr.form_version)"
   ]
  },
  {
   "cell_type": "code",
   "execution_count": null,
   "metadata": {},
   "outputs": [],
   "source": [
    "replacements = {\n",
    "    'AT MEDICAL FACILITY': 'MEDICAL FACILITY',\n",
    "    'AT LAW ENFORCEMENT FACILITY': 'LAW ENFORCEMENT FACILITY',\n",
    "    'AT THE CRIME/ARREST SCENE': 'CRIME/ARREST SCENE',\n",
    "    'SCENE OF INCIDENT': 'CRIME/ARREST SCENE',\n",
    "    'LAW ENFORCEMENT FACILITY/BOOKING CENTER': 'LAW ENFORCEMENT FACILITY',\n",
    "    'DEAD ON ARRIVAL AT MEDICAL FACILITY': 'EN ROUTE TO MEDICAL FACILITY',\n",
    "    'EN ROUTE TO BOOKING CENTER/POLICE LOCKUP': 'EN ROUTE TO LAW ENFORCEMENT FACILITY',\n",
    "    'ELSEWHERE': OTHER_SPECIFY,\n",
    "    'ELSEWHERE, SPECIFY': OTHER_SPECIFY,\n",
    "}\n",
    "cdr['death_location'] = cdr['death_location'].apply(lambda x: None if pd.isnull(x) else replacements.get(x.strip(), x))\n",
    "pd.crosstab(cdr.death_location, cdr.form_version)"
   ]
  },
  {
   "cell_type": "markdown",
   "metadata": {},
   "source": [
    "### Fix: `means_of_death`"
   ]
  },
  {
   "cell_type": "code",
   "execution_count": null,
   "metadata": {},
   "outputs": [],
   "source": [
    "pd.crosstab(cdr.means_of_death, cdr.form_version)"
   ]
  },
  {
   "cell_type": "code",
   "execution_count": null,
   "metadata": {},
   "outputs": [],
   "source": [
    "replacements = {\n",
    "    'NOT APPLICABLE, CAUSE OF DEATH WAS ILLNESS/NATURAL CAUSE': 'NOT APPLICABLE',\n",
    "    'NOT APPLICABLE; CAUSE OF DEATH WAS INTOXICATION OR ILLNESS/NATURAL CAUSES': 'NOT APPLICABLE',\n",
    "    'OTHER': OTHER_SPECIFY,\n",
    "    'KNIFE, CUTTING INSTRUMENT': 'KNIFE / EDGED INSTRUMENT',\n",
    "    'BLUNT INSTRUMENT': 'BATON / BLUNT INSTRUMENT',\n",
    "    \"DON'T KNOW\": 'UNKNOWN',\n",
    "    \"DON\\\\'T KNOW\": 'UNKNOWN',\n",
    "    'RIFLE/SHOTGUN': 'FIREARM',\n",
    "}\n",
    "cdr['means_of_death'] = cdr['means_of_death'].apply(lambda x:  None if pd.isnull(x) else replacements.get(x.strip(), x))\n",
    "pd.crosstab(cdr.means_of_death, cdr.form_version)"
   ]
  },
  {
   "cell_type": "markdown",
   "metadata": {},
   "source": [
    "### It seems officers sometimes misuse the 'other' option, selecting it when another category is more appropriate:"
   ]
  },
  {
   "cell_type": "code",
   "execution_count": null,
   "metadata": {},
   "outputs": [],
   "source": [
    "cdr[cdr.means_of_death == OTHER_SPECIFY]['means_of_death_other'].value_counts().head()"
   ]
  },
  {
   "cell_type": "markdown",
   "metadata": {},
   "source": [
    "### Let's roll all rare and 'unknown'-type values into the 'other' category. 'VEHICLE ACCIDENT' in particular is new in the 2016 form, only indicated as 'other' in older forms."
   ]
  },
  {
   "cell_type": "code",
   "execution_count": null,
   "metadata": {},
   "outputs": [],
   "source": [
    "other_values = ['UNKNOWN', 'VEHICLE ACCIDENT', 'KNIFE / EDGED INSTRUMENT', 'BATON / BLUNT INSTRUMENT']\n",
    "indices = cdr['means_of_death'].isin(other_values)\n",
    "cdr.loc[indices, 'means_of_death_other'] = cdr.loc[indices, 'means_of_death']\n",
    "cdr.loc[indices, 'means_of_death'] = OTHER_SPECIFY\n",
    "\n",
    "pd.crosstab(cdr.means_of_death, cdr.form_version)"
   ]
  },
  {
   "cell_type": "markdown",
   "metadata": {},
   "source": [
    "### Fix: `manner_of_death` and  `manner_of_death_description`"
   ]
  },
  {
   "cell_type": "code",
   "execution_count": null,
   "metadata": {},
   "outputs": [],
   "source": [
    "pd.crosstab(cdr.form_version, cdr.manner_of_death).T"
   ]
  },
  {
   "cell_type": "code",
   "execution_count": null,
   "metadata": {},
   "outputs": [],
   "source": [
    "pd.crosstab(cdr.manner_of_death, cdr.manner_of_death_description.notnull())"
   ]
  },
  {
   "cell_type": "code",
   "execution_count": null,
   "metadata": {},
   "outputs": [],
   "source": [
    "replacements = {\n",
    "    'NATURAL': 'NATURAL CAUSES/ILLNESS',\n",
    "    'JUSTIFIABLE HOMICIDE': 'HOMICIDE',\n",
    "    'HOMICIDE BY LAW ENFORCEMENT/CORRECTIONAL STAFF': 'HOMICIDE',\n",
    "    'OTHER HOMICIDE': 'HOMICIDE',\n",
    "    'HOMICIDE (INCLUDES JUSTIFIABLE HOMICIDE)': 'HOMICIDE',\n",
    "    'ACCIDENTAL INJURY CAUSED BY OTHERS': 'ACCIDENTAL',\n",
    "    'ACCIDENTAL INJURY TO SELF': 'ACCIDENTAL',\n",
    "    'OTHER': OTHER_SPECIFY,\n",
    "    'OTHER - SPECIFY': OTHER_SPECIFY,\n",
    "}\n",
    "cdr['manner_of_death'] = cdr['manner_of_death'].apply(lambda x: None if pd.isnull(x) else replacements.get(x.strip(), x))\n",
    "\n",
    "# In past versions, \"pending autopsy results\" was not an option, and reports had \"other\"\n",
    "# checked with some mention of pending autopsy in the free field. We emulate this here\n",
    "# to preserve consistency across form versions.\n",
    "other_values = ['PENDING AUTOPSY RESULTS', 'COULD NOT BE DETERMINED']\n",
    "indices = cdr['manner_of_death'].isin(other_values)\n",
    "cdr.loc[indices, 'manner_of_death_description'] = cdr.loc[indices, 'manner_of_death']\n",
    "cdr.loc[indices, 'manner_of_death'] = OTHER_SPECIFY\n",
    "\n",
    "pd.crosstab(cdr.form_version, cdr.manner_of_death).T"
   ]
  },
  {
   "cell_type": "markdown",
   "metadata": {},
   "source": [
    "### A few suicides by hanging have the wrong `means_of_death`"
   ]
  },
  {
   "cell_type": "code",
   "execution_count": null,
   "metadata": {},
   "outputs": [],
   "source": [
    "frame = cdr[(cdr.manner_of_death == 'SUICIDE') & (cdr.means_of_death != 'HANGING, STRANGULATION')]\n",
    "frame = frame[(frame.medical_cause_of_death.fillna('').str.contains('HANGING')) |\n",
    "              frame.manner_of_death_description.fillna('').str.contains('HANGING')]\n",
    "print(len(frame))\n",
    "frame[['medical_cause_of_death', 'means_of_death', 'means_of_death_other', 'manner_of_death', 'manner_of_death_description']].head()"
   ]
  },
  {
   "cell_type": "code",
   "execution_count": null,
   "metadata": {},
   "outputs": [],
   "source": [
    "cdr.loc[frame.index, 'means_of_death'] = 'HANGING, STRANGULATION'\n",
    "\n",
    "# Be sure we got them all\n",
    "frame = cdr[(cdr.manner_of_death == 'SUICIDE') & (cdr.means_of_death != 'HANGING, STRANGULATION')]\n",
    "frame = frame[frame.medical_cause_of_death.fillna('').str.contains('HANGING')]\n",
    "assert len(frame) == 0"
   ]
  },
  {
   "cell_type": "markdown",
   "metadata": {},
   "source": [
    "### For a few suicides, the `manner_of_death` is 'NOT APPLICABLE', which makes no sense. We need to change these to OTHER, though (as shown below) more is going on"
   ]
  },
  {
   "cell_type": "code",
   "execution_count": null,
   "metadata": {},
   "outputs": [],
   "source": [
    "frame = cdr[(cdr.manner_of_death == 'SUICIDE') & (cdr.means_of_death == 'NOT APPLICABLE')]\n",
    "print(len(frame))\n",
    "frame[['means_of_death', 'means_of_death_other', 'manner_of_death', 'manner_of_death_description', 'medical_cause_of_death']].head()"
   ]
  },
  {
   "cell_type": "code",
   "execution_count": null,
   "metadata": {},
   "outputs": [],
   "source": [
    "cdr.loc[frame.index, 'means_of_death'] = OTHER_SPECIFY\n",
    "assert len(cdr[(cdr.manner_of_death == 'SUICIDE') & (cdr.means_of_death == 'NOT APPLICABLE')]) == 0"
   ]
  },
  {
   "cell_type": "markdown",
   "metadata": {},
   "source": [
    "### Fix: `pre_existing_medical_condition` "
   ]
  },
  {
   "cell_type": "code",
   "execution_count": null,
   "metadata": {},
   "outputs": [],
   "source": [
    "pd.crosstab(cdr.form_version, cdr.pre_existing_medical_condition).T"
   ]
  },
  {
   "cell_type": "code",
   "execution_count": null,
   "metadata": {},
   "outputs": [],
   "source": [
    "replacements = {\n",
    "    'DECEASED DEVELOPED CONDITION AFTER ADMISSION': 'DEVELOPED CONDITION AFTER ADMISSION',\n",
    "    \"DON'T KNOW\": 'UNKNOWN',\n",
    "    \"DON\\\\'T KNOW\": 'UNKNOWN',\n",
    "    'NOT APPLICABLE; CAUSE OF DEATH WAS ACCIDENTAL INJURY, INTOXICATION, SUICIDE OR HOMICIDE': 'NOT APPLICABLE',\n",
    "    'COULD NOT BE DETERMINED': 'UNKNOWN',\n",
    "    'PRE-EXISTING MEDICAL CONDITION': 'YES',\n",
    "}\n",
    "cdr['pre_existing_medical_condition'] = cdr['pre_existing_medical_condition'].apply(lambda x: None if pd.isnull(x) else replacements.get(x.strip(), x))\n",
    "pd.crosstab(cdr.form_version, cdr.pre_existing_medical_condition).T"
   ]
  },
  {
   "cell_type": "markdown",
   "metadata": {},
   "source": [
    "### Fix: `who_caused_the_death` \n",
    "\n",
    "NOTE: This question is framed as follows:\n",
    "* 2005 form: \"If the death was an accident or homicide, who caused the death?\"\n",
    "* 2016 form: \"If the death was an accident, homicide **or suicide**, who caused the death?\" (emphasis added)\n",
    "\n",
    "Thus, we need to:\n",
    "1. Collapse near-identical values from different forms, similar to the other areas here.\n",
    "1. Remove suicides from the 2016 responses, as they skew the data (see below). While we're add it, change ANY entries that are not of type homicide/suicide to have \"NOT APPLICABLE\" as the value."
   ]
  },
  {
   "cell_type": "markdown",
   "metadata": {},
   "source": [
    "#### Collapse near-identical values from different forms, similar to the other areas here."
   ]
  },
  {
   "cell_type": "code",
   "execution_count": null,
   "metadata": {},
   "outputs": [],
   "source": [
    "pd.crosstab(cdr.who_caused_the_death, cdr.death_date_and_time.dt.year)"
   ]
  },
  {
   "cell_type": "code",
   "execution_count": null,
   "metadata": {},
   "outputs": [],
   "source": [
    "replacements = {\n",
    "    'DECEASED': 'DECEDENT',\n",
    "    \"DON'T KNOW\": 'UNKNOWN',\n",
    "    \"DON\\\\'T KNOW\": 'UNKNOWN',\n",
    "    'LAW ENFORCEMENT/CORRECTIONAL STAFF': 'LAW ENFORCEMENT/CORRECTIONAL PERSONNEL',\n",
    "    'NOT APPLICABLE; CAUSE OF DEATH WAS SUICIDE, INTOXICATION OR ILLNESS/NATURAL CAUSES': 'NOT APPLICABLE',\n",
    "    'OTHER DETAINEES': 'OTHER DETAINEE(S)',\n",
    "    'OTHER PERSONS': 'OTHER CIVILIAN(S)',\n",
    "    'ACCIDENTAL INJURY TO SELF': 'ACCIDENTAL',\n",
    "    'UNKNOWN PERSON(S) CAUSED THE INJURY': 'UNKNOWN',\n",
    "    'UNKNOWN WHETHER DECEDENT SUSTAINED A FATAL INJURY': 'UNKNOWN',\n",
    "}\n",
    "cdr['who_caused_the_death'] = cdr['who_caused_the_death'].apply(lambda x:  None if pd.isnull(x) else replacements.get(x.strip(), x))\n",
    "pd.crosstab(cdr['who_caused_the_death'], cdr.form_version)"
   ]
  },
  {
   "cell_type": "markdown",
   "metadata": {},
   "source": [
    "#### Remove suicides from the 2016 responses to 'who caused the death' question, as in previous years 'who caused the death' was only asked for homicides and accidents. (see below)"
   ]
  },
  {
   "cell_type": "code",
   "execution_count": null,
   "metadata": {},
   "outputs": [],
   "source": [
    "pd.crosstab(cdr.who_caused_the_death, cdr.manner_of_death)"
   ]
  },
  {
   "cell_type": "code",
   "execution_count": null,
   "metadata": {},
   "outputs": [],
   "source": [
    "cdr.loc[~cdr.manner_of_death.isin(['HOMICIDE', 'ACCIDENTAL', OTHER_SPECIFY]), 'who_caused_the_death'] = 'NOT APPLICABLE'\n",
    "pd.crosstab(cdr.who_caused_the_death, cdr.manner_of_death)"
   ]
  },
  {
   "cell_type": "markdown",
   "metadata": {},
   "source": [
    "### Fix: `were_the_charges` "
   ]
  },
  {
   "cell_type": "code",
   "execution_count": null,
   "metadata": {},
   "outputs": [],
   "source": [
    "pd.crosstab(cdr['were_the_charges'], cdr.form_version)"
   ]
  },
  {
   "cell_type": "code",
   "execution_count": null,
   "metadata": {},
   "outputs": [],
   "source": [
    "replacements = {\n",
    "    'PROBATION/PAROLE': 'PROBATION/PAROLE VIOLATION',\n",
    "    'A PROBATION/PAROLE VIOLATION': 'PROBATION/PAROLE VIOLATION',\n",
    "}\n",
    "cdr['were_the_charges'] = cdr['were_the_charges'].apply(lambda x: None if pd.isnull(x) else replacements.get(x.strip(), x))\n",
    "pd.crosstab(cdr['were_the_charges'], cdr.form_version)"
   ]
  },
  {
   "cell_type": "markdown",
   "metadata": {},
   "source": [
    "### Fix `type_of_custody`"
   ]
  },
  {
   "cell_type": "code",
   "execution_count": null,
   "metadata": {},
   "outputs": [],
   "source": [
    "pd.crosstab(cdr['type_of_custody'], cdr.form_version)"
   ]
  },
  {
   "cell_type": "code",
   "execution_count": null,
   "metadata": {},
   "outputs": [],
   "source": [
    "replacements = {\n",
    "    'PRE-CUSTODIAL USE OF FORCE': 'POLICE CUSTODY (PRE-BOOKING)',\n",
    "    'PRIVATE CORRECTIONAL FACILITY': 'PRIVATE FACILITY',\n",
    "    'COUNTY JAIL': 'JAIL',\n",
    "    'MUNICIPAL JAIL': 'JAIL',\n",
    "    'PENITENTIARY': 'PRISON',\n",
    "}\n",
    "cdr['type_of_custody'] = cdr['type_of_custody'].apply(lambda x: None if pd.isnull(x) else replacements.get(x.strip(), x))\n",
    "pd.crosstab(cdr['type_of_custody'], cdr.form_version)"
   ]
  },
  {
   "cell_type": "markdown",
   "metadata": {},
   "source": [
    "### Fix `specific_type_of_custody_facility`"
   ]
  },
  {
   "cell_type": "code",
   "execution_count": null,
   "metadata": {},
   "outputs": [],
   "source": [
    "pd.crosstab(cdr.specific_type_of_custody_facility, cdr.form_version)"
   ]
  },
  {
   "cell_type": "code",
   "execution_count": null,
   "metadata": {},
   "outputs": [],
   "source": [
    "replacements = {\n",
    "    'TDCJ, SPECIFY': 'TDCJ',\n",
    "    'CUSTODY OF PEACE OFFICER DURING/FLEEING ARREST': 'CUSTODY OF LAW ENFORCEMENT PERSONNEL DURING/FLEEING ARREST',\n",
    "    'CUSTODY OF PEACE OFFICER SUBSEQUENT TO ARREST': 'CUSTODY OF LAW ENFORCEMENT PERSONNEL AFTER ARREST',\n",
    "    'CUSTODY OF LAW ENFORCEMENT PERSONNEL SUBSEQUENT TO ARREST': 'CUSTODY OF LAW ENFORCEMENT PERSONNEL AFTER ARREST',\n",
    "    'TEXAS-JUVENILE JUSTICE DEPARTMENT - FACILITY/DETENTION CENTER, SPECIFY': 'OTHER',\n",
    "    'TJPC': 'OTHER',\n",
    "    'TYC': 'OTHER',\n",
    "    'HALFWAY HOUSE/RESTITUTION CENTER': 'OTHER',\n",
    "    'CORRECTIONAL/REHABILITATION FACILITY': 'OTHER',\n",
    "    'NON-LAW ENFORCEMENT DETOX FACILITY': 'OTHER',\n",
    "}\n",
    "cdr['specific_type_of_custody_facility'] = cdr['specific_type_of_custody_facility'].apply(\n",
    "    lambda x: x if pd.isnull(x) else replacements.get(x.strip(), x))\n",
    "pd.crosstab(cdr['specific_type_of_custody_facility'], cdr.form_version)"
   ]
  },
  {
   "cell_type": "markdown",
   "metadata": {},
   "source": [
    "### Glance at the types of custody crossed with facility"
   ]
  },
  {
   "cell_type": "code",
   "execution_count": null,
   "metadata": {},
   "outputs": [],
   "source": [
    "pd.crosstab(cdr.specific_type_of_custody_facility, cdr.type_of_custody)"
   ]
  },
  {
   "cell_type": "markdown",
   "metadata": {},
   "source": [
    "#### Identify and drop a range of unnecessary columns"
   ]
  },
  {
   "cell_type": "code",
   "execution_count": null,
   "metadata": {},
   "outputs": [],
   "source": [
    "cdr.groupby([cdr.entry_date_time.isnull(), cdr.entry_date_time_n_a]).size().unstack()"
   ]
  },
  {
   "cell_type": "code",
   "execution_count": null,
   "metadata": {},
   "outputs": [],
   "source": [
    "pd.crosstab(cdr.custody_date_na, cdr['date_time_of_custody_or_incident'].isnull())"
   ]
  },
  {
   "cell_type": "code",
   "execution_count": null,
   "metadata": {},
   "outputs": [],
   "source": [
    "cdr.drop(['entry_date_time_n_a', 'custody_date_na'], axis=1, inplace=True)"
   ]
  },
  {
   "cell_type": "code",
   "execution_count": null,
   "metadata": {},
   "outputs": [],
   "source": [
    "pd.crosstab(cdr.type_of_offense.notnull(), cdr.form_version)"
   ]
  },
  {
   "cell_type": "code",
   "execution_count": null,
   "metadata": {},
   "outputs": [],
   "source": [
    "pd.crosstab(cdr.type_of_offense_other.notnull(), cdr.form_version)"
   ]
  },
  {
   "cell_type": "code",
   "execution_count": null,
   "metadata": {},
   "outputs": [],
   "source": [
    "cdr.drop(['type_of_offense', 'type_of_offense_other'], axis=1, inplace=True)"
   ]
  },
  {
   "cell_type": "code",
   "execution_count": null,
   "metadata": {},
   "outputs": [],
   "source": [
    "pd.crosstab(cdr.department_type.notnull(), cdr.form_version)"
   ]
  },
  {
   "cell_type": "code",
   "execution_count": null,
   "metadata": {},
   "outputs": [],
   "source": [
    "cdr.drop('department_type', axis=1, inplace=True)"
   ]
  },
  {
   "cell_type": "code",
   "execution_count": null,
   "metadata": {},
   "outputs": [],
   "source": [
    "cdr['other_behavior'].value_counts()"
   ]
  },
  {
   "cell_type": "code",
   "execution_count": null,
   "metadata": {},
   "outputs": [],
   "source": [
    "pd.crosstab(cdr['other_behavior'], cdr['specify_other_behavior'].notnull())"
   ]
  },
  {
   "cell_type": "code",
   "execution_count": null,
   "metadata": {},
   "outputs": [],
   "source": [
    "cdr['other_behavior'] = cdr['specify_other_behavior']\n",
    "cdr.drop('specify_other_behavior', axis=1, inplace=True)"
   ]
  },
  {
   "cell_type": "markdown",
   "metadata": {},
   "source": [
    "## Add new columns"
   ]
  },
  {
   "cell_type": "markdown",
   "metadata": {},
   "source": [
    "### Column for the time (in days) between incarceration (or incident) and death\n",
    "Note: for a few of these, the death date/time is before the incarceration/incident date. If they are only one day apart, we just call it 0 and assume it was a minor error. If they are more than a day apart, clearly there was a larger error, so we use a NaN value."
   ]
  },
  {
   "cell_type": "code",
   "execution_count": null,
   "metadata": {},
   "outputs": [],
   "source": [
    "cdr.date_time_of_custody_or_incident.dtype"
   ]
  },
  {
   "cell_type": "code",
   "execution_count": null,
   "metadata": {},
   "outputs": [],
   "source": [
    "def get_days(dt):\n",
    "    if dt.days < -1:\n",
    "        return None\n",
    "    elif dt.days == -1:\n",
    "        return 0\n",
    "    else:\n",
    "        return dt.days\n",
    "\n",
    "delta = cdr.death_date_and_time - cdr.date_time_of_custody_or_incident\n",
    "print(\"For %d records with death date before custoday date, setting the days_from_custody_to_death to NaN\" % (delta.dt.days < -1).sum())\n",
    "cdr['days_from_custody_to_death'] = delta.apply(get_days)"
   ]
  },
  {
   "cell_type": "code",
   "execution_count": null,
   "metadata": {},
   "outputs": [],
   "source": [
    "cdr['name_full'] = ''\n",
    "for col in ['first_name', 'middle_name', 'last_name', 'suffix']:\n",
    "    cdr['name_full'] = cdr['name_full'] + ' ' + cdr[col].fillna('')\n",
    "cdr['name_full'] = cdr['name_full'].apply(lambda s: ' '.join(s.strip().split()))\n",
    "cdr.loc[cdr['name_full'] == '', 'name_full'] = np.nan"
   ]
  },
  {
   "cell_type": "markdown",
   "metadata": {},
   "source": [
    "## Tweak bookkeping columns"
   ]
  },
  {
   "cell_type": "code",
   "execution_count": null,
   "metadata": {},
   "outputs": [],
   "source": [
    "cdr['num_revisions'] = cdr['version_number'] - 1\n",
    "cdr.drop(['version_type', 'version_number'], axis=1, inplace=True)"
   ]
  },
  {
   "cell_type": "markdown",
   "metadata": {},
   "source": [
    "## Rename and reorder columns sensibly"
   ]
  },
  {
   "cell_type": "code",
   "execution_count": null,
   "metadata": {},
   "outputs": [],
   "source": [
    "col_renames = {\n",
    "    'first_name': 'name_first',\n",
    "    'middle_name': 'name_middle',\n",
    "    'last_name': 'name_last',\n",
    "    'suffix': 'name_suffix',\n",
    "    'cdr_cdr_name': 'record_id',\n",
    "    'death_causer_other': 'who_caused_death_in_homicide_or_accident_other',\n",
    "    'who_caused_the_death': 'who_caused_death_in_homicide_or_accident',\n",
    "    'death_location': 'death_location_type',\n",
    "    'death_location_elsewhere': 'death_location_type_other',\n",
    "    'city': 'death_location_city',\n",
    "    'county': 'death_location_county',\n",
    "    'street_address': 'death_location_street_address',\n",
    "    'entry_date_time': 'facility_entry_date_time',\n",
    "    'pre_existing_medical_condition': 'death_from_pre_existing_medical_condition',\n",
    "}"
   ]
  },
  {
   "cell_type": "code",
   "execution_count": null,
   "metadata": {},
   "outputs": [],
   "source": [
    "cdr.rename(columns=col_renames, inplace=True)"
   ]
  },
  {
   "cell_type": "code",
   "execution_count": null,
   "metadata": {},
   "outputs": [],
   "source": [
    "after = cdr[[\n",
    "    # Record indexing columns\n",
    "    'record_id',\n",
    "    'num_revisions',\n",
    "    'form_version',\n",
    "    'report_date',\n",
    "    'date_time_of_custody_or_incident',\n",
    "\n",
    "    # Deceased personal information, demographics\n",
    "    'name_first',\n",
    "    'name_last',\n",
    "    'name_middle',\n",
    "    'name_suffix',\n",
    "    'name_full',\n",
    "    'date_of_birth',\n",
    "    'age_at_time_of_death',\n",
    "    'sex',\n",
    "    'race',\n",
    "\n",
    "    # Death event information\n",
    "    'death_date',\n",
    "    'death_date_and_time',\n",
    "    'death_location_county',\n",
    "    'death_location_city',\n",
    "    'death_location_street_address',\n",
    "    'death_location_type',\n",
    "    'death_location_type_other',\n",
    "    'death_from_pre_existing_medical_condition',\n",
    "    'manner_of_death',\n",
    "    'manner_of_death_description',\n",
    "    'means_of_death',\n",
    "    'means_of_death_other',\n",
    "    'medical_cause_of_death',\n",
    "    'medical_examinor_coroner_evalution',\n",
    "    'medical_treatment',\n",
    "    'days_from_custody_to_death',\n",
    "    'who_caused_death_in_homicide_or_accident',\n",
    "    'who_caused_death_in_homicide_or_accident_other',\n",
    "\n",
    "    # Criminal information on deceased\n",
    "    'offense_1',\n",
    "    'offense_2',\n",
    "    'offense_3',\n",
    "    'were_the_charges',\n",
    "\n",
    "    # Facility and agency information\n",
    "    'facility_entry_date_time',\n",
    "    'type_of_custody',\n",
    "    'specific_type_of_custody_facility',\n",
    "    'agency_address',\n",
    "    'agency_city',\n",
    "    'agency_county',\n",
    "    'agency_name',\n",
    "    'agency_zip',\n",
    "    \n",
    "    # Deceased behavior upon entry or custody\n",
    "    'entry_behavior',\n",
    "    'other_behavior',\n",
    "    'exhibit_any_medical_problems',\n",
    "    'exhibit_any_mental_health_problems',\n",
    "    'make_suicidal_statements',\n",
    "]]\n",
    "assert cdr.shape == after.shape\n",
    "cdr = after"
   ]
  },
  {
   "cell_type": "code",
   "execution_count": null,
   "metadata": {},
   "outputs": [],
   "source": [
    "cdr.sample(10)"
   ]
  },
  {
   "cell_type": "code",
   "execution_count": null,
   "metadata": {},
   "outputs": [],
   "source": [
    "show_notnull_chart(cdr)"
   ]
  },
  {
   "cell_type": "code",
   "execution_count": null,
   "metadata": {},
   "outputs": [],
   "source": [
    "print(len(cdr))"
   ]
  },
  {
   "cell_type": "code",
   "execution_count": null,
   "metadata": {},
   "outputs": [],
   "source": [
    "cdr.form_version.value_counts()"
   ]
  },
  {
   "cell_type": "markdown",
   "metadata": {},
   "source": [
    "## Write"
   ]
  },
  {
   "cell_type": "code",
   "execution_count": null,
   "metadata": {},
   "outputs": [],
   "source": [
    "if os.environ.get('CLEAN_CDR_DW') != 'TRUE':\n",
    "    print(\"Not syncing to Data.world. To do so, set CLEAN_CDR_DW to 'TRUE'\")\n",
    "if os.environ.get('CLEAN_CDR_S3') != 'TRUE':\n",
    "    print(\"Not writing to s3. To do so, set CLEAN_CDR_S3 to 'TRUE'\")"
   ]
  },
  {
   "cell_type": "code",
   "execution_count": null,
   "metadata": {},
   "outputs": [],
   "source": [
    "if os.environ.get('CLEAN_CDR_DW') == 'TRUE':\n",
    "    with dw.open_remote_file(DTW_PROJECT_KEY_CDR, CLEANED_FILENAME) as w:\n",
    "        print(\"Writing to data.world:\", CLEANED_FILENAME)\n",
    "        cdr.to_csv(w, index=False)"
   ]
  },
  {
   "cell_type": "code",
   "execution_count": null,
   "metadata": {},
   "outputs": [],
   "source": [
    "if os.environ.get('CLEAN_CDR_S3') == 'TRUE':\n",
    "    csv_buffer = StringIO()\n",
    "    cdr.to_csv(csv_buffer, index=False)\n",
    "    s3_resource = boto3.resource('s3')\n",
    "    s3_resource.Object('tji-public-cleaned-datasets', CLEANED_FILENAME).put(Body=csv_buffer.getvalue())\n",
    "    "
   ]
  },
  {
   "cell_type": "markdown",
   "metadata": {
    "collapsed": true
   },
   "source": [
    "---\n",
    "## TODOs -- problems that still exist in the data and need work\n",
    "---"
   ]
  },
  {
   "cell_type": "markdown",
   "metadata": {},
   "source": [
    "### [TODO] Some duplicates still exist, but it's unclear which to drop"
   ]
  },
  {
   "cell_type": "code",
   "execution_count": null,
   "metadata": {},
   "outputs": [],
   "source": [
    "dup_record_id = cdr.duplicated(subset='record_id', keep=False)  # Note keep=False to mark both in a duplicate pair\n",
    "print(\"Not sure what to do with %d inconsistent duplicates\" % dup_record_id.sum())\n",
    "cdr[dup_record_id].sort_values(['record_id']).head(6)"
   ]
  },
  {
   "cell_type": "markdown",
   "metadata": {},
   "source": [
    "### [TODO] `date_of_birth` and `age_at_time_of_death` can sometimes be impossible"
   ]
  },
  {
   "cell_type": "code",
   "execution_count": null,
   "metadata": {},
   "outputs": [],
   "source": [
    "cdr.age_at_time_of_death.value_counts().sort_index().loc[:10]"
   ]
  },
  {
   "cell_type": "code",
   "execution_count": null,
   "metadata": {},
   "outputs": [],
   "source": [
    "cdr.date_of_birth.dt.year.value_counts().sort_index().loc[2015:]"
   ]
  },
  {
   "cell_type": "markdown",
   "metadata": {},
   "source": [
    "### [TODO] The list of possible offenses is enourmous and needs condensing\n",
    "#### Of ~4600 custodial deaths, there are 2000 unique `offense_1` values, e.g.:"
   ]
  },
  {
   "cell_type": "code",
   "execution_count": null,
   "metadata": {},
   "outputs": [],
   "source": [
    "print('Of %d custodial deaths, there are %d unique offense_1 values' % (len(cdr), len(set(cdr.offense_1))))\n",
    "cdr.offense_1.value_counts().head(20)"
   ]
  },
  {
   "cell_type": "markdown",
   "metadata": {},
   "source": [
    "#### Clearly some of these could be condensed. See the possibilities for offenses containing the word 'MURDER':"
   ]
  },
  {
   "cell_type": "code",
   "execution_count": null,
   "metadata": {},
   "outputs": [],
   "source": [
    "s = cdr.offense_1.dropna()\n",
    "murder = s[s.str.contains('MURDER')]\n",
    "N = 20\n",
    "s = murder.value_counts()[:N]\n",
    "s['(...%d other types of murder)' % (len(set(murder)) - N)] = murder.value_counts()[N:].sum()\n",
    "s"
   ]
  },
  {
   "cell_type": "markdown",
   "metadata": {},
   "source": [
    "#### Something like this might extract a useful simplified category (murders and attempted murders)"
   ]
  },
  {
   "cell_type": "code",
   "execution_count": null,
   "metadata": {},
   "outputs": [],
   "source": [
    "def is_attempt(x):\n",
    "    parts = x.split()\n",
    "    parts = [''.join(ch for ch in p if ch.isalpha()) for p in parts]\n",
    "    for w in ['ATT', 'ATTEMPT', 'ATTEMPTED']:\n",
    "        if w in parts:\n",
    "            return True\n",
    "    return False\n",
    "\n",
    "att = murder.apply(is_attempt)\n",
    "att_murder = murder[att]\n",
    "comm_murder = murder[~att]\n",
    "set(att_murder)"
   ]
  },
  {
   "cell_type": "markdown",
   "metadata": {},
   "source": [
    "### [TODO] Manner of death is sometimes 'OTHER' when it should not be\n",
    "Two columns detail the manner of death: `manner_of_death` and `manner_of_death_description`. A handful of rows have `manner_of_death` = `OTHER` when they should have picked `ACCIDENT` or `HOMICIDE` -- evidenced by the information in the `manner_of_death_description` column:"
   ]
  },
  {
   "cell_type": "code",
   "execution_count": null,
   "metadata": {},
   "outputs": [],
   "source": [
    "frame = cdr[(cdr.manner_of_death == OTHER_SPECIFY) & (cdr.manner_of_death_description.notnull())]\n",
    "for exempt in ('PENDING', 'DETERMIN'):\n",
    "    frame = frame[~frame.manner_of_death_description.str.contains(exempt)]\n",
    "print(len(frame), len(cdr))\n",
    "frame[['form_version', 'manner_of_death_description', 'manner_of_death', 'medical_cause_of_death']]"
   ]
  },
  {
   "cell_type": "markdown",
   "metadata": {},
   "source": [
    "### [TODO] (Related) Extract motor vehicle accidents into a unique type"
   ]
  },
  {
   "cell_type": "code",
   "execution_count": null,
   "metadata": {},
   "outputs": [],
   "source": [
    "# This starter code should get it going\n",
    "frame = cdr[(cdr.manner_of_death != 'ACCIDENTAL')]\n",
    "frame = frame[(frame.medical_cause_of_death.fillna('').str.contains('ACCIDENT')) |\n",
    "              frame.manner_of_death_description.fillna('').str.contains('ACCIDENT')]\n",
    "print(len(frame))\n",
    "frame[['medical_cause_of_death', 'means_of_death', 'means_of_death_other', 'manner_of_death', 'manner_of_death_description']]"
   ]
  },
  {
   "cell_type": "markdown",
   "metadata": {
    "collapsed": true
   },
   "source": [
    "### [TODO] Fix up `medical_treatment`"
   ]
  },
  {
   "cell_type": "code",
   "execution_count": null,
   "metadata": {},
   "outputs": [],
   "source": [
    "pd.crosstab(cdr.medical_treatment, cdr.form_version).sort_values(['V_2005'],ascending=False)"
   ]
  },
  {
   "cell_type": "markdown",
   "metadata": {},
   "source": [
    "### [TODO] Remove `medical_examinor_coroner_evalution`? Not sure it's useful."
   ]
  },
  {
   "cell_type": "code",
   "execution_count": null,
   "metadata": {},
   "outputs": [],
   "source": [
    "pd.crosstab(cdr.medical_examinor_coroner_evalution, cdr.form_version).sort_values(['V_2005'],ascending=False)"
   ]
  },
  {
   "cell_type": "markdown",
   "metadata": {},
   "source": [
    "### [TODO] Somehow blend the `entry_behavior`/`other_behavior` field from V_2005 with the `exhibit_any_medical_problems`, `exhibit_any_mental_health_problems` and `make_suicidal_statements` from V_2016"
   ]
  },
  {
   "cell_type": "code",
   "execution_count": null,
   "metadata": {},
   "outputs": [],
   "source": [
    "pd.crosstab(cdr.entry_behavior, cdr.form_version).sort_values(['V_2005'],ascending=False)"
   ]
  },
  {
   "cell_type": "code",
   "execution_count": null,
   "metadata": {},
   "outputs": [],
   "source": [
    "pd.crosstab(cdr.exhibit_any_medical_problems, cdr.form_version).sort_values(['V_2016'],ascending=False)"
   ]
  },
  {
   "cell_type": "code",
   "execution_count": null,
   "metadata": {},
   "outputs": [],
   "source": [
    "pd.crosstab(cdr.exhibit_any_mental_health_problems, cdr.form_version).sort_values(['V_2016'],ascending=False)"
   ]
  },
  {
   "cell_type": "code",
   "execution_count": null,
   "metadata": {},
   "outputs": [],
   "source": [
    "pd.crosstab(cdr.make_suicidal_statements, cdr.form_version).sort_values(['V_2016'],ascending=False)"
   ]
  },
  {
   "cell_type": "markdown",
   "metadata": {},
   "source": [
    "### [TODO] Align various binary behavioral columns from each form version, add to final output"
   ]
  },
  {
   "cell_type": "code",
   "execution_count": null,
   "metadata": {},
   "outputs": [],
   "source": [
    "# These columns were completely removed. Some can stay once paired off\n",
    "drop_cols"
   ]
  },
  {
   "cell_type": "code",
   "execution_count": null,
   "metadata": {},
   "outputs": [],
   "source": []
  }
 ],
 "metadata": {
  "kernelspec": {
   "display_name": "Python 3",
   "language": "python",
   "name": "python3"
  },
  "language_info": {
   "codemirror_mode": {
    "name": "ipython",
    "version": 3
   },
   "file_extension": ".py",
   "mimetype": "text/x-python",
   "name": "python",
   "nbconvert_exporter": "python",
   "pygments_lexer": "ipython3",
   "version": "3.7.1"
  }
 },
 "nbformat": 4,
 "nbformat_minor": 2
}
