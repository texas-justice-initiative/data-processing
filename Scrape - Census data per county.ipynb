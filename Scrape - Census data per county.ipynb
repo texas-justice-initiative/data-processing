{
 "cells": [
  {
   "cell_type": "markdown",
   "metadata": {},
   "source": [
    "# Fetch a suite of Census data about Texas counties\n",
    "\n",
    "#### Uses Census quickfacts, e.g. https://www.census.gov/quickfacts/fact/table/andrewscountytexas\n",
    "\n",
    "* Input: `texas_counties.csv`\n",
    "* Output: `census_data_by_county.csv`\n",
    "\n",
    "##### Author: Everett Wetchler (everett.wetchler@gmail.com)"
   ]
  },
  {
   "cell_type": "markdown",
   "metadata": {},
   "source": [
    "## Configuration"
   ]
  },
  {
   "cell_type": "code",
   "execution_count": 1,
   "metadata": {
    "collapsed": true
   },
   "outputs": [],
   "source": [
    "DTW_PROJECT_KEY = 'tji/auxiliary-datasets'\n",
    "COUNTY_INPUT_DATAFRAME_NAME = 'texas_counties'\n",
    "OUTPUT_FILENAME = 'census_data_by_county.csv'"
   ]
  },
  {
   "cell_type": "markdown",
   "metadata": {},
   "source": [
    "## Run"
   ]
  },
  {
   "cell_type": "code",
   "execution_count": 2,
   "metadata": {},
   "outputs": [
    {
     "name": "stdout",
     "output_type": "stream",
     "text": [
      "Everett Wetchler 2018-05-08 17:08:27 CDT\n",
      "\n",
      "datadotworld 1.6.0\n",
      "numpy 1.14.3\n",
      "pandas 0.22.0\n",
      "watermark 1.6.0\n"
     ]
    }
   ],
   "source": [
    "from bs4 import BeautifulSoup\n",
    "import bs4\n",
    "import datadotworld as dw\n",
    "import numpy as np\n",
    "import pandas as pd\n",
    "import requests\n",
    "\n",
    "%load_ext watermark\n",
    "%watermark -a \"Everett Wetchler\" -d -t -z -w -p datadotworld,numpy,pandas"
   ]
  },
  {
   "cell_type": "code",
   "execution_count": 3,
   "metadata": {},
   "outputs": [
    {
     "name": "stdout",
     "output_type": "stream",
     "text": [
      "Reading from data.world\n"
     ]
    }
   ],
   "source": [
    "print(\"Reading from data.world\")\n",
    "datasets = dw.load_dataset(DTW_PROJECT_KEY, force_update=True)\n",
    "COUNTY_NAMES = sorted(list(datasets.dataframes[COUNTY_INPUT_DATAFRAME_NAME]['county']))"
   ]
  },
  {
   "cell_type": "code",
   "execution_count": 4,
   "metadata": {
    "collapsed": true
   },
   "outputs": [],
   "source": [
    "def extract_metrics(soup):\n",
    "    '''Given the BeautifulSoup for a census page, extract a metrics dictionary.'''\n",
    "    metrics = {}\n",
    "    missing = 0\n",
    "    sections = soup.find_all('caption')\n",
    "    for sec in sections:\n",
    "        sec_title = sec.text.strip()\n",
    "        subsections = sec.parent.find_all('tr', attrs={'class': 'qf-header'})\n",
    "        for sub in subsections:\n",
    "            sub_title = sub.text.strip()\n",
    "            for i, r in enumerate(sub.parent.find_all('tr', attrs={'class': 'fact'})):\n",
    "                cells = r.find_all('td')\n",
    "                metric = ' '.join(elt for elt in cells[0].find('span').children\n",
    "                                  if isinstance(elt, bs4.element.NavigableString))\n",
    "                key = (sec_title, sub_title, metric)\n",
    "                value = float(cells[1].attrs['data-value'])\n",
    "                if int(cells[1].attrs['data-isnumeric']) != 1:\n",
    "                    value = np.nan\n",
    "                    missing += 1\n",
    "                else:\n",
    "                    assert(not np.isnan(value))\n",
    "                metrics[key] = value\n",
    "\n",
    "#     print(f'{len(metrics)} metric names found, {missing} of those were missing values')\n",
    "    return metrics"
   ]
  },
  {
   "cell_type": "code",
   "execution_count": 5,
   "metadata": {
    "collapsed": true
   },
   "outputs": [],
   "source": [
    "def fetch_one(location, is_county=True, return_soup=False):\n",
    "    '''Fetch the census data for a given Texas county.'''\n",
    "    url = 'https://www.census.gov/quickfacts/fact/table/' + location.lower().replace(' ', '')\n",
    "    if is_county:\n",
    "        url = url + 'countytexas'\n",
    "#     print('> Fetching', url)\n",
    "    res = s.get(url)\n",
    "    res.raise_for_status()\n",
    "\n",
    "    soup = BeautifulSoup(res.text, \"lxml\")\n",
    "    for elt in soup.find_all('div', attrs={'class': 'qf-geobox'}):\n",
    "        if elt.text.strip():\n",
    "            title = elt.text.strip().upper()\n",
    "            break\n",
    "    if title == 'UNITED STATES':\n",
    "        raise Exception(\"Could not find data for data for %s\" % (location))\n",
    "    if return_soup:\n",
    "        return soup, extract_metrics(soup)\n",
    "    else:\n",
    "        return extract_metrics(soup)"
   ]
  },
  {
   "cell_type": "code",
   "execution_count": 6,
   "metadata": {
    "collapsed": true
   },
   "outputs": [],
   "source": [
    "county_metrics = {}"
   ]
  },
  {
   "cell_type": "code",
   "execution_count": 7,
   "metadata": {},
   "outputs": [
    {
     "name": "stdout",
     "output_type": "stream",
     "text": [
      "Fetching census data for 254 counties\n",
      "\n",
      "[1]ANDERSON [2]ANDREWS [3]ANGELINA [4]ARANSAS [5]ARCHER [6]ARMSTRONG [7]ATASCOSA [8]AUSTIN [9]BAILEY [10]BANDERA [11]BASTROP [12]BAYLOR [13]BEE [14]BELL [15]BEXAR [16]BLANCO [17]BORDEN [18]BOSQUE [19]BOWIE [20]BRAZORIA [21]BRAZOS [22]BREWSTER [23]BRISCOE [24]BROOKS [25]BROWN [26]BURLESON [27]BURNET [28]CALDWELL [29]CALHOUN [30]CALLAHAN [31]CAMERON [32]CAMP [33]CARSON [34]CASS [35]CASTRO [36]CHAMBERS [37]CHEROKEE [38]CHILDRESS [39]CLAY [40]COCHRAN [41]COKE [42]COLEMAN [43]COLLIN [44]COLLINGSWORTH [45]COLORADO [46]COMAL [47]COMANCHE [48]CONCHO [49]COOKE [50]CORYELL [51]COTTLE [52]CRANE [53]CROCKETT [54]CROSBY [55]CULBERSON [56]DALLAM [57]DALLAS [58]DAWSON [59]DEAF SMITH [60]DELTA [61]DENTON [62]DEWITT [63]DICKENS [64]DIMMIT [65]DONLEY [66]DUVAL [67]EASTLAND [68]ECTOR [69]EDWARDS [70]EL PASO [71]ELLIS [72]ERATH [73]FALLS [74]FANNIN [75]FAYETTE [76]FISHER [77]FLOYD [78]FOARD [79]FORT BEND [80]FRANKLIN [81]FREESTONE [82]FRIO [83]GAINES [84]GALVESTON [85]GARZA [86]GILLESPIE [87]GLASSCOCK [88]GOLIAD [89]GONZALES [90]GRAY [91]GRAYSON [92]GREGG [93]GRIMES [94]GUADALUPE [95]HALE [96]HALL [97]HAMILTON [98]HANSFORD [99]HARDEMAN [100]HARDIN [101]HARRIS [102]HARRISON [103]HARTLEY [104]HASKELL [105]HAYS [106]HEMPHILL [107]HENDERSON [108]HIDALGO [109]HILL [110]HOCKLEY [111]HOOD [112]HOPKINS [113]HOUSTON [114]HOWARD [115]HUDSPETH [116]HUNT [117]HUTCHINSON [118]IRION [119]JACK [120]JACKSON [121]JASPER [122]JEFF DAVIS [123]JEFFERSON [124]JIM HOGG [125]JIM WELLS [126]JOHNSON [127]JONES [128]KARNES [129]KAUFMAN [130]KENDALL [131]KENEDY [132]KENT [133]KERR [134]KIMBLE [135]KING [136]KINNEY [137]KLEBERG [138]KNOX [139]LA SALLE [140]LAMAR [141]LAMB [142]LAMPASAS [143]LAVACA [144]LEE [145]LEON [146]LIBERTY [147]LIMESTONE [148]LIPSCOMB [149]LIVE OAK [150]LLANO [151]LOVING [152]LUBBOCK [153]LYNN [154]MADISON [155]MARION [156]MARTIN [157]MASON [158]MATAGORDA [159]MAVERICK [160]MCCULLOCH [161]MCLENNAN [162]MCMULLEN [163]MEDINA [164]MENARD [165]MIDLAND [166]MILAM [167]MILLS [168]MITCHELL [169]MONTAGUE [170]MONTGOMERY [171]MOORE [172]MORRIS [173]MOTLEY [174]NACOGDOCHES [175]NAVARRO [176]NEWTON [177]NOLAN [178]NUECES [179]OCHILTREE [180]OLDHAM [181]ORANGE [182]PALO PINTO [183]PANOLA [184]PARKER [185]PARMER [186]PECOS [187]POLK [188]POTTER [189]PRESIDIO [190]RAINS [191]RANDALL [192]REAGAN [193]REAL [194]RED RIVER [195]REEVES [196]REFUGIO [197]ROBERTS [198]ROBERTSON [199]ROCKWALL [200]RUNNELS [201]RUSK [202]SABINE [203]SAN AUGUSTINE [204]SAN JACINTO [205]SAN PATRICIO [206]SAN SABA [207]SCHLEICHER [208]SCURRY [209]SHACKELFORD [210]SHELBY [211]SHERMAN [212]SMITH [213]SOMERVELL [214]STARR [215]STEPHENS [216]STERLING [217]STONEWALL [218]SUTTON [219]SWISHER [220]TARRANT [221]TAYLOR [222]TERRELL [223]TERRY [224]THROCKMORTON [225]TITUS [226]TOM GREEN [227]TRAVIS [228]TRINITY [229]TYLER [230]UPSHUR [231]UPTON [232]UVALDE [233]VAL VERDE [234]VAN ZANDT [235]VICTORIA [236]WALKER [237]WALLER [238]WARD [239]WASHINGTON [240]WEBB [241]WHARTON [242]WHEELER [243]WICHITA [244]WILBARGER [245]WILLACY [246]WILLIAMSON [247]WILSON [248]WINKLER [249]WISE [250]WOOD [251]YOAKUM [252]YOUNG [253]ZAPATA [254]ZAVALA \n",
      "***** 0 failure(s): []\n"
     ]
    }
   ],
   "source": [
    "failures = []\n",
    "s = requests.Session()\n",
    "\n",
    "print(f\"Fetching census data for {len(COUNTY_NAMES)} counties\\n\")\n",
    "\n",
    "for i, county in enumerate(COUNTY_NAMES):\n",
    "    if county in county_metrics:\n",
    "        # Useful if you have to pause the script and restart it.\n",
    "        continue\n",
    "#     print(\"--- Pulling data for %s county (%d/%d) ---\" % (county, i+1, len(COUNTY_NAMES)))\n",
    "    print(f\"[{i+1}]{county}\", end=' ')\n",
    "    metrics = fetch_one(county)\n",
    "    if metrics:\n",
    "        county_metrics[county] = metrics\n",
    "    else:\n",
    "        failures.append(county)\n",
    "\n",
    "print(\"\\n***** %d failure(s):\" % len(failures), failures)"
   ]
  },
  {
   "cell_type": "code",
   "execution_count": 8,
   "metadata": {},
   "outputs": [
    {
     "name": "stdout",
     "output_type": "stream",
     "text": [
      "Fetching data for the full state of Texas\n"
     ]
    }
   ],
   "source": [
    "print(\"Fetching data for the full state of Texas\")\n",
    "texas = fetch_one('TX', is_county=False)\n",
    "if not texas:\n",
    "    raise Exception('Could not get Texas state-wide data')\n",
    "\n",
    "# The state-level data has some extra measurements, which we'll drop\n",
    "to_delete = set(texas) - set(county_metrics['ANDERSON'])\n",
    "for d in to_delete:\n",
    "    del texas[d]\n",
    "\n",
    "county_metrics['_ALL_TEXAS'] = texas"
   ]
  },
  {
   "cell_type": "code",
   "execution_count": 9,
   "metadata": {
    "collapsed": true
   },
   "outputs": [],
   "source": [
    "df = pd.DataFrame.from_records(county_metrics).sort_index()"
   ]
  },
  {
   "cell_type": "markdown",
   "metadata": {},
   "source": [
    "#### The next two cells just unpack the multi-level index into three distinct columns (with sensible names)"
   ]
  },
  {
   "cell_type": "code",
   "execution_count": 10,
   "metadata": {
    "collapsed": true
   },
   "outputs": [],
   "source": [
    "def insert_col_front(df, s, name):\n",
    "    cols = list(df.columns)\n",
    "    newcols = [name] + cols\n",
    "    df[name] = s\n",
    "    return df[newcols]"
   ]
  },
  {
   "cell_type": "code",
   "execution_count": 11,
   "metadata": {
    "collapsed": true
   },
   "outputs": [],
   "source": [
    "df = insert_col_front(df, df.index.get_level_values(2), 'metric_description')\n",
    "df = insert_col_front(df, df.index.get_level_values(1), 'metric_subcategory')\n",
    "df = insert_col_front(df, df.index.get_level_values(0), 'metric_category')\n",
    "df.reset_index(inplace=True, drop=True)\n",
    "df.columns = [c.upper() for c in df.columns]"
   ]
  },
  {
   "cell_type": "code",
   "execution_count": 12,
   "metadata": {},
   "outputs": [
    {
     "data": {
      "text/html": [
       "<div>\n",
       "<style scoped>\n",
       "    .dataframe tbody tr th:only-of-type {\n",
       "        vertical-align: middle;\n",
       "    }\n",
       "\n",
       "    .dataframe tbody tr th {\n",
       "        vertical-align: top;\n",
       "    }\n",
       "\n",
       "    .dataframe thead th {\n",
       "        text-align: right;\n",
       "    }\n",
       "</style>\n",
       "<table border=\"1\" class=\"dataframe\">\n",
       "  <thead>\n",
       "    <tr style=\"text-align: right;\">\n",
       "      <th></th>\n",
       "      <th>METRIC_CATEGORY</th>\n",
       "      <th>METRIC_SUBCATEGORY</th>\n",
       "      <th>METRIC_DESCRIPTION</th>\n",
       "      <th>ANDERSON</th>\n",
       "      <th>ANDREWS</th>\n",
       "      <th>ANGELINA</th>\n",
       "      <th>ARANSAS</th>\n",
       "      <th>ARCHER</th>\n",
       "      <th>ARMSTRONG</th>\n",
       "      <th>ATASCOSA</th>\n",
       "      <th>...</th>\n",
       "      <th>WILLIAMSON</th>\n",
       "      <th>WILSON</th>\n",
       "      <th>WINKLER</th>\n",
       "      <th>WISE</th>\n",
       "      <th>WOOD</th>\n",
       "      <th>YOAKUM</th>\n",
       "      <th>YOUNG</th>\n",
       "      <th>ZAPATA</th>\n",
       "      <th>ZAVALA</th>\n",
       "      <th>_ALL_TEXAS</th>\n",
       "    </tr>\n",
       "  </thead>\n",
       "  <tbody>\n",
       "    <tr>\n",
       "      <th>0</th>\n",
       "      <td>Businesses</td>\n",
       "      <td>Businesses</td>\n",
       "      <td>All firms, 2012</td>\n",
       "      <td>3107.0</td>\n",
       "      <td>1324.0</td>\n",
       "      <td>6330.0</td>\n",
       "      <td>2712.0</td>\n",
       "      <td>986.0</td>\n",
       "      <td>62.0</td>\n",
       "      <td>4106.0</td>\n",
       "      <td>...</td>\n",
       "      <td>38356.0</td>\n",
       "      <td>3893.0</td>\n",
       "      <td>689.0</td>\n",
       "      <td>4846.0</td>\n",
       "      <td>3800.0</td>\n",
       "      <td>637.0</td>\n",
       "      <td>2635.0</td>\n",
       "      <td>1964.0</td>\n",
       "      <td>1232.0</td>\n",
       "      <td>2356748.0</td>\n",
       "    </tr>\n",
       "    <tr>\n",
       "      <th>1</th>\n",
       "      <td>Businesses</td>\n",
       "      <td>Businesses</td>\n",
       "      <td>Men-owned firms, 2012</td>\n",
       "      <td>1602.0</td>\n",
       "      <td>695.0</td>\n",
       "      <td>3487.0</td>\n",
       "      <td>1510.0</td>\n",
       "      <td>528.0</td>\n",
       "      <td>27.0</td>\n",
       "      <td>2197.0</td>\n",
       "      <td>...</td>\n",
       "      <td>20610.0</td>\n",
       "      <td>2444.0</td>\n",
       "      <td>307.0</td>\n",
       "      <td>2923.0</td>\n",
       "      <td>1931.0</td>\n",
       "      <td>393.0</td>\n",
       "      <td>1414.0</td>\n",
       "      <td>1003.0</td>\n",
       "      <td>674.0</td>\n",
       "      <td>1251696.0</td>\n",
       "    </tr>\n",
       "    <tr>\n",
       "      <th>2</th>\n",
       "      <td>Businesses</td>\n",
       "      <td>Businesses</td>\n",
       "      <td>Minority-owned firms, 2012</td>\n",
       "      <td>722.0</td>\n",
       "      <td>469.0</td>\n",
       "      <td>1358.0</td>\n",
       "      <td>778.0</td>\n",
       "      <td>151.0</td>\n",
       "      <td>NaN</td>\n",
       "      <td>1950.0</td>\n",
       "      <td>...</td>\n",
       "      <td>10020.0</td>\n",
       "      <td>1265.0</td>\n",
       "      <td>252.0</td>\n",
       "      <td>668.0</td>\n",
       "      <td>357.0</td>\n",
       "      <td>243.0</td>\n",
       "      <td>123.0</td>\n",
       "      <td>1680.0</td>\n",
       "      <td>1062.0</td>\n",
       "      <td>1070392.0</td>\n",
       "    </tr>\n",
       "    <tr>\n",
       "      <th>3</th>\n",
       "      <td>Businesses</td>\n",
       "      <td>Businesses</td>\n",
       "      <td>Nonminority-owned firms, 2012</td>\n",
       "      <td>2209.0</td>\n",
       "      <td>726.0</td>\n",
       "      <td>4707.0</td>\n",
       "      <td>1835.0</td>\n",
       "      <td>817.0</td>\n",
       "      <td>57.0</td>\n",
       "      <td>2029.0</td>\n",
       "      <td>...</td>\n",
       "      <td>27023.0</td>\n",
       "      <td>2560.0</td>\n",
       "      <td>387.0</td>\n",
       "      <td>4019.0</td>\n",
       "      <td>3315.0</td>\n",
       "      <td>338.0</td>\n",
       "      <td>2349.0</td>\n",
       "      <td>235.0</td>\n",
       "      <td>159.0</td>\n",
       "      <td>1224845.0</td>\n",
       "    </tr>\n",
       "    <tr>\n",
       "      <th>4</th>\n",
       "      <td>Businesses</td>\n",
       "      <td>Businesses</td>\n",
       "      <td>Nonveteran-owned firms, 2012</td>\n",
       "      <td>2471.0</td>\n",
       "      <td>1075.0</td>\n",
       "      <td>5020.0</td>\n",
       "      <td>2281.0</td>\n",
       "      <td>781.0</td>\n",
       "      <td>57.0</td>\n",
       "      <td>3591.0</td>\n",
       "      <td>...</td>\n",
       "      <td>32883.0</td>\n",
       "      <td>3202.0</td>\n",
       "      <td>601.0</td>\n",
       "      <td>4045.0</td>\n",
       "      <td>3081.0</td>\n",
       "      <td>518.0</td>\n",
       "      <td>2054.0</td>\n",
       "      <td>1738.0</td>\n",
       "      <td>1178.0</td>\n",
       "      <td>2057218.0</td>\n",
       "    </tr>\n",
       "  </tbody>\n",
       "</table>\n",
       "<p>5 rows × 258 columns</p>\n",
       "</div>"
      ],
      "text/plain": [
       "  METRIC_CATEGORY METRIC_SUBCATEGORY             METRIC_DESCRIPTION  ANDERSON  \\\n",
       "0      Businesses         Businesses                All firms, 2012    3107.0   \n",
       "1      Businesses         Businesses          Men-owned firms, 2012    1602.0   \n",
       "2      Businesses         Businesses     Minority-owned firms, 2012     722.0   \n",
       "3      Businesses         Businesses  Nonminority-owned firms, 2012    2209.0   \n",
       "4      Businesses         Businesses   Nonveteran-owned firms, 2012    2471.0   \n",
       "\n",
       "   ANDREWS  ANGELINA  ARANSAS  ARCHER  ARMSTRONG  ATASCOSA     ...      \\\n",
       "0   1324.0    6330.0   2712.0   986.0       62.0    4106.0     ...       \n",
       "1    695.0    3487.0   1510.0   528.0       27.0    2197.0     ...       \n",
       "2    469.0    1358.0    778.0   151.0        NaN    1950.0     ...       \n",
       "3    726.0    4707.0   1835.0   817.0       57.0    2029.0     ...       \n",
       "4   1075.0    5020.0   2281.0   781.0       57.0    3591.0     ...       \n",
       "\n",
       "   WILLIAMSON  WILSON  WINKLER    WISE    WOOD  YOAKUM   YOUNG  ZAPATA  \\\n",
       "0     38356.0  3893.0    689.0  4846.0  3800.0   637.0  2635.0  1964.0   \n",
       "1     20610.0  2444.0    307.0  2923.0  1931.0   393.0  1414.0  1003.0   \n",
       "2     10020.0  1265.0    252.0   668.0   357.0   243.0   123.0  1680.0   \n",
       "3     27023.0  2560.0    387.0  4019.0  3315.0   338.0  2349.0   235.0   \n",
       "4     32883.0  3202.0    601.0  4045.0  3081.0   518.0  2054.0  1738.0   \n",
       "\n",
       "   ZAVALA  _ALL_TEXAS  \n",
       "0  1232.0   2356748.0  \n",
       "1   674.0   1251696.0  \n",
       "2  1062.0   1070392.0  \n",
       "3   159.0   1224845.0  \n",
       "4  1178.0   2057218.0  \n",
       "\n",
       "[5 rows x 258 columns]"
      ]
     },
     "execution_count": 12,
     "metadata": {},
     "output_type": "execute_result"
    }
   ],
   "source": [
    "df.head()"
   ]
  },
  {
   "cell_type": "markdown",
   "metadata": {},
   "source": [
    "## Write"
   ]
  },
  {
   "cell_type": "code",
   "execution_count": 13,
   "metadata": {},
   "outputs": [
    {
     "name": "stdout",
     "output_type": "stream",
     "text": [
      "Writing to data.world\n"
     ]
    }
   ],
   "source": [
    "print(\"Writing to data.world\")\n",
    "with dw.open_remote_file(DTW_PROJECT_KEY, OUTPUT_FILENAME) as w:\n",
    "    df.to_csv(w, index=False)"
   ]
  },
  {
   "cell_type": "code",
   "execution_count": 14,
   "metadata": {},
   "outputs": [
    {
     "name": "stdout",
     "output_type": "stream",
     "text": [
      "done\n"
     ]
    }
   ],
   "source": [
    "print(\"done\")"
   ]
  },
  {
   "cell_type": "code",
   "execution_count": null,
   "metadata": {
    "collapsed": true
   },
   "outputs": [],
   "source": []
  }
 ],
 "metadata": {
  "kernelspec": {
   "display_name": "tji-data-processing",
   "language": "python",
   "name": "tji-data-processing"
  },
  "language_info": {
   "codemirror_mode": {
    "name": "ipython",
    "version": 3
   },
   "file_extension": ".py",
   "mimetype": "text/x-python",
   "name": "python",
   "nbconvert_exporter": "python",
   "pygments_lexer": "ipython3",
   "version": "3.6.1"
  }
 },
 "nbformat": 4,
 "nbformat_minor": 2
}
